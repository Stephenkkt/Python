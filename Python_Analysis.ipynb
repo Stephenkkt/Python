{
 "cells": [
  {
   "cell_type": "markdown",
   "id": "56fd1f80",
   "metadata": {},
   "source": [
    "## 1. Import Useful Module"
   ]
  },
  {
   "cell_type": "code",
   "execution_count": 134,
   "id": "8b0f5fc5",
   "metadata": {
    "scrolled": true
   },
   "outputs": [],
   "source": [
    "#%run LIB.py"
   ]
  },
  {
   "cell_type": "markdown",
   "id": "27e0292e",
   "metadata": {},
   "source": [
    "### 2a. Import Sales file"
   ]
  },
  {
   "cell_type": "code",
   "execution_count": 135,
   "id": "b0b3e0a6",
   "metadata": {},
   "outputs": [
    {
     "name": "stdout",
     "output_type": "stream",
     "text": [
      "Sales Table\n",
      "   Cust_ID  Staff_ID      Amt Prod       date        mth\n",
      "0      102        45  37500.0    E 2021-01-26 2021-01-01\n",
      "1       97        10  43500.0    E 2021-01-01 2021-01-01\n",
      "2      151       225  19500.0    C 2019-10-16 2019-10-01\n",
      "3      185        54  21000.0    C 2019-08-04 2019-08-01\n",
      "4       61        88  24500.0    C 2020-02-19 2020-02-01\n",
      "\n",
      "Data Type\n",
      "Cust_ID              int64\n",
      "Staff_ID             int64\n",
      "Amt                float64\n",
      "Prod                object\n",
      "date        datetime64[ns]\n",
      "mth         datetime64[ns]\n",
      "dtype: object\n",
      "\n",
      "\n",
      "             Cust_ID      Staff_ID           Amt   Prod                 date  \\\n",
      "count   10000.000000  10000.000000  10000.000000  10000                10000   \n",
      "unique           NaN           NaN           NaN     10                 1000   \n",
      "top              NaN           NaN           NaN      B  2019-11-05 00:00:00   \n",
      "freq             NaN           NaN           NaN   1041                   22   \n",
      "first            NaN           NaN           NaN    NaN  2019-01-02 00:00:00   \n",
      "last             NaN           NaN           NaN    NaN  2021-09-27 00:00:00   \n",
      "mean      199.838600    151.349200  25253.950000    NaN                  NaN   \n",
      "std       115.305653     86.796227  14306.383249    NaN                  NaN   \n",
      "min         1.000000      1.000000    500.000000    NaN                  NaN   \n",
      "25%       100.000000     76.000000  13000.000000    NaN                  NaN   \n",
      "50%       201.000000    152.000000  25000.000000    NaN                  NaN   \n",
      "75%       300.000000    227.000000  37500.000000    NaN                  NaN   \n",
      "max       400.000000    300.000000  50000.000000    NaN                  NaN   \n",
      "\n",
      "                        mth  \n",
      "count                 10000  \n",
      "unique                   33  \n",
      "top     2019-12-01 00:00:00  \n",
      "freq                    345  \n",
      "first   2019-01-01 00:00:00  \n",
      "last    2021-09-01 00:00:00  \n",
      "mean                    NaN  \n",
      "std                     NaN  \n",
      "min                     NaN  \n",
      "25%                     NaN  \n",
      "50%                     NaN  \n",
      "75%                     NaN  \n",
      "max                     NaN  \n",
      "\n",
      "\n",
      "Cust_ID      400\n",
      "Staff_ID     300\n",
      "Amt          100\n",
      "Prod          10\n",
      "date        1000\n",
      "mth           33\n",
      "dtype: int64\n"
     ]
    }
   ],
   "source": [
    "import pandas as pd\n",
    "\n",
    "file = 'https://raw.githubusercontent.com/Stephenkkt/Python/main/sales.csv'\n",
    "sales = pd.read_csv(file, parse_dates = ['date'], header = 0, index_col = 0, dtype = {'Amt':'float'})\n",
    "\n",
    "sales['mth'] = sales['date'].to_numpy().astype('datetime64[M]')\n",
    "print(\"Sales Table\")\n",
    "print(sales.head(5))\n",
    "\n",
    "print(\"\\nData Type\")\n",
    "print(sales.dtypes)\n",
    "\n",
    "#Describe the dataset\n",
    "print(\"\\n\")\n",
    "print(sales.describe(include='all'))\n",
    "\n",
    "print(\"\\n\")\n",
    "print(sales.nunique(axis=0))"
   ]
  },
  {
   "cell_type": "markdown",
   "id": "8c87601c",
   "metadata": {},
   "source": [
    "## 2b. Plot Simple Bar Chart - By Product"
   ]
  },
  {
   "cell_type": "code",
   "execution_count": 136,
   "id": "87572a6e",
   "metadata": {
    "scrolled": true
   },
   "outputs": [
    {
     "data": {
      "application/vnd.plotly.v1+json": {
       "config": {
        "plotlyServerURL": "https://plot.ly"
       },
       "data": [
        {
         "alignmentgroup": "True",
         "hovertemplate": "variable=Amt<br>Prod=%{x}<br>value=%{y}<extra></extra>",
         "legendgroup": "Amt",
         "marker": {
          "color": "#636efa",
          "pattern": {
           "shape": ""
          }
         },
         "name": "Amt",
         "offsetgroup": "Amt",
         "orientation": "v",
         "showlegend": true,
         "textposition": "auto",
         "type": "bar",
         "x": [
          "A",
          "B",
          "C",
          "D",
          "E",
          "F",
          "G",
          "H",
          "I",
          "J"
         ],
         "xaxis": "x",
         "y": [
          25467000,
          26259500,
          23153500,
          25583500,
          25348500,
          25431500,
          24785500,
          25097500,
          25628000,
          25785000
         ],
         "yaxis": "y"
        }
       ],
       "layout": {
        "barmode": "relative",
        "legend": {
         "title": {
          "text": "variable"
         },
         "tracegroupgap": 0
        },
        "margin": {
         "t": 60
        },
        "template": {
         "data": {
          "bar": [
           {
            "error_x": {
             "color": "#2a3f5f"
            },
            "error_y": {
             "color": "#2a3f5f"
            },
            "marker": {
             "line": {
              "color": "#E5ECF6",
              "width": 0.5
             },
             "pattern": {
              "fillmode": "overlay",
              "size": 10,
              "solidity": 0.2
             }
            },
            "type": "bar"
           }
          ],
          "barpolar": [
           {
            "marker": {
             "line": {
              "color": "#E5ECF6",
              "width": 0.5
             },
             "pattern": {
              "fillmode": "overlay",
              "size": 10,
              "solidity": 0.2
             }
            },
            "type": "barpolar"
           }
          ],
          "carpet": [
           {
            "aaxis": {
             "endlinecolor": "#2a3f5f",
             "gridcolor": "white",
             "linecolor": "white",
             "minorgridcolor": "white",
             "startlinecolor": "#2a3f5f"
            },
            "baxis": {
             "endlinecolor": "#2a3f5f",
             "gridcolor": "white",
             "linecolor": "white",
             "minorgridcolor": "white",
             "startlinecolor": "#2a3f5f"
            },
            "type": "carpet"
           }
          ],
          "choropleth": [
           {
            "colorbar": {
             "outlinewidth": 0,
             "ticks": ""
            },
            "type": "choropleth"
           }
          ],
          "contour": [
           {
            "colorbar": {
             "outlinewidth": 0,
             "ticks": ""
            },
            "colorscale": [
             [
              0,
              "#0d0887"
             ],
             [
              0.1111111111111111,
              "#46039f"
             ],
             [
              0.2222222222222222,
              "#7201a8"
             ],
             [
              0.3333333333333333,
              "#9c179e"
             ],
             [
              0.4444444444444444,
              "#bd3786"
             ],
             [
              0.5555555555555556,
              "#d8576b"
             ],
             [
              0.6666666666666666,
              "#ed7953"
             ],
             [
              0.7777777777777778,
              "#fb9f3a"
             ],
             [
              0.8888888888888888,
              "#fdca26"
             ],
             [
              1,
              "#f0f921"
             ]
            ],
            "type": "contour"
           }
          ],
          "contourcarpet": [
           {
            "colorbar": {
             "outlinewidth": 0,
             "ticks": ""
            },
            "type": "contourcarpet"
           }
          ],
          "heatmap": [
           {
            "colorbar": {
             "outlinewidth": 0,
             "ticks": ""
            },
            "colorscale": [
             [
              0,
              "#0d0887"
             ],
             [
              0.1111111111111111,
              "#46039f"
             ],
             [
              0.2222222222222222,
              "#7201a8"
             ],
             [
              0.3333333333333333,
              "#9c179e"
             ],
             [
              0.4444444444444444,
              "#bd3786"
             ],
             [
              0.5555555555555556,
              "#d8576b"
             ],
             [
              0.6666666666666666,
              "#ed7953"
             ],
             [
              0.7777777777777778,
              "#fb9f3a"
             ],
             [
              0.8888888888888888,
              "#fdca26"
             ],
             [
              1,
              "#f0f921"
             ]
            ],
            "type": "heatmap"
           }
          ],
          "heatmapgl": [
           {
            "colorbar": {
             "outlinewidth": 0,
             "ticks": ""
            },
            "colorscale": [
             [
              0,
              "#0d0887"
             ],
             [
              0.1111111111111111,
              "#46039f"
             ],
             [
              0.2222222222222222,
              "#7201a8"
             ],
             [
              0.3333333333333333,
              "#9c179e"
             ],
             [
              0.4444444444444444,
              "#bd3786"
             ],
             [
              0.5555555555555556,
              "#d8576b"
             ],
             [
              0.6666666666666666,
              "#ed7953"
             ],
             [
              0.7777777777777778,
              "#fb9f3a"
             ],
             [
              0.8888888888888888,
              "#fdca26"
             ],
             [
              1,
              "#f0f921"
             ]
            ],
            "type": "heatmapgl"
           }
          ],
          "histogram": [
           {
            "marker": {
             "pattern": {
              "fillmode": "overlay",
              "size": 10,
              "solidity": 0.2
             }
            },
            "type": "histogram"
           }
          ],
          "histogram2d": [
           {
            "colorbar": {
             "outlinewidth": 0,
             "ticks": ""
            },
            "colorscale": [
             [
              0,
              "#0d0887"
             ],
             [
              0.1111111111111111,
              "#46039f"
             ],
             [
              0.2222222222222222,
              "#7201a8"
             ],
             [
              0.3333333333333333,
              "#9c179e"
             ],
             [
              0.4444444444444444,
              "#bd3786"
             ],
             [
              0.5555555555555556,
              "#d8576b"
             ],
             [
              0.6666666666666666,
              "#ed7953"
             ],
             [
              0.7777777777777778,
              "#fb9f3a"
             ],
             [
              0.8888888888888888,
              "#fdca26"
             ],
             [
              1,
              "#f0f921"
             ]
            ],
            "type": "histogram2d"
           }
          ],
          "histogram2dcontour": [
           {
            "colorbar": {
             "outlinewidth": 0,
             "ticks": ""
            },
            "colorscale": [
             [
              0,
              "#0d0887"
             ],
             [
              0.1111111111111111,
              "#46039f"
             ],
             [
              0.2222222222222222,
              "#7201a8"
             ],
             [
              0.3333333333333333,
              "#9c179e"
             ],
             [
              0.4444444444444444,
              "#bd3786"
             ],
             [
              0.5555555555555556,
              "#d8576b"
             ],
             [
              0.6666666666666666,
              "#ed7953"
             ],
             [
              0.7777777777777778,
              "#fb9f3a"
             ],
             [
              0.8888888888888888,
              "#fdca26"
             ],
             [
              1,
              "#f0f921"
             ]
            ],
            "type": "histogram2dcontour"
           }
          ],
          "mesh3d": [
           {
            "colorbar": {
             "outlinewidth": 0,
             "ticks": ""
            },
            "type": "mesh3d"
           }
          ],
          "parcoords": [
           {
            "line": {
             "colorbar": {
              "outlinewidth": 0,
              "ticks": ""
             }
            },
            "type": "parcoords"
           }
          ],
          "pie": [
           {
            "automargin": true,
            "type": "pie"
           }
          ],
          "scatter": [
           {
            "fillpattern": {
             "fillmode": "overlay",
             "size": 10,
             "solidity": 0.2
            },
            "type": "scatter"
           }
          ],
          "scatter3d": [
           {
            "line": {
             "colorbar": {
              "outlinewidth": 0,
              "ticks": ""
             }
            },
            "marker": {
             "colorbar": {
              "outlinewidth": 0,
              "ticks": ""
             }
            },
            "type": "scatter3d"
           }
          ],
          "scattercarpet": [
           {
            "marker": {
             "colorbar": {
              "outlinewidth": 0,
              "ticks": ""
             }
            },
            "type": "scattercarpet"
           }
          ],
          "scattergeo": [
           {
            "marker": {
             "colorbar": {
              "outlinewidth": 0,
              "ticks": ""
             }
            },
            "type": "scattergeo"
           }
          ],
          "scattergl": [
           {
            "marker": {
             "colorbar": {
              "outlinewidth": 0,
              "ticks": ""
             }
            },
            "type": "scattergl"
           }
          ],
          "scattermapbox": [
           {
            "marker": {
             "colorbar": {
              "outlinewidth": 0,
              "ticks": ""
             }
            },
            "type": "scattermapbox"
           }
          ],
          "scatterpolar": [
           {
            "marker": {
             "colorbar": {
              "outlinewidth": 0,
              "ticks": ""
             }
            },
            "type": "scatterpolar"
           }
          ],
          "scatterpolargl": [
           {
            "marker": {
             "colorbar": {
              "outlinewidth": 0,
              "ticks": ""
             }
            },
            "type": "scatterpolargl"
           }
          ],
          "scatterternary": [
           {
            "marker": {
             "colorbar": {
              "outlinewidth": 0,
              "ticks": ""
             }
            },
            "type": "scatterternary"
           }
          ],
          "surface": [
           {
            "colorbar": {
             "outlinewidth": 0,
             "ticks": ""
            },
            "colorscale": [
             [
              0,
              "#0d0887"
             ],
             [
              0.1111111111111111,
              "#46039f"
             ],
             [
              0.2222222222222222,
              "#7201a8"
             ],
             [
              0.3333333333333333,
              "#9c179e"
             ],
             [
              0.4444444444444444,
              "#bd3786"
             ],
             [
              0.5555555555555556,
              "#d8576b"
             ],
             [
              0.6666666666666666,
              "#ed7953"
             ],
             [
              0.7777777777777778,
              "#fb9f3a"
             ],
             [
              0.8888888888888888,
              "#fdca26"
             ],
             [
              1,
              "#f0f921"
             ]
            ],
            "type": "surface"
           }
          ],
          "table": [
           {
            "cells": {
             "fill": {
              "color": "#EBF0F8"
             },
             "line": {
              "color": "white"
             }
            },
            "header": {
             "fill": {
              "color": "#C8D4E3"
             },
             "line": {
              "color": "white"
             }
            },
            "type": "table"
           }
          ]
         },
         "layout": {
          "annotationdefaults": {
           "arrowcolor": "#2a3f5f",
           "arrowhead": 0,
           "arrowwidth": 1
          },
          "autotypenumbers": "strict",
          "coloraxis": {
           "colorbar": {
            "outlinewidth": 0,
            "ticks": ""
           }
          },
          "colorscale": {
           "diverging": [
            [
             0,
             "#8e0152"
            ],
            [
             0.1,
             "#c51b7d"
            ],
            [
             0.2,
             "#de77ae"
            ],
            [
             0.3,
             "#f1b6da"
            ],
            [
             0.4,
             "#fde0ef"
            ],
            [
             0.5,
             "#f7f7f7"
            ],
            [
             0.6,
             "#e6f5d0"
            ],
            [
             0.7,
             "#b8e186"
            ],
            [
             0.8,
             "#7fbc41"
            ],
            [
             0.9,
             "#4d9221"
            ],
            [
             1,
             "#276419"
            ]
           ],
           "sequential": [
            [
             0,
             "#0d0887"
            ],
            [
             0.1111111111111111,
             "#46039f"
            ],
            [
             0.2222222222222222,
             "#7201a8"
            ],
            [
             0.3333333333333333,
             "#9c179e"
            ],
            [
             0.4444444444444444,
             "#bd3786"
            ],
            [
             0.5555555555555556,
             "#d8576b"
            ],
            [
             0.6666666666666666,
             "#ed7953"
            ],
            [
             0.7777777777777778,
             "#fb9f3a"
            ],
            [
             0.8888888888888888,
             "#fdca26"
            ],
            [
             1,
             "#f0f921"
            ]
           ],
           "sequentialminus": [
            [
             0,
             "#0d0887"
            ],
            [
             0.1111111111111111,
             "#46039f"
            ],
            [
             0.2222222222222222,
             "#7201a8"
            ],
            [
             0.3333333333333333,
             "#9c179e"
            ],
            [
             0.4444444444444444,
             "#bd3786"
            ],
            [
             0.5555555555555556,
             "#d8576b"
            ],
            [
             0.6666666666666666,
             "#ed7953"
            ],
            [
             0.7777777777777778,
             "#fb9f3a"
            ],
            [
             0.8888888888888888,
             "#fdca26"
            ],
            [
             1,
             "#f0f921"
            ]
           ]
          },
          "colorway": [
           "#636efa",
           "#EF553B",
           "#00cc96",
           "#ab63fa",
           "#FFA15A",
           "#19d3f3",
           "#FF6692",
           "#B6E880",
           "#FF97FF",
           "#FECB52"
          ],
          "font": {
           "color": "#2a3f5f"
          },
          "geo": {
           "bgcolor": "white",
           "lakecolor": "white",
           "landcolor": "#E5ECF6",
           "showlakes": true,
           "showland": true,
           "subunitcolor": "white"
          },
          "hoverlabel": {
           "align": "left"
          },
          "hovermode": "closest",
          "mapbox": {
           "style": "light"
          },
          "paper_bgcolor": "white",
          "plot_bgcolor": "#E5ECF6",
          "polar": {
           "angularaxis": {
            "gridcolor": "white",
            "linecolor": "white",
            "ticks": ""
           },
           "bgcolor": "#E5ECF6",
           "radialaxis": {
            "gridcolor": "white",
            "linecolor": "white",
            "ticks": ""
           }
          },
          "scene": {
           "xaxis": {
            "backgroundcolor": "#E5ECF6",
            "gridcolor": "white",
            "gridwidth": 2,
            "linecolor": "white",
            "showbackground": true,
            "ticks": "",
            "zerolinecolor": "white"
           },
           "yaxis": {
            "backgroundcolor": "#E5ECF6",
            "gridcolor": "white",
            "gridwidth": 2,
            "linecolor": "white",
            "showbackground": true,
            "ticks": "",
            "zerolinecolor": "white"
           },
           "zaxis": {
            "backgroundcolor": "#E5ECF6",
            "gridcolor": "white",
            "gridwidth": 2,
            "linecolor": "white",
            "showbackground": true,
            "ticks": "",
            "zerolinecolor": "white"
           }
          },
          "shapedefaults": {
           "line": {
            "color": "#2a3f5f"
           }
          },
          "ternary": {
           "aaxis": {
            "gridcolor": "white",
            "linecolor": "white",
            "ticks": ""
           },
           "baxis": {
            "gridcolor": "white",
            "linecolor": "white",
            "ticks": ""
           },
           "bgcolor": "#E5ECF6",
           "caxis": {
            "gridcolor": "white",
            "linecolor": "white",
            "ticks": ""
           }
          },
          "title": {
           "x": 0.05
          },
          "xaxis": {
           "automargin": true,
           "gridcolor": "white",
           "linecolor": "white",
           "ticks": "",
           "title": {
            "standoff": 15
           },
           "zerolinecolor": "white",
           "zerolinewidth": 2
          },
          "yaxis": {
           "automargin": true,
           "gridcolor": "white",
           "linecolor": "white",
           "ticks": "",
           "title": {
            "standoff": 15
           },
           "zerolinecolor": "white",
           "zerolinewidth": 2
          }
         }
        },
        "xaxis": {
         "anchor": "y",
         "domain": [
          0,
          1
         ],
         "title": {
          "text": "Prod"
         }
        },
        "yaxis": {
         "anchor": "x",
         "domain": [
          0,
          1
         ],
         "title": {
          "text": "value"
         }
        }
       }
      },
      "text/html": [
       "<div>                            <div id=\"e3a629f3-e6e2-4f7f-af05-c811bc8afc36\" class=\"plotly-graph-div\" style=\"height:525px; width:100%;\"></div>            <script type=\"text/javascript\">                require([\"plotly\"], function(Plotly) {                    window.PLOTLYENV=window.PLOTLYENV || {};                                    if (document.getElementById(\"e3a629f3-e6e2-4f7f-af05-c811bc8afc36\")) {                    Plotly.newPlot(                        \"e3a629f3-e6e2-4f7f-af05-c811bc8afc36\",                        [{\"alignmentgroup\":\"True\",\"hovertemplate\":\"variable=Amt<br>Prod=%{x}<br>value=%{y}<extra></extra>\",\"legendgroup\":\"Amt\",\"marker\":{\"color\":\"#636efa\",\"pattern\":{\"shape\":\"\"}},\"name\":\"Amt\",\"offsetgroup\":\"Amt\",\"orientation\":\"v\",\"showlegend\":true,\"textposition\":\"auto\",\"x\":[\"A\",\"B\",\"C\",\"D\",\"E\",\"F\",\"G\",\"H\",\"I\",\"J\"],\"xaxis\":\"x\",\"y\":[25467000.0,26259500.0,23153500.0,25583500.0,25348500.0,25431500.0,24785500.0,25097500.0,25628000.0,25785000.0],\"yaxis\":\"y\",\"type\":\"bar\"}],                        {\"template\":{\"data\":{\"histogram2dcontour\":[{\"type\":\"histogram2dcontour\",\"colorbar\":{\"outlinewidth\":0,\"ticks\":\"\"},\"colorscale\":[[0.0,\"#0d0887\"],[0.1111111111111111,\"#46039f\"],[0.2222222222222222,\"#7201a8\"],[0.3333333333333333,\"#9c179e\"],[0.4444444444444444,\"#bd3786\"],[0.5555555555555556,\"#d8576b\"],[0.6666666666666666,\"#ed7953\"],[0.7777777777777778,\"#fb9f3a\"],[0.8888888888888888,\"#fdca26\"],[1.0,\"#f0f921\"]]}],\"choropleth\":[{\"type\":\"choropleth\",\"colorbar\":{\"outlinewidth\":0,\"ticks\":\"\"}}],\"histogram2d\":[{\"type\":\"histogram2d\",\"colorbar\":{\"outlinewidth\":0,\"ticks\":\"\"},\"colorscale\":[[0.0,\"#0d0887\"],[0.1111111111111111,\"#46039f\"],[0.2222222222222222,\"#7201a8\"],[0.3333333333333333,\"#9c179e\"],[0.4444444444444444,\"#bd3786\"],[0.5555555555555556,\"#d8576b\"],[0.6666666666666666,\"#ed7953\"],[0.7777777777777778,\"#fb9f3a\"],[0.8888888888888888,\"#fdca26\"],[1.0,\"#f0f921\"]]}],\"heatmap\":[{\"type\":\"heatmap\",\"colorbar\":{\"outlinewidth\":0,\"ticks\":\"\"},\"colorscale\":[[0.0,\"#0d0887\"],[0.1111111111111111,\"#46039f\"],[0.2222222222222222,\"#7201a8\"],[0.3333333333333333,\"#9c179e\"],[0.4444444444444444,\"#bd3786\"],[0.5555555555555556,\"#d8576b\"],[0.6666666666666666,\"#ed7953\"],[0.7777777777777778,\"#fb9f3a\"],[0.8888888888888888,\"#fdca26\"],[1.0,\"#f0f921\"]]}],\"heatmapgl\":[{\"type\":\"heatmapgl\",\"colorbar\":{\"outlinewidth\":0,\"ticks\":\"\"},\"colorscale\":[[0.0,\"#0d0887\"],[0.1111111111111111,\"#46039f\"],[0.2222222222222222,\"#7201a8\"],[0.3333333333333333,\"#9c179e\"],[0.4444444444444444,\"#bd3786\"],[0.5555555555555556,\"#d8576b\"],[0.6666666666666666,\"#ed7953\"],[0.7777777777777778,\"#fb9f3a\"],[0.8888888888888888,\"#fdca26\"],[1.0,\"#f0f921\"]]}],\"contourcarpet\":[{\"type\":\"contourcarpet\",\"colorbar\":{\"outlinewidth\":0,\"ticks\":\"\"}}],\"contour\":[{\"type\":\"contour\",\"colorbar\":{\"outlinewidth\":0,\"ticks\":\"\"},\"colorscale\":[[0.0,\"#0d0887\"],[0.1111111111111111,\"#46039f\"],[0.2222222222222222,\"#7201a8\"],[0.3333333333333333,\"#9c179e\"],[0.4444444444444444,\"#bd3786\"],[0.5555555555555556,\"#d8576b\"],[0.6666666666666666,\"#ed7953\"],[0.7777777777777778,\"#fb9f3a\"],[0.8888888888888888,\"#fdca26\"],[1.0,\"#f0f921\"]]}],\"surface\":[{\"type\":\"surface\",\"colorbar\":{\"outlinewidth\":0,\"ticks\":\"\"},\"colorscale\":[[0.0,\"#0d0887\"],[0.1111111111111111,\"#46039f\"],[0.2222222222222222,\"#7201a8\"],[0.3333333333333333,\"#9c179e\"],[0.4444444444444444,\"#bd3786\"],[0.5555555555555556,\"#d8576b\"],[0.6666666666666666,\"#ed7953\"],[0.7777777777777778,\"#fb9f3a\"],[0.8888888888888888,\"#fdca26\"],[1.0,\"#f0f921\"]]}],\"mesh3d\":[{\"type\":\"mesh3d\",\"colorbar\":{\"outlinewidth\":0,\"ticks\":\"\"}}],\"scatter\":[{\"fillpattern\":{\"fillmode\":\"overlay\",\"size\":10,\"solidity\":0.2},\"type\":\"scatter\"}],\"parcoords\":[{\"type\":\"parcoords\",\"line\":{\"colorbar\":{\"outlinewidth\":0,\"ticks\":\"\"}}}],\"scatterpolargl\":[{\"type\":\"scatterpolargl\",\"marker\":{\"colorbar\":{\"outlinewidth\":0,\"ticks\":\"\"}}}],\"bar\":[{\"error_x\":{\"color\":\"#2a3f5f\"},\"error_y\":{\"color\":\"#2a3f5f\"},\"marker\":{\"line\":{\"color\":\"#E5ECF6\",\"width\":0.5},\"pattern\":{\"fillmode\":\"overlay\",\"size\":10,\"solidity\":0.2}},\"type\":\"bar\"}],\"scattergeo\":[{\"type\":\"scattergeo\",\"marker\":{\"colorbar\":{\"outlinewidth\":0,\"ticks\":\"\"}}}],\"scatterpolar\":[{\"type\":\"scatterpolar\",\"marker\":{\"colorbar\":{\"outlinewidth\":0,\"ticks\":\"\"}}}],\"histogram\":[{\"marker\":{\"pattern\":{\"fillmode\":\"overlay\",\"size\":10,\"solidity\":0.2}},\"type\":\"histogram\"}],\"scattergl\":[{\"type\":\"scattergl\",\"marker\":{\"colorbar\":{\"outlinewidth\":0,\"ticks\":\"\"}}}],\"scatter3d\":[{\"type\":\"scatter3d\",\"line\":{\"colorbar\":{\"outlinewidth\":0,\"ticks\":\"\"}},\"marker\":{\"colorbar\":{\"outlinewidth\":0,\"ticks\":\"\"}}}],\"scattermapbox\":[{\"type\":\"scattermapbox\",\"marker\":{\"colorbar\":{\"outlinewidth\":0,\"ticks\":\"\"}}}],\"scatterternary\":[{\"type\":\"scatterternary\",\"marker\":{\"colorbar\":{\"outlinewidth\":0,\"ticks\":\"\"}}}],\"scattercarpet\":[{\"type\":\"scattercarpet\",\"marker\":{\"colorbar\":{\"outlinewidth\":0,\"ticks\":\"\"}}}],\"carpet\":[{\"aaxis\":{\"endlinecolor\":\"#2a3f5f\",\"gridcolor\":\"white\",\"linecolor\":\"white\",\"minorgridcolor\":\"white\",\"startlinecolor\":\"#2a3f5f\"},\"baxis\":{\"endlinecolor\":\"#2a3f5f\",\"gridcolor\":\"white\",\"linecolor\":\"white\",\"minorgridcolor\":\"white\",\"startlinecolor\":\"#2a3f5f\"},\"type\":\"carpet\"}],\"table\":[{\"cells\":{\"fill\":{\"color\":\"#EBF0F8\"},\"line\":{\"color\":\"white\"}},\"header\":{\"fill\":{\"color\":\"#C8D4E3\"},\"line\":{\"color\":\"white\"}},\"type\":\"table\"}],\"barpolar\":[{\"marker\":{\"line\":{\"color\":\"#E5ECF6\",\"width\":0.5},\"pattern\":{\"fillmode\":\"overlay\",\"size\":10,\"solidity\":0.2}},\"type\":\"barpolar\"}],\"pie\":[{\"automargin\":true,\"type\":\"pie\"}]},\"layout\":{\"autotypenumbers\":\"strict\",\"colorway\":[\"#636efa\",\"#EF553B\",\"#00cc96\",\"#ab63fa\",\"#FFA15A\",\"#19d3f3\",\"#FF6692\",\"#B6E880\",\"#FF97FF\",\"#FECB52\"],\"font\":{\"color\":\"#2a3f5f\"},\"hovermode\":\"closest\",\"hoverlabel\":{\"align\":\"left\"},\"paper_bgcolor\":\"white\",\"plot_bgcolor\":\"#E5ECF6\",\"polar\":{\"bgcolor\":\"#E5ECF6\",\"angularaxis\":{\"gridcolor\":\"white\",\"linecolor\":\"white\",\"ticks\":\"\"},\"radialaxis\":{\"gridcolor\":\"white\",\"linecolor\":\"white\",\"ticks\":\"\"}},\"ternary\":{\"bgcolor\":\"#E5ECF6\",\"aaxis\":{\"gridcolor\":\"white\",\"linecolor\":\"white\",\"ticks\":\"\"},\"baxis\":{\"gridcolor\":\"white\",\"linecolor\":\"white\",\"ticks\":\"\"},\"caxis\":{\"gridcolor\":\"white\",\"linecolor\":\"white\",\"ticks\":\"\"}},\"coloraxis\":{\"colorbar\":{\"outlinewidth\":0,\"ticks\":\"\"}},\"colorscale\":{\"sequential\":[[0.0,\"#0d0887\"],[0.1111111111111111,\"#46039f\"],[0.2222222222222222,\"#7201a8\"],[0.3333333333333333,\"#9c179e\"],[0.4444444444444444,\"#bd3786\"],[0.5555555555555556,\"#d8576b\"],[0.6666666666666666,\"#ed7953\"],[0.7777777777777778,\"#fb9f3a\"],[0.8888888888888888,\"#fdca26\"],[1.0,\"#f0f921\"]],\"sequentialminus\":[[0.0,\"#0d0887\"],[0.1111111111111111,\"#46039f\"],[0.2222222222222222,\"#7201a8\"],[0.3333333333333333,\"#9c179e\"],[0.4444444444444444,\"#bd3786\"],[0.5555555555555556,\"#d8576b\"],[0.6666666666666666,\"#ed7953\"],[0.7777777777777778,\"#fb9f3a\"],[0.8888888888888888,\"#fdca26\"],[1.0,\"#f0f921\"]],\"diverging\":[[0,\"#8e0152\"],[0.1,\"#c51b7d\"],[0.2,\"#de77ae\"],[0.3,\"#f1b6da\"],[0.4,\"#fde0ef\"],[0.5,\"#f7f7f7\"],[0.6,\"#e6f5d0\"],[0.7,\"#b8e186\"],[0.8,\"#7fbc41\"],[0.9,\"#4d9221\"],[1,\"#276419\"]]},\"xaxis\":{\"gridcolor\":\"white\",\"linecolor\":\"white\",\"ticks\":\"\",\"title\":{\"standoff\":15},\"zerolinecolor\":\"white\",\"automargin\":true,\"zerolinewidth\":2},\"yaxis\":{\"gridcolor\":\"white\",\"linecolor\":\"white\",\"ticks\":\"\",\"title\":{\"standoff\":15},\"zerolinecolor\":\"white\",\"automargin\":true,\"zerolinewidth\":2},\"scene\":{\"xaxis\":{\"backgroundcolor\":\"#E5ECF6\",\"gridcolor\":\"white\",\"linecolor\":\"white\",\"showbackground\":true,\"ticks\":\"\",\"zerolinecolor\":\"white\",\"gridwidth\":2},\"yaxis\":{\"backgroundcolor\":\"#E5ECF6\",\"gridcolor\":\"white\",\"linecolor\":\"white\",\"showbackground\":true,\"ticks\":\"\",\"zerolinecolor\":\"white\",\"gridwidth\":2},\"zaxis\":{\"backgroundcolor\":\"#E5ECF6\",\"gridcolor\":\"white\",\"linecolor\":\"white\",\"showbackground\":true,\"ticks\":\"\",\"zerolinecolor\":\"white\",\"gridwidth\":2}},\"shapedefaults\":{\"line\":{\"color\":\"#2a3f5f\"}},\"annotationdefaults\":{\"arrowcolor\":\"#2a3f5f\",\"arrowhead\":0,\"arrowwidth\":1},\"geo\":{\"bgcolor\":\"white\",\"landcolor\":\"#E5ECF6\",\"subunitcolor\":\"white\",\"showland\":true,\"showlakes\":true,\"lakecolor\":\"white\"},\"title\":{\"x\":0.05},\"mapbox\":{\"style\":\"light\"}}},\"xaxis\":{\"anchor\":\"y\",\"domain\":[0.0,1.0],\"title\":{\"text\":\"Prod\"}},\"yaxis\":{\"anchor\":\"x\",\"domain\":[0.0,1.0],\"title\":{\"text\":\"value\"}},\"legend\":{\"title\":{\"text\":\"variable\"},\"tracegroupgap\":0},\"margin\":{\"t\":60},\"barmode\":\"relative\"},                        {\"responsive\": true}                    ).then(function(){\n",
       "                            \n",
       "var gd = document.getElementById('e3a629f3-e6e2-4f7f-af05-c811bc8afc36');\n",
       "var x = new MutationObserver(function (mutations, observer) {{\n",
       "        var display = window.getComputedStyle(gd).display;\n",
       "        if (!display || display === 'none') {{\n",
       "            console.log([gd, 'removed!']);\n",
       "            Plotly.purge(gd);\n",
       "            observer.disconnect();\n",
       "        }}\n",
       "}});\n",
       "\n",
       "// Listen for the removal of the full notebook cells\n",
       "var notebookContainer = gd.closest('#notebook-container');\n",
       "if (notebookContainer) {{\n",
       "    x.observe(notebookContainer, {childList: true});\n",
       "}}\n",
       "\n",
       "// Listen for the clearing of the current output cell\n",
       "var outputEl = gd.closest('.output');\n",
       "if (outputEl) {{\n",
       "    x.observe(outputEl, {childList: true});\n",
       "}}\n",
       "\n",
       "                        })                };                });            </script>        </div>"
      ]
     },
     "metadata": {},
     "output_type": "display_data"
    }
   ],
   "source": [
    "pd.options.plotting.backend = \"plotly\"\n",
    "sales.groupby(by=[\"Prod\"]).sum()[[\"Amt\"]].plot(kind=\"bar\")"
   ]
  },
  {
   "cell_type": "markdown",
   "id": "700518e4",
   "metadata": {},
   "source": [
    "## 3. Import Product File"
   ]
  },
  {
   "cell_type": "code",
   "execution_count": 137,
   "id": "e3ab7080",
   "metadata": {},
   "outputs": [
    {
     "name": "stdout",
     "output_type": "stream",
     "text": [
      "Product:\n",
      "\n",
      "             Cat\n",
      "Prod            \n",
      "A     Category 1\n",
      "B     Category 1\n",
      "C     Category 1\n",
      "D     Category 1\n",
      "E     Category 2\n",
      "\n",
      "Data Type\n",
      "Cat    object\n",
      "dtype: object\n"
     ]
    }
   ],
   "source": [
    "prod = pd.read_csv('https://raw.githubusercontent.com/Stephenkkt/Python/main/Prod.csv', header = 0, index_col=0)\n",
    "\n",
    "print(\"Product:\\n\")\n",
    "print(prod.head(5))\n",
    "\n",
    "print(\"\\nData Type\")\n",
    "print(prod.dtypes)"
   ]
  },
  {
   "cell_type": "markdown",
   "id": "e7330a2d",
   "metadata": {},
   "source": [
    "## 4a. Import Branch File"
   ]
  },
  {
   "cell_type": "code",
   "execution_count": 138,
   "id": "c3cd4bd1",
   "metadata": {},
   "outputs": [
    {
     "name": "stdout",
     "output_type": "stream",
     "text": [
      "BRANCH:\n",
      "\n",
      "                        Name                 Address     Zip         Phone  \\\n",
      "index                                                                        \n",
      "1             1200 St Clair   1200 ST CLAIR AVE WEST  M6E1B4  416-652-3444   \n",
      "3      Avenue Rd & Fairlawn         1705 AVENUE ROAD  M5M3Y5  416-782-3508   \n",
      "5      Bathurst & Frontenac         2953 BATHURST ST  M6B3B2  416-789-7915   \n",
      "10            Bay & College           763 BAY STREET  M5G2R3  416-867-5190   \n",
      "13          Bedford & Bloor    242 BLOOR STREET WEST  M5S1T8  416-867-4663   \n",
      "\n",
      "       Br_ID  \n",
      "index         \n",
      "1          1  \n",
      "3          2  \n",
      "5          3  \n",
      "10         4  \n",
      "13         5  \n",
      "\n",
      "Data Type\n",
      "Name       object\n",
      "Address    object\n",
      "Zip        object\n",
      "Phone      object\n",
      "Br_ID       int64\n",
      "dtype: object\n"
     ]
    }
   ],
   "source": [
    "branch = pd.read_csv('https://raw.githubusercontent.com/Stephenkkt/Python/main/BR_F.csv', header = 0, index_col = 0)\n",
    "\n",
    "print(\"BRANCH:\\n\")\n",
    "print(branch.head(5))\n",
    "print(\"\\nData Type\")\n",
    "print(branch.dtypes)\n",
    "\n"
   ]
  },
  {
   "cell_type": "markdown",
   "id": "e56af1c5",
   "metadata": {},
   "source": [
    "## 4b. Clean branch address"
   ]
  },
  {
   "cell_type": "code",
   "execution_count": 139,
   "id": "000c1710",
   "metadata": {},
   "outputs": [
    {
     "name": "stdout",
     "output_type": "stream",
     "text": [
      "\n",
      "Branch\n",
      "                        Name                 Address         Phone  Br_ID  \\\n",
      "index                                                                       \n",
      "1             1200 St Clair   1200 ST CLAIR AVE WEST  416-652-3444      1   \n",
      "3      Avenue Rd & Fairlawn         1705 AVENUE ROAD  416-782-3508      2   \n",
      "5      Bathurst & Frontenac         2953 BATHURST ST  416-789-7915      3   \n",
      "10            Bay & College           763 BAY STREET  416-867-5190      4   \n",
      "13          Bedford & Bloor    242 BLOOR STREET WEST  416-867-4663      5   \n",
      "\n",
      "        postal                             full_address  \n",
      "index                                                    \n",
      "1      M6E 1B4  1200 ST CLAIR AVE WEST, Ontario, Canada  \n",
      "3      M5M 3Y5        1705 AVENUE ROAD, Ontario, Canada  \n",
      "5      M6B 3B2        2953 BATHURST ST, Ontario, Canada  \n",
      "10     M5G 2R3          763 BAY STREET, Ontario, Canada  \n",
      "13     M5S 1T8   242 BLOOR STREET WEST, Ontario, Canada  \n"
     ]
    }
   ],
   "source": [
    "#Clean Postal Code\n",
    "branch['postal'] = branch['Zip'].str[:3] + \" \" + branch['Zip'].str[-3:]\n",
    "branch = branch.drop(columns = ['Zip'])\n",
    "\n",
    "#Create new field 'full address'\n",
    "branch['full_address'] = branch['Address'] + \",\" + \" Ontario\" + \",\" + \" Canada\"\n",
    "\n",
    "print('\\nBranch')\n",
    "print(branch.head())"
   ]
  },
  {
   "cell_type": "markdown",
   "id": "4016dda0",
   "metadata": {},
   "source": [
    "\n",
    "## 4c. Map branch coordination"
   ]
  },
  {
   "cell_type": "code",
   "execution_count": 140,
   "id": "61df3c73",
   "metadata": {},
   "outputs": [
    {
     "name": "stdout",
     "output_type": "stream",
     "text": [
      "\n",
      "Branch with Coordinate\n",
      "                        Name                 Address         Phone  Br_ID  \\\n",
      "index                                                                       \n",
      "1             1200 St Clair   1200 ST CLAIR AVE WEST  416-652-3444      1   \n",
      "3      Avenue Rd & Fairlawn         1705 AVENUE ROAD  416-782-3508      2   \n",
      "5      Bathurst & Frontenac         2953 BATHURST ST  416-789-7915      3   \n",
      "10            Bay & College           763 BAY STREET  416-867-5190      4   \n",
      "13          Bedford & Bloor    242 BLOOR STREET WEST  416-867-4663      5   \n",
      "\n",
      "        postal                             full_address  \\\n",
      "index                                                     \n",
      "1      M6E 1B4  1200 ST CLAIR AVE WEST, Ontario, Canada   \n",
      "3      M5M 3Y5        1705 AVENUE ROAD, Ontario, Canada   \n",
      "5      M6B 3B2        2953 BATHURST ST, Ontario, Canada   \n",
      "10     M5G 2R3          763 BAY STREET, Ontario, Canada   \n",
      "13     M5S 1T8   242 BLOOR STREET WEST, Ontario, Canada   \n",
      "\n",
      "                                                   gcode        lat       long  \n",
      "index                                                                           \n",
      "1      (BMO, 1200, St. Clair Avenue West, Davenport, ...  43.677801 -79.444441  \n",
      "3      (1705, Avenue Road, Eglinton—Lawrence, North Y...  43.728103 -79.417782  \n",
      "5      (BMO, 2953, Bathurst Street, Eglinton—Lawrence...  43.716719 -79.428883  \n",
      "10     (BMO, 763, Bay Street, University—Rosedale, Ol...  43.659990 -79.385216  \n",
      "13     (BMO, 242, Bloor Street West, University—Rosed...  43.668243 -79.397221  \n"
     ]
    }
   ],
   "source": [
    "from geopy.geocoders import Nominatim #pip install geopy\n",
    "\n",
    "#find the coordination\n",
    "geolocator = Nominatim(timeout=10, user_agent = \"MyApp\")\n",
    "branch['gcode'] = branch.full_address.apply(geolocator.geocode)\n",
    "\n",
    "branch['lat'] = [g.latitude for g in branch.gcode]\n",
    "branch['long'] = [g.longitude for g in branch.gcode]\n",
    "print(\"\\nBranch with Coordinate\")\n",
    "print(branch.head())\n"
   ]
  },
  {
   "cell_type": "markdown",
   "id": "3ea655e4",
   "metadata": {},
   "source": [
    "## 5. Import Staff File"
   ]
  },
  {
   "cell_type": "code",
   "execution_count": 141,
   "id": "4a5e38b3",
   "metadata": {
    "scrolled": true
   },
   "outputs": [
    {
     "name": "stdout",
     "output_type": "stream",
     "text": [
      "STAFF:\n",
      "\n",
      "          Br_ID\n",
      "Staff_ID       \n",
      "1            27\n",
      "2            20\n",
      "3            42\n",
      "4            12\n",
      "5            28\n",
      "\n",
      "Data Type\n",
      "Br_ID    int64\n",
      "dtype: object\n",
      "\n",
      "\n",
      "Br_ID    51\n",
      "dtype: int64\n"
     ]
    }
   ],
   "source": [
    "staff = pd.read_csv('https://raw.githubusercontent.com/Stephenkkt/Python/main/staff.csv', header = 0, index_col = 0)\n",
    "\n",
    "#staff = staff.reset_index()\n",
    "print(\"STAFF:\\n\")\n",
    "print(staff.head(5))\n",
    "\n",
    "print(\"\\nData Type\")\n",
    "print(staff.dtypes)\n",
    "\n",
    "print(\"\\n\")\n",
    "print(staff.nunique(axis=0))"
   ]
  },
  {
   "cell_type": "markdown",
   "id": "6902c004",
   "metadata": {},
   "source": [
    "## Import Target File"
   ]
  },
  {
   "cell_type": "code",
   "execution_count": 163,
   "id": "8cb2e6d4",
   "metadata": {},
   "outputs": [
    {
     "name": "stdout",
     "output_type": "stream",
     "text": [
      "   Br_ID  Sales_Tar\n",
      "0      1  3590000.0\n",
      "1      2  4700000.0\n",
      "2      3  6700000.0\n",
      "3      4  3030000.0\n",
      "4      5  3560000.0\n",
      "253990000.0\n"
     ]
    }
   ],
   "source": [
    "Tar = pd.read_csv('https://raw.githubusercontent.com/Stephenkkt/Python/main/BR_TAR.csv', header = 0, index_col=0, dtype = {'Br_ID':'int64'})\n",
    "Tar['Sales_Tar'] = Tar['Sales_Tar'].replace(',','',regex=True)\n",
    "Tar['Sales_Tar'] = Tar['Sales_Tar'].astype('float')\n",
    "Tar = Tar.reset_index(drop=False)\n",
    "print(Tar.head())\n",
    "\n",
    "print(sum(Tar['Sales_Tar']))"
   ]
  },
  {
   "cell_type": "markdown",
   "id": "3f5decb2",
   "metadata": {},
   "source": [
    "## 6. Summary"
   ]
  },
  {
   "cell_type": "markdown",
   "id": "e4cab368",
   "metadata": {},
   "source": [
    "* **a.Summary in Staff Level**"
   ]
  },
  {
   "cell_type": "code",
   "execution_count": 164,
   "id": "fc8ad512",
   "metadata": {},
   "outputs": [
    {
     "name": "stdout",
     "output_type": "stream",
     "text": [
      "\n",
      "Sales by Staff\n",
      "              Total  Count       Avg_Tix\n",
      "Staff_ID                                \n",
      "1          895000.0     36  24861.111111\n",
      "2         1091500.0     41  26621.951220\n",
      "3          705000.0     30  23500.000000\n",
      "4          694500.0     32  21703.125000\n",
      "5          895000.0     31  28870.967742\n",
      "...             ...    ...           ...\n",
      "296        866000.0     32  27062.500000\n",
      "297        873500.0     34  25691.176471\n",
      "298        561500.0     24  23395.833333\n",
      "299       1297500.0     47  27606.382979\n",
      "300        797500.0     30  26583.333333\n",
      "\n",
      "[300 rows x 3 columns]\n"
     ]
    }
   ],
   "source": [
    "#Summary in Staff Level\n",
    "sum_sales_staff_1 = sales.groupby(['Staff_ID']).agg(Total=('Amt','sum'),\n",
    "                                                    Count=('Amt','count'),\n",
    "                                                    Avg_Tix=('Amt','mean')\n",
    "                                                   )\n",
    "print(\"\\nSales by Staff\")\n",
    "print(sum_sales_staff_1)"
   ]
  },
  {
   "cell_type": "markdown",
   "id": "99156c0a",
   "metadata": {},
   "source": [
    "* **Merge Staff Table for getting Branch ID**"
   ]
  },
  {
   "cell_type": "code",
   "execution_count": 165,
   "id": "6d821893",
   "metadata": {},
   "outputs": [
    {
     "name": "stdout",
     "output_type": "stream",
     "text": [
      "\n",
      "Sales by Staff with Branch\n",
      "              Total  Count       Avg_Tix  Br_ID\n",
      "Staff_ID                                       \n",
      "1          895000.0     36  24861.111111     27\n",
      "2         1091500.0     41  26621.951220     20\n",
      "3          705000.0     30  23500.000000     42\n",
      "4          694500.0     32  21703.125000     12\n",
      "5          895000.0     31  28870.967742     28\n",
      "...             ...    ...           ...    ...\n",
      "296        866000.0     32  27062.500000     39\n",
      "297        873500.0     34  25691.176471      6\n",
      "298        561500.0     24  23395.833333     13\n",
      "299       1297500.0     47  27606.382979     41\n",
      "300        797500.0     30  26583.333333     38\n",
      "\n",
      "[300 rows x 4 columns]\n"
     ]
    }
   ],
   "source": [
    "sum_sales_br_1 = pd.merge(sum_sales_staff_1, staff, how = 'inner', left_on = 'Staff_ID', right_on = 'Staff_ID')\n",
    "\n",
    "print(\"\\nSales by Staff with Branch\")\n",
    "print(sum_sales_br_1)"
   ]
  },
  {
   "cell_type": "markdown",
   "id": "bdeb1ec0",
   "metadata": {},
   "source": [
    "* **Summary in Branch Level**"
   ]
  },
  {
   "cell_type": "code",
   "execution_count": 166,
   "id": "24484006",
   "metadata": {},
   "outputs": [
    {
     "name": "stdout",
     "output_type": "stream",
     "text": [
      "\n",
      "Sales by Branch\n",
      "        BR_Total  BR_Count    BR_Avg_Tix\n",
      "Br_ID                                   \n",
      "1      3453500.0       136  25393.382353\n",
      "2      4690000.0       189  24814.814815\n",
      "3      6390000.0       264  24204.545455\n",
      "4      2446500.0       104  23524.038462\n",
      "5      3600000.0       133  27067.669173\n",
      "\n",
      "Sales by Branch - Number of Record\n",
      "51\n"
     ]
    }
   ],
   "source": [
    "sum_sales_br_2 = sum_sales_br_1.groupby(['Br_ID']).agg(BR_Total = ('Total', 'sum'),\n",
    "                                                    BR_Count = ('Count','sum')\n",
    "                                                    )\n",
    "sum_sales_br_2['BR_Avg_Tix']=sum_sales_br_2['BR_Total']/sum_sales_br_2['BR_Count']\n",
    "print(\"\\nSales by Branch\")\n",
    "print(sum_sales_br_2.head())\n",
    "print(\"\\nSales by Branch - Number of Record\")\n",
    "print(len(sum_sales_br_2))"
   ]
  },
  {
   "cell_type": "markdown",
   "id": "2d165e09",
   "metadata": {},
   "source": [
    "* **Merge Branch Table for Brnach details and create rank**"
   ]
  },
  {
   "cell_type": "code",
   "execution_count": 167,
   "id": "75259309",
   "metadata": {},
   "outputs": [
    {
     "name": "stdout",
     "output_type": "stream",
     "text": [
      "\n",
      "Sales by Branch\n",
      "   Br_ID   BR_Total  BR_Count    BR_Avg_Tix                   Name  \\\n",
      "0      1  3453500.0       136  25393.382353         1200 St Clair    \n",
      "1      2  4690000.0       189  24814.814815  Avenue Rd & Fairlawn    \n",
      "2      3  6390000.0       264  24204.545455  Bathurst & Frontenac    \n",
      "3      4  2446500.0       104  23524.038462         Bay & College    \n",
      "4      5  3600000.0       133  27067.669173       Bedford & Bloor    \n",
      "\n",
      "                  Address         Phone   postal  \\\n",
      "0  1200 ST CLAIR AVE WEST  416-652-3444  M6E 1B4   \n",
      "1        1705 AVENUE ROAD  416-782-3508  M5M 3Y5   \n",
      "2        2953 BATHURST ST  416-789-7915  M6B 3B2   \n",
      "3          763 BAY STREET  416-867-5190  M5G 2R3   \n",
      "4   242 BLOOR STREET WEST  416-867-4663  M5S 1T8   \n",
      "\n",
      "                              full_address  \\\n",
      "0  1200 ST CLAIR AVE WEST, Ontario, Canada   \n",
      "1        1705 AVENUE ROAD, Ontario, Canada   \n",
      "2        2953 BATHURST ST, Ontario, Canada   \n",
      "3          763 BAY STREET, Ontario, Canada   \n",
      "4   242 BLOOR STREET WEST, Ontario, Canada   \n",
      "\n",
      "                                               gcode        lat       long  \\\n",
      "0  (BMO, 1200, St. Clair Avenue West, Davenport, ...  43.677801 -79.444441   \n",
      "1  (1705, Avenue Road, Eglinton—Lawrence, North Y...  43.728103 -79.417782   \n",
      "2  (BMO, 2953, Bathurst Street, Eglinton—Lawrence...  43.716719 -79.428883   \n",
      "3  (BMO, 763, Bay Street, University—Rosedale, Ol...  43.659990 -79.385216   \n",
      "4  (BMO, 242, Bloor Street West, University—Rosed...  43.668243 -79.397221   \n",
      "\n",
      "   rank  \n",
      "0    42  \n",
      "1    27  \n",
      "2    12  \n",
      "3    48  \n",
      "4    41  \n",
      "\n",
      "Sales by Branch - Number of Record\n",
      "51\n"
     ]
    }
   ],
   "source": [
    "sum_sales_br_2 = pd.merge(sum_sales_br_2,branch, how = 'inner', left_on = 'Br_ID', right_on = 'Br_ID')\n",
    "\n",
    "#Create Ranking\n",
    "sum_sales_br_2['rank'] = sum_sales_br_2['BR_Total'].rank(ascending = False).astype(int)\n",
    "\n",
    "print(\"\\nSales by Branch\")\n",
    "print(sum_sales_br_2.head())\n",
    "\n",
    "print(\"\\nSales by Branch - Number of Record\")\n",
    "print(len(sum_sales_br_2))"
   ]
  },
  {
   "cell_type": "markdown",
   "id": "f38fabe5",
   "metadata": {},
   "source": [
    "## Summary by date"
   ]
  },
  {
   "cell_type": "code",
   "execution_count": 168,
   "id": "44ae3442",
   "metadata": {},
   "outputs": [
    {
     "name": "stdout",
     "output_type": "stream",
     "text": [
      "Sale by Date\n",
      "          date     Total  Count\n",
      "0   2019-01-02  294000.0     10\n",
      "1   2019-01-03  200500.0      7\n",
      "2   2019-01-04  115000.0      7\n",
      "3   2019-01-05  348000.0     12\n",
      "4   2019-01-06  395500.0     12\n",
      "..         ...       ...    ...\n",
      "995 2021-09-23  162000.0      9\n",
      "996 2021-09-24  156000.0      6\n",
      "997 2021-09-25  267500.0     10\n",
      "998 2021-09-26  318500.0     12\n",
      "999 2021-09-27   80000.0      4\n",
      "\n",
      "[1000 rows x 3 columns]\n"
     ]
    }
   ],
   "source": [
    "sum_sales_date = sales.groupby('date').agg(Total = ('Amt', 'sum'),\n",
    "                                           Count = ('Amt', 'count')\n",
    "                                          )\n",
    "sum_sales_date = sum_sales_date.reset_index(drop = False)\n",
    "print(\"Sale by Date\")\n",
    "print(sum_sales_date)"
   ]
  },
  {
   "cell_type": "markdown",
   "id": "d625601f",
   "metadata": {},
   "source": [
    "## Summary by Category, Product and month"
   ]
  },
  {
   "cell_type": "markdown",
   "id": "153703d4",
   "metadata": {},
   "source": [
    "* **Summary by Product and month**"
   ]
  },
  {
   "cell_type": "code",
   "execution_count": 169,
   "id": "ecb031ab",
   "metadata": {},
   "outputs": [
    {
     "name": "stdout",
     "output_type": "stream",
     "text": [
      "\n",
      "Sale by Prod and mth\n",
      "           mth Prod      Total  Count\n",
      "0   2019-01-01    A  1014000.0     40\n",
      "1   2019-01-01    B   460500.0     19\n",
      "2   2019-01-01    C   679500.0     26\n",
      "3   2019-01-01    D   636500.0     24\n",
      "4   2019-01-01    E   688500.0     21\n",
      "..         ...  ...        ...    ...\n",
      "325 2021-09-01    F   490000.0     18\n",
      "326 2021-09-01    G   534500.0     27\n",
      "327 2021-09-01    H   594000.0     24\n",
      "328 2021-09-01    I   838000.0     31\n",
      "329 2021-09-01    J   896500.0     35\n",
      "\n",
      "[330 rows x 4 columns]\n"
     ]
    }
   ],
   "source": [
    "sum_sales_prod_mth = sales.groupby(['mth','Prod']).agg(Total = (\"Amt\",\"sum\"),\n",
    "                                                       Count = (\"Amt\", \"count\")\n",
    "                                                      )\n",
    "sum_sales_prod_mth = sum_sales_prod_mth.reset_index(drop = False)\n",
    "print(\"\\nSale by Prod and mth\")\n",
    "print(sum_sales_prod_mth)\n"
   ]
  },
  {
   "cell_type": "markdown",
   "id": "4c047104",
   "metadata": {},
   "source": [
    "* **Merge Product Table**"
   ]
  },
  {
   "cell_type": "code",
   "execution_count": 170,
   "id": "4fae2257",
   "metadata": {
    "scrolled": true
   },
   "outputs": [
    {
     "name": "stdout",
     "output_type": "stream",
     "text": [
      "\n",
      "Sale by Prod and mth\n",
      "           mth Prod      Total  Count         Cat\n",
      "0   2019-01-01    A  1014000.0     40  Category 1\n",
      "1   2019-02-01    A   566500.0     23  Category 1\n",
      "2   2019-03-01    A   782500.0     38  Category 1\n",
      "3   2019-04-01    A   665500.0     27  Category 1\n",
      "4   2019-05-01    A   867000.0     38  Category 1\n",
      "..         ...  ...        ...    ...         ...\n",
      "325 2021-05-01    J   536500.0     24  Category 3\n",
      "326 2021-06-01    J  1039500.0     34  Category 3\n",
      "327 2021-07-01    J   727500.0     28  Category 3\n",
      "328 2021-08-01    J   987500.0     40  Category 3\n",
      "329 2021-09-01    J   896500.0     35  Category 3\n",
      "\n",
      "[330 rows x 5 columns]\n"
     ]
    }
   ],
   "source": [
    "sum_sales_prod_mth = pd.merge(sum_sales_prod_mth,prod, how = 'inner', left_on = \"Prod\", right_on = \"Prod\")\n",
    "\n",
    "print(\"\\nSale by Prod and mth\")\n",
    "print(sum_sales_prod_mth)"
   ]
  },
  {
   "cell_type": "markdown",
   "id": "9a1c6a6f",
   "metadata": {},
   "source": [
    "## Branch sales in latest month"
   ]
  },
  {
   "cell_type": "code",
   "execution_count": 171,
   "id": "dbc1840d",
   "metadata": {},
   "outputs": [
    {
     "name": "stdout",
     "output_type": "stream",
     "text": [
      "min=2021-09-01 00:00:00\n",
      "\n",
      "max=2021-09-27 00:00:00\n",
      "   Br_ID      Total  Count  Sales_Tar                   Name\n",
      "0      1  3453500.0    136  3590000.0         1200 St Clair \n",
      "1      2  4690000.0    189  4700000.0  Avenue Rd & Fairlawn \n",
      "2      3  6390000.0    264  6700000.0  Bathurst & Frontenac \n",
      "3      4  2446500.0    104  3030000.0         Bay & College \n",
      "4      5  3600000.0    133  3560000.0       Bedford & Bloor \n"
     ]
    }
   ],
   "source": [
    "curr_mth_sales = sales.copy()\n",
    "\n",
    "curr_mth_sales2 = curr_mth_sales.loc[(sales['date'].max().to_numpy().astype('datetime64[M]') == sales['date'].to_numpy().astype('datetime64[M]'))]\n",
    "\n",
    "print(\"min=\" + str(curr_mth_sales2['date'].min()))\n",
    "\n",
    "print(\"\\nmax=\"+str(curr_mth_sales2['date'].max()))\n",
    "sum_curr_mth_1 = curr_mth_sales2.groupby(['Staff_ID']).agg(Total = ('Amt', 'sum'),\n",
    "                                                           Count = ('Amt', 'count')\n",
    "                                                            )\n",
    "\n",
    "sum_curr_mth_1 = pd.merge(sum_sales_staff_1, staff, how = 'inner', left_on = 'Staff_ID', right_on = 'Staff_ID')\n",
    "sum_curr_mth_2 = sum_curr_mth_1.groupby(['Br_ID']).agg(Total = ('Total', 'sum'),\n",
    "                                                           Count = ('Count', 'sum')\n",
    "                                                            )\n",
    "\n",
    "sum_curr_mth_2 = pd.merge(sum_curr_mth_2,Tar, how = 'inner', left_on='Br_ID', right_on='Br_ID')\n",
    "sum_curr_mth_2 = pd.merge(sum_curr_mth_2,branch[['Br_ID','Name']], how = 'inner', left_on='Br_ID', right_on='Br_ID')\n",
    "\n",
    "print(sum_curr_mth_2.head())"
   ]
  },
  {
   "cell_type": "markdown",
   "id": "d4d4242c",
   "metadata": {},
   "source": [
    "## Sales by Branch, Category and Product (Current month only)\n",
    "\n",
    "### Use \"curr_mth_sales2\" generated\n",
    "\n",
    "#### Merge Product Table, Staff Table and Branch Name"
   ]
  },
  {
   "cell_type": "code",
   "execution_count": 172,
   "id": "0957d15f",
   "metadata": {
    "scrolled": true
   },
   "outputs": [
    {
     "name": "stdout",
     "output_type": "stream",
     "text": [
      "   Br_ID                   Name         Cat Prod    Total  Count\n",
      "0      1         1200 St Clair   Category 2    G  35000.0      2\n",
      "1      1         1200 St Clair   Category 3    J  25500.0      1\n",
      "2      2  Avenue Rd & Fairlawn   Category 1    A  64000.0      3\n",
      "3      2  Avenue Rd & Fairlawn   Category 1    C   8000.0      1\n",
      "4      3  Bathurst & Frontenac   Category 1    A  32500.0      1\n"
     ]
    }
   ],
   "source": [
    "curr_mth_sales3 = pd.merge(curr_mth_sales2, prod, how = \"inner\", left_on=\"Prod\", right_on=\"Prod\")\n",
    "curr_mth_sales3 = pd.merge(curr_mth_sales3, staff, how = \"inner\", left_on=\"Staff_ID\", right_on=\"Staff_ID\")\n",
    "curr_mth_sales3 = pd.merge(curr_mth_sales3, branch[[\"Br_ID\",\"Name\"]], how = \"inner\", left_on=\"Br_ID\", right_on=\"Br_ID\")\n",
    "\n",
    "sum_curr_detail = curr_mth_sales3.groupby(['Br_ID','Name','Cat','Prod']).agg(Total= ('Amt','sum'),\n",
    "                                                                   Count= ('Amt', 'count') \n",
    "                                                                  )\n",
    "sum_curr_detail=sum_curr_detail.reset_index()\n",
    "print(sum_curr_detail.head())"
   ]
  },
  {
   "cell_type": "code",
   "execution_count": 173,
   "id": "ec82e94b",
   "metadata": {},
   "outputs": [
    {
     "name": "stdout",
     "output_type": "stream",
     "text": [
      "        date  Staff_ID Prod    Total  Count\n",
      "0 2019-01-02         6    C   1000.0      1\n",
      "1 2019-01-02        65    G  46000.0      1\n",
      "2 2019-01-02        82    F  30500.0      1\n",
      "3 2019-01-02       101    A  45500.0      1\n",
      "4 2019-01-02       123    G  12000.0      1\n",
      "        date  Staff_ID Prod    Total  Count         Cat  Br_ID  \\\n",
      "0 2019-01-02         6    C   1000.0      1  Category 1      7   \n",
      "1 2019-06-07         6    C  20500.0      1  Category 1      7   \n",
      "2 2019-07-11         6    C  41000.0      1  Category 1      7   \n",
      "3 2020-04-04         6    C   1000.0      1  Category 1      7   \n",
      "4 2020-11-13         6    C  34500.0      1  Category 1      7   \n",
      "\n",
      "              Name        lat       long  \n",
      "0  Bloor & Church   43.670599 -79.385153  \n",
      "1  Bloor & Church   43.670599 -79.385153  \n",
      "2  Bloor & Church   43.670599 -79.385153  \n",
      "3  Bloor & Church   43.670599 -79.385153  \n",
      "4  Bloor & Church   43.670599 -79.385153  \n"
     ]
    }
   ],
   "source": [
    "## Raw Summary File For Tableau\n",
    "\n",
    "raw_sum = sales.groupby(['date','Staff_ID','Prod']).agg(Total=('Amt', 'sum'),\n",
    "                                                      Count= ('Amt', 'count'))\n",
    "raw_sum = raw_sum.reset_index()\n",
    "\n",
    "print(raw_sum.head())\n",
    "\n",
    "raw_sum = pd.merge(raw_sum, prod, how = \"inner\", left_on=\"Prod\", right_on=\"Prod\")\n",
    "raw_sum = pd.merge(raw_sum, staff, how = \"inner\", left_on=\"Staff_ID\", right_on=\"Staff_ID\")\n",
    "\n",
    "raw_sum = pd.merge(raw_sum, branch[[\"Br_ID\",\"Name\",\"lat\",\"long\"]], how = \"inner\", left_on=\"Br_ID\", right_on=\"Br_ID\")\n",
    "print(raw_sum.head())\n"
   ]
  },
  {
   "cell_type": "markdown",
   "id": "d8246d68",
   "metadata": {},
   "source": [
    "## Export Files"
   ]
  },
  {
   "cell_type": "code",
   "execution_count": 174,
   "id": "146cdbf8",
   "metadata": {},
   "outputs": [],
   "source": [
    "sum_sales_prod_mth.to_csv('sum_prod_mth.csv', index = False, header = 1)\n",
    "sum_sales_br_2.to_csv('sum_branch.csv', index = False, header = 1)\n",
    "sum_sales_date.to_csv('sum_date.csv', index = False, header = 1)\n",
    "sum_curr_mth_2.to_csv('sum_achievement.csv', index = False, header = 1)\n",
    "sum_curr_detail.to_csv('sum_curr_mth_detail.csv', index = False, header = 1)\n",
    "raw_sum.to_csv('sum_tableau.csv', index = False, header = 1)"
   ]
  },
  {
   "cell_type": "markdown",
   "id": "0f2d75f0",
   "metadata": {},
   "source": [
    "## Show all generated dataframe"
   ]
  },
  {
   "cell_type": "code",
   "execution_count": 175,
   "id": "c573c349",
   "metadata": {
    "scrolled": true
   },
   "outputs": [
    {
     "name": "stdout",
     "output_type": "stream",
     "text": [
      "Variable             Type         Data/Info\n",
      "-------------------------------------------\n",
      "Tar                  DataFrame        Br_ID  Sales_Tar\\n0  <...>0.0\\n50     51  3880000.0\n",
      "branch               DataFrame                             <...>.  43.774283 -79.501947  \n",
      "curr_mth_sales       DataFrame          Cust_ID  Staff_ID  <...>n[10000 rows x 6 columns]\n",
      "curr_mth_sales2      DataFrame          Cust_ID  Staff_ID  <...>n\\n[253 rows x 6 columns]\n",
      "curr_mth_sales3      DataFrame         Cust_ID  Staff_ID   <...>n\\n[253 rows x 9 columns]\n",
      "data                 DataFrame           age          job  <...>[41188 rows x 21 columns]\n",
      "df                   DataFrame          Unnamed: 0  Cust_ID<...>n[10000 rows x 6 columns]\n",
      "prod                 DataFrame                 Cat\\nProd   <...>egory 3\\nJ     Category 3\n",
      "raw_sum              DataFrame               date  Staff_ID<...>n[9981 rows x 10 columns]\n",
      "sales                DataFrame          Cust_ID  Staff_ID  <...>n[10000 rows x 6 columns]\n",
      "sales2               DataFrame               date  Staff_ID<...>n[9981 rows x 10 columns]\n",
      "staff                DataFrame              Br_ID\\nStaff_ID<...>n\\n[300 rows x 1 columns]\n",
      "sum_curr_detail      DataFrame         Br_ID               <...>n\\n[198 rows x 6 columns]\n",
      "sum_curr_mth_1       DataFrame                  Total  Coun<...>n\\n[300 rows x 4 columns]\n",
      "sum_curr_mth_2       DataFrame        Br_ID      Total  Cou<...> University/York Lanes   \n",
      "sum_sales_br_1       DataFrame                  Total  Coun<...>n\\n[300 rows x 4 columns]\n",
      "sum_sales_br_2       DataFrame        Br_ID   BR_Total  BR_<...> \\n49    44  \\n50    45  \n",
      "sum_sales_date       DataFrame              date     Total <...>\\n[1000 rows x 3 columns]\n",
      "sum_sales_prod_mth   DataFrame               mth Prod      <...>n\\n[330 rows x 5 columns]\n",
      "sum_sales_staff_1    DataFrame                  Total  Coun<...>n\\n[300 rows x 3 columns]\n"
     ]
    }
   ],
   "source": [
    "%whos DataFrame"
   ]
  },
  {
   "cell_type": "markdown",
   "id": "7eb0ba41",
   "metadata": {},
   "source": [
    "## 7. Create Map"
   ]
  },
  {
   "cell_type": "code",
   "execution_count": 176,
   "id": "3745e3a6",
   "metadata": {},
   "outputs": [
    {
     "name": "stdout",
     "output_type": "stream",
     "text": [
      "43.69675561200355\n",
      "-79.36020879238686\n"
     ]
    },
    {
     "data": {
      "text/html": [
       "<div style=\"width:100%;\"><div style=\"position:relative;width:100%;height:0;padding-bottom:60%;\"><span style=\"color:#565656\">Make this Notebook Trusted to load map: File -> Trust Notebook</span><iframe srcdoc=\"&lt;!DOCTYPE html&gt;\n",
       "&lt;head&gt;    \n",
       "    &lt;meta http-equiv=&quot;content-type&quot; content=&quot;text/html; charset=UTF-8&quot; /&gt;\n",
       "    \n",
       "        &lt;script&gt;\n",
       "            L_NO_TOUCH = false;\n",
       "            L_DISABLE_3D = false;\n",
       "        &lt;/script&gt;\n",
       "    \n",
       "    &lt;style&gt;html, body {width: 100%;height: 100%;margin: 0;padding: 0;}&lt;/style&gt;\n",
       "    &lt;style&gt;#map {position:absolute;top:0;bottom:0;right:0;left:0;}&lt;/style&gt;\n",
       "    &lt;script src=&quot;https://cdn.jsdelivr.net/npm/leaflet@1.6.0/dist/leaflet.js&quot;&gt;&lt;/script&gt;\n",
       "    &lt;script src=&quot;https://code.jquery.com/jquery-1.12.4.min.js&quot;&gt;&lt;/script&gt;\n",
       "    &lt;script src=&quot;https://maxcdn.bootstrapcdn.com/bootstrap/3.2.0/js/bootstrap.min.js&quot;&gt;&lt;/script&gt;\n",
       "    &lt;script src=&quot;https://cdnjs.cloudflare.com/ajax/libs/Leaflet.awesome-markers/2.0.2/leaflet.awesome-markers.js&quot;&gt;&lt;/script&gt;\n",
       "    &lt;link rel=&quot;stylesheet&quot; href=&quot;https://cdn.jsdelivr.net/npm/leaflet@1.6.0/dist/leaflet.css&quot;/&gt;\n",
       "    &lt;link rel=&quot;stylesheet&quot; href=&quot;https://maxcdn.bootstrapcdn.com/bootstrap/3.2.0/css/bootstrap.min.css&quot;/&gt;\n",
       "    &lt;link rel=&quot;stylesheet&quot; href=&quot;https://maxcdn.bootstrapcdn.com/bootstrap/3.2.0/css/bootstrap-theme.min.css&quot;/&gt;\n",
       "    &lt;link rel=&quot;stylesheet&quot; href=&quot;https://maxcdn.bootstrapcdn.com/font-awesome/4.6.3/css/font-awesome.min.css&quot;/&gt;\n",
       "    &lt;link rel=&quot;stylesheet&quot; href=&quot;https://cdnjs.cloudflare.com/ajax/libs/Leaflet.awesome-markers/2.0.2/leaflet.awesome-markers.css&quot;/&gt;\n",
       "    &lt;link rel=&quot;stylesheet&quot; href=&quot;https://cdn.jsdelivr.net/gh/python-visualization/folium/folium/templates/leaflet.awesome.rotate.min.css&quot;/&gt;\n",
       "    \n",
       "            &lt;meta name=&quot;viewport&quot; content=&quot;width=device-width,\n",
       "                initial-scale=1.0, maximum-scale=1.0, user-scalable=no&quot; /&gt;\n",
       "            &lt;style&gt;\n",
       "                #map_8e839c7520ebbc49fd95813c8ca1e21a {\n",
       "                    position: relative;\n",
       "                    width: 700.0px;\n",
       "                    height: 700.0px;\n",
       "                    left: 0.0%;\n",
       "                    top: 0.0%;\n",
       "                }\n",
       "            &lt;/style&gt;\n",
       "        \n",
       "&lt;/head&gt;\n",
       "&lt;body&gt;    \n",
       "    \n",
       "            &lt;div class=&quot;folium-map&quot; id=&quot;map_8e839c7520ebbc49fd95813c8ca1e21a&quot; &gt;&lt;/div&gt;\n",
       "        \n",
       "&lt;/body&gt;\n",
       "&lt;script&gt;    \n",
       "    \n",
       "            var map_8e839c7520ebbc49fd95813c8ca1e21a = L.map(\n",
       "                &quot;map_8e839c7520ebbc49fd95813c8ca1e21a&quot;,\n",
       "                {\n",
       "                    center: [43.69675561200355, -79.36020879238686],\n",
       "                    crs: L.CRS.EPSG3857,\n",
       "                    zoom: 11,\n",
       "                    zoomControl: true,\n",
       "                    preferCanvas: false,\n",
       "                    titles: &quot;Branch Sales&quot;,\n",
       "                }\n",
       "            );\n",
       "\n",
       "            \n",
       "\n",
       "        \n",
       "    \n",
       "            var tile_layer_9a48900ecce5372e3f0c3782ec71533f = L.tileLayer(\n",
       "                &quot;https://{s}.tile.openstreetmap.org/{z}/{x}/{y}.png&quot;,\n",
       "                {&quot;attribution&quot;: &quot;Data by \\u0026copy; \\u003ca href=\\&quot;http://openstreetmap.org\\&quot;\\u003eOpenStreetMap\\u003c/a\\u003e, under \\u003ca href=\\&quot;http://www.openstreetmap.org/copyright\\&quot;\\u003eODbL\\u003c/a\\u003e.&quot;, &quot;detectRetina&quot;: false, &quot;maxNativeZoom&quot;: 18, &quot;maxZoom&quot;: 18, &quot;minZoom&quot;: 0, &quot;noWrap&quot;: false, &quot;opacity&quot;: 1, &quot;subdomains&quot;: &quot;abc&quot;, &quot;tms&quot;: false}\n",
       "            ).addTo(map_8e839c7520ebbc49fd95813c8ca1e21a);\n",
       "        \n",
       "&lt;/script&gt;\" style=\"position:absolute;width:100%;height:100%;left:0;top:0;border:none !important;\" allowfullscreen webkitallowfullscreen mozallowfullscreen></iframe></div></div>"
      ],
      "text/plain": [
       "<folium.folium.Map at 0x13af5a0a080>"
      ]
     },
     "execution_count": 176,
     "metadata": {},
     "output_type": "execute_result"
    }
   ],
   "source": [
    "import folium\n",
    "\n",
    "# Find the Latitude & Longtitude for the map\n",
    "avg_lat=branch['lat'].mean()\n",
    "avg_long=branch['long'].mean()\n",
    "\n",
    "print(avg_lat)\n",
    "print(avg_long)\n",
    "\n",
    "map = folium.Map(\n",
    "    height=700, width=700,\n",
    "    titles='Branch Sales',\n",
    "    location=[avg_lat, avg_long],\n",
    "    zoom_start = 11\n",
    ")\n",
    "map\n"
   ]
  },
  {
   "cell_type": "code",
   "execution_count": 177,
   "id": "bfef4d8a",
   "metadata": {},
   "outputs": [
    {
     "name": "stdout",
     "output_type": "stream",
     "text": [
      "['fa-circle' 'exclamation' 'star']\n",
      "['blue' 'red' 'pink']\n"
     ]
    }
   ],
   "source": [
    "# Map Colour \n",
    "def sales_rank(row):\n",
    "    if row['rank'] <=5:\n",
    "        return 'pink'\n",
    "    elif row['rank'] >=46:\n",
    "        return 'red'\n",
    "    else:\n",
    "        return 'blue'\n",
    "\n",
    "def sales_icon(row):\n",
    "    if row['rank'] <=5:\n",
    "        return 'star'\n",
    "    elif row['rank'] >=46:\n",
    "        return 'exclamation'\n",
    "    else:\n",
    "        return 'fa-circle'\n",
    "\n",
    "sum_sales_br_2['colors'] = sum_sales_br_2.apply(sales_rank, axis=1)\n",
    "sum_sales_br_2['icons'] = sum_sales_br_2.apply(sales_icon, axis=1)\n",
    "sum_sales_br_2['BR_Total_M']= \"$\" + (round(sum_sales_br_2['BR_Total']/100000,1)).astype(str) + \"M\"\n",
    "print(sum_sales_br_2['icons'].unique())\n",
    "print(sum_sales_br_2['colors'].unique())"
   ]
  },
  {
   "cell_type": "code",
   "execution_count": 178,
   "id": "6b788242",
   "metadata": {
    "scrolled": false
   },
   "outputs": [
    {
     "data": {
      "text/html": [
       "<div style=\"width:100%;\"><div style=\"position:relative;width:100%;height:0;padding-bottom:60%;\"><span style=\"color:#565656\">Make this Notebook Trusted to load map: File -> Trust Notebook</span><iframe srcdoc=\"&lt;!DOCTYPE html&gt;\n",
       "&lt;head&gt;    \n",
       "    &lt;meta http-equiv=&quot;content-type&quot; content=&quot;text/html; charset=UTF-8&quot; /&gt;\n",
       "    \n",
       "        &lt;script&gt;\n",
       "            L_NO_TOUCH = false;\n",
       "            L_DISABLE_3D = false;\n",
       "        &lt;/script&gt;\n",
       "    \n",
       "    &lt;style&gt;html, body {width: 100%;height: 100%;margin: 0;padding: 0;}&lt;/style&gt;\n",
       "    &lt;style&gt;#map {position:absolute;top:0;bottom:0;right:0;left:0;}&lt;/style&gt;\n",
       "    &lt;script src=&quot;https://cdn.jsdelivr.net/npm/leaflet@1.6.0/dist/leaflet.js&quot;&gt;&lt;/script&gt;\n",
       "    &lt;script src=&quot;https://code.jquery.com/jquery-1.12.4.min.js&quot;&gt;&lt;/script&gt;\n",
       "    &lt;script src=&quot;https://maxcdn.bootstrapcdn.com/bootstrap/3.2.0/js/bootstrap.min.js&quot;&gt;&lt;/script&gt;\n",
       "    &lt;script src=&quot;https://cdnjs.cloudflare.com/ajax/libs/Leaflet.awesome-markers/2.0.2/leaflet.awesome-markers.js&quot;&gt;&lt;/script&gt;\n",
       "    &lt;link rel=&quot;stylesheet&quot; href=&quot;https://cdn.jsdelivr.net/npm/leaflet@1.6.0/dist/leaflet.css&quot;/&gt;\n",
       "    &lt;link rel=&quot;stylesheet&quot; href=&quot;https://maxcdn.bootstrapcdn.com/bootstrap/3.2.0/css/bootstrap.min.css&quot;/&gt;\n",
       "    &lt;link rel=&quot;stylesheet&quot; href=&quot;https://maxcdn.bootstrapcdn.com/bootstrap/3.2.0/css/bootstrap-theme.min.css&quot;/&gt;\n",
       "    &lt;link rel=&quot;stylesheet&quot; href=&quot;https://maxcdn.bootstrapcdn.com/font-awesome/4.6.3/css/font-awesome.min.css&quot;/&gt;\n",
       "    &lt;link rel=&quot;stylesheet&quot; href=&quot;https://cdnjs.cloudflare.com/ajax/libs/Leaflet.awesome-markers/2.0.2/leaflet.awesome-markers.css&quot;/&gt;\n",
       "    &lt;link rel=&quot;stylesheet&quot; href=&quot;https://cdn.jsdelivr.net/gh/python-visualization/folium/folium/templates/leaflet.awesome.rotate.min.css&quot;/&gt;\n",
       "    \n",
       "            &lt;meta name=&quot;viewport&quot; content=&quot;width=device-width,\n",
       "                initial-scale=1.0, maximum-scale=1.0, user-scalable=no&quot; /&gt;\n",
       "            &lt;style&gt;\n",
       "                #map_8e839c7520ebbc49fd95813c8ca1e21a {\n",
       "                    position: relative;\n",
       "                    width: 700.0px;\n",
       "                    height: 700.0px;\n",
       "                    left: 0.0%;\n",
       "                    top: 0.0%;\n",
       "                }\n",
       "            &lt;/style&gt;\n",
       "        \n",
       "&lt;/head&gt;\n",
       "&lt;body&gt;    \n",
       "    \n",
       "            &lt;div class=&quot;folium-map&quot; id=&quot;map_8e839c7520ebbc49fd95813c8ca1e21a&quot; &gt;&lt;/div&gt;\n",
       "        \n",
       "&lt;/body&gt;\n",
       "&lt;script&gt;    \n",
       "    \n",
       "            var map_8e839c7520ebbc49fd95813c8ca1e21a = L.map(\n",
       "                &quot;map_8e839c7520ebbc49fd95813c8ca1e21a&quot;,\n",
       "                {\n",
       "                    center: [43.69675561200355, -79.36020879238686],\n",
       "                    crs: L.CRS.EPSG3857,\n",
       "                    zoom: 11,\n",
       "                    zoomControl: true,\n",
       "                    preferCanvas: false,\n",
       "                    titles: &quot;Branch Sales&quot;,\n",
       "                }\n",
       "            );\n",
       "\n",
       "            \n",
       "\n",
       "        \n",
       "    \n",
       "            var tile_layer_9a48900ecce5372e3f0c3782ec71533f = L.tileLayer(\n",
       "                &quot;https://{s}.tile.openstreetmap.org/{z}/{x}/{y}.png&quot;,\n",
       "                {&quot;attribution&quot;: &quot;Data by \\u0026copy; \\u003ca href=\\&quot;http://openstreetmap.org\\&quot;\\u003eOpenStreetMap\\u003c/a\\u003e, under \\u003ca href=\\&quot;http://www.openstreetmap.org/copyright\\&quot;\\u003eODbL\\u003c/a\\u003e.&quot;, &quot;detectRetina&quot;: false, &quot;maxNativeZoom&quot;: 18, &quot;maxZoom&quot;: 18, &quot;minZoom&quot;: 0, &quot;noWrap&quot;: false, &quot;opacity&quot;: 1, &quot;subdomains&quot;: &quot;abc&quot;, &quot;tms&quot;: false}\n",
       "            ).addTo(map_8e839c7520ebbc49fd95813c8ca1e21a);\n",
       "        \n",
       "    \n",
       "            var marker_d7443f667fd8f6208825155e9a015efa = L.marker(\n",
       "                [43.6778012, -79.4444415],\n",
       "                {}\n",
       "            ).addTo(map_8e839c7520ebbc49fd95813c8ca1e21a);\n",
       "        \n",
       "    \n",
       "            var marker_c7b93699076e6fa12a823c232194dcd6 = L.marker(\n",
       "                [43.6778012, -79.4444415],\n",
       "                {}\n",
       "            ).addTo(map_8e839c7520ebbc49fd95813c8ca1e21a);\n",
       "        \n",
       "    \n",
       "            var icon_f9c1dcd0444066d1678785ce44bbb546 = L.AwesomeMarkers.icon(\n",
       "                {&quot;extraClasses&quot;: &quot;fa-rotate-0&quot;, &quot;icon&quot;: &quot;fa-circle&quot;, &quot;iconColor&quot;: &quot;white&quot;, &quot;markerColor&quot;: &quot;blue&quot;, &quot;prefix&quot;: &quot;fa&quot;}\n",
       "            );\n",
       "            marker_c7b93699076e6fa12a823c232194dcd6.setIcon(icon_f9c1dcd0444066d1678785ce44bbb546);\n",
       "        \n",
       "    \n",
       "        var popup_d74bcf1a700e8f41c37e44e0c6f5dbbd = L.popup({&quot;maxWidth&quot;: &quot;100%&quot;});\n",
       "\n",
       "        \n",
       "            var html_70d95d3b11a6eda2d2d86ff726276ca2 = $(`&lt;div id=&quot;html_70d95d3b11a6eda2d2d86ff726276ca2&quot; style=&quot;width: 100.0%; height: 100.0%;&quot;&gt;[&#x27;1200 St Clair &#x27;]&lt;/div&gt;`)[0];\n",
       "            popup_d74bcf1a700e8f41c37e44e0c6f5dbbd.setContent(html_70d95d3b11a6eda2d2d86ff726276ca2);\n",
       "        \n",
       "\n",
       "        marker_c7b93699076e6fa12a823c232194dcd6.bindPopup(popup_d74bcf1a700e8f41c37e44e0c6f5dbbd)\n",
       "        ;\n",
       "\n",
       "        \n",
       "    \n",
       "    \n",
       "            marker_c7b93699076e6fa12a823c232194dcd6.bindTooltip(\n",
       "                `&lt;div&gt;\n",
       "                     [&#x27;1200 St Clair &#x27;, &#x27;Sales: &#x27;, &#x27;$34.5M&#x27;, &#x27;Rank: &#x27;, 42]\n",
       "                 &lt;/div&gt;`,\n",
       "                {&quot;sticky&quot;: true}\n",
       "            );\n",
       "        \n",
       "    \n",
       "            var marker_c37b391677408fcdbe8c22a7fa59c21c = L.marker(\n",
       "                [43.7281034, -79.4177817],\n",
       "                {}\n",
       "            ).addTo(map_8e839c7520ebbc49fd95813c8ca1e21a);\n",
       "        \n",
       "    \n",
       "            var icon_3a698488bc18a86c147994acf19c0091 = L.AwesomeMarkers.icon(\n",
       "                {&quot;extraClasses&quot;: &quot;fa-rotate-0&quot;, &quot;icon&quot;: &quot;fa-circle&quot;, &quot;iconColor&quot;: &quot;white&quot;, &quot;markerColor&quot;: &quot;blue&quot;, &quot;prefix&quot;: &quot;fa&quot;}\n",
       "            );\n",
       "            marker_c37b391677408fcdbe8c22a7fa59c21c.setIcon(icon_3a698488bc18a86c147994acf19c0091);\n",
       "        \n",
       "    \n",
       "        var popup_0c46dcccaa3a1d137cbfcdd4568ab9cf = L.popup({&quot;maxWidth&quot;: &quot;100%&quot;});\n",
       "\n",
       "        \n",
       "            var html_976742bf1b8579b153c942039dec31ac = $(`&lt;div id=&quot;html_976742bf1b8579b153c942039dec31ac&quot; style=&quot;width: 100.0%; height: 100.0%;&quot;&gt;[&#x27;Avenue Rd &amp; Fairlawn &#x27;]&lt;/div&gt;`)[0];\n",
       "            popup_0c46dcccaa3a1d137cbfcdd4568ab9cf.setContent(html_976742bf1b8579b153c942039dec31ac);\n",
       "        \n",
       "\n",
       "        marker_c37b391677408fcdbe8c22a7fa59c21c.bindPopup(popup_0c46dcccaa3a1d137cbfcdd4568ab9cf)\n",
       "        ;\n",
       "\n",
       "        \n",
       "    \n",
       "    \n",
       "            marker_c37b391677408fcdbe8c22a7fa59c21c.bindTooltip(\n",
       "                `&lt;div&gt;\n",
       "                     [&#x27;Avenue Rd &amp; Fairlawn &#x27;, &#x27;Sales: &#x27;, &#x27;$46.9M&#x27;, &#x27;Rank: &#x27;, 27]\n",
       "                 &lt;/div&gt;`,\n",
       "                {&quot;sticky&quot;: true}\n",
       "            );\n",
       "        \n",
       "    \n",
       "            var marker_c8372864ec8c15ee0448b9d9a7e6e776 = L.marker(\n",
       "                [43.7167193, -79.4288825],\n",
       "                {}\n",
       "            ).addTo(map_8e839c7520ebbc49fd95813c8ca1e21a);\n",
       "        \n",
       "    \n",
       "            var icon_c813d857c9205284a8d85a584a30c3c8 = L.AwesomeMarkers.icon(\n",
       "                {&quot;extraClasses&quot;: &quot;fa-rotate-0&quot;, &quot;icon&quot;: &quot;fa-circle&quot;, &quot;iconColor&quot;: &quot;white&quot;, &quot;markerColor&quot;: &quot;blue&quot;, &quot;prefix&quot;: &quot;fa&quot;}\n",
       "            );\n",
       "            marker_c8372864ec8c15ee0448b9d9a7e6e776.setIcon(icon_c813d857c9205284a8d85a584a30c3c8);\n",
       "        \n",
       "    \n",
       "        var popup_f9a3dde1e39b56316a3192c4f622ed41 = L.popup({&quot;maxWidth&quot;: &quot;100%&quot;});\n",
       "\n",
       "        \n",
       "            var html_69174fe76cb8605e4004dc2ad530cf60 = $(`&lt;div id=&quot;html_69174fe76cb8605e4004dc2ad530cf60&quot; style=&quot;width: 100.0%; height: 100.0%;&quot;&gt;[&#x27;Bathurst &amp; Frontenac &#x27;]&lt;/div&gt;`)[0];\n",
       "            popup_f9a3dde1e39b56316a3192c4f622ed41.setContent(html_69174fe76cb8605e4004dc2ad530cf60);\n",
       "        \n",
       "\n",
       "        marker_c8372864ec8c15ee0448b9d9a7e6e776.bindPopup(popup_f9a3dde1e39b56316a3192c4f622ed41)\n",
       "        ;\n",
       "\n",
       "        \n",
       "    \n",
       "    \n",
       "            marker_c8372864ec8c15ee0448b9d9a7e6e776.bindTooltip(\n",
       "                `&lt;div&gt;\n",
       "                     [&#x27;Bathurst &amp; Frontenac &#x27;, &#x27;Sales: &#x27;, &#x27;$63.9M&#x27;, &#x27;Rank: &#x27;, 12]\n",
       "                 &lt;/div&gt;`,\n",
       "                {&quot;sticky&quot;: true}\n",
       "            );\n",
       "        \n",
       "    \n",
       "            var marker_b4c2a5238f170de42ee832dcd77ff4f7 = L.marker(\n",
       "                [43.6599901, -79.3852164],\n",
       "                {}\n",
       "            ).addTo(map_8e839c7520ebbc49fd95813c8ca1e21a);\n",
       "        \n",
       "    \n",
       "            var icon_f6c0575301a33c6d9e1e4cf96624c021 = L.AwesomeMarkers.icon(\n",
       "                {&quot;extraClasses&quot;: &quot;fa-rotate-0&quot;, &quot;icon&quot;: &quot;exclamation&quot;, &quot;iconColor&quot;: &quot;white&quot;, &quot;markerColor&quot;: &quot;red&quot;, &quot;prefix&quot;: &quot;fa&quot;}\n",
       "            );\n",
       "            marker_b4c2a5238f170de42ee832dcd77ff4f7.setIcon(icon_f6c0575301a33c6d9e1e4cf96624c021);\n",
       "        \n",
       "    \n",
       "        var popup_0e4e4d4e53fcd023cb1095ee482416a8 = L.popup({&quot;maxWidth&quot;: &quot;100%&quot;});\n",
       "\n",
       "        \n",
       "            var html_6b50071aa446128b5ec38a9e9e01eb96 = $(`&lt;div id=&quot;html_6b50071aa446128b5ec38a9e9e01eb96&quot; style=&quot;width: 100.0%; height: 100.0%;&quot;&gt;[&#x27;Bay &amp; College &#x27;]&lt;/div&gt;`)[0];\n",
       "            popup_0e4e4d4e53fcd023cb1095ee482416a8.setContent(html_6b50071aa446128b5ec38a9e9e01eb96);\n",
       "        \n",
       "\n",
       "        marker_b4c2a5238f170de42ee832dcd77ff4f7.bindPopup(popup_0e4e4d4e53fcd023cb1095ee482416a8)\n",
       "        ;\n",
       "\n",
       "        \n",
       "    \n",
       "    \n",
       "            marker_b4c2a5238f170de42ee832dcd77ff4f7.bindTooltip(\n",
       "                `&lt;div&gt;\n",
       "                     [&#x27;Bay &amp; College &#x27;, &#x27;Sales: &#x27;, &#x27;$24.5M&#x27;, &#x27;Rank: &#x27;, 48]\n",
       "                 &lt;/div&gt;`,\n",
       "                {&quot;sticky&quot;: true}\n",
       "            );\n",
       "        \n",
       "    \n",
       "            var marker_361c7a0e628f83a5f04a0c61c43bd8ec = L.marker(\n",
       "                [43.6682433, -79.3972205],\n",
       "                {}\n",
       "            ).addTo(map_8e839c7520ebbc49fd95813c8ca1e21a);\n",
       "        \n",
       "    \n",
       "            var icon_ac9261dcec7ccb0c0b01bab7da778235 = L.AwesomeMarkers.icon(\n",
       "                {&quot;extraClasses&quot;: &quot;fa-rotate-0&quot;, &quot;icon&quot;: &quot;fa-circle&quot;, &quot;iconColor&quot;: &quot;white&quot;, &quot;markerColor&quot;: &quot;blue&quot;, &quot;prefix&quot;: &quot;fa&quot;}\n",
       "            );\n",
       "            marker_361c7a0e628f83a5f04a0c61c43bd8ec.setIcon(icon_ac9261dcec7ccb0c0b01bab7da778235);\n",
       "        \n",
       "    \n",
       "        var popup_324214378d3d515e7e13541a402810d2 = L.popup({&quot;maxWidth&quot;: &quot;100%&quot;});\n",
       "\n",
       "        \n",
       "            var html_08041758850aa6309a452ddbd8cfa27d = $(`&lt;div id=&quot;html_08041758850aa6309a452ddbd8cfa27d&quot; style=&quot;width: 100.0%; height: 100.0%;&quot;&gt;[&#x27;Bedford &amp; Bloor &#x27;]&lt;/div&gt;`)[0];\n",
       "            popup_324214378d3d515e7e13541a402810d2.setContent(html_08041758850aa6309a452ddbd8cfa27d);\n",
       "        \n",
       "\n",
       "        marker_361c7a0e628f83a5f04a0c61c43bd8ec.bindPopup(popup_324214378d3d515e7e13541a402810d2)\n",
       "        ;\n",
       "\n",
       "        \n",
       "    \n",
       "    \n",
       "            marker_361c7a0e628f83a5f04a0c61c43bd8ec.bindTooltip(\n",
       "                `&lt;div&gt;\n",
       "                     [&#x27;Bedford &amp; Bloor &#x27;, &#x27;Sales: &#x27;, &#x27;$36.0M&#x27;, &#x27;Rank: &#x27;, 41]\n",
       "                 &lt;/div&gt;`,\n",
       "                {&quot;sticky&quot;: true}\n",
       "            );\n",
       "        \n",
       "    \n",
       "            var marker_4c7dfbf6829c5555ecc63294396ae6d8 = L.marker(\n",
       "                [43.6697574, -79.3884078],\n",
       "                {}\n",
       "            ).addTo(map_8e839c7520ebbc49fd95813c8ca1e21a);\n",
       "        \n",
       "    \n",
       "            var icon_f3a80b216c2a539e226ad4d245b7fe72 = L.AwesomeMarkers.icon(\n",
       "                {&quot;extraClasses&quot;: &quot;fa-rotate-0&quot;, &quot;icon&quot;: &quot;star&quot;, &quot;iconColor&quot;: &quot;white&quot;, &quot;markerColor&quot;: &quot;pink&quot;, &quot;prefix&quot;: &quot;fa&quot;}\n",
       "            );\n",
       "            marker_4c7dfbf6829c5555ecc63294396ae6d8.setIcon(icon_f3a80b216c2a539e226ad4d245b7fe72);\n",
       "        \n",
       "    \n",
       "        var popup_246269a006c144b4d60d7a27a6fbd495 = L.popup({&quot;maxWidth&quot;: &quot;100%&quot;});\n",
       "\n",
       "        \n",
       "            var html_d6504dc8214a40db51b10d07277fa315 = $(`&lt;div id=&quot;html_d6504dc8214a40db51b10d07277fa315&quot; style=&quot;width: 100.0%; height: 100.0%;&quot;&gt;[&#x27;Bloor &amp; Bay (Manulife Centre) &#x27;]&lt;/div&gt;`)[0];\n",
       "            popup_246269a006c144b4d60d7a27a6fbd495.setContent(html_d6504dc8214a40db51b10d07277fa315);\n",
       "        \n",
       "\n",
       "        marker_4c7dfbf6829c5555ecc63294396ae6d8.bindPopup(popup_246269a006c144b4d60d7a27a6fbd495)\n",
       "        ;\n",
       "\n",
       "        \n",
       "    \n",
       "    \n",
       "            marker_4c7dfbf6829c5555ecc63294396ae6d8.bindTooltip(\n",
       "                `&lt;div&gt;\n",
       "                     [&#x27;Bloor &amp; Bay (Manulife Centre) &#x27;, &#x27;Sales: &#x27;, &#x27;$75.9M&#x27;, &#x27;Rank: &#x27;, 4]\n",
       "                 &lt;/div&gt;`,\n",
       "                {&quot;sticky&quot;: true}\n",
       "            );\n",
       "        \n",
       "    \n",
       "            var marker_859075ea51d74acd8a8bc5022224862d = L.marker(\n",
       "                [43.6705993, -79.3851527],\n",
       "                {}\n",
       "            ).addTo(map_8e839c7520ebbc49fd95813c8ca1e21a);\n",
       "        \n",
       "    \n",
       "            var icon_88bef05245af553df533508cb028f315 = L.AwesomeMarkers.icon(\n",
       "                {&quot;extraClasses&quot;: &quot;fa-rotate-0&quot;, &quot;icon&quot;: &quot;fa-circle&quot;, &quot;iconColor&quot;: &quot;white&quot;, &quot;markerColor&quot;: &quot;blue&quot;, &quot;prefix&quot;: &quot;fa&quot;}\n",
       "            );\n",
       "            marker_859075ea51d74acd8a8bc5022224862d.setIcon(icon_88bef05245af553df533508cb028f315);\n",
       "        \n",
       "    \n",
       "        var popup_9297d573812767317185941351557c4b = L.popup({&quot;maxWidth&quot;: &quot;100%&quot;});\n",
       "\n",
       "        \n",
       "            var html_24cc78ea9d3d89b63a05fc903c611068 = $(`&lt;div id=&quot;html_24cc78ea9d3d89b63a05fc903c611068&quot; style=&quot;width: 100.0%; height: 100.0%;&quot;&gt;[&#x27;Bloor &amp; Church &#x27;]&lt;/div&gt;`)[0];\n",
       "            popup_9297d573812767317185941351557c4b.setContent(html_24cc78ea9d3d89b63a05fc903c611068);\n",
       "        \n",
       "\n",
       "        marker_859075ea51d74acd8a8bc5022224862d.bindPopup(popup_9297d573812767317185941351557c4b)\n",
       "        ;\n",
       "\n",
       "        \n",
       "    \n",
       "    \n",
       "            marker_859075ea51d74acd8a8bc5022224862d.bindTooltip(\n",
       "                `&lt;div&gt;\n",
       "                     [&#x27;Bloor &amp; Church &#x27;, &#x27;Sales: &#x27;, &#x27;$46.6M&#x27;, &#x27;Rank: &#x27;, 28]\n",
       "                 &lt;/div&gt;`,\n",
       "                {&quot;sticky&quot;: true}\n",
       "            );\n",
       "        \n",
       "    \n",
       "            var marker_d95b7bdccedf5d097eec12c6661dce73 = L.marker(\n",
       "                [43.6644298, -79.4150057],\n",
       "                {}\n",
       "            ).addTo(map_8e839c7520ebbc49fd95813c8ca1e21a);\n",
       "        \n",
       "    \n",
       "            var icon_de8c7e83267156ab92d01b9246dc3dbe = L.AwesomeMarkers.icon(\n",
       "                {&quot;extraClasses&quot;: &quot;fa-rotate-0&quot;, &quot;icon&quot;: &quot;fa-circle&quot;, &quot;iconColor&quot;: &quot;white&quot;, &quot;markerColor&quot;: &quot;blue&quot;, &quot;prefix&quot;: &quot;fa&quot;}\n",
       "            );\n",
       "            marker_d95b7bdccedf5d097eec12c6661dce73.setIcon(icon_de8c7e83267156ab92d01b9246dc3dbe);\n",
       "        \n",
       "    \n",
       "        var popup_da6635bf3017d82abaef5e66249c8ba3 = L.popup({&quot;maxWidth&quot;: &quot;100%&quot;});\n",
       "\n",
       "        \n",
       "            var html_7385f8922b6c0a3f0b49b0207ec70b28 = $(`&lt;div id=&quot;html_7385f8922b6c0a3f0b49b0207ec70b28&quot; style=&quot;width: 100.0%; height: 100.0%;&quot;&gt;[&#x27;Bloor &amp; Euclid &#x27;]&lt;/div&gt;`)[0];\n",
       "            popup_da6635bf3017d82abaef5e66249c8ba3.setContent(html_7385f8922b6c0a3f0b49b0207ec70b28);\n",
       "        \n",
       "\n",
       "        marker_d95b7bdccedf5d097eec12c6661dce73.bindPopup(popup_da6635bf3017d82abaef5e66249c8ba3)\n",
       "        ;\n",
       "\n",
       "        \n",
       "    \n",
       "    \n",
       "            marker_d95b7bdccedf5d097eec12c6661dce73.bindTooltip(\n",
       "                `&lt;div&gt;\n",
       "                     [&#x27;Bloor &amp; Euclid &#x27;, &#x27;Sales: &#x27;, &#x27;$47.6M&#x27;, &#x27;Rank: &#x27;, 25]\n",
       "                 &lt;/div&gt;`,\n",
       "                {&quot;sticky&quot;: true}\n",
       "            );\n",
       "        \n",
       "    \n",
       "            var marker_9bbc901562edcdb8ee125235383282ed = L.marker(\n",
       "                [43.6581787, -79.4430078],\n",
       "                {}\n",
       "            ).addTo(map_8e839c7520ebbc49fd95813c8ca1e21a);\n",
       "        \n",
       "    \n",
       "            var icon_d85405dd0f31f0ff11fcd0701ead0f0b = L.AwesomeMarkers.icon(\n",
       "                {&quot;extraClasses&quot;: &quot;fa-rotate-0&quot;, &quot;icon&quot;: &quot;fa-circle&quot;, &quot;iconColor&quot;: &quot;white&quot;, &quot;markerColor&quot;: &quot;blue&quot;, &quot;prefix&quot;: &quot;fa&quot;}\n",
       "            );\n",
       "            marker_9bbc901562edcdb8ee125235383282ed.setIcon(icon_d85405dd0f31f0ff11fcd0701ead0f0b);\n",
       "        \n",
       "    \n",
       "        var popup_695768ade6fbc579536a31f5d96d184b = L.popup({&quot;maxWidth&quot;: &quot;100%&quot;});\n",
       "\n",
       "        \n",
       "            var html_c52a82c72ca93cdda20931cc09fbd969 = $(`&lt;div id=&quot;html_c52a82c72ca93cdda20931cc09fbd969&quot; style=&quot;width: 100.0%; height: 100.0%;&quot;&gt;[&#x27;Bloor &amp; Lansdowne &#x27;]&lt;/div&gt;`)[0];\n",
       "            popup_695768ade6fbc579536a31f5d96d184b.setContent(html_c52a82c72ca93cdda20931cc09fbd969);\n",
       "        \n",
       "\n",
       "        marker_9bbc901562edcdb8ee125235383282ed.bindPopup(popup_695768ade6fbc579536a31f5d96d184b)\n",
       "        ;\n",
       "\n",
       "        \n",
       "    \n",
       "    \n",
       "            marker_9bbc901562edcdb8ee125235383282ed.bindTooltip(\n",
       "                `&lt;div&gt;\n",
       "                     [&#x27;Bloor &amp; Lansdowne &#x27;, &#x27;Sales: &#x27;, &#x27;$60.9M&#x27;, &#x27;Rank: &#x27;, 13]\n",
       "                 &lt;/div&gt;`,\n",
       "                {&quot;sticky&quot;: true}\n",
       "            );\n",
       "        \n",
       "    \n",
       "            var marker_6a2830f91c3efc4faa23d6e8cb3ea383 = L.marker(\n",
       "                [43.6503786, -79.4806298],\n",
       "                {}\n",
       "            ).addTo(map_8e839c7520ebbc49fd95813c8ca1e21a);\n",
       "        \n",
       "    \n",
       "            var icon_4df8ed2a7235c0ffb31e699d2dc89941 = L.AwesomeMarkers.icon(\n",
       "                {&quot;extraClasses&quot;: &quot;fa-rotate-0&quot;, &quot;icon&quot;: &quot;fa-circle&quot;, &quot;iconColor&quot;: &quot;white&quot;, &quot;markerColor&quot;: &quot;blue&quot;, &quot;prefix&quot;: &quot;fa&quot;}\n",
       "            );\n",
       "            marker_6a2830f91c3efc4faa23d6e8cb3ea383.setIcon(icon_4df8ed2a7235c0ffb31e699d2dc89941);\n",
       "        \n",
       "    \n",
       "        var popup_32baa2a4bf5d7fe9e35946b8ee66b600 = L.popup({&quot;maxWidth&quot;: &quot;100%&quot;});\n",
       "\n",
       "        \n",
       "            var html_e93cc7f4966b4a4b6a5ef224bdeda1f2 = $(`&lt;div id=&quot;html_e93cc7f4966b4a4b6a5ef224bdeda1f2&quot; style=&quot;width: 100.0%; height: 100.0%;&quot;&gt;[&#x27;Bloor &amp; Windermere &#x27;]&lt;/div&gt;`)[0];\n",
       "            popup_32baa2a4bf5d7fe9e35946b8ee66b600.setContent(html_e93cc7f4966b4a4b6a5ef224bdeda1f2);\n",
       "        \n",
       "\n",
       "        marker_6a2830f91c3efc4faa23d6e8cb3ea383.bindPopup(popup_32baa2a4bf5d7fe9e35946b8ee66b600)\n",
       "        ;\n",
       "\n",
       "        \n",
       "    \n",
       "    \n",
       "            marker_6a2830f91c3efc4faa23d6e8cb3ea383.bindTooltip(\n",
       "                `&lt;div&gt;\n",
       "                     [&#x27;Bloor &amp; Windermere &#x27;, &#x27;Sales: &#x27;, &#x27;$59.3M&#x27;, &#x27;Rank: &#x27;, 17]\n",
       "                 &lt;/div&gt;`,\n",
       "                {&quot;sticky&quot;: true}\n",
       "            );\n",
       "        \n",
       "    \n",
       "            var marker_dbca80c26df89a5dae830e5f4cdb4781 = L.marker(\n",
       "                [43.7993039, -79.3172414],\n",
       "                {}\n",
       "            ).addTo(map_8e839c7520ebbc49fd95813c8ca1e21a);\n",
       "        \n",
       "    \n",
       "            var icon_ac9f794975542a98dccc1400874086c1 = L.AwesomeMarkers.icon(\n",
       "                {&quot;extraClasses&quot;: &quot;fa-rotate-0&quot;, &quot;icon&quot;: &quot;fa-circle&quot;, &quot;iconColor&quot;: &quot;white&quot;, &quot;markerColor&quot;: &quot;blue&quot;, &quot;prefix&quot;: &quot;fa&quot;}\n",
       "            );\n",
       "            marker_dbca80c26df89a5dae830e5f4cdb4781.setIcon(icon_ac9f794975542a98dccc1400874086c1);\n",
       "        \n",
       "    \n",
       "        var popup_ab7e3293d774ffab58eca4f867732aad = L.popup({&quot;maxWidth&quot;: &quot;100%&quot;});\n",
       "\n",
       "        \n",
       "            var html_feca1644ddd820934f342ef541b1bdc0 = $(`&lt;div id=&quot;html_feca1644ddd820934f342ef541b1bdc0&quot; style=&quot;width: 100.0%; height: 100.0%;&quot;&gt;[&#x27;Bridlewood Mall Branch &#x27;]&lt;/div&gt;`)[0];\n",
       "            popup_ab7e3293d774ffab58eca4f867732aad.setContent(html_feca1644ddd820934f342ef541b1bdc0);\n",
       "        \n",
       "\n",
       "        marker_dbca80c26df89a5dae830e5f4cdb4781.bindPopup(popup_ab7e3293d774ffab58eca4f867732aad)\n",
       "        ;\n",
       "\n",
       "        \n",
       "    \n",
       "    \n",
       "            marker_dbca80c26df89a5dae830e5f4cdb4781.bindTooltip(\n",
       "                `&lt;div&gt;\n",
       "                     [&#x27;Bridlewood Mall Branch &#x27;, &#x27;Sales: &#x27;, &#x27;$64.8M&#x27;, &#x27;Rank: &#x27;, 11]\n",
       "                 &lt;/div&gt;`,\n",
       "                {&quot;sticky&quot;: true}\n",
       "            );\n",
       "        \n",
       "    \n",
       "            var marker_2603052e55df1439cf2facf7cf129f31 = L.marker(\n",
       "                [43.795991854639176, -79.41972642474227],\n",
       "                {}\n",
       "            ).addTo(map_8e839c7520ebbc49fd95813c8ca1e21a);\n",
       "        \n",
       "    \n",
       "            var icon_e4394011da024d56d196dd36157e84e9 = L.AwesomeMarkers.icon(\n",
       "                {&quot;extraClasses&quot;: &quot;fa-rotate-0&quot;, &quot;icon&quot;: &quot;fa-circle&quot;, &quot;iconColor&quot;: &quot;white&quot;, &quot;markerColor&quot;: &quot;blue&quot;, &quot;prefix&quot;: &quot;fa&quot;}\n",
       "            );\n",
       "            marker_2603052e55df1439cf2facf7cf129f31.setIcon(icon_e4394011da024d56d196dd36157e84e9);\n",
       "        \n",
       "    \n",
       "        var popup_849feccc52aaac31931563493a65e87f = L.popup({&quot;maxWidth&quot;: &quot;100%&quot;});\n",
       "\n",
       "        \n",
       "            var html_6f667f433110a8ac7ee586c34914a4f0 = $(`&lt;div id=&quot;html_6f667f433110a8ac7ee586c34914a4f0&quot; style=&quot;width: 100.0%; height: 100.0%;&quot;&gt;[&#x27;Centerpoint Mall &#x27;]&lt;/div&gt;`)[0];\n",
       "            popup_849feccc52aaac31931563493a65e87f.setContent(html_6f667f433110a8ac7ee586c34914a4f0);\n",
       "        \n",
       "\n",
       "        marker_2603052e55df1439cf2facf7cf129f31.bindPopup(popup_849feccc52aaac31931563493a65e87f)\n",
       "        ;\n",
       "\n",
       "        \n",
       "    \n",
       "    \n",
       "            marker_2603052e55df1439cf2facf7cf129f31.bindTooltip(\n",
       "                `&lt;div&gt;\n",
       "                     [&#x27;Centerpoint Mall &#x27;, &#x27;Sales: &#x27;, &#x27;$46.6M&#x27;, &#x27;Rank: &#x27;, 29]\n",
       "                 &lt;/div&gt;`,\n",
       "                {&quot;sticky&quot;: true}\n",
       "            );\n",
       "        \n",
       "    \n",
       "            var marker_d94458353303e3b6b61b1cccded4f1f4 = L.marker(\n",
       "                [43.66384671428571, -79.38029878571429],\n",
       "                {}\n",
       "            ).addTo(map_8e839c7520ebbc49fd95813c8ca1e21a);\n",
       "        \n",
       "    \n",
       "            var icon_8b34b6a8d59a0a76462cbcd329f1e76f = L.AwesomeMarkers.icon(\n",
       "                {&quot;extraClasses&quot;: &quot;fa-rotate-0&quot;, &quot;icon&quot;: &quot;fa-circle&quot;, &quot;iconColor&quot;: &quot;white&quot;, &quot;markerColor&quot;: &quot;blue&quot;, &quot;prefix&quot;: &quot;fa&quot;}\n",
       "            );\n",
       "            marker_d94458353303e3b6b61b1cccded4f1f4.setIcon(icon_8b34b6a8d59a0a76462cbcd329f1e76f);\n",
       "        \n",
       "    \n",
       "        var popup_5e3382a8f536dce11bb1d350faa8e01f = L.popup({&quot;maxWidth&quot;: &quot;100%&quot;});\n",
       "\n",
       "        \n",
       "            var html_d844d17218dd7212a928a8207b792325 = $(`&lt;div id=&quot;html_d844d17218dd7212a928a8207b792325&quot; style=&quot;width: 100.0%; height: 100.0%;&quot;&gt;[&#x27;Church &amp; Alexander &#x27;]&lt;/div&gt;`)[0];\n",
       "            popup_5e3382a8f536dce11bb1d350faa8e01f.setContent(html_d844d17218dd7212a928a8207b792325);\n",
       "        \n",
       "\n",
       "        marker_d94458353303e3b6b61b1cccded4f1f4.bindPopup(popup_5e3382a8f536dce11bb1d350faa8e01f)\n",
       "        ;\n",
       "\n",
       "        \n",
       "    \n",
       "    \n",
       "            marker_d94458353303e3b6b61b1cccded4f1f4.bindTooltip(\n",
       "                `&lt;div&gt;\n",
       "                     [&#x27;Church &amp; Alexander &#x27;, &#x27;Sales: &#x27;, &#x27;$59.9M&#x27;, &#x27;Rank: &#x27;, 14]\n",
       "                 &lt;/div&gt;`,\n",
       "                {&quot;sticky&quot;: true}\n",
       "            );\n",
       "        \n",
       "    \n",
       "            var marker_11576c2785039881742727d53c72967f = L.marker(\n",
       "                [43.6403402, -79.3947822],\n",
       "                {}\n",
       "            ).addTo(map_8e839c7520ebbc49fd95813c8ca1e21a);\n",
       "        \n",
       "    \n",
       "            var icon_7d5cd6f2aa15afd46002dfbac0e42983 = L.AwesomeMarkers.icon(\n",
       "                {&quot;extraClasses&quot;: &quot;fa-rotate-0&quot;, &quot;icon&quot;: &quot;fa-circle&quot;, &quot;iconColor&quot;: &quot;white&quot;, &quot;markerColor&quot;: &quot;blue&quot;, &quot;prefix&quot;: &quot;fa&quot;}\n",
       "            );\n",
       "            marker_11576c2785039881742727d53c72967f.setIcon(icon_7d5cd6f2aa15afd46002dfbac0e42983);\n",
       "        \n",
       "    \n",
       "        var popup_667e9facc38af345caa4bc5a33bf7f1d = L.popup({&quot;maxWidth&quot;: &quot;100%&quot;});\n",
       "\n",
       "        \n",
       "            var html_bc30782e1294d43fcec0bbd4e63b10a6 = $(`&lt;div id=&quot;html_bc30782e1294d43fcec0bbd4e63b10a6&quot; style=&quot;width: 100.0%; height: 100.0%;&quot;&gt;[&#x27;Cityplace &#x27;]&lt;/div&gt;`)[0];\n",
       "            popup_667e9facc38af345caa4bc5a33bf7f1d.setContent(html_bc30782e1294d43fcec0bbd4e63b10a6);\n",
       "        \n",
       "\n",
       "        marker_11576c2785039881742727d53c72967f.bindPopup(popup_667e9facc38af345caa4bc5a33bf7f1d)\n",
       "        ;\n",
       "\n",
       "        \n",
       "    \n",
       "    \n",
       "            marker_11576c2785039881742727d53c72967f.bindTooltip(\n",
       "                `&lt;div&gt;\n",
       "                     [&#x27;Cityplace &#x27;, &#x27;Sales: &#x27;, &#x27;$47.4M&#x27;, &#x27;Rank: &#x27;, 26]\n",
       "                 &lt;/div&gt;`,\n",
       "                {&quot;sticky&quot;: true}\n",
       "            );\n",
       "        \n",
       "    \n",
       "            var marker_676497b483dd11e6a4320180ebcc7041 = L.marker(\n",
       "                [43.6555594, -79.4128022],\n",
       "                {}\n",
       "            ).addTo(map_8e839c7520ebbc49fd95813c8ca1e21a);\n",
       "        \n",
       "    \n",
       "            var icon_caa362fd74bc6d77d4ac77936b8ce495 = L.AwesomeMarkers.icon(\n",
       "                {&quot;extraClasses&quot;: &quot;fa-rotate-0&quot;, &quot;icon&quot;: &quot;star&quot;, &quot;iconColor&quot;: &quot;white&quot;, &quot;markerColor&quot;: &quot;pink&quot;, &quot;prefix&quot;: &quot;fa&quot;}\n",
       "            );\n",
       "            marker_676497b483dd11e6a4320180ebcc7041.setIcon(icon_caa362fd74bc6d77d4ac77936b8ce495);\n",
       "        \n",
       "    \n",
       "        var popup_12179cbb5b9ffb6f1d7fb58a4ecdccec = L.popup({&quot;maxWidth&quot;: &quot;100%&quot;});\n",
       "\n",
       "        \n",
       "            var html_17c8e9f818ef66062f06da2e26f57ced = $(`&lt;div id=&quot;html_17c8e9f818ef66062f06da2e26f57ced&quot; style=&quot;width: 100.0%; height: 100.0%;&quot;&gt;[&#x27;College &amp; Manning &#x27;]&lt;/div&gt;`)[0];\n",
       "            popup_12179cbb5b9ffb6f1d7fb58a4ecdccec.setContent(html_17c8e9f818ef66062f06da2e26f57ced);\n",
       "        \n",
       "\n",
       "        marker_676497b483dd11e6a4320180ebcc7041.bindPopup(popup_12179cbb5b9ffb6f1d7fb58a4ecdccec)\n",
       "        ;\n",
       "\n",
       "        \n",
       "    \n",
       "    \n",
       "            marker_676497b483dd11e6a4320180ebcc7041.bindTooltip(\n",
       "                `&lt;div&gt;\n",
       "                     [&#x27;College &amp; Manning &#x27;, &#x27;Sales: &#x27;, &#x27;$78.8M&#x27;, &#x27;Rank: &#x27;, 2]\n",
       "                 &lt;/div&gt;`,\n",
       "                {&quot;sticky&quot;: true}\n",
       "            );\n",
       "        \n",
       "    \n",
       "            var marker_bac5f15d4a5e9fc026a00d2e2e3dc913 = L.marker(\n",
       "                [43.6783385, -79.3486094],\n",
       "                {}\n",
       "            ).addTo(map_8e839c7520ebbc49fd95813c8ca1e21a);\n",
       "        \n",
       "    \n",
       "            var icon_72560f771dc4df9e0f6d9de3875b1d60 = L.AwesomeMarkers.icon(\n",
       "                {&quot;extraClasses&quot;: &quot;fa-rotate-0&quot;, &quot;icon&quot;: &quot;fa-circle&quot;, &quot;iconColor&quot;: &quot;white&quot;, &quot;markerColor&quot;: &quot;blue&quot;, &quot;prefix&quot;: &quot;fa&quot;}\n",
       "            );\n",
       "            marker_bac5f15d4a5e9fc026a00d2e2e3dc913.setIcon(icon_72560f771dc4df9e0f6d9de3875b1d60);\n",
       "        \n",
       "    \n",
       "        var popup_d6b72c01dda4acd5fbe9ac6cb32fcbed = L.popup({&quot;maxWidth&quot;: &quot;100%&quot;});\n",
       "\n",
       "        \n",
       "            var html_338d0269c2286a3c58bc876cf09ff0d8 = $(`&lt;div id=&quot;html_338d0269c2286a3c58bc876cf09ff0d8&quot; style=&quot;width: 100.0%; height: 100.0%;&quot;&gt;[&#x27;Danforth &amp; Ferrier &#x27;]&lt;/div&gt;`)[0];\n",
       "            popup_d6b72c01dda4acd5fbe9ac6cb32fcbed.setContent(html_338d0269c2286a3c58bc876cf09ff0d8);\n",
       "        \n",
       "\n",
       "        marker_bac5f15d4a5e9fc026a00d2e2e3dc913.bindPopup(popup_d6b72c01dda4acd5fbe9ac6cb32fcbed)\n",
       "        ;\n",
       "\n",
       "        \n",
       "    \n",
       "    \n",
       "            marker_bac5f15d4a5e9fc026a00d2e2e3dc913.bindTooltip(\n",
       "                `&lt;div&gt;\n",
       "                     [&#x27;Danforth &amp; Ferrier &#x27;, &#x27;Sales: &#x27;, &#x27;$49.7M&#x27;, &#x27;Rank: &#x27;, 22]\n",
       "                 &lt;/div&gt;`,\n",
       "                {&quot;sticky&quot;: true}\n",
       "            );\n",
       "        \n",
       "    \n",
       "            var marker_ebda92f31c153ecf92e86829bd55e15e = L.marker(\n",
       "                [43.6856076, -79.3124907],\n",
       "                {}\n",
       "            ).addTo(map_8e839c7520ebbc49fd95813c8ca1e21a);\n",
       "        \n",
       "    \n",
       "            var icon_921a9c2e1f4cda79de58e73000d67ec0 = L.AwesomeMarkers.icon(\n",
       "                {&quot;extraClasses&quot;: &quot;fa-rotate-0&quot;, &quot;icon&quot;: &quot;fa-circle&quot;, &quot;iconColor&quot;: &quot;white&quot;, &quot;markerColor&quot;: &quot;blue&quot;, &quot;prefix&quot;: &quot;fa&quot;}\n",
       "            );\n",
       "            marker_ebda92f31c153ecf92e86829bd55e15e.setIcon(icon_921a9c2e1f4cda79de58e73000d67ec0);\n",
       "        \n",
       "    \n",
       "        var popup_180fd4e81c8ff6625adc638e7a479f25 = L.popup({&quot;maxWidth&quot;: &quot;100%&quot;});\n",
       "\n",
       "        \n",
       "            var html_0360f4c90b1e5c7e14740d8130dbed39 = $(`&lt;div id=&quot;html_0360f4c90b1e5c7e14740d8130dbed39&quot; style=&quot;width: 100.0%; height: 100.0%;&quot;&gt;[&#x27;Danforth &amp; Woodbine &#x27;]&lt;/div&gt;`)[0];\n",
       "            popup_180fd4e81c8ff6625adc638e7a479f25.setContent(html_0360f4c90b1e5c7e14740d8130dbed39);\n",
       "        \n",
       "\n",
       "        marker_ebda92f31c153ecf92e86829bd55e15e.bindPopup(popup_180fd4e81c8ff6625adc638e7a479f25)\n",
       "        ;\n",
       "\n",
       "        \n",
       "    \n",
       "    \n",
       "            marker_ebda92f31c153ecf92e86829bd55e15e.bindTooltip(\n",
       "                `&lt;div&gt;\n",
       "                     [&#x27;Danforth &amp; Woodbine &#x27;, &#x27;Sales: &#x27;, &#x27;$39.9M&#x27;, &#x27;Rank: &#x27;, 35]\n",
       "                 &lt;/div&gt;`,\n",
       "                {&quot;sticky&quot;: true}\n",
       "            );\n",
       "        \n",
       "    \n",
       "            var marker_7bb7c4a7ca56443087a374688d7e3723 = L.marker(\n",
       "                [43.65598005, -79.43572789418421],\n",
       "                {}\n",
       "            ).addTo(map_8e839c7520ebbc49fd95813c8ca1e21a);\n",
       "        \n",
       "    \n",
       "            var icon_fd551ec4f704f36fba4c8702f0867435 = L.AwesomeMarkers.icon(\n",
       "                {&quot;extraClasses&quot;: &quot;fa-rotate-0&quot;, &quot;icon&quot;: &quot;fa-circle&quot;, &quot;iconColor&quot;: &quot;white&quot;, &quot;markerColor&quot;: &quot;blue&quot;, &quot;prefix&quot;: &quot;fa&quot;}\n",
       "            );\n",
       "            marker_7bb7c4a7ca56443087a374688d7e3723.setIcon(icon_fd551ec4f704f36fba4c8702f0867435);\n",
       "        \n",
       "    \n",
       "        var popup_9cce311a6ad68c57cfb8a107dc37e4cd = L.popup({&quot;maxWidth&quot;: &quot;100%&quot;});\n",
       "\n",
       "        \n",
       "            var html_fd83160ad7ecdffee5d753d9fc2176f3 = $(`&lt;div id=&quot;html_fd83160ad7ecdffee5d753d9fc2176f3&quot; style=&quot;width: 100.0%; height: 100.0%;&quot;&gt;[&#x27;Dufferin Mall &#x27;]&lt;/div&gt;`)[0];\n",
       "            popup_9cce311a6ad68c57cfb8a107dc37e4cd.setContent(html_fd83160ad7ecdffee5d753d9fc2176f3);\n",
       "        \n",
       "\n",
       "        marker_7bb7c4a7ca56443087a374688d7e3723.bindPopup(popup_9cce311a6ad68c57cfb8a107dc37e4cd)\n",
       "        ;\n",
       "\n",
       "        \n",
       "    \n",
       "    \n",
       "            marker_7bb7c4a7ca56443087a374688d7e3723.bindTooltip(\n",
       "                `&lt;div&gt;\n",
       "                     [&#x27;Dufferin Mall &#x27;, &#x27;Sales: &#x27;, &#x27;$67.6M&#x27;, &#x27;Rank: &#x27;, 9]\n",
       "                 &lt;/div&gt;`,\n",
       "                {&quot;sticky&quot;: true}\n",
       "            );\n",
       "        \n",
       "    \n",
       "            var marker_3e003b0aafd84dd74062a7e89f2ebc8b = L.marker(\n",
       "                [43.665271000000004, -79.46480337333334],\n",
       "                {}\n",
       "            ).addTo(map_8e839c7520ebbc49fd95813c8ca1e21a);\n",
       "        \n",
       "    \n",
       "            var icon_e2ba5eb4bfb666bd1577daca20e21b9d = L.AwesomeMarkers.icon(\n",
       "                {&quot;extraClasses&quot;: &quot;fa-rotate-0&quot;, &quot;icon&quot;: &quot;fa-circle&quot;, &quot;iconColor&quot;: &quot;white&quot;, &quot;markerColor&quot;: &quot;blue&quot;, &quot;prefix&quot;: &quot;fa&quot;}\n",
       "            );\n",
       "            marker_3e003b0aafd84dd74062a7e89f2ebc8b.setIcon(icon_e2ba5eb4bfb666bd1577daca20e21b9d);\n",
       "        \n",
       "    \n",
       "        var popup_ce19597fe6c2a4f9fac87cd1e4cd3457 = L.popup({&quot;maxWidth&quot;: &quot;100%&quot;});\n",
       "\n",
       "        \n",
       "            var html_a382c64c0f642cf4bef03d61bc5daaf0 = $(`&lt;div id=&quot;html_a382c64c0f642cf4bef03d61bc5daaf0&quot; style=&quot;width: 100.0%; height: 100.0%;&quot;&gt;[&#x27;Dundas &amp; Keele &#x27;]&lt;/div&gt;`)[0];\n",
       "            popup_ce19597fe6c2a4f9fac87cd1e4cd3457.setContent(html_a382c64c0f642cf4bef03d61bc5daaf0);\n",
       "        \n",
       "\n",
       "        marker_3e003b0aafd84dd74062a7e89f2ebc8b.bindPopup(popup_ce19597fe6c2a4f9fac87cd1e4cd3457)\n",
       "        ;\n",
       "\n",
       "        \n",
       "    \n",
       "    \n",
       "            marker_3e003b0aafd84dd74062a7e89f2ebc8b.bindTooltip(\n",
       "                `&lt;div&gt;\n",
       "                     [&#x27;Dundas &amp; Keele &#x27;, &#x27;Sales: &#x27;, &#x27;$68.0M&#x27;, &#x27;Rank: &#x27;, 8]\n",
       "                 &lt;/div&gt;`,\n",
       "                {&quot;sticky&quot;: true}\n",
       "            );\n",
       "        \n",
       "    \n",
       "            var marker_d1adb362a7e7442f3adc47ee101261e7 = L.marker(\n",
       "                [43.649652, -79.4197417],\n",
       "                {}\n",
       "            ).addTo(map_8e839c7520ebbc49fd95813c8ca1e21a);\n",
       "        \n",
       "    \n",
       "            var icon_975753d32b8c203c5a0356c258cdb7d7 = L.AwesomeMarkers.icon(\n",
       "                {&quot;extraClasses&quot;: &quot;fa-rotate-0&quot;, &quot;icon&quot;: &quot;star&quot;, &quot;iconColor&quot;: &quot;white&quot;, &quot;markerColor&quot;: &quot;pink&quot;, &quot;prefix&quot;: &quot;fa&quot;}\n",
       "            );\n",
       "            marker_d1adb362a7e7442f3adc47ee101261e7.setIcon(icon_975753d32b8c203c5a0356c258cdb7d7);\n",
       "        \n",
       "    \n",
       "        var popup_002b6e4340314948f213277d38f537ab = L.popup({&quot;maxWidth&quot;: &quot;100%&quot;});\n",
       "\n",
       "        \n",
       "            var html_bbd24863e73ec44ec58378e716a8d968 = $(`&lt;div id=&quot;html_bbd24863e73ec44ec58378e716a8d968&quot; style=&quot;width: 100.0%; height: 100.0%;&quot;&gt;[&#x27;Dundas &amp; Ossington &#x27;]&lt;/div&gt;`)[0];\n",
       "            popup_002b6e4340314948f213277d38f537ab.setContent(html_bbd24863e73ec44ec58378e716a8d968);\n",
       "        \n",
       "\n",
       "        marker_d1adb362a7e7442f3adc47ee101261e7.bindPopup(popup_002b6e4340314948f213277d38f537ab)\n",
       "        ;\n",
       "\n",
       "        \n",
       "    \n",
       "    \n",
       "            marker_d1adb362a7e7442f3adc47ee101261e7.bindTooltip(\n",
       "                `&lt;div&gt;\n",
       "                     [&#x27;Dundas &amp; Ossington &#x27;, &#x27;Sales: &#x27;, &#x27;$78.7M&#x27;, &#x27;Rank: &#x27;, 3]\n",
       "                 &lt;/div&gt;`,\n",
       "                {&quot;sticky&quot;: true}\n",
       "            );\n",
       "        \n",
       "    \n",
       "            var marker_b2a32b6e7fa2baafee34695697a5926f = L.marker(\n",
       "                [43.6534544, -79.3979581],\n",
       "                {}\n",
       "            ).addTo(map_8e839c7520ebbc49fd95813c8ca1e21a);\n",
       "        \n",
       "    \n",
       "            var icon_255f339f31b7362d519a1a4dbc25f78b = L.AwesomeMarkers.icon(\n",
       "                {&quot;extraClasses&quot;: &quot;fa-rotate-0&quot;, &quot;icon&quot;: &quot;fa-circle&quot;, &quot;iconColor&quot;: &quot;white&quot;, &quot;markerColor&quot;: &quot;blue&quot;, &quot;prefix&quot;: &quot;fa&quot;}\n",
       "            );\n",
       "            marker_b2a32b6e7fa2baafee34695697a5926f.setIcon(icon_255f339f31b7362d519a1a4dbc25f78b);\n",
       "        \n",
       "    \n",
       "        var popup_c6bcac03530b978d98175a0d01b7eecd = L.popup({&quot;maxWidth&quot;: &quot;100%&quot;});\n",
       "\n",
       "        \n",
       "            var html_8a3e70a16667041141263f2cf3367b35 = $(`&lt;div id=&quot;html_8a3e70a16667041141263f2cf3367b35&quot; style=&quot;width: 100.0%; height: 100.0%;&quot;&gt;[&#x27;Dundas &amp; Spadina (New Chinatown) &#x27;]&lt;/div&gt;`)[0];\n",
       "            popup_c6bcac03530b978d98175a0d01b7eecd.setContent(html_8a3e70a16667041141263f2cf3367b35);\n",
       "        \n",
       "\n",
       "        marker_b2a32b6e7fa2baafee34695697a5926f.bindPopup(popup_c6bcac03530b978d98175a0d01b7eecd)\n",
       "        ;\n",
       "\n",
       "        \n",
       "    \n",
       "    \n",
       "            marker_b2a32b6e7fa2baafee34695697a5926f.bindTooltip(\n",
       "                `&lt;div&gt;\n",
       "                     [&#x27;Dundas &amp; Spadina (New Chinatown) &#x27;, &#x27;Sales: &#x27;, &#x27;$39.9M&#x27;, &#x27;Rank: &#x27;, 35]\n",
       "                 &lt;/div&gt;`,\n",
       "                {&quot;sticky&quot;: true}\n",
       "            );\n",
       "        \n",
       "    \n",
       "            var marker_e147cc60db64d552a8ce65d0764e584f = L.marker(\n",
       "                [43.6687639, -79.4372772],\n",
       "                {}\n",
       "            ).addTo(map_8e839c7520ebbc49fd95813c8ca1e21a);\n",
       "        \n",
       "    \n",
       "            var icon_f0ead44bfcdc8c318cd0af64f75ef73b = L.AwesomeMarkers.icon(\n",
       "                {&quot;extraClasses&quot;: &quot;fa-rotate-0&quot;, &quot;icon&quot;: &quot;fa-circle&quot;, &quot;iconColor&quot;: &quot;white&quot;, &quot;markerColor&quot;: &quot;blue&quot;, &quot;prefix&quot;: &quot;fa&quot;}\n",
       "            );\n",
       "            marker_e147cc60db64d552a8ce65d0764e584f.setIcon(icon_f0ead44bfcdc8c318cd0af64f75ef73b);\n",
       "        \n",
       "    \n",
       "        var popup_72eb3274d859e2291450114c7ea31e56 = L.popup({&quot;maxWidth&quot;: &quot;100%&quot;});\n",
       "\n",
       "        \n",
       "            var html_24d5a1b380f64185686003bb970e1c58 = $(`&lt;div id=&quot;html_24d5a1b380f64185686003bb970e1c58&quot; style=&quot;width: 100.0%; height: 100.0%;&quot;&gt;[&#x27;Dupont &amp; Symington &#x27;]&lt;/div&gt;`)[0];\n",
       "            popup_72eb3274d859e2291450114c7ea31e56.setContent(html_24d5a1b380f64185686003bb970e1c58);\n",
       "        \n",
       "\n",
       "        marker_e147cc60db64d552a8ce65d0764e584f.bindPopup(popup_72eb3274d859e2291450114c7ea31e56)\n",
       "        ;\n",
       "\n",
       "        \n",
       "    \n",
       "    \n",
       "            marker_e147cc60db64d552a8ce65d0764e584f.bindTooltip(\n",
       "                `&lt;div&gt;\n",
       "                     [&#x27;Dupont &amp; Symington &#x27;, &#x27;Sales: &#x27;, &#x27;$54.4M&#x27;, &#x27;Rank: &#x27;, 21]\n",
       "                 &lt;/div&gt;`,\n",
       "                {&quot;sticky&quot;: true}\n",
       "            );\n",
       "        \n",
       "    \n",
       "            var marker_328b6b55ed6c20e98fd1eeb100de3995 = L.marker(\n",
       "                [43.6380551, -79.4190063],\n",
       "                {}\n",
       "            ).addTo(map_8e839c7520ebbc49fd95813c8ca1e21a);\n",
       "        \n",
       "    \n",
       "            var icon_7ca7a0109983648f90b203d6a1e52795 = L.AwesomeMarkers.icon(\n",
       "                {&quot;extraClasses&quot;: &quot;fa-rotate-0&quot;, &quot;icon&quot;: &quot;fa-circle&quot;, &quot;iconColor&quot;: &quot;white&quot;, &quot;markerColor&quot;: &quot;blue&quot;, &quot;prefix&quot;: &quot;fa&quot;}\n",
       "            );\n",
       "            marker_328b6b55ed6c20e98fd1eeb100de3995.setIcon(icon_7ca7a0109983648f90b203d6a1e52795);\n",
       "        \n",
       "    \n",
       "        var popup_16f38fdfb91646677d67d35773b923db = L.popup({&quot;maxWidth&quot;: &quot;100%&quot;});\n",
       "\n",
       "        \n",
       "            var html_cbbd0717ed4d0f70d6c369ab39c64cf8 = $(`&lt;div id=&quot;html_cbbd0717ed4d0f70d6c369ab39c64cf8&quot; style=&quot;width: 100.0%; height: 100.0%;&quot;&gt;[&#x27;East Liberty&amp; Hanna &#x27;]&lt;/div&gt;`)[0];\n",
       "            popup_16f38fdfb91646677d67d35773b923db.setContent(html_cbbd0717ed4d0f70d6c369ab39c64cf8);\n",
       "        \n",
       "\n",
       "        marker_328b6b55ed6c20e98fd1eeb100de3995.bindPopup(popup_16f38fdfb91646677d67d35773b923db)\n",
       "        ;\n",
       "\n",
       "        \n",
       "    \n",
       "    \n",
       "            marker_328b6b55ed6c20e98fd1eeb100de3995.bindTooltip(\n",
       "                `&lt;div&gt;\n",
       "                     [&#x27;East Liberty&amp; Hanna &#x27;, &#x27;Sales: &#x27;, &#x27;$37.2M&#x27;, &#x27;Rank: &#x27;, 38]\n",
       "                 &lt;/div&gt;`,\n",
       "                {&quot;sticky&quot;: true}\n",
       "            );\n",
       "        \n",
       "    \n",
       "            var marker_c19cfa020d395a0751a2653e305d6943 = L.marker(\n",
       "                [43.70565595, -79.34613324230222],\n",
       "                {}\n",
       "            ).addTo(map_8e839c7520ebbc49fd95813c8ca1e21a);\n",
       "        \n",
       "    \n",
       "            var icon_f1d2b05981620a6f1c54fc27fc8cd861 = L.AwesomeMarkers.icon(\n",
       "                {&quot;extraClasses&quot;: &quot;fa-rotate-0&quot;, &quot;icon&quot;: &quot;fa-circle&quot;, &quot;iconColor&quot;: &quot;white&quot;, &quot;markerColor&quot;: &quot;blue&quot;, &quot;prefix&quot;: &quot;fa&quot;}\n",
       "            );\n",
       "            marker_c19cfa020d395a0751a2653e305d6943.setIcon(icon_f1d2b05981620a6f1c54fc27fc8cd861);\n",
       "        \n",
       "    \n",
       "        var popup_07689ccfeaad4361172c9d923930faad = L.popup({&quot;maxWidth&quot;: &quot;100%&quot;});\n",
       "\n",
       "        \n",
       "            var html_e301993a4a57ddb124021e1d7a01cc62 = $(`&lt;div id=&quot;html_e301993a4a57ddb124021e1d7a01cc62&quot; style=&quot;width: 100.0%; height: 100.0%;&quot;&gt;[&#x27;East York Town Centre &#x27;]&lt;/div&gt;`)[0];\n",
       "            popup_07689ccfeaad4361172c9d923930faad.setContent(html_e301993a4a57ddb124021e1d7a01cc62);\n",
       "        \n",
       "\n",
       "        marker_c19cfa020d395a0751a2653e305d6943.bindPopup(popup_07689ccfeaad4361172c9d923930faad)\n",
       "        ;\n",
       "\n",
       "        \n",
       "    \n",
       "    \n",
       "            marker_c19cfa020d395a0751a2653e305d6943.bindTooltip(\n",
       "                `&lt;div&gt;\n",
       "                     [&#x27;East York Town Centre &#x27;, &#x27;Sales: &#x27;, &#x27;$67.6M&#x27;, &#x27;Rank: &#x27;, 10]\n",
       "                 &lt;/div&gt;`,\n",
       "                {&quot;sticky&quot;: true}\n",
       "            );\n",
       "        \n",
       "    \n",
       "            var marker_0613d1c0b21ffc5219fc7bd1a7d330b6 = L.marker(\n",
       "                [43.70384235, -79.411413075],\n",
       "                {}\n",
       "            ).addTo(map_8e839c7520ebbc49fd95813c8ca1e21a);\n",
       "        \n",
       "    \n",
       "            var icon_b4562b099e12ea61ca53395119479bb5 = L.AwesomeMarkers.icon(\n",
       "                {&quot;extraClasses&quot;: &quot;fa-rotate-0&quot;, &quot;icon&quot;: &quot;exclamation&quot;, &quot;iconColor&quot;: &quot;white&quot;, &quot;markerColor&quot;: &quot;red&quot;, &quot;prefix&quot;: &quot;fa&quot;}\n",
       "            );\n",
       "            marker_0613d1c0b21ffc5219fc7bd1a7d330b6.setIcon(icon_b4562b099e12ea61ca53395119479bb5);\n",
       "        \n",
       "    \n",
       "        var popup_b632223519584d7e97a9aa6a84d0d230 = L.popup({&quot;maxWidth&quot;: &quot;100%&quot;});\n",
       "\n",
       "        \n",
       "            var html_b4e326e4c05e322d1bc2587042dd341c = $(`&lt;div id=&quot;html_b4e326e4c05e322d1bc2587042dd341c&quot; style=&quot;width: 100.0%; height: 100.0%;&quot;&gt;[&#x27;Eglinton &amp; Elmsthorpe &#x27;]&lt;/div&gt;`)[0];\n",
       "            popup_b632223519584d7e97a9aa6a84d0d230.setContent(html_b4e326e4c05e322d1bc2587042dd341c);\n",
       "        \n",
       "\n",
       "        marker_0613d1c0b21ffc5219fc7bd1a7d330b6.bindPopup(popup_b632223519584d7e97a9aa6a84d0d230)\n",
       "        ;\n",
       "\n",
       "        \n",
       "    \n",
       "    \n",
       "            marker_0613d1c0b21ffc5219fc7bd1a7d330b6.bindTooltip(\n",
       "                `&lt;div&gt;\n",
       "                     [&#x27;Eglinton &amp; Elmsthorpe &#x27;, &#x27;Sales: &#x27;, &#x27;$15.2M&#x27;, &#x27;Rank: &#x27;, 50]\n",
       "                 &lt;/div&gt;`,\n",
       "                {&quot;sticky&quot;: true}\n",
       "            );\n",
       "        \n",
       "    \n",
       "            var marker_9d70da778c87f0d69c0e8c2b4028369c = L.marker(\n",
       "                [43.6951502, -79.452092],\n",
       "                {}\n",
       "            ).addTo(map_8e839c7520ebbc49fd95813c8ca1e21a);\n",
       "        \n",
       "    \n",
       "            var icon_d06866f16e9141494cf78b9be3b32e2d = L.AwesomeMarkers.icon(\n",
       "                {&quot;extraClasses&quot;: &quot;fa-rotate-0&quot;, &quot;icon&quot;: &quot;star&quot;, &quot;iconColor&quot;: &quot;white&quot;, &quot;markerColor&quot;: &quot;pink&quot;, &quot;prefix&quot;: &quot;fa&quot;}\n",
       "            );\n",
       "            marker_9d70da778c87f0d69c0e8c2b4028369c.setIcon(icon_d06866f16e9141494cf78b9be3b32e2d);\n",
       "        \n",
       "    \n",
       "        var popup_91d1c4da80a8ceda311c03196a404972 = L.popup({&quot;maxWidth&quot;: &quot;100%&quot;});\n",
       "\n",
       "        \n",
       "            var html_ced0fb3a5ef6436503881724575599c3 = $(`&lt;div id=&quot;html_ced0fb3a5ef6436503881724575599c3&quot; style=&quot;width: 100.0%; height: 100.0%;&quot;&gt;[&#x27;Fairbank &#x27;]&lt;/div&gt;`)[0];\n",
       "            popup_91d1c4da80a8ceda311c03196a404972.setContent(html_ced0fb3a5ef6436503881724575599c3);\n",
       "        \n",
       "\n",
       "        marker_9d70da778c87f0d69c0e8c2b4028369c.bindPopup(popup_91d1c4da80a8ceda311c03196a404972)\n",
       "        ;\n",
       "\n",
       "        \n",
       "    \n",
       "    \n",
       "            marker_9d70da778c87f0d69c0e8c2b4028369c.bindTooltip(\n",
       "                `&lt;div&gt;\n",
       "                     [&#x27;Fairbank &#x27;, &#x27;Sales: &#x27;, &#x27;$85.5M&#x27;, &#x27;Rank: &#x27;, 1]\n",
       "                 &lt;/div&gt;`,\n",
       "                {&quot;sticky&quot;: true}\n",
       "            );\n",
       "        \n",
       "    \n",
       "            var marker_225b92658ca82dca3d282ea02a43ad91 = L.marker(\n",
       "                [43.2573701, -79.87018714417678],\n",
       "                {}\n",
       "            ).addTo(map_8e839c7520ebbc49fd95813c8ca1e21a);\n",
       "        \n",
       "    \n",
       "            var icon_e7b32aa744a36a8f51d656143e379db9 = L.AwesomeMarkers.icon(\n",
       "                {&quot;extraClasses&quot;: &quot;fa-rotate-0&quot;, &quot;icon&quot;: &quot;fa-circle&quot;, &quot;iconColor&quot;: &quot;white&quot;, &quot;markerColor&quot;: &quot;blue&quot;, &quot;prefix&quot;: &quot;fa&quot;}\n",
       "            );\n",
       "            marker_225b92658ca82dca3d282ea02a43ad91.setIcon(icon_e7b32aa744a36a8f51d656143e379db9);\n",
       "        \n",
       "    \n",
       "        var popup_5dbf547228c22ed1fe43904de1864c3f = L.popup({&quot;maxWidth&quot;: &quot;100%&quot;});\n",
       "\n",
       "        \n",
       "            var html_90667acc5e3423075d976975b8f5c833 = $(`&lt;div id=&quot;html_90667acc5e3423075d976975b8f5c833&quot; style=&quot;width: 100.0%; height: 100.0%;&quot;&gt;[&#x27;First Canadian Place Branch - Main Floor &#x27;]&lt;/div&gt;`)[0];\n",
       "            popup_5dbf547228c22ed1fe43904de1864c3f.setContent(html_90667acc5e3423075d976975b8f5c833);\n",
       "        \n",
       "\n",
       "        marker_225b92658ca82dca3d282ea02a43ad91.bindPopup(popup_5dbf547228c22ed1fe43904de1864c3f)\n",
       "        ;\n",
       "\n",
       "        \n",
       "    \n",
       "    \n",
       "            marker_225b92658ca82dca3d282ea02a43ad91.bindTooltip(\n",
       "                `&lt;div&gt;\n",
       "                     [&#x27;First Canadian Place Branch - Main Floor &#x27;, &#x27;Sales: &#x27;, &#x27;$71.3M&#x27;, &#x27;Rank: &#x27;, 6]\n",
       "                 &lt;/div&gt;`,\n",
       "                {&quot;sticky&quot;: true}\n",
       "            );\n",
       "        \n",
       "    \n",
       "            var marker_332dd6ac7f880e69123b2228e016b530 = L.marker(\n",
       "                [43.689237985714286, -79.41272419285714],\n",
       "                {}\n",
       "            ).addTo(map_8e839c7520ebbc49fd95813c8ca1e21a);\n",
       "        \n",
       "    \n",
       "            var icon_97d3c35830f8e866982eaebd91c897f2 = L.AwesomeMarkers.icon(\n",
       "                {&quot;extraClasses&quot;: &quot;fa-rotate-0&quot;, &quot;icon&quot;: &quot;fa-circle&quot;, &quot;iconColor&quot;: &quot;white&quot;, &quot;markerColor&quot;: &quot;blue&quot;, &quot;prefix&quot;: &quot;fa&quot;}\n",
       "            );\n",
       "            marker_332dd6ac7f880e69123b2228e016b530.setIcon(icon_97d3c35830f8e866982eaebd91c897f2);\n",
       "        \n",
       "    \n",
       "        var popup_6822cc21897cf2a74bcd28cbbf01b317 = L.popup({&quot;maxWidth&quot;: &quot;100%&quot;});\n",
       "\n",
       "        \n",
       "            var html_bf115f88f6e78ceaff79fa1f49ca73cd = $(`&lt;div id=&quot;html_bf115f88f6e78ceaff79fa1f49ca73cd&quot; style=&quot;width: 100.0%; height: 100.0%;&quot;&gt;[&#x27;Forest Hill Village &#x27;]&lt;/div&gt;`)[0];\n",
       "            popup_6822cc21897cf2a74bcd28cbbf01b317.setContent(html_bf115f88f6e78ceaff79fa1f49ca73cd);\n",
       "        \n",
       "\n",
       "        marker_332dd6ac7f880e69123b2228e016b530.bindPopup(popup_6822cc21897cf2a74bcd28cbbf01b317)\n",
       "        ;\n",
       "\n",
       "        \n",
       "    \n",
       "    \n",
       "            marker_332dd6ac7f880e69123b2228e016b530.bindTooltip(\n",
       "                `&lt;div&gt;\n",
       "                     [&#x27;Forest Hill Village &#x27;, &#x27;Sales: &#x27;, &#x27;$41.6M&#x27;, &#x27;Rank: &#x27;, 33]\n",
       "                 &lt;/div&gt;`,\n",
       "                {&quot;sticky&quot;: true}\n",
       "            );\n",
       "        \n",
       "    \n",
       "            var marker_b60de65089b5e6ff0a703a2660f78479 = L.marker(\n",
       "                [42.9619189, -81.61479560000001],\n",
       "                {}\n",
       "            ).addTo(map_8e839c7520ebbc49fd95813c8ca1e21a);\n",
       "        \n",
       "    \n",
       "            var icon_72c586b46373169356a5dc2b31014384 = L.AwesomeMarkers.icon(\n",
       "                {&quot;extraClasses&quot;: &quot;fa-rotate-0&quot;, &quot;icon&quot;: &quot;fa-circle&quot;, &quot;iconColor&quot;: &quot;white&quot;, &quot;markerColor&quot;: &quot;blue&quot;, &quot;prefix&quot;: &quot;fa&quot;}\n",
       "            );\n",
       "            marker_b60de65089b5e6ff0a703a2660f78479.setIcon(icon_72c586b46373169356a5dc2b31014384);\n",
       "        \n",
       "    \n",
       "        var popup_469f0d6b096e50c9de4c2b90f123c236 = L.popup({&quot;maxWidth&quot;: &quot;100%&quot;});\n",
       "\n",
       "        \n",
       "            var html_ae8f2e701828581d09d16514e6caebde = $(`&lt;div id=&quot;html_ae8f2e701828581d09d16514e6caebde&quot; style=&quot;width: 100.0%; height: 100.0%;&quot;&gt;[&#x27;Front &amp; Berkeley &#x27;]&lt;/div&gt;`)[0];\n",
       "            popup_469f0d6b096e50c9de4c2b90f123c236.setContent(html_ae8f2e701828581d09d16514e6caebde);\n",
       "        \n",
       "\n",
       "        marker_b60de65089b5e6ff0a703a2660f78479.bindPopup(popup_469f0d6b096e50c9de4c2b90f123c236)\n",
       "        ;\n",
       "\n",
       "        \n",
       "    \n",
       "    \n",
       "            marker_b60de65089b5e6ff0a703a2660f78479.bindTooltip(\n",
       "                `&lt;div&gt;\n",
       "                     [&#x27;Front &amp; Berkeley &#x27;, &#x27;Sales: &#x27;, &#x27;$44.6M&#x27;, &#x27;Rank: &#x27;, 32]\n",
       "                 &lt;/div&gt;`,\n",
       "                {&quot;sticky&quot;: true}\n",
       "            );\n",
       "        \n",
       "    \n",
       "            var marker_6d315e9ac1d7d3a5f7e9b5cfdc5a6a42 = L.marker(\n",
       "                [44.0070067, -77.8808356],\n",
       "                {}\n",
       "            ).addTo(map_8e839c7520ebbc49fd95813c8ca1e21a);\n",
       "        \n",
       "    \n",
       "            var icon_f2b2f876c264d567ccf7bb9911ee2fc6 = L.AwesomeMarkers.icon(\n",
       "                {&quot;extraClasses&quot;: &quot;fa-rotate-0&quot;, &quot;icon&quot;: &quot;fa-circle&quot;, &quot;iconColor&quot;: &quot;white&quot;, &quot;markerColor&quot;: &quot;blue&quot;, &quot;prefix&quot;: &quot;fa&quot;}\n",
       "            );\n",
       "            marker_6d315e9ac1d7d3a5f7e9b5cfdc5a6a42.setIcon(icon_f2b2f876c264d567ccf7bb9911ee2fc6);\n",
       "        \n",
       "    \n",
       "        var popup_ba8a5ba6cc4eb5ee60f1aa49f87cb0a0 = L.popup({&quot;maxWidth&quot;: &quot;100%&quot;});\n",
       "\n",
       "        \n",
       "            var html_9d3390b9d7a8fbbe0c911740d2d1e0ad = $(`&lt;div id=&quot;html_9d3390b9d7a8fbbe0c911740d2d1e0ad&quot; style=&quot;width: 100.0%; height: 100.0%;&quot;&gt;[&#x27;King &amp; Church &#x27;]&lt;/div&gt;`)[0];\n",
       "            popup_ba8a5ba6cc4eb5ee60f1aa49f87cb0a0.setContent(html_9d3390b9d7a8fbbe0c911740d2d1e0ad);\n",
       "        \n",
       "\n",
       "        marker_6d315e9ac1d7d3a5f7e9b5cfdc5a6a42.bindPopup(popup_ba8a5ba6cc4eb5ee60f1aa49f87cb0a0)\n",
       "        ;\n",
       "\n",
       "        \n",
       "    \n",
       "    \n",
       "            marker_6d315e9ac1d7d3a5f7e9b5cfdc5a6a42.bindTooltip(\n",
       "                `&lt;div&gt;\n",
       "                     [&#x27;King &amp; Church &#x27;, &#x27;Sales: &#x27;, &#x27;$40.0M&#x27;, &#x27;Rank: &#x27;, 34]\n",
       "                 &lt;/div&gt;`,\n",
       "                {&quot;sticky&quot;: true}\n",
       "            );\n",
       "        \n",
       "    \n",
       "            var marker_55cc8e7a7886f17b3a07cfa32e3bac4a = L.marker(\n",
       "                [43.451622349999994, -80.49218824113066],\n",
       "                {}\n",
       "            ).addTo(map_8e839c7520ebbc49fd95813c8ca1e21a);\n",
       "        \n",
       "    \n",
       "            var icon_a452b19263bd1604cf3e240bf8e84ae3 = L.AwesomeMarkers.icon(\n",
       "                {&quot;extraClasses&quot;: &quot;fa-rotate-0&quot;, &quot;icon&quot;: &quot;exclamation&quot;, &quot;iconColor&quot;: &quot;white&quot;, &quot;markerColor&quot;: &quot;red&quot;, &quot;prefix&quot;: &quot;fa&quot;}\n",
       "            );\n",
       "            marker_55cc8e7a7886f17b3a07cfa32e3bac4a.setIcon(icon_a452b19263bd1604cf3e240bf8e84ae3);\n",
       "        \n",
       "    \n",
       "        var popup_044521958fee9a634119b8cd42fffde5 = L.popup({&quot;maxWidth&quot;: &quot;100%&quot;});\n",
       "\n",
       "        \n",
       "            var html_cbf87c56ae2a092d03e6ea8282592ac6 = $(`&lt;div id=&quot;html_cbf87c56ae2a092d03e6ea8282592ac6&quot; style=&quot;width: 100.0%; height: 100.0%;&quot;&gt;[&#x27;King &amp; University &#x27;]&lt;/div&gt;`)[0];\n",
       "            popup_044521958fee9a634119b8cd42fffde5.setContent(html_cbf87c56ae2a092d03e6ea8282592ac6);\n",
       "        \n",
       "\n",
       "        marker_55cc8e7a7886f17b3a07cfa32e3bac4a.bindPopup(popup_044521958fee9a634119b8cd42fffde5)\n",
       "        ;\n",
       "\n",
       "        \n",
       "    \n",
       "    \n",
       "            marker_55cc8e7a7886f17b3a07cfa32e3bac4a.bindTooltip(\n",
       "                `&lt;div&gt;\n",
       "                     [&#x27;King &amp; University &#x27;, &#x27;Sales: &#x27;, &#x27;$24.2M&#x27;, &#x27;Rank: &#x27;, 49]\n",
       "                 &lt;/div&gt;`,\n",
       "                {&quot;sticky&quot;: true}\n",
       "            );\n",
       "        \n",
       "    \n",
       "            var marker_4ee070abfd0cea60a247cd69212e61af = L.marker(\n",
       "                [43.7096892, -79.35955621581823],\n",
       "                {}\n",
       "            ).addTo(map_8e839c7520ebbc49fd95813c8ca1e21a);\n",
       "        \n",
       "    \n",
       "            var icon_e371e2a5ccdbc2670c732f7f5b653197 = L.AwesomeMarkers.icon(\n",
       "                {&quot;extraClasses&quot;: &quot;fa-rotate-0&quot;, &quot;icon&quot;: &quot;fa-circle&quot;, &quot;iconColor&quot;: &quot;white&quot;, &quot;markerColor&quot;: &quot;blue&quot;, &quot;prefix&quot;: &quot;fa&quot;}\n",
       "            );\n",
       "            marker_4ee070abfd0cea60a247cd69212e61af.setIcon(icon_e371e2a5ccdbc2670c732f7f5b653197);\n",
       "        \n",
       "    \n",
       "        var popup_9f65c652969ecbc91a5029dc06cf586d = L.popup({&quot;maxWidth&quot;: &quot;100%&quot;});\n",
       "\n",
       "        \n",
       "            var html_7e19af469667f142ff7b1e03faa64313 = $(`&lt;div id=&quot;html_7e19af469667f142ff7b1e03faa64313&quot; style=&quot;width: 100.0%; height: 100.0%;&quot;&gt;[&#x27;Laird &amp; Commercial &#x27;]&lt;/div&gt;`)[0];\n",
       "            popup_9f65c652969ecbc91a5029dc06cf586d.setContent(html_7e19af469667f142ff7b1e03faa64313);\n",
       "        \n",
       "\n",
       "        marker_4ee070abfd0cea60a247cd69212e61af.bindPopup(popup_9f65c652969ecbc91a5029dc06cf586d)\n",
       "        ;\n",
       "\n",
       "        \n",
       "    \n",
       "    \n",
       "            marker_4ee070abfd0cea60a247cd69212e61af.bindTooltip(\n",
       "                `&lt;div&gt;\n",
       "                     [&#x27;Laird &amp; Commercial &#x27;, &#x27;Sales: &#x27;, &#x27;$45.1M&#x27;, &#x27;Rank: &#x27;, 31]\n",
       "                 &lt;/div&gt;`,\n",
       "                {&quot;sticky&quot;: true}\n",
       "            );\n",
       "        \n",
       "    \n",
       "            var marker_28296e6ea0eb083f4359165be95b48df = L.marker(\n",
       "                [43.7167617, -79.44718952063198],\n",
       "                {}\n",
       "            ).addTo(map_8e839c7520ebbc49fd95813c8ca1e21a);\n",
       "        \n",
       "    \n",
       "            var icon_1d55287941652afca121fcab4098a64c = L.AwesomeMarkers.icon(\n",
       "                {&quot;extraClasses&quot;: &quot;fa-rotate-0&quot;, &quot;icon&quot;: &quot;fa-circle&quot;, &quot;iconColor&quot;: &quot;white&quot;, &quot;markerColor&quot;: &quot;blue&quot;, &quot;prefix&quot;: &quot;fa&quot;}\n",
       "            );\n",
       "            marker_28296e6ea0eb083f4359165be95b48df.setIcon(icon_1d55287941652afca121fcab4098a64c);\n",
       "        \n",
       "    \n",
       "        var popup_e6190ef066fa88f9a13fed58d9a5999d = L.popup({&quot;maxWidth&quot;: &quot;100%&quot;});\n",
       "\n",
       "        \n",
       "            var html_92e772378c3c73b4db2ec4dd360ef35e = $(`&lt;div id=&quot;html_92e772378c3c73b4db2ec4dd360ef35e&quot; style=&quot;width: 100.0%; height: 100.0%;&quot;&gt;[&#x27;Lawrence Allen Centre &#x27;]&lt;/div&gt;`)[0];\n",
       "            popup_e6190ef066fa88f9a13fed58d9a5999d.setContent(html_92e772378c3c73b4db2ec4dd360ef35e);\n",
       "        \n",
       "\n",
       "        marker_28296e6ea0eb083f4359165be95b48df.bindPopup(popup_e6190ef066fa88f9a13fed58d9a5999d)\n",
       "        ;\n",
       "\n",
       "        \n",
       "    \n",
       "    \n",
       "            marker_28296e6ea0eb083f4359165be95b48df.bindTooltip(\n",
       "                `&lt;div&gt;\n",
       "                     [&#x27;Lawrence Allen Centre &#x27;, &#x27;Sales: &#x27;, &#x27;$59.6M&#x27;, &#x27;Rank: &#x27;, 15]\n",
       "                 &lt;/div&gt;`,\n",
       "                {&quot;sticky&quot;: true}\n",
       "            );\n",
       "        \n",
       "    \n",
       "            var marker_caa90d46badf5ec2498d1d91c1360207 = L.marker(\n",
       "                [43.7076261, -79.3761432],\n",
       "                {}\n",
       "            ).addTo(map_8e839c7520ebbc49fd95813c8ca1e21a);\n",
       "        \n",
       "    \n",
       "            var icon_771d4f48f9cc8e83858d03337a84c403 = L.AwesomeMarkers.icon(\n",
       "                {&quot;extraClasses&quot;: &quot;fa-rotate-0&quot;, &quot;icon&quot;: &quot;fa-circle&quot;, &quot;iconColor&quot;: &quot;white&quot;, &quot;markerColor&quot;: &quot;blue&quot;, &quot;prefix&quot;: &quot;fa&quot;}\n",
       "            );\n",
       "            marker_caa90d46badf5ec2498d1d91c1360207.setIcon(icon_771d4f48f9cc8e83858d03337a84c403);\n",
       "        \n",
       "    \n",
       "        var popup_1a8e2ac49e87ca696f983524a8ec5c0b = L.popup({&quot;maxWidth&quot;: &quot;100%&quot;});\n",
       "\n",
       "        \n",
       "            var html_bc2f2e47cfaa0aa29a0d6d6a458a122b = $(`&lt;div id=&quot;html_bc2f2e47cfaa0aa29a0d6d6a458a122b&quot; style=&quot;width: 100.0%; height: 100.0%;&quot;&gt;[&#x27;Leaside &#x27;]&lt;/div&gt;`)[0];\n",
       "            popup_1a8e2ac49e87ca696f983524a8ec5c0b.setContent(html_bc2f2e47cfaa0aa29a0d6d6a458a122b);\n",
       "        \n",
       "\n",
       "        marker_caa90d46badf5ec2498d1d91c1360207.bindPopup(popup_1a8e2ac49e87ca696f983524a8ec5c0b)\n",
       "        ;\n",
       "\n",
       "        \n",
       "    \n",
       "    \n",
       "            marker_caa90d46badf5ec2498d1d91c1360207.bindTooltip(\n",
       "                `&lt;div&gt;\n",
       "                     [&#x27;Leaside &#x27;, &#x27;Sales: &#x27;, &#x27;$48.0M&#x27;, &#x27;Rank: &#x27;, 24]\n",
       "                 &lt;/div&gt;`,\n",
       "                {&quot;sticky&quot;: true}\n",
       "            );\n",
       "        \n",
       "    \n",
       "            var marker_02b86fa72eddfb26cb2d66b5a549be31 = L.marker(\n",
       "                [43.75452105, -79.35915909257255],\n",
       "                {}\n",
       "            ).addTo(map_8e839c7520ebbc49fd95813c8ca1e21a);\n",
       "        \n",
       "    \n",
       "            var icon_dcea987c3e8259217b6895192a9fc7d1 = L.AwesomeMarkers.icon(\n",
       "                {&quot;extraClasses&quot;: &quot;fa-rotate-0&quot;, &quot;icon&quot;: &quot;fa-circle&quot;, &quot;iconColor&quot;: &quot;white&quot;, &quot;markerColor&quot;: &quot;blue&quot;, &quot;prefix&quot;: &quot;fa&quot;}\n",
       "            );\n",
       "            marker_02b86fa72eddfb26cb2d66b5a549be31.setIcon(icon_dcea987c3e8259217b6895192a9fc7d1);\n",
       "        \n",
       "    \n",
       "        var popup_76cc7625d0eebe2fba30651e65281c2b = L.popup({&quot;maxWidth&quot;: &quot;100%&quot;});\n",
       "\n",
       "        \n",
       "            var html_ac3e03ebc24d098a42d4751403af7753 = $(`&lt;div id=&quot;html_ac3e03ebc24d098a42d4751403af7753&quot; style=&quot;width: 100.0%; height: 100.0%;&quot;&gt;[&#x27;Leslie &amp; York Mills &#x27;]&lt;/div&gt;`)[0];\n",
       "            popup_76cc7625d0eebe2fba30651e65281c2b.setContent(html_ac3e03ebc24d098a42d4751403af7753);\n",
       "        \n",
       "\n",
       "        marker_02b86fa72eddfb26cb2d66b5a549be31.bindPopup(popup_76cc7625d0eebe2fba30651e65281c2b)\n",
       "        ;\n",
       "\n",
       "        \n",
       "    \n",
       "    \n",
       "            marker_02b86fa72eddfb26cb2d66b5a549be31.bindTooltip(\n",
       "                `&lt;div&gt;\n",
       "                     [&#x27;Leslie &amp; York Mills &#x27;, &#x27;Sales: &#x27;, &#x27;$48.8M&#x27;, &#x27;Rank: &#x27;, 23]\n",
       "                 &lt;/div&gt;`,\n",
       "                {&quot;sticky&quot;: true}\n",
       "            );\n",
       "        \n",
       "    \n",
       "            var marker_c286713748773d2325e91b9fb5338927 = L.marker(\n",
       "                [43.7729107690802, -79.25142420202336],\n",
       "                {}\n",
       "            ).addTo(map_8e839c7520ebbc49fd95813c8ca1e21a);\n",
       "        \n",
       "    \n",
       "            var icon_fc8465459d2ebce57fc2f739adb0cf1c = L.AwesomeMarkers.icon(\n",
       "                {&quot;extraClasses&quot;: &quot;fa-rotate-0&quot;, &quot;icon&quot;: &quot;exclamation&quot;, &quot;iconColor&quot;: &quot;white&quot;, &quot;markerColor&quot;: &quot;red&quot;, &quot;prefix&quot;: &quot;fa&quot;}\n",
       "            );\n",
       "            marker_c286713748773d2325e91b9fb5338927.setIcon(icon_fc8465459d2ebce57fc2f739adb0cf1c);\n",
       "        \n",
       "    \n",
       "        var popup_044b1fda54427d1ce849ef5e272bf45a = L.popup({&quot;maxWidth&quot;: &quot;100%&quot;});\n",
       "\n",
       "        \n",
       "            var html_3cc0aee3a71c8ff74a0e935e1a9d2f18 = $(`&lt;div id=&quot;html_3cc0aee3a71c8ff74a0e935e1a9d2f18&quot; style=&quot;width: 100.0%; height: 100.0%;&quot;&gt;[&#x27;McCowan Square &#x27;]&lt;/div&gt;`)[0];\n",
       "            popup_044b1fda54427d1ce849ef5e272bf45a.setContent(html_3cc0aee3a71c8ff74a0e935e1a9d2f18);\n",
       "        \n",
       "\n",
       "        marker_c286713748773d2325e91b9fb5338927.bindPopup(popup_044b1fda54427d1ce849ef5e272bf45a)\n",
       "        ;\n",
       "\n",
       "        \n",
       "    \n",
       "    \n",
       "            marker_c286713748773d2325e91b9fb5338927.bindTooltip(\n",
       "                `&lt;div&gt;\n",
       "                     [&#x27;McCowan Square &#x27;, &#x27;Sales: &#x27;, &#x27;$14.9M&#x27;, &#x27;Rank: &#x27;, 51]\n",
       "                 &lt;/div&gt;`,\n",
       "                {&quot;sticky&quot;: true}\n",
       "            );\n",
       "        \n",
       "    \n",
       "            var marker_04448aeb04a997fdb32af28f1372f05e = L.marker(\n",
       "                [43.6474762, -79.4018157],\n",
       "                {}\n",
       "            ).addTo(map_8e839c7520ebbc49fd95813c8ca1e21a);\n",
       "        \n",
       "    \n",
       "            var icon_9641c0d676fcd7319ee9998621bd75d6 = L.AwesomeMarkers.icon(\n",
       "                {&quot;extraClasses&quot;: &quot;fa-rotate-0&quot;, &quot;icon&quot;: &quot;exclamation&quot;, &quot;iconColor&quot;: &quot;white&quot;, &quot;markerColor&quot;: &quot;red&quot;, &quot;prefix&quot;: &quot;fa&quot;}\n",
       "            );\n",
       "            marker_04448aeb04a997fdb32af28f1372f05e.setIcon(icon_9641c0d676fcd7319ee9998621bd75d6);\n",
       "        \n",
       "    \n",
       "        var popup_b3549d353284f3ce4ab3d90d0a68761e = L.popup({&quot;maxWidth&quot;: &quot;100%&quot;});\n",
       "\n",
       "        \n",
       "            var html_a7dc9d514566ec5655ec8a2396a09a5f = $(`&lt;div id=&quot;html_a7dc9d514566ec5655ec8a2396a09a5f&quot; style=&quot;width: 100.0%; height: 100.0%;&quot;&gt;[&#x27;Queen &amp; Portland &#x27;]&lt;/div&gt;`)[0];\n",
       "            popup_b3549d353284f3ce4ab3d90d0a68761e.setContent(html_a7dc9d514566ec5655ec8a2396a09a5f);\n",
       "        \n",
       "\n",
       "        marker_04448aeb04a997fdb32af28f1372f05e.bindPopup(popup_b3549d353284f3ce4ab3d90d0a68761e)\n",
       "        ;\n",
       "\n",
       "        \n",
       "    \n",
       "    \n",
       "            marker_04448aeb04a997fdb32af28f1372f05e.bindTooltip(\n",
       "                `&lt;div&gt;\n",
       "                     [&#x27;Queen &amp; Portland &#x27;, &#x27;Sales: &#x27;, &#x27;$30.4M&#x27;, &#x27;Rank: &#x27;, 46]\n",
       "                 &lt;/div&gt;`,\n",
       "                {&quot;sticky&quot;: true}\n",
       "            );\n",
       "        \n",
       "    \n",
       "            var marker_dad6eec124da68de3c0950b8db9c9223 = L.marker(\n",
       "                [43.65956453846154, -79.34739823076923],\n",
       "                {}\n",
       "            ).addTo(map_8e839c7520ebbc49fd95813c8ca1e21a);\n",
       "        \n",
       "    \n",
       "            var icon_74198486b18797fd415f97c9213cf9a3 = L.AwesomeMarkers.icon(\n",
       "                {&quot;extraClasses&quot;: &quot;fa-rotate-0&quot;, &quot;icon&quot;: &quot;fa-circle&quot;, &quot;iconColor&quot;: &quot;white&quot;, &quot;markerColor&quot;: &quot;blue&quot;, &quot;prefix&quot;: &quot;fa&quot;}\n",
       "            );\n",
       "            marker_dad6eec124da68de3c0950b8db9c9223.setIcon(icon_74198486b18797fd415f97c9213cf9a3);\n",
       "        \n",
       "    \n",
       "        var popup_7c7f94578376f180aa1d06e7bb2a54f6 = L.popup({&quot;maxWidth&quot;: &quot;100%&quot;});\n",
       "\n",
       "        \n",
       "            var html_50b599593882613ca6658ccb10932533 = $(`&lt;div id=&quot;html_50b599593882613ca6658ccb10932533&quot; style=&quot;width: 100.0%; height: 100.0%;&quot;&gt;[&#x27;Queen &amp; Saulter &#x27;]&lt;/div&gt;`)[0];\n",
       "            popup_7c7f94578376f180aa1d06e7bb2a54f6.setContent(html_50b599593882613ca6658ccb10932533);\n",
       "        \n",
       "\n",
       "        marker_dad6eec124da68de3c0950b8db9c9223.bindPopup(popup_7c7f94578376f180aa1d06e7bb2a54f6)\n",
       "        ;\n",
       "\n",
       "        \n",
       "    \n",
       "    \n",
       "            marker_dad6eec124da68de3c0950b8db9c9223.bindTooltip(\n",
       "                `&lt;div&gt;\n",
       "                     [&#x27;Queen &amp; Saulter &#x27;, &#x27;Sales: &#x27;, &#x27;$59.6M&#x27;, &#x27;Rank: &#x27;, 16]\n",
       "                 &lt;/div&gt;`,\n",
       "                {&quot;sticky&quot;: true}\n",
       "            );\n",
       "        \n",
       "    \n",
       "            var marker_81bb1b444c78a9600283c7e3e6113285 = L.marker(\n",
       "                [45.1033453, -75.2300046],\n",
       "                {}\n",
       "            ).addTo(map_8e839c7520ebbc49fd95813c8ca1e21a);\n",
       "        \n",
       "    \n",
       "            var icon_ea9be19ddd09d644a9bc41a35bb34662 = L.AwesomeMarkers.icon(\n",
       "                {&quot;extraClasses&quot;: &quot;fa-rotate-0&quot;, &quot;icon&quot;: &quot;fa-circle&quot;, &quot;iconColor&quot;: &quot;white&quot;, &quot;markerColor&quot;: &quot;blue&quot;, &quot;prefix&quot;: &quot;fa&quot;}\n",
       "            );\n",
       "            marker_81bb1b444c78a9600283c7e3e6113285.setIcon(icon_ea9be19ddd09d644a9bc41a35bb34662);\n",
       "        \n",
       "    \n",
       "        var popup_00bf66a34b09b528745568dd4ede4e50 = L.popup({&quot;maxWidth&quot;: &quot;100%&quot;});\n",
       "\n",
       "        \n",
       "            var html_1c10a3af9b5bc0f6b4119a6f8f59dd0f = $(`&lt;div id=&quot;html_1c10a3af9b5bc0f6b4119a6f8f59dd0f&quot; style=&quot;width: 100.0%; height: 100.0%;&quot;&gt;[&#x27;Queen &amp; Yonge &#x27;]&lt;/div&gt;`)[0];\n",
       "            popup_00bf66a34b09b528745568dd4ede4e50.setContent(html_1c10a3af9b5bc0f6b4119a6f8f59dd0f);\n",
       "        \n",
       "\n",
       "        marker_81bb1b444c78a9600283c7e3e6113285.bindPopup(popup_00bf66a34b09b528745568dd4ede4e50)\n",
       "        ;\n",
       "\n",
       "        \n",
       "    \n",
       "    \n",
       "            marker_81bb1b444c78a9600283c7e3e6113285.bindTooltip(\n",
       "                `&lt;div&gt;\n",
       "                     [&#x27;Queen &amp; Yonge &#x27;, &#x27;Sales: &#x27;, &#x27;$54.7M&#x27;, &#x27;Rank: &#x27;, 20]\n",
       "                 &lt;/div&gt;`,\n",
       "                {&quot;sticky&quot;: true}\n",
       "            );\n",
       "        \n",
       "    \n",
       "            var marker_bd9cf0a3f8e12e31dbb225ca80fa885d = L.marker(\n",
       "                [43.6818874, -79.4722402],\n",
       "                {}\n",
       "            ).addTo(map_8e839c7520ebbc49fd95813c8ca1e21a);\n",
       "        \n",
       "    \n",
       "            var icon_c8a8c7fcc1af23e545906bc7a26efb0c = L.AwesomeMarkers.icon(\n",
       "                {&quot;extraClasses&quot;: &quot;fa-rotate-0&quot;, &quot;icon&quot;: &quot;fa-circle&quot;, &quot;iconColor&quot;: &quot;white&quot;, &quot;markerColor&quot;: &quot;blue&quot;, &quot;prefix&quot;: &quot;fa&quot;}\n",
       "            );\n",
       "            marker_bd9cf0a3f8e12e31dbb225ca80fa885d.setIcon(icon_c8a8c7fcc1af23e545906bc7a26efb0c);\n",
       "        \n",
       "    \n",
       "        var popup_ce130c31d87251b41aa24c739b8943af = L.popup({&quot;maxWidth&quot;: &quot;100%&quot;});\n",
       "\n",
       "        \n",
       "            var html_8778a5d089f0dbc74dce1fe847c5af10 = $(`&lt;div id=&quot;html_8778a5d089f0dbc74dce1fe847c5af10&quot; style=&quot;width: 100.0%; height: 100.0%;&quot;&gt;[&#x27;Rogers Road &#x27;]&lt;/div&gt;`)[0];\n",
       "            popup_ce130c31d87251b41aa24c739b8943af.setContent(html_8778a5d089f0dbc74dce1fe847c5af10);\n",
       "        \n",
       "\n",
       "        marker_bd9cf0a3f8e12e31dbb225ca80fa885d.bindPopup(popup_ce130c31d87251b41aa24c739b8943af)\n",
       "        ;\n",
       "\n",
       "        \n",
       "    \n",
       "    \n",
       "            marker_bd9cf0a3f8e12e31dbb225ca80fa885d.bindTooltip(\n",
       "                `&lt;div&gt;\n",
       "                     [&#x27;Rogers Road &#x27;, &#x27;Sales: &#x27;, &#x27;$57.2M&#x27;, &#x27;Rank: &#x27;, 18]\n",
       "                 &lt;/div&gt;`,\n",
       "                {&quot;sticky&quot;: true}\n",
       "            );\n",
       "        \n",
       "    \n",
       "            var marker_ae3ab31883e44185713517251e79c5ba = L.marker(\n",
       "                [43.6408802, -79.4019344],\n",
       "                {}\n",
       "            ).addTo(map_8e839c7520ebbc49fd95813c8ca1e21a);\n",
       "        \n",
       "    \n",
       "            var icon_5bfac5f738262482a632f0abaa441fee = L.AwesomeMarkers.icon(\n",
       "                {&quot;extraClasses&quot;: &quot;fa-rotate-0&quot;, &quot;icon&quot;: &quot;fa-circle&quot;, &quot;iconColor&quot;: &quot;white&quot;, &quot;markerColor&quot;: &quot;blue&quot;, &quot;prefix&quot;: &quot;fa&quot;}\n",
       "            );\n",
       "            marker_ae3ab31883e44185713517251e79c5ba.setIcon(icon_5bfac5f738262482a632f0abaa441fee);\n",
       "        \n",
       "    \n",
       "        var popup_f5a01a170d9c1080dc08da511a27f2fa = L.popup({&quot;maxWidth&quot;: &quot;100%&quot;});\n",
       "\n",
       "        \n",
       "            var html_908790f2d4889df575721754dbf5fa21 = $(`&lt;div id=&quot;html_908790f2d4889df575721754dbf5fa21&quot; style=&quot;width: 100.0%; height: 100.0%;&quot;&gt;[&#x27;Stackt Market Bathurst And Front &#x27;]&lt;/div&gt;`)[0];\n",
       "            popup_f5a01a170d9c1080dc08da511a27f2fa.setContent(html_908790f2d4889df575721754dbf5fa21);\n",
       "        \n",
       "\n",
       "        marker_ae3ab31883e44185713517251e79c5ba.bindPopup(popup_f5a01a170d9c1080dc08da511a27f2fa)\n",
       "        ;\n",
       "\n",
       "        \n",
       "    \n",
       "    \n",
       "            marker_ae3ab31883e44185713517251e79c5ba.bindTooltip(\n",
       "                `&lt;div&gt;\n",
       "                     [&#x27;Stackt Market Bathurst And Front &#x27;, &#x27;Sales: &#x27;, &#x27;$46.6M&#x27;, &#x27;Rank: &#x27;, 30]\n",
       "                 &lt;/div&gt;`,\n",
       "                {&quot;sticky&quot;: true}\n",
       "            );\n",
       "        \n",
       "    \n",
       "            var marker_b4ad53894dfb83c33176516db4ece640 = L.marker(\n",
       "                [43.6686779, -79.4840473],\n",
       "                {}\n",
       "            ).addTo(map_8e839c7520ebbc49fd95813c8ca1e21a);\n",
       "        \n",
       "    \n",
       "            var icon_a9afa730062cf5cf4a4780710eb61d72 = L.AwesomeMarkers.icon(\n",
       "                {&quot;extraClasses&quot;: &quot;fa-rotate-0&quot;, &quot;icon&quot;: &quot;fa-circle&quot;, &quot;iconColor&quot;: &quot;white&quot;, &quot;markerColor&quot;: &quot;blue&quot;, &quot;prefix&quot;: &quot;fa&quot;}\n",
       "            );\n",
       "            marker_b4ad53894dfb83c33176516db4ece640.setIcon(icon_a9afa730062cf5cf4a4780710eb61d72);\n",
       "        \n",
       "    \n",
       "        var popup_72133444c452d3b126f02d80444ea1e8 = L.popup({&quot;maxWidth&quot;: &quot;100%&quot;});\n",
       "\n",
       "        \n",
       "            var html_35fa69c4a4cb1b82c101ea647c79361b = $(`&lt;div id=&quot;html_35fa69c4a4cb1b82c101ea647c79361b&quot; style=&quot;width: 100.0%; height: 100.0%;&quot;&gt;[&#x27;St.Clair &amp; Runnymede &#x27;]&lt;/div&gt;`)[0];\n",
       "            popup_72133444c452d3b126f02d80444ea1e8.setContent(html_35fa69c4a4cb1b82c101ea647c79361b);\n",
       "        \n",
       "\n",
       "        marker_b4ad53894dfb83c33176516db4ece640.bindPopup(popup_72133444c452d3b126f02d80444ea1e8)\n",
       "        ;\n",
       "\n",
       "        \n",
       "    \n",
       "    \n",
       "            marker_b4ad53894dfb83c33176516db4ece640.bindTooltip(\n",
       "                `&lt;div&gt;\n",
       "                     [&#x27;St.Clair &amp; Runnymede &#x27;, &#x27;Sales: &#x27;, &#x27;$36.6M&#x27;, &#x27;Rank: &#x27;, 40]\n",
       "                 &lt;/div&gt;`,\n",
       "                {&quot;sticky&quot;: true}\n",
       "            );\n",
       "        \n",
       "    \n",
       "            var marker_a02c62df6356103f00e378afd7b9fc81 = L.marker(\n",
       "                [43.836078, -79.25219063571427],\n",
       "                {}\n",
       "            ).addTo(map_8e839c7520ebbc49fd95813c8ca1e21a);\n",
       "        \n",
       "    \n",
       "            var icon_ac4d15bf5ea62c247dfb0d517d48ed5c = L.AwesomeMarkers.icon(\n",
       "                {&quot;extraClasses&quot;: &quot;fa-rotate-0&quot;, &quot;icon&quot;: &quot;star&quot;, &quot;iconColor&quot;: &quot;white&quot;, &quot;markerColor&quot;: &quot;pink&quot;, &quot;prefix&quot;: &quot;fa&quot;}\n",
       "            );\n",
       "            marker_a02c62df6356103f00e378afd7b9fc81.setIcon(icon_ac4d15bf5ea62c247dfb0d517d48ed5c);\n",
       "        \n",
       "    \n",
       "        var popup_86fdb4ea5eb71f01082a2d8d8fb2d486 = L.popup({&quot;maxWidth&quot;: &quot;100%&quot;});\n",
       "\n",
       "        \n",
       "            var html_1a01b38f41a780e8db61fdf53a819478 = $(`&lt;div id=&quot;html_1a01b38f41a780e8db61fdf53a819478&quot; style=&quot;width: 100.0%; height: 100.0%;&quot;&gt;[&#x27;Steeles &amp; Markham &#x27;]&lt;/div&gt;`)[0];\n",
       "            popup_86fdb4ea5eb71f01082a2d8d8fb2d486.setContent(html_1a01b38f41a780e8db61fdf53a819478);\n",
       "        \n",
       "\n",
       "        marker_a02c62df6356103f00e378afd7b9fc81.bindPopup(popup_86fdb4ea5eb71f01082a2d8d8fb2d486)\n",
       "        ;\n",
       "\n",
       "        \n",
       "    \n",
       "    \n",
       "            marker_a02c62df6356103f00e378afd7b9fc81.bindTooltip(\n",
       "                `&lt;div&gt;\n",
       "                     [&#x27;Steeles &amp; Markham &#x27;, &#x27;Sales: &#x27;, &#x27;$74.9M&#x27;, &#x27;Rank: &#x27;, 5]\n",
       "                 &lt;/div&gt;`,\n",
       "                {&quot;sticky&quot;: true}\n",
       "            );\n",
       "        \n",
       "    \n",
       "            var marker_62d1352aeb56f4263f660da865aac939 = L.marker(\n",
       "                [43.6704938, -79.2973616],\n",
       "                {}\n",
       "            ).addTo(map_8e839c7520ebbc49fd95813c8ca1e21a);\n",
       "        \n",
       "    \n",
       "            var icon_24eae1efbd4397463c2c0030918cfb13 = L.AwesomeMarkers.icon(\n",
       "                {&quot;extraClasses&quot;: &quot;fa-rotate-0&quot;, &quot;icon&quot;: &quot;fa-circle&quot;, &quot;iconColor&quot;: &quot;white&quot;, &quot;markerColor&quot;: &quot;blue&quot;, &quot;prefix&quot;: &quot;fa&quot;}\n",
       "            );\n",
       "            marker_62d1352aeb56f4263f660da865aac939.setIcon(icon_24eae1efbd4397463c2c0030918cfb13);\n",
       "        \n",
       "    \n",
       "        var popup_672fc58d2135e4442fe32c1a9dfb821f = L.popup({&quot;maxWidth&quot;: &quot;100%&quot;});\n",
       "\n",
       "        \n",
       "            var html_419020f68dae205372ed299324575699 = $(`&lt;div id=&quot;html_419020f68dae205372ed299324575699&quot; style=&quot;width: 100.0%; height: 100.0%;&quot;&gt;[&#x27;The Beach &#x27;]&lt;/div&gt;`)[0];\n",
       "            popup_672fc58d2135e4442fe32c1a9dfb821f.setContent(html_419020f68dae205372ed299324575699);\n",
       "        \n",
       "\n",
       "        marker_62d1352aeb56f4263f660da865aac939.bindPopup(popup_672fc58d2135e4442fe32c1a9dfb821f)\n",
       "        ;\n",
       "\n",
       "        \n",
       "    \n",
       "    \n",
       "            marker_62d1352aeb56f4263f660da865aac939.bindTooltip(\n",
       "                `&lt;div&gt;\n",
       "                     [&#x27;The Beach &#x27;, &#x27;Sales: &#x27;, &#x27;$34.2M&#x27;, &#x27;Rank: &#x27;, 43]\n",
       "                 &lt;/div&gt;`,\n",
       "                {&quot;sticky&quot;: true}\n",
       "            );\n",
       "        \n",
       "    \n",
       "            var marker_d64399edbe0e68e02f03698088520b4b = L.marker(\n",
       "                [43.6591104, -79.39120659491317],\n",
       "                {}\n",
       "            ).addTo(map_8e839c7520ebbc49fd95813c8ca1e21a);\n",
       "        \n",
       "    \n",
       "            var icon_a2a38d461f2367616a164f19b5990d86 = L.AwesomeMarkers.icon(\n",
       "                {&quot;extraClasses&quot;: &quot;fa-rotate-0&quot;, &quot;icon&quot;: &quot;exclamation&quot;, &quot;iconColor&quot;: &quot;white&quot;, &quot;markerColor&quot;: &quot;red&quot;, &quot;prefix&quot;: &quot;fa&quot;}\n",
       "            );\n",
       "            marker_d64399edbe0e68e02f03698088520b4b.setIcon(icon_a2a38d461f2367616a164f19b5990d86);\n",
       "        \n",
       "    \n",
       "        var popup_e1be8b5e8f8d86fe83e00eb6c50b6b3f = L.popup({&quot;maxWidth&quot;: &quot;100%&quot;});\n",
       "\n",
       "        \n",
       "            var html_cf7669ade7dd171ae45dcbcc74deca47 = $(`&lt;div id=&quot;html_cf7669ade7dd171ae45dcbcc74deca47&quot; style=&quot;width: 100.0%; height: 100.0%;&quot;&gt;[&#x27;University &amp; College &#x27;]&lt;/div&gt;`)[0];\n",
       "            popup_e1be8b5e8f8d86fe83e00eb6c50b6b3f.setContent(html_cf7669ade7dd171ae45dcbcc74deca47);\n",
       "        \n",
       "\n",
       "        marker_d64399edbe0e68e02f03698088520b4b.bindPopup(popup_e1be8b5e8f8d86fe83e00eb6c50b6b3f)\n",
       "        ;\n",
       "\n",
       "        \n",
       "    \n",
       "    \n",
       "            marker_d64399edbe0e68e02f03698088520b4b.bindTooltip(\n",
       "                `&lt;div&gt;\n",
       "                     [&#x27;University &amp; College &#x27;, &#x27;Sales: &#x27;, &#x27;$29.4M&#x27;, &#x27;Rank: &#x27;, 47]\n",
       "                 &lt;/div&gt;`,\n",
       "                {&quot;sticky&quot;: true}\n",
       "            );\n",
       "        \n",
       "    \n",
       "            var marker_aaaeeb8fc24e33cd162db362aa608b92 = L.marker(\n",
       "                [43.6546209, -79.3886431],\n",
       "                {}\n",
       "            ).addTo(map_8e839c7520ebbc49fd95813c8ca1e21a);\n",
       "        \n",
       "    \n",
       "            var icon_c68f7b3d77d41886a5bfa8fe409ca2ce = L.AwesomeMarkers.icon(\n",
       "                {&quot;extraClasses&quot;: &quot;fa-rotate-0&quot;, &quot;icon&quot;: &quot;fa-circle&quot;, &quot;iconColor&quot;: &quot;white&quot;, &quot;markerColor&quot;: &quot;blue&quot;, &quot;prefix&quot;: &quot;fa&quot;}\n",
       "            );\n",
       "            marker_aaaeeb8fc24e33cd162db362aa608b92.setIcon(icon_c68f7b3d77d41886a5bfa8fe409ca2ce);\n",
       "        \n",
       "    \n",
       "        var popup_1b6eec8e18a5b154971c440ecc05ed3b = L.popup({&quot;maxWidth&quot;: &quot;100%&quot;});\n",
       "\n",
       "        \n",
       "            var html_8fc1db49da946f5be9463e8a8602422f = $(`&lt;div id=&quot;html_8fc1db49da946f5be9463e8a8602422f&quot; style=&quot;width: 100.0%; height: 100.0%;&quot;&gt;[&#x27;University &amp; Dundas &#x27;]&lt;/div&gt;`)[0];\n",
       "            popup_1b6eec8e18a5b154971c440ecc05ed3b.setContent(html_8fc1db49da946f5be9463e8a8602422f);\n",
       "        \n",
       "\n",
       "        marker_aaaeeb8fc24e33cd162db362aa608b92.bindPopup(popup_1b6eec8e18a5b154971c440ecc05ed3b)\n",
       "        ;\n",
       "\n",
       "        \n",
       "    \n",
       "    \n",
       "            marker_aaaeeb8fc24e33cd162db362aa608b92.bindTooltip(\n",
       "                `&lt;div&gt;\n",
       "                     [&#x27;University &amp; Dundas &#x27;, &#x27;Sales: &#x27;, &#x27;$68.2M&#x27;, &#x27;Rank: &#x27;, 7]\n",
       "                 &lt;/div&gt;`,\n",
       "                {&quot;sticky&quot;: true}\n",
       "            );\n",
       "        \n",
       "    \n",
       "            var marker_24a7addabd8ad6e7ddd6ac46c4b1765d = L.marker(\n",
       "                [43.73119, -79.4040412],\n",
       "                {}\n",
       "            ).addTo(map_8e839c7520ebbc49fd95813c8ca1e21a);\n",
       "        \n",
       "    \n",
       "            var icon_a2a8017aab27ef9ec6fa0807ec37a563 = L.AwesomeMarkers.icon(\n",
       "                {&quot;extraClasses&quot;: &quot;fa-rotate-0&quot;, &quot;icon&quot;: &quot;fa-circle&quot;, &quot;iconColor&quot;: &quot;white&quot;, &quot;markerColor&quot;: &quot;blue&quot;, &quot;prefix&quot;: &quot;fa&quot;}\n",
       "            );\n",
       "            marker_24a7addabd8ad6e7ddd6ac46c4b1765d.setIcon(icon_a2a8017aab27ef9ec6fa0807ec37a563);\n",
       "        \n",
       "    \n",
       "        var popup_7023009ab039e31d54819fb43517800f = L.popup({&quot;maxWidth&quot;: &quot;100%&quot;});\n",
       "\n",
       "        \n",
       "            var html_dae3a7d75da6b89682d83c368b190a7b = $(`&lt;div id=&quot;html_dae3a7d75da6b89682d83c368b190a7b&quot; style=&quot;width: 100.0%; height: 100.0%;&quot;&gt;[&#x27;Yonge &amp; Fairlawn &#x27;]&lt;/div&gt;`)[0];\n",
       "            popup_7023009ab039e31d54819fb43517800f.setContent(html_dae3a7d75da6b89682d83c368b190a7b);\n",
       "        \n",
       "\n",
       "        marker_24a7addabd8ad6e7ddd6ac46c4b1765d.bindPopup(popup_7023009ab039e31d54819fb43517800f)\n",
       "        ;\n",
       "\n",
       "        \n",
       "    \n",
       "    \n",
       "            marker_24a7addabd8ad6e7ddd6ac46c4b1765d.bindTooltip(\n",
       "                `&lt;div&gt;\n",
       "                     [&#x27;Yonge &amp; Fairlawn &#x27;, &#x27;Sales: &#x27;, &#x27;$57.1M&#x27;, &#x27;Rank: &#x27;, 19]\n",
       "                 &lt;/div&gt;`,\n",
       "                {&quot;sticky&quot;: true}\n",
       "            );\n",
       "        \n",
       "    \n",
       "            var marker_71ae6d14472ab59f6577111b015c48e0 = L.marker(\n",
       "                [43.6590065, -79.3833435],\n",
       "                {}\n",
       "            ).addTo(map_8e839c7520ebbc49fd95813c8ca1e21a);\n",
       "        \n",
       "    \n",
       "            var icon_37735b82e1d2736274fe1ec9fc7c283b = L.AwesomeMarkers.icon(\n",
       "                {&quot;extraClasses&quot;: &quot;fa-rotate-0&quot;, &quot;icon&quot;: &quot;fa-circle&quot;, &quot;iconColor&quot;: &quot;white&quot;, &quot;markerColor&quot;: &quot;blue&quot;, &quot;prefix&quot;: &quot;fa&quot;}\n",
       "            );\n",
       "            marker_71ae6d14472ab59f6577111b015c48e0.setIcon(icon_37735b82e1d2736274fe1ec9fc7c283b);\n",
       "        \n",
       "    \n",
       "        var popup_3656a1bd15714c025de2192648059dd2 = L.popup({&quot;maxWidth&quot;: &quot;100%&quot;});\n",
       "\n",
       "        \n",
       "            var html_a3d1275b5cd8497e220f7e08b83276f7 = $(`&lt;div id=&quot;html_a3d1275b5cd8497e220f7e08b83276f7&quot; style=&quot;width: 100.0%; height: 100.0%;&quot;&gt;[&#x27;Yonge &amp; Gerrard &#x27;]&lt;/div&gt;`)[0];\n",
       "            popup_3656a1bd15714c025de2192648059dd2.setContent(html_a3d1275b5cd8497e220f7e08b83276f7);\n",
       "        \n",
       "\n",
       "        marker_71ae6d14472ab59f6577111b015c48e0.bindPopup(popup_3656a1bd15714c025de2192648059dd2)\n",
       "        ;\n",
       "\n",
       "        \n",
       "    \n",
       "    \n",
       "            marker_71ae6d14472ab59f6577111b015c48e0.bindTooltip(\n",
       "                `&lt;div&gt;\n",
       "                     [&#x27;Yonge &amp; Gerrard &#x27;, &#x27;Sales: &#x27;, &#x27;$36.8M&#x27;, &#x27;Rank: &#x27;, 39]\n",
       "                 &lt;/div&gt;`,\n",
       "                {&quot;sticky&quot;: true}\n",
       "            );\n",
       "        \n",
       "    \n",
       "            var marker_6da59aca8405156e2271fcf3d81eb0c8 = L.marker(\n",
       "                [43.7110013, -79.3996631458458],\n",
       "                {}\n",
       "            ).addTo(map_8e839c7520ebbc49fd95813c8ca1e21a);\n",
       "        \n",
       "    \n",
       "            var icon_d66b85e28ac36af928b4eba33646c27e = L.AwesomeMarkers.icon(\n",
       "                {&quot;extraClasses&quot;: &quot;fa-rotate-0&quot;, &quot;icon&quot;: &quot;fa-circle&quot;, &quot;iconColor&quot;: &quot;white&quot;, &quot;markerColor&quot;: &quot;blue&quot;, &quot;prefix&quot;: &quot;fa&quot;}\n",
       "            );\n",
       "            marker_6da59aca8405156e2271fcf3d81eb0c8.setIcon(icon_d66b85e28ac36af928b4eba33646c27e);\n",
       "        \n",
       "    \n",
       "        var popup_2902316f16e6034cc1872b66ddfc3df9 = L.popup({&quot;maxWidth&quot;: &quot;100%&quot;});\n",
       "\n",
       "        \n",
       "            var html_5dc99b9a49008c6693927592c3476477 = $(`&lt;div id=&quot;html_5dc99b9a49008c6693927592c3476477&quot; style=&quot;width: 100.0%; height: 100.0%;&quot;&gt;[&#x27;Yonge &amp; Roselawn &#x27;]&lt;/div&gt;`)[0];\n",
       "            popup_2902316f16e6034cc1872b66ddfc3df9.setContent(html_5dc99b9a49008c6693927592c3476477);\n",
       "        \n",
       "\n",
       "        marker_6da59aca8405156e2271fcf3d81eb0c8.bindPopup(popup_2902316f16e6034cc1872b66ddfc3df9)\n",
       "        ;\n",
       "\n",
       "        \n",
       "    \n",
       "    \n",
       "            marker_6da59aca8405156e2271fcf3d81eb0c8.bindTooltip(\n",
       "                `&lt;div&gt;\n",
       "                     [&#x27;Yonge &amp; Roselawn &#x27;, &#x27;Sales: &#x27;, &#x27;$38.9M&#x27;, &#x27;Rank: &#x27;, 37]\n",
       "                 &lt;/div&gt;`,\n",
       "                {&quot;sticky&quot;: true}\n",
       "            );\n",
       "        \n",
       "    \n",
       "            var marker_276f37a9d5ff370b9a2ff9c73c54c3fe = L.marker(\n",
       "                [43.6892417, -79.3947573],\n",
       "                {}\n",
       "            ).addTo(map_8e839c7520ebbc49fd95813c8ca1e21a);\n",
       "        \n",
       "    \n",
       "            var icon_fdfc57155feaba544f2ea243504cdf6f = L.AwesomeMarkers.icon(\n",
       "                {&quot;extraClasses&quot;: &quot;fa-rotate-0&quot;, &quot;icon&quot;: &quot;fa-circle&quot;, &quot;iconColor&quot;: &quot;white&quot;, &quot;markerColor&quot;: &quot;blue&quot;, &quot;prefix&quot;: &quot;fa&quot;}\n",
       "            );\n",
       "            marker_276f37a9d5ff370b9a2ff9c73c54c3fe.setIcon(icon_fdfc57155feaba544f2ea243504cdf6f);\n",
       "        \n",
       "    \n",
       "        var popup_4f1a70478114750354f1e25af4b65593 = L.popup({&quot;maxWidth&quot;: &quot;100%&quot;});\n",
       "\n",
       "        \n",
       "            var html_a150bba1972fc7ea04e7cd8ed0719f4f = $(`&lt;div id=&quot;html_a150bba1972fc7ea04e7cd8ed0719f4f&quot; style=&quot;width: 100.0%; height: 100.0%;&quot;&gt;[&#x27;Yonge &amp; St Clair &#x27;]&lt;/div&gt;`)[0];\n",
       "            popup_4f1a70478114750354f1e25af4b65593.setContent(html_a150bba1972fc7ea04e7cd8ed0719f4f);\n",
       "        \n",
       "\n",
       "        marker_276f37a9d5ff370b9a2ff9c73c54c3fe.bindPopup(popup_4f1a70478114750354f1e25af4b65593)\n",
       "        ;\n",
       "\n",
       "        \n",
       "    \n",
       "    \n",
       "            marker_276f37a9d5ff370b9a2ff9c73c54c3fe.bindTooltip(\n",
       "                `&lt;div&gt;\n",
       "                     [&#x27;Yonge &amp; St Clair &#x27;, &#x27;Sales: &#x27;, &#x27;$33.2M&#x27;, &#x27;Rank: &#x27;, 44]\n",
       "                 &lt;/div&gt;`,\n",
       "                {&quot;sticky&quot;: true}\n",
       "            );\n",
       "        \n",
       "    \n",
       "            var marker_e4880e11bbe90ec145ff1965df7ec4f3 = L.marker(\n",
       "                [43.774283, -79.5019475],\n",
       "                {}\n",
       "            ).addTo(map_8e839c7520ebbc49fd95813c8ca1e21a);\n",
       "        \n",
       "    \n",
       "            var icon_3916b2817f5d6cd80d3badd529dcd14c = L.AwesomeMarkers.icon(\n",
       "                {&quot;extraClasses&quot;: &quot;fa-rotate-0&quot;, &quot;icon&quot;: &quot;fa-circle&quot;, &quot;iconColor&quot;: &quot;white&quot;, &quot;markerColor&quot;: &quot;blue&quot;, &quot;prefix&quot;: &quot;fa&quot;}\n",
       "            );\n",
       "            marker_e4880e11bbe90ec145ff1965df7ec4f3.setIcon(icon_3916b2817f5d6cd80d3badd529dcd14c);\n",
       "        \n",
       "    \n",
       "        var popup_7eb91454dfb3668066e6f6f2a2c57957 = L.popup({&quot;maxWidth&quot;: &quot;100%&quot;});\n",
       "\n",
       "        \n",
       "            var html_871f7ba2812d453c31931e5cffe564e4 = $(`&lt;div id=&quot;html_871f7ba2812d453c31931e5cffe564e4&quot; style=&quot;width: 100.0%; height: 100.0%;&quot;&gt;[&#x27;York University/York Lanes &#x27;]&lt;/div&gt;`)[0];\n",
       "            popup_7eb91454dfb3668066e6f6f2a2c57957.setContent(html_871f7ba2812d453c31931e5cffe564e4);\n",
       "        \n",
       "\n",
       "        marker_e4880e11bbe90ec145ff1965df7ec4f3.bindPopup(popup_7eb91454dfb3668066e6f6f2a2c57957)\n",
       "        ;\n",
       "\n",
       "        \n",
       "    \n",
       "    \n",
       "            marker_e4880e11bbe90ec145ff1965df7ec4f3.bindTooltip(\n",
       "                `&lt;div&gt;\n",
       "                     [&#x27;York University/York Lanes &#x27;, &#x27;Sales: &#x27;, &#x27;$32.2M&#x27;, &#x27;Rank: &#x27;, 45]\n",
       "                 &lt;/div&gt;`,\n",
       "                {&quot;sticky&quot;: true}\n",
       "            );\n",
       "        \n",
       "&lt;/script&gt;\" style=\"position:absolute;width:100%;height:100%;left:0;top:0;border:none !important;\" allowfullscreen webkitallowfullscreen mozallowfullscreen></iframe></div></div>"
      ],
      "text/plain": [
       "<folium.folium.Map at 0x13af5a0a080>"
      ]
     },
     "execution_count": 178,
     "metadata": {},
     "output_type": "execute_result"
    }
   ],
   "source": [
    "city = sum_sales_br_2.iloc[0]\n",
    "\n",
    "folium.Marker(\n",
    "    location=[city['lat'], city['long']],\n",
    ").add_to(map)\n",
    "\n",
    "\n",
    "for _, city in sum_sales_br_2.iterrows():\n",
    "    folium.Marker(\n",
    "        location = [city['lat'], city['long']],\n",
    "        popup = [city['Name']],\n",
    "        tooltip = [city['Name'],\n",
    "                                      \n",
    "                   \"Sales: \",city['BR_Total_M'],\n",
    "                   \n",
    "                   'Rank: ',city['rank']],\n",
    "        icon=folium.Icon(color=city['colors'], icon=city['icons'], prefix='fa')\n",
    "    ).add_to(map)\n",
    "map"
   ]
  },
  {
   "cell_type": "markdown",
   "id": "dd0ef924",
   "metadata": {},
   "source": [
    "\n",
    "### Export Map as html"
   ]
  },
  {
   "cell_type": "code",
   "execution_count": 179,
   "id": "96d2a963",
   "metadata": {},
   "outputs": [],
   "source": [
    "map.save('c:/users/user/python_trial/Branch_Sales.html')"
   ]
  }
 ],
 "metadata": {
  "kernelspec": {
   "display_name": "Python 3 (ipykernel)",
   "language": "python",
   "name": "python3"
  },
  "language_info": {
   "codemirror_mode": {
    "name": "ipython",
    "version": 3
   },
   "file_extension": ".py",
   "mimetype": "text/x-python",
   "name": "python",
   "nbconvert_exporter": "python",
   "pygments_lexer": "ipython3",
   "version": "3.10.6"
  }
 },
 "nbformat": 4,
 "nbformat_minor": 5
}
