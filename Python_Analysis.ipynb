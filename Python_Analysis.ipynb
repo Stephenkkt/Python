{
 "cells": [
  {
   "cell_type": "markdown",
   "id": "56fd1f80",
   "metadata": {},
   "source": [
    "## 1. Import Useful Module"
   ]
  },
  {
   "cell_type": "code",
   "execution_count": null,
   "id": "8b0f5fc5",
   "metadata": {
    "scrolled": true
   },
   "outputs": [],
   "source": [
    "#%run LIB.py"
   ]
  },
  {
   "cell_type": "markdown",
   "id": "27e0292e",
   "metadata": {},
   "source": [
    "### 2a. Import Sales file"
   ]
  },
  {
   "cell_type": "code",
   "execution_count": null,
   "id": "b0b3e0a6",
   "metadata": {
    "scrolled": true
   },
   "outputs": [],
   "source": [
    "file = 'https://raw.githubusercontent.com/Stephenkkt/Python/main/sales.csv'\n",
    "sales = pd.read_csv(file, parse_dates = ['date'], header = 0, index_col = 0, dtype = {'Amt':'float'})\n",
    "\n",
    "sales['mth'] = sales['date'].to_numpy().astype('datetime64[M]')\n",
    "print(\"Sales Table\")\n",
    "print(sales.head(5))\n",
    "\n",
    "print(\"\\nData Type\")\n",
    "print(sales.dtypes)\n",
    "\n",
    "#Describe the dataset\n",
    "print(\"\\n\")\n",
    "print(sales.describe(include='all'))\n",
    "\n",
    "print(\"\\n\")\n",
    "print(sales.nunique(axis=0))"
   ]
  },
  {
   "cell_type": "markdown",
   "id": "8c87601c",
   "metadata": {},
   "source": [
    "## 2b. Plot Simple Bar Chart - By Product"
   ]
  },
  {
   "cell_type": "code",
   "execution_count": null,
   "id": "87572a6e",
   "metadata": {
    "scrolled": true
   },
   "outputs": [],
   "source": [
    "pd.options.plotting.backend = \"plotly\"\n",
    "sales.groupby(by=[\"Prod\"]).sum()[[\"Amt\"]].plot(kind=\"bar\")"
   ]
  },
  {
   "cell_type": "markdown",
   "id": "700518e4",
   "metadata": {},
   "source": [
    "## 3. Import Product File"
   ]
  },
  {
   "cell_type": "code",
   "execution_count": null,
   "id": "e3ab7080",
   "metadata": {},
   "outputs": [],
   "source": [
    "prod = pd.read_csv('https://raw.githubusercontent.com/Stephenkkt/Python/main/Prod.csv', header = 0, index_col=0)\n",
    "\n",
    "print(\"Product:\\n\")\n",
    "print(prod.head(5))\n",
    "\n",
    "print(\"\\nData Type\")\n",
    "print(prod.dtypes)"
   ]
  },
  {
   "cell_type": "markdown",
   "id": "e7330a2d",
   "metadata": {},
   "source": [
    "## 4a. Import Branch File"
   ]
  },
  {
   "cell_type": "code",
   "execution_count": null,
   "id": "c3cd4bd1",
   "metadata": {},
   "outputs": [],
   "source": [
    "branch = pd.read_csv('https://raw.githubusercontent.com/Stephenkkt/Python/main/BR_F.csv', header = 0, index_col = 0)\n",
    "\n",
    "print(\"BRANCH:\\n\")\n",
    "print(branch.head(5))\n",
    "print(\"\\nData Type\")\n",
    "print(branch.dtypes)\n",
    "\n"
   ]
  },
  {
   "cell_type": "markdown",
   "id": "e56af1c5",
   "metadata": {},
   "source": [
    "## 4b. Clean branch address"
   ]
  },
  {
   "cell_type": "code",
   "execution_count": null,
   "id": "000c1710",
   "metadata": {},
   "outputs": [],
   "source": [
    "#Clean Postal Code\n",
    "branch['postal'] = branch['Zip'].str[:3] + \" \" + branch['Zip'].str[-3:]\n",
    "branch = branch.drop(columns = ['Zip'])\n",
    "\n",
    "#Create new field 'full address'\n",
    "branch['full_address'] = branch['Address'] + \",\" + \" Ontario\" + \",\" + \" Canada\"\n",
    "\n",
    "print('\\nBranch')\n",
    "print(branch.head())"
   ]
  },
  {
   "cell_type": "markdown",
   "id": "4016dda0",
   "metadata": {},
   "source": [
    "## 4c. Map branch coordination"
   ]
  },
  {
   "cell_type": "code",
   "execution_count": null,
   "id": "61df3c73",
   "metadata": {},
   "outputs": [],
   "source": [
    "#find the coordination\n",
    "geolocator = Nominatim(timeout=10, user_agent = \"MyApp\")\n",
    "branch['gcode'] = branch.full_address.apply(geolocator.geocode)\n",
    "\n",
    "branch['lat'] = [g.latitude for g in branch.gcode]\n",
    "branch['long'] = [g.longitude for g in branch.gcode]\n",
    "print(\"\\nBranch with Coordinate\")\n",
    "print(branch.head())\n"
   ]
  },
  {
   "cell_type": "markdown",
   "id": "3ea655e4",
   "metadata": {},
   "source": [
    "## 5. Import Staff File"
   ]
  },
  {
   "cell_type": "code",
   "execution_count": null,
   "id": "4a5e38b3",
   "metadata": {
    "scrolled": true
   },
   "outputs": [],
   "source": [
    "staff = pd.read_csv('https://raw.githubusercontent.com/Stephenkkt/Python/main/staff.csv', header = 0, index_col = 0)\n",
    "\n",
    "#staff = staff.reset_index()\n",
    "print(\"STAFF:\\n\")\n",
    "print(staff.head(5))\n",
    "\n",
    "print(\"\\nData Type\")\n",
    "print(staff.dtypes)\n",
    "\n",
    "print(\"\\n\")\n",
    "print(staff.nunique(axis=0))"
   ]
  },
  {
   "cell_type": "markdown",
   "id": "6902c004",
   "metadata": {},
   "source": [
    "## Import Target File"
   ]
  },
  {
   "cell_type": "code",
   "execution_count": null,
   "id": "8cb2e6d4",
   "metadata": {},
   "outputs": [],
   "source": [
    "Tar = pd.read_csv('https://raw.githubusercontent.com/Stephenkkt/Python/main/BR_TAR.csv', header = 0, index_col=0, dtype = {'Br_ID':'int64'})\n",
    "Tar['Sales_Tar'] = Tar['Sales_Tar'].replace(',','',regex=True)\n",
    "Tar['Sales_Tar'] = Tar['Sales_Tar'].astype('float')\n",
    "Tar = Tar.reset_index(drop=False)\n",
    "print(Tar.head())"
   ]
  },
  {
   "cell_type": "markdown",
   "id": "3f5decb2",
   "metadata": {},
   "source": [
    "## 6. Summary"
   ]
  },
  {
   "cell_type": "markdown",
   "id": "e4cab368",
   "metadata": {},
   "source": [
    "* **a.Summary in Staff Level**"
   ]
  },
  {
   "cell_type": "code",
   "execution_count": null,
   "id": "fc8ad512",
   "metadata": {},
   "outputs": [],
   "source": [
    "#Summary in Staff Level\n",
    "sum_sales_staff_1 = sales.groupby(['Staff_ID']).agg(Total=('Amt','sum'),\n",
    "                                                    Count=('Amt','count'),\n",
    "                                                    Avg_Tix=('Amt','mean')\n",
    "                                                   )\n",
    "print(\"\\nSales by Staff\")\n",
    "print(sum_sales_staff_1)"
   ]
  },
  {
   "cell_type": "markdown",
   "id": "99156c0a",
   "metadata": {},
   "source": [
    "* **Merge Staff Table for getting Branch ID**"
   ]
  },
  {
   "cell_type": "code",
   "execution_count": null,
   "id": "6d821893",
   "metadata": {},
   "outputs": [],
   "source": [
    "sum_sales_br_1 = pd.merge(sum_sales_staff_1, staff, how = 'inner', left_on = 'Staff_ID', right_on = 'Staff_ID')\n",
    "\n",
    "print(\"\\nSales by Staff with Branch\")\n",
    "print(sum_sales_br_1)"
   ]
  },
  {
   "cell_type": "markdown",
   "id": "bdeb1ec0",
   "metadata": {},
   "source": [
    "* **Summary in Branch Level**"
   ]
  },
  {
   "cell_type": "code",
   "execution_count": null,
   "id": "24484006",
   "metadata": {},
   "outputs": [],
   "source": [
    "sum_sales_br_2 = sum_sales_br_1.groupby(['Br_ID']).agg(BR_Total = ('Total', 'sum'),\n",
    "                                                    BR_Count = ('Count','sum')\n",
    "                                                    )\n",
    "sum_sales_br_2['BR_Avg_Tix']=sum_sales_br_2['BR_Total']/sum_sales_br_2['BR_Count']\n",
    "print(\"\\nSales by Branch\")\n",
    "print(sum_sales_br_2.head())\n",
    "print(\"\\nSales by Branch - Number of Record\")\n",
    "print(len(sum_sales_br_2))"
   ]
  },
  {
   "cell_type": "markdown",
   "id": "2d165e09",
   "metadata": {},
   "source": [
    "* **Merge Branch Table for Brnach details and create rank**"
   ]
  },
  {
   "cell_type": "code",
   "execution_count": null,
   "id": "75259309",
   "metadata": {},
   "outputs": [],
   "source": [
    "sum_sales_br_2 = pd.merge(sum_sales_br_2,branch, how = 'inner', left_on = 'Br_ID', right_on = 'Br_ID')\n",
    "\n",
    "#Create Ranking\n",
    "sum_sales_br_2['rank'] = sum_sales_br_2['BR_Total'].rank(ascending = False).astype(int)\n",
    "\n",
    "print(\"\\nSales by Branch\")\n",
    "print(sum_sales_br_2.head())\n",
    "\n",
    "print(\"\\nSales by Branch - Number of Record\")\n",
    "print(len(sum_sales_br_2))"
   ]
  },
  {
   "cell_type": "markdown",
   "id": "f38fabe5",
   "metadata": {},
   "source": [
    "## Summary by date"
   ]
  },
  {
   "cell_type": "code",
   "execution_count": null,
   "id": "44ae3442",
   "metadata": {},
   "outputs": [],
   "source": [
    "sum_sales_date = sales.groupby('date').agg(Total = ('Amt', 'sum'),\n",
    "                                           Count = ('Amt', 'count')\n",
    "                                          )\n",
    "sum_sales_date = sum_sales_date.reset_index(drop = False)\n",
    "print(\"Sale by Date\")\n",
    "print(sum_sales_date)"
   ]
  },
  {
   "cell_type": "markdown",
   "id": "d625601f",
   "metadata": {},
   "source": [
    "## Summary by Category, Product and month"
   ]
  },
  {
   "cell_type": "markdown",
   "id": "153703d4",
   "metadata": {},
   "source": [
    "* **Summary by Product and month**"
   ]
  },
  {
   "cell_type": "code",
   "execution_count": null,
   "id": "ecb031ab",
   "metadata": {},
   "outputs": [],
   "source": [
    "sum_sales_prod_mth = sales.groupby(['mth','Prod']).agg(Total = (\"Amt\",\"sum\"),\n",
    "                                                       Count = (\"Amt\", \"count\")\n",
    "                                                      )\n",
    "sum_sales_prod_mth = sum_sales_prod_mth.reset_index(drop = False)\n",
    "print(\"\\nSale by Prod and mth\")\n",
    "print(sum_sales_prod_mth)\n"
   ]
  },
  {
   "cell_type": "markdown",
   "id": "4c047104",
   "metadata": {},
   "source": [
    "* **Merge Product Table**"
   ]
  },
  {
   "cell_type": "code",
   "execution_count": null,
   "id": "4fae2257",
   "metadata": {
    "scrolled": true
   },
   "outputs": [],
   "source": [
    "sum_sales_prod_mth = pd.merge(sum_sales_prod_mth,prod, how = 'inner', left_on = \"Prod\", right_on = \"Prod\")\n",
    "\n",
    "print(\"\\nSale by Prod and mth\")\n",
    "print(sum_sales_prod_mth)"
   ]
  },
  {
   "cell_type": "markdown",
   "id": "9a1c6a6f",
   "metadata": {},
   "source": [
    "## Branch sales in latest month"
   ]
  },
  {
   "cell_type": "code",
   "execution_count": null,
   "id": "dbc1840d",
   "metadata": {},
   "outputs": [],
   "source": [
    "curr_mth_sales = sales.copy()\n",
    "\n",
    "curr_mth_sales2 = curr_mth_sales.loc[(sales['date'].max().to_numpy().astype('datetime64[M]') == sales['date'].to_numpy().astype('datetime64[M]'))]\n",
    "\n",
    "print(\"min=\" + str(curr_mth_sales2['date'].min()))\n",
    "\n",
    "print(\"\\nmax=\"+str(curr_mth_sales2['date'].max()))\n",
    "sum_curr_mth_1 = curr_mth_sales2.groupby(['Staff_ID']).agg(Total = ('Amt', 'sum'),\n",
    "                                                           Count = ('Amt', 'count')\n",
    "                                                            )\n",
    "\n",
    "sum_curr_mth_1 = pd.merge(sum_sales_staff_1, staff, how = 'inner', left_on = 'Staff_ID', right_on = 'Staff_ID')\n",
    "sum_curr_mth_2 = sum_curr_mth_1.groupby(['Br_ID']).agg(Total = ('Total', 'sum'),\n",
    "                                                           Count = ('Count', 'sum')\n",
    "                                                            )\n",
    "\n",
    "sum_curr_mth_2 = pd.merge(sum_curr_mth_2,Tar, how = 'inner', left_on='Br_ID', right_on='Br_ID')\n",
    "sum_curr_mth_2 = pd.merge(sum_curr_mth_2,branch[['Br_ID','Name']], how = 'inner', left_on='Br_ID', right_on='Br_ID')\n",
    "\n",
    "print(sum_curr_mth_2.head())"
   ]
  },
  {
   "cell_type": "markdown",
   "id": "d8246d68",
   "metadata": {},
   "source": [
    "## Export Files"
   ]
  },
  {
   "cell_type": "code",
   "execution_count": null,
   "id": "146cdbf8",
   "metadata": {},
   "outputs": [],
   "source": [
    "sum_sales_prod_mth.to_csv('sum_prod_mth.csv', index = False, header = 1)\n",
    "sum_sales_br_2.to_csv('sum_branch.csv', index = False, header = 1)\n",
    "sum_sales_date.to_csv('sum_date.csv', index = False, header = 1)\n",
    "sum_curr_mth_2.to_csv('sum_achievement.csv', index = False, header = 1)"
   ]
  },
  {
   "cell_type": "markdown",
   "id": "0f2d75f0",
   "metadata": {},
   "source": [
    "## Show all generated dataframe"
   ]
  },
  {
   "cell_type": "code",
   "execution_count": null,
   "id": "c573c349",
   "metadata": {
    "scrolled": true
   },
   "outputs": [],
   "source": [
    "%whos DataFrame"
   ]
  },
  {
   "cell_type": "markdown",
   "id": "7eb0ba41",
   "metadata": {},
   "source": [
    "## 7. Create Map"
   ]
  },
  {
   "cell_type": "code",
   "execution_count": null,
   "id": "3745e3a6",
   "metadata": {},
   "outputs": [],
   "source": [
    "import folium\n",
    "\n",
    "# Find the Latitude & Longtitude for the map\n",
    "avg_lat=branch['lat'].mean()\n",
    "avg_long=branch['long'].mean()\n",
    "\n",
    "print(avg_lat)\n",
    "print(avg_long)\n",
    "\n",
    "map = folium.Map(\n",
    "    height=700, width=700,\n",
    "    titles='Branch Sales',\n",
    "    location=[avg_lat, avg_long],\n",
    "    zoom_start = 11\n",
    ")\n",
    "map\n"
   ]
  },
  {
   "cell_type": "code",
   "execution_count": null,
   "id": "bfef4d8a",
   "metadata": {},
   "outputs": [],
   "source": [
    "# Map Colour \n",
    "def sales_rank(row):\n",
    "    if row['rank'] <=5:\n",
    "        return 'pink'\n",
    "    elif row['rank'] >=46:\n",
    "        return 'red'\n",
    "    else:\n",
    "        return 'blue'\n",
    "\n",
    "def sales_icon(row):\n",
    "    if row['rank'] <=5:\n",
    "        return 'star'\n",
    "    elif row['rank'] >=46:\n",
    "        return 'exclamation'\n",
    "    else:\n",
    "        return 'fa-circle'\n",
    "\n",
    "sum_sales_br_2['colors'] = sum_sales_br_2.apply(sales_rank, axis=1)\n",
    "sum_sales_br_2['icons'] = sum_sales_br_2.apply(sales_icon, axis=1)\n",
    "sum_sales_br_2['BR_Total_M']= \"$\" + (round(sum_sales_br_2['BR_Total']/100000,1)).astype(str) + \"M\"\n",
    "print(sum_sales_br_2['icons'].unique())\n",
    "print(sum_sales_br_2['colors'].unique())"
   ]
  },
  {
   "cell_type": "code",
   "execution_count": null,
   "id": "6b788242",
   "metadata": {
    "scrolled": false
   },
   "outputs": [],
   "source": [
    "city = sum_sales_br_2.iloc[0]\n",
    "\n",
    "folium.Marker(\n",
    "    location=[city['lat'], city['long']],\n",
    ").add_to(map)\n",
    "\n",
    "\n",
    "for _, city in sum_sales_br_2.iterrows():\n",
    "    folium.Marker(\n",
    "        location = [city['lat'], city['long']],\n",
    "        popup = [city['Name']],\n",
    "        tooltip = [city['Name'],\n",
    "                                      \n",
    "                   \"Sales: \",city['BR_Total_M'],\n",
    "                   \n",
    "                   'Rank: ',city['rank']],\n",
    "        icon=folium.Icon(color=city['colors'], icon=city['icons'], prefix='fa')\n",
    "    ).add_to(map)\n",
    "map"
   ]
  },
  {
   "cell_type": "markdown",
   "id": "dd0ef924",
   "metadata": {},
   "source": [
    "\n",
    "### Export Map as html"
   ]
  },
  {
   "cell_type": "code",
   "execution_count": null,
   "id": "96d2a963",
   "metadata": {},
   "outputs": [],
   "source": [
    "map.save('c:/users/user/python_trial/Branch_Sales.html')"
   ]
  }
 ],
 "metadata": {
  "kernelspec": {
   "display_name": "Python 3 (ipykernel)",
   "language": "python",
   "name": "python3"
  },
  "language_info": {
   "codemirror_mode": {
    "name": "ipython",
    "version": 3
   },
   "file_extension": ".py",
   "mimetype": "text/x-python",
   "name": "python",
   "nbconvert_exporter": "python",
   "pygments_lexer": "ipython3",
   "version": "3.10.6"
  }
 },
 "nbformat": 4,
 "nbformat_minor": 5
}
