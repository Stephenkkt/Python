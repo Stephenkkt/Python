{
 "cells": [
  {
   "cell_type": "markdown",
   "id": "56fd1f80",
   "metadata": {},
   "source": [
    "## 1. Import Useful Module"
   ]
  },
  {
   "cell_type": "code",
   "execution_count": 57,
   "id": "8b0f5fc5",
   "metadata": {
    "scrolled": true
   },
   "outputs": [],
   "source": [
    "#%run LIB.py\n",
    "\n",
    "\n",
    "import pandas as pd\n",
    "from functools import reduce\n",
    "import numpy as np\n",
    "from datetime import datetime\n",
    "\n",
    "import folium\n",
    "import selenium #pip install SELENIUM\n",
    "\n",
    "import streamlit as st #pip install streamlit \n",
    "from streamlit_option_menu import option_menu # \n",
    "\n",
    "import plotly.express as px #pip install plotly\n",
    "from PIL import Image\n",
    "\n",
    "from geopy.geocoders import Nominatim #pip install geopy\n",
    "import time\n",
    "from pprint import pprint\n",
    "\n",
    "import matplotlib.pyplot as plt\n",
    "import sqlite3\n",
    "from sqlite3 import connect\n",
    "\n",
    "import warnings\n",
    "warnings.filterwarnings(\"ignore\")\n",
    "\n",
    "\n",
    "from dateutil import relativedelta #pip install python-dateutil"
   ]
  },
  {
   "cell_type": "markdown",
   "id": "27e0292e",
   "metadata": {},
   "source": [
    "### 2a. Import Sales file"
   ]
  },
  {
   "cell_type": "code",
   "execution_count": 58,
   "id": "b0b3e0a6",
   "metadata": {},
   "outputs": [
    {
     "name": "stdout",
     "output_type": "stream",
     "text": [
      "Sales Table\n",
      "   Cust_ID  Staff_ID      Amt Prod       date        mth\n",
      "0      102        45  37500.0    E 2021-01-26 2021-01-01\n",
      "1       97        10  43500.0    E 2021-01-01 2021-01-01\n",
      "2      151       225  19500.0    C 2019-10-16 2019-10-01\n",
      "3      185        54  21000.0    C 2019-08-04 2019-08-01\n",
      "4       61        88  24500.0    C 2020-02-19 2020-02-01\n",
      "\n",
      "Data Type\n",
      "Cust_ID              int64\n",
      "Staff_ID             int64\n",
      "Amt                float64\n",
      "Prod                object\n",
      "date        datetime64[ns]\n",
      "mth         datetime64[ns]\n",
      "dtype: object\n",
      "\n",
      "\n",
      "             Cust_ID      Staff_ID           Amt   Prod                 date  \\\n",
      "count   10000.000000  10000.000000  10000.000000  10000                10000   \n",
      "unique           NaN           NaN           NaN     10                 1000   \n",
      "top              NaN           NaN           NaN      B  2019-11-05 00:00:00   \n",
      "freq             NaN           NaN           NaN   1041                   22   \n",
      "first            NaN           NaN           NaN    NaN  2019-01-02 00:00:00   \n",
      "last             NaN           NaN           NaN    NaN  2021-09-27 00:00:00   \n",
      "mean      199.838600    151.349200  25253.950000    NaN                  NaN   \n",
      "std       115.305653     86.796227  14306.383249    NaN                  NaN   \n",
      "min         1.000000      1.000000    500.000000    NaN                  NaN   \n",
      "25%       100.000000     76.000000  13000.000000    NaN                  NaN   \n",
      "50%       201.000000    152.000000  25000.000000    NaN                  NaN   \n",
      "75%       300.000000    227.000000  37500.000000    NaN                  NaN   \n",
      "max       400.000000    300.000000  50000.000000    NaN                  NaN   \n",
      "\n",
      "                        mth  \n",
      "count                 10000  \n",
      "unique                   33  \n",
      "top     2019-12-01 00:00:00  \n",
      "freq                    345  \n",
      "first   2019-01-01 00:00:00  \n",
      "last    2021-09-01 00:00:00  \n",
      "mean                    NaN  \n",
      "std                     NaN  \n",
      "min                     NaN  \n",
      "25%                     NaN  \n",
      "50%                     NaN  \n",
      "75%                     NaN  \n",
      "max                     NaN  \n",
      "\n",
      "\n",
      "Cust_ID      400\n",
      "Staff_ID     300\n",
      "Amt          100\n",
      "Prod          10\n",
      "date        1000\n",
      "mth           33\n",
      "dtype: int64\n",
      "\n",
      "Total Sales amount\n",
      "252539500.0\n"
     ]
    }
   ],
   "source": [
    "import pandas as pd\n",
    "\n",
    "file = 'https://raw.githubusercontent.com/Stephenkkt/Python/main/sales.csv'\n",
    "sales = pd.read_csv(file, parse_dates = ['date'], header = 0, index_col = 0, dtype = {'Amt':'float'})\n",
    "\n",
    "sales['mth'] = sales['date'].to_numpy().astype('datetime64[M]')\n",
    "print(\"Sales Table\")\n",
    "print(sales.head(5))\n",
    "\n",
    "print(\"\\nData Type\")\n",
    "print(sales.dtypes)\n",
    "\n",
    "#Describe the dataset\n",
    "print(\"\\n\")\n",
    "print(sales.describe(include='all'))\n",
    "\n",
    "print(\"\\n\")\n",
    "print(sales.nunique(axis=0))\n",
    "\n",
    "print(\"\\nTotal Sales amount\")\n",
    "print(sum(sales['Amt']))\n"
   ]
  },
  {
   "cell_type": "markdown",
   "id": "8c87601c",
   "metadata": {},
   "source": [
    "## 2b. Plot Simple Bar Chart - By Product"
   ]
  },
  {
   "cell_type": "code",
   "execution_count": 59,
   "id": "87572a6e",
   "metadata": {
    "scrolled": true
   },
   "outputs": [
    {
     "data": {
      "application/vnd.plotly.v1+json": {
       "config": {
        "plotlyServerURL": "https://plot.ly"
       },
       "data": [
        {
         "alignmentgroup": "True",
         "hovertemplate": "variable=Amt<br>Prod=%{x}<br>value=%{y}<extra></extra>",
         "legendgroup": "Amt",
         "marker": {
          "color": "#636efa",
          "pattern": {
           "shape": ""
          }
         },
         "name": "Amt",
         "offsetgroup": "Amt",
         "orientation": "v",
         "showlegend": true,
         "textposition": "auto",
         "type": "bar",
         "x": [
          "A",
          "B",
          "C",
          "D",
          "E",
          "F",
          "G",
          "H",
          "I",
          "J"
         ],
         "xaxis": "x",
         "y": [
          25467000,
          26259500,
          23153500,
          25583500,
          25348500,
          25431500,
          24785500,
          25097500,
          25628000,
          25785000
         ],
         "yaxis": "y"
        }
       ],
       "layout": {
        "barmode": "relative",
        "legend": {
         "title": {
          "text": "variable"
         },
         "tracegroupgap": 0
        },
        "margin": {
         "t": 60
        },
        "template": {
         "data": {
          "bar": [
           {
            "error_x": {
             "color": "#2a3f5f"
            },
            "error_y": {
             "color": "#2a3f5f"
            },
            "marker": {
             "line": {
              "color": "#E5ECF6",
              "width": 0.5
             },
             "pattern": {
              "fillmode": "overlay",
              "size": 10,
              "solidity": 0.2
             }
            },
            "type": "bar"
           }
          ],
          "barpolar": [
           {
            "marker": {
             "line": {
              "color": "#E5ECF6",
              "width": 0.5
             },
             "pattern": {
              "fillmode": "overlay",
              "size": 10,
              "solidity": 0.2
             }
            },
            "type": "barpolar"
           }
          ],
          "carpet": [
           {
            "aaxis": {
             "endlinecolor": "#2a3f5f",
             "gridcolor": "white",
             "linecolor": "white",
             "minorgridcolor": "white",
             "startlinecolor": "#2a3f5f"
            },
            "baxis": {
             "endlinecolor": "#2a3f5f",
             "gridcolor": "white",
             "linecolor": "white",
             "minorgridcolor": "white",
             "startlinecolor": "#2a3f5f"
            },
            "type": "carpet"
           }
          ],
          "choropleth": [
           {
            "colorbar": {
             "outlinewidth": 0,
             "ticks": ""
            },
            "type": "choropleth"
           }
          ],
          "contour": [
           {
            "colorbar": {
             "outlinewidth": 0,
             "ticks": ""
            },
            "colorscale": [
             [
              0,
              "#0d0887"
             ],
             [
              0.1111111111111111,
              "#46039f"
             ],
             [
              0.2222222222222222,
              "#7201a8"
             ],
             [
              0.3333333333333333,
              "#9c179e"
             ],
             [
              0.4444444444444444,
              "#bd3786"
             ],
             [
              0.5555555555555556,
              "#d8576b"
             ],
             [
              0.6666666666666666,
              "#ed7953"
             ],
             [
              0.7777777777777778,
              "#fb9f3a"
             ],
             [
              0.8888888888888888,
              "#fdca26"
             ],
             [
              1,
              "#f0f921"
             ]
            ],
            "type": "contour"
           }
          ],
          "contourcarpet": [
           {
            "colorbar": {
             "outlinewidth": 0,
             "ticks": ""
            },
            "type": "contourcarpet"
           }
          ],
          "heatmap": [
           {
            "colorbar": {
             "outlinewidth": 0,
             "ticks": ""
            },
            "colorscale": [
             [
              0,
              "#0d0887"
             ],
             [
              0.1111111111111111,
              "#46039f"
             ],
             [
              0.2222222222222222,
              "#7201a8"
             ],
             [
              0.3333333333333333,
              "#9c179e"
             ],
             [
              0.4444444444444444,
              "#bd3786"
             ],
             [
              0.5555555555555556,
              "#d8576b"
             ],
             [
              0.6666666666666666,
              "#ed7953"
             ],
             [
              0.7777777777777778,
              "#fb9f3a"
             ],
             [
              0.8888888888888888,
              "#fdca26"
             ],
             [
              1,
              "#f0f921"
             ]
            ],
            "type": "heatmap"
           }
          ],
          "heatmapgl": [
           {
            "colorbar": {
             "outlinewidth": 0,
             "ticks": ""
            },
            "colorscale": [
             [
              0,
              "#0d0887"
             ],
             [
              0.1111111111111111,
              "#46039f"
             ],
             [
              0.2222222222222222,
              "#7201a8"
             ],
             [
              0.3333333333333333,
              "#9c179e"
             ],
             [
              0.4444444444444444,
              "#bd3786"
             ],
             [
              0.5555555555555556,
              "#d8576b"
             ],
             [
              0.6666666666666666,
              "#ed7953"
             ],
             [
              0.7777777777777778,
              "#fb9f3a"
             ],
             [
              0.8888888888888888,
              "#fdca26"
             ],
             [
              1,
              "#f0f921"
             ]
            ],
            "type": "heatmapgl"
           }
          ],
          "histogram": [
           {
            "marker": {
             "pattern": {
              "fillmode": "overlay",
              "size": 10,
              "solidity": 0.2
             }
            },
            "type": "histogram"
           }
          ],
          "histogram2d": [
           {
            "colorbar": {
             "outlinewidth": 0,
             "ticks": ""
            },
            "colorscale": [
             [
              0,
              "#0d0887"
             ],
             [
              0.1111111111111111,
              "#46039f"
             ],
             [
              0.2222222222222222,
              "#7201a8"
             ],
             [
              0.3333333333333333,
              "#9c179e"
             ],
             [
              0.4444444444444444,
              "#bd3786"
             ],
             [
              0.5555555555555556,
              "#d8576b"
             ],
             [
              0.6666666666666666,
              "#ed7953"
             ],
             [
              0.7777777777777778,
              "#fb9f3a"
             ],
             [
              0.8888888888888888,
              "#fdca26"
             ],
             [
              1,
              "#f0f921"
             ]
            ],
            "type": "histogram2d"
           }
          ],
          "histogram2dcontour": [
           {
            "colorbar": {
             "outlinewidth": 0,
             "ticks": ""
            },
            "colorscale": [
             [
              0,
              "#0d0887"
             ],
             [
              0.1111111111111111,
              "#46039f"
             ],
             [
              0.2222222222222222,
              "#7201a8"
             ],
             [
              0.3333333333333333,
              "#9c179e"
             ],
             [
              0.4444444444444444,
              "#bd3786"
             ],
             [
              0.5555555555555556,
              "#d8576b"
             ],
             [
              0.6666666666666666,
              "#ed7953"
             ],
             [
              0.7777777777777778,
              "#fb9f3a"
             ],
             [
              0.8888888888888888,
              "#fdca26"
             ],
             [
              1,
              "#f0f921"
             ]
            ],
            "type": "histogram2dcontour"
           }
          ],
          "mesh3d": [
           {
            "colorbar": {
             "outlinewidth": 0,
             "ticks": ""
            },
            "type": "mesh3d"
           }
          ],
          "parcoords": [
           {
            "line": {
             "colorbar": {
              "outlinewidth": 0,
              "ticks": ""
             }
            },
            "type": "parcoords"
           }
          ],
          "pie": [
           {
            "automargin": true,
            "type": "pie"
           }
          ],
          "scatter": [
           {
            "fillpattern": {
             "fillmode": "overlay",
             "size": 10,
             "solidity": 0.2
            },
            "type": "scatter"
           }
          ],
          "scatter3d": [
           {
            "line": {
             "colorbar": {
              "outlinewidth": 0,
              "ticks": ""
             }
            },
            "marker": {
             "colorbar": {
              "outlinewidth": 0,
              "ticks": ""
             }
            },
            "type": "scatter3d"
           }
          ],
          "scattercarpet": [
           {
            "marker": {
             "colorbar": {
              "outlinewidth": 0,
              "ticks": ""
             }
            },
            "type": "scattercarpet"
           }
          ],
          "scattergeo": [
           {
            "marker": {
             "colorbar": {
              "outlinewidth": 0,
              "ticks": ""
             }
            },
            "type": "scattergeo"
           }
          ],
          "scattergl": [
           {
            "marker": {
             "colorbar": {
              "outlinewidth": 0,
              "ticks": ""
             }
            },
            "type": "scattergl"
           }
          ],
          "scattermapbox": [
           {
            "marker": {
             "colorbar": {
              "outlinewidth": 0,
              "ticks": ""
             }
            },
            "type": "scattermapbox"
           }
          ],
          "scatterpolar": [
           {
            "marker": {
             "colorbar": {
              "outlinewidth": 0,
              "ticks": ""
             }
            },
            "type": "scatterpolar"
           }
          ],
          "scatterpolargl": [
           {
            "marker": {
             "colorbar": {
              "outlinewidth": 0,
              "ticks": ""
             }
            },
            "type": "scatterpolargl"
           }
          ],
          "scatterternary": [
           {
            "marker": {
             "colorbar": {
              "outlinewidth": 0,
              "ticks": ""
             }
            },
            "type": "scatterternary"
           }
          ],
          "surface": [
           {
            "colorbar": {
             "outlinewidth": 0,
             "ticks": ""
            },
            "colorscale": [
             [
              0,
              "#0d0887"
             ],
             [
              0.1111111111111111,
              "#46039f"
             ],
             [
              0.2222222222222222,
              "#7201a8"
             ],
             [
              0.3333333333333333,
              "#9c179e"
             ],
             [
              0.4444444444444444,
              "#bd3786"
             ],
             [
              0.5555555555555556,
              "#d8576b"
             ],
             [
              0.6666666666666666,
              "#ed7953"
             ],
             [
              0.7777777777777778,
              "#fb9f3a"
             ],
             [
              0.8888888888888888,
              "#fdca26"
             ],
             [
              1,
              "#f0f921"
             ]
            ],
            "type": "surface"
           }
          ],
          "table": [
           {
            "cells": {
             "fill": {
              "color": "#EBF0F8"
             },
             "line": {
              "color": "white"
             }
            },
            "header": {
             "fill": {
              "color": "#C8D4E3"
             },
             "line": {
              "color": "white"
             }
            },
            "type": "table"
           }
          ]
         },
         "layout": {
          "annotationdefaults": {
           "arrowcolor": "#2a3f5f",
           "arrowhead": 0,
           "arrowwidth": 1
          },
          "autotypenumbers": "strict",
          "coloraxis": {
           "colorbar": {
            "outlinewidth": 0,
            "ticks": ""
           }
          },
          "colorscale": {
           "diverging": [
            [
             0,
             "#8e0152"
            ],
            [
             0.1,
             "#c51b7d"
            ],
            [
             0.2,
             "#de77ae"
            ],
            [
             0.3,
             "#f1b6da"
            ],
            [
             0.4,
             "#fde0ef"
            ],
            [
             0.5,
             "#f7f7f7"
            ],
            [
             0.6,
             "#e6f5d0"
            ],
            [
             0.7,
             "#b8e186"
            ],
            [
             0.8,
             "#7fbc41"
            ],
            [
             0.9,
             "#4d9221"
            ],
            [
             1,
             "#276419"
            ]
           ],
           "sequential": [
            [
             0,
             "#0d0887"
            ],
            [
             0.1111111111111111,
             "#46039f"
            ],
            [
             0.2222222222222222,
             "#7201a8"
            ],
            [
             0.3333333333333333,
             "#9c179e"
            ],
            [
             0.4444444444444444,
             "#bd3786"
            ],
            [
             0.5555555555555556,
             "#d8576b"
            ],
            [
             0.6666666666666666,
             "#ed7953"
            ],
            [
             0.7777777777777778,
             "#fb9f3a"
            ],
            [
             0.8888888888888888,
             "#fdca26"
            ],
            [
             1,
             "#f0f921"
            ]
           ],
           "sequentialminus": [
            [
             0,
             "#0d0887"
            ],
            [
             0.1111111111111111,
             "#46039f"
            ],
            [
             0.2222222222222222,
             "#7201a8"
            ],
            [
             0.3333333333333333,
             "#9c179e"
            ],
            [
             0.4444444444444444,
             "#bd3786"
            ],
            [
             0.5555555555555556,
             "#d8576b"
            ],
            [
             0.6666666666666666,
             "#ed7953"
            ],
            [
             0.7777777777777778,
             "#fb9f3a"
            ],
            [
             0.8888888888888888,
             "#fdca26"
            ],
            [
             1,
             "#f0f921"
            ]
           ]
          },
          "colorway": [
           "#636efa",
           "#EF553B",
           "#00cc96",
           "#ab63fa",
           "#FFA15A",
           "#19d3f3",
           "#FF6692",
           "#B6E880",
           "#FF97FF",
           "#FECB52"
          ],
          "font": {
           "color": "#2a3f5f"
          },
          "geo": {
           "bgcolor": "white",
           "lakecolor": "white",
           "landcolor": "#E5ECF6",
           "showlakes": true,
           "showland": true,
           "subunitcolor": "white"
          },
          "hoverlabel": {
           "align": "left"
          },
          "hovermode": "closest",
          "mapbox": {
           "style": "light"
          },
          "paper_bgcolor": "white",
          "plot_bgcolor": "#E5ECF6",
          "polar": {
           "angularaxis": {
            "gridcolor": "white",
            "linecolor": "white",
            "ticks": ""
           },
           "bgcolor": "#E5ECF6",
           "radialaxis": {
            "gridcolor": "white",
            "linecolor": "white",
            "ticks": ""
           }
          },
          "scene": {
           "xaxis": {
            "backgroundcolor": "#E5ECF6",
            "gridcolor": "white",
            "gridwidth": 2,
            "linecolor": "white",
            "showbackground": true,
            "ticks": "",
            "zerolinecolor": "white"
           },
           "yaxis": {
            "backgroundcolor": "#E5ECF6",
            "gridcolor": "white",
            "gridwidth": 2,
            "linecolor": "white",
            "showbackground": true,
            "ticks": "",
            "zerolinecolor": "white"
           },
           "zaxis": {
            "backgroundcolor": "#E5ECF6",
            "gridcolor": "white",
            "gridwidth": 2,
            "linecolor": "white",
            "showbackground": true,
            "ticks": "",
            "zerolinecolor": "white"
           }
          },
          "shapedefaults": {
           "line": {
            "color": "#2a3f5f"
           }
          },
          "ternary": {
           "aaxis": {
            "gridcolor": "white",
            "linecolor": "white",
            "ticks": ""
           },
           "baxis": {
            "gridcolor": "white",
            "linecolor": "white",
            "ticks": ""
           },
           "bgcolor": "#E5ECF6",
           "caxis": {
            "gridcolor": "white",
            "linecolor": "white",
            "ticks": ""
           }
          },
          "title": {
           "x": 0.05
          },
          "xaxis": {
           "automargin": true,
           "gridcolor": "white",
           "linecolor": "white",
           "ticks": "",
           "title": {
            "standoff": 15
           },
           "zerolinecolor": "white",
           "zerolinewidth": 2
          },
          "yaxis": {
           "automargin": true,
           "gridcolor": "white",
           "linecolor": "white",
           "ticks": "",
           "title": {
            "standoff": 15
           },
           "zerolinecolor": "white",
           "zerolinewidth": 2
          }
         }
        },
        "xaxis": {
         "anchor": "y",
         "domain": [
          0,
          1
         ],
         "title": {
          "text": "Prod"
         }
        },
        "yaxis": {
         "anchor": "x",
         "domain": [
          0,
          1
         ],
         "title": {
          "text": "value"
         }
        }
       }
      },
      "text/html": [
       "<div>                            <div id=\"098ee6bf-6cf8-4c88-8ba0-9b4758aee023\" class=\"plotly-graph-div\" style=\"height:525px; width:100%;\"></div>            <script type=\"text/javascript\">                require([\"plotly\"], function(Plotly) {                    window.PLOTLYENV=window.PLOTLYENV || {};                                    if (document.getElementById(\"098ee6bf-6cf8-4c88-8ba0-9b4758aee023\")) {                    Plotly.newPlot(                        \"098ee6bf-6cf8-4c88-8ba0-9b4758aee023\",                        [{\"alignmentgroup\":\"True\",\"hovertemplate\":\"variable=Amt<br>Prod=%{x}<br>value=%{y}<extra></extra>\",\"legendgroup\":\"Amt\",\"marker\":{\"color\":\"#636efa\",\"pattern\":{\"shape\":\"\"}},\"name\":\"Amt\",\"offsetgroup\":\"Amt\",\"orientation\":\"v\",\"showlegend\":true,\"textposition\":\"auto\",\"x\":[\"A\",\"B\",\"C\",\"D\",\"E\",\"F\",\"G\",\"H\",\"I\",\"J\"],\"xaxis\":\"x\",\"y\":[25467000.0,26259500.0,23153500.0,25583500.0,25348500.0,25431500.0,24785500.0,25097500.0,25628000.0,25785000.0],\"yaxis\":\"y\",\"type\":\"bar\"}],                        {\"template\":{\"data\":{\"histogram2dcontour\":[{\"type\":\"histogram2dcontour\",\"colorbar\":{\"outlinewidth\":0,\"ticks\":\"\"},\"colorscale\":[[0.0,\"#0d0887\"],[0.1111111111111111,\"#46039f\"],[0.2222222222222222,\"#7201a8\"],[0.3333333333333333,\"#9c179e\"],[0.4444444444444444,\"#bd3786\"],[0.5555555555555556,\"#d8576b\"],[0.6666666666666666,\"#ed7953\"],[0.7777777777777778,\"#fb9f3a\"],[0.8888888888888888,\"#fdca26\"],[1.0,\"#f0f921\"]]}],\"choropleth\":[{\"type\":\"choropleth\",\"colorbar\":{\"outlinewidth\":0,\"ticks\":\"\"}}],\"histogram2d\":[{\"type\":\"histogram2d\",\"colorbar\":{\"outlinewidth\":0,\"ticks\":\"\"},\"colorscale\":[[0.0,\"#0d0887\"],[0.1111111111111111,\"#46039f\"],[0.2222222222222222,\"#7201a8\"],[0.3333333333333333,\"#9c179e\"],[0.4444444444444444,\"#bd3786\"],[0.5555555555555556,\"#d8576b\"],[0.6666666666666666,\"#ed7953\"],[0.7777777777777778,\"#fb9f3a\"],[0.8888888888888888,\"#fdca26\"],[1.0,\"#f0f921\"]]}],\"heatmap\":[{\"type\":\"heatmap\",\"colorbar\":{\"outlinewidth\":0,\"ticks\":\"\"},\"colorscale\":[[0.0,\"#0d0887\"],[0.1111111111111111,\"#46039f\"],[0.2222222222222222,\"#7201a8\"],[0.3333333333333333,\"#9c179e\"],[0.4444444444444444,\"#bd3786\"],[0.5555555555555556,\"#d8576b\"],[0.6666666666666666,\"#ed7953\"],[0.7777777777777778,\"#fb9f3a\"],[0.8888888888888888,\"#fdca26\"],[1.0,\"#f0f921\"]]}],\"heatmapgl\":[{\"type\":\"heatmapgl\",\"colorbar\":{\"outlinewidth\":0,\"ticks\":\"\"},\"colorscale\":[[0.0,\"#0d0887\"],[0.1111111111111111,\"#46039f\"],[0.2222222222222222,\"#7201a8\"],[0.3333333333333333,\"#9c179e\"],[0.4444444444444444,\"#bd3786\"],[0.5555555555555556,\"#d8576b\"],[0.6666666666666666,\"#ed7953\"],[0.7777777777777778,\"#fb9f3a\"],[0.8888888888888888,\"#fdca26\"],[1.0,\"#f0f921\"]]}],\"contourcarpet\":[{\"type\":\"contourcarpet\",\"colorbar\":{\"outlinewidth\":0,\"ticks\":\"\"}}],\"contour\":[{\"type\":\"contour\",\"colorbar\":{\"outlinewidth\":0,\"ticks\":\"\"},\"colorscale\":[[0.0,\"#0d0887\"],[0.1111111111111111,\"#46039f\"],[0.2222222222222222,\"#7201a8\"],[0.3333333333333333,\"#9c179e\"],[0.4444444444444444,\"#bd3786\"],[0.5555555555555556,\"#d8576b\"],[0.6666666666666666,\"#ed7953\"],[0.7777777777777778,\"#fb9f3a\"],[0.8888888888888888,\"#fdca26\"],[1.0,\"#f0f921\"]]}],\"surface\":[{\"type\":\"surface\",\"colorbar\":{\"outlinewidth\":0,\"ticks\":\"\"},\"colorscale\":[[0.0,\"#0d0887\"],[0.1111111111111111,\"#46039f\"],[0.2222222222222222,\"#7201a8\"],[0.3333333333333333,\"#9c179e\"],[0.4444444444444444,\"#bd3786\"],[0.5555555555555556,\"#d8576b\"],[0.6666666666666666,\"#ed7953\"],[0.7777777777777778,\"#fb9f3a\"],[0.8888888888888888,\"#fdca26\"],[1.0,\"#f0f921\"]]}],\"mesh3d\":[{\"type\":\"mesh3d\",\"colorbar\":{\"outlinewidth\":0,\"ticks\":\"\"}}],\"scatter\":[{\"fillpattern\":{\"fillmode\":\"overlay\",\"size\":10,\"solidity\":0.2},\"type\":\"scatter\"}],\"parcoords\":[{\"type\":\"parcoords\",\"line\":{\"colorbar\":{\"outlinewidth\":0,\"ticks\":\"\"}}}],\"scatterpolargl\":[{\"type\":\"scatterpolargl\",\"marker\":{\"colorbar\":{\"outlinewidth\":0,\"ticks\":\"\"}}}],\"bar\":[{\"error_x\":{\"color\":\"#2a3f5f\"},\"error_y\":{\"color\":\"#2a3f5f\"},\"marker\":{\"line\":{\"color\":\"#E5ECF6\",\"width\":0.5},\"pattern\":{\"fillmode\":\"overlay\",\"size\":10,\"solidity\":0.2}},\"type\":\"bar\"}],\"scattergeo\":[{\"type\":\"scattergeo\",\"marker\":{\"colorbar\":{\"outlinewidth\":0,\"ticks\":\"\"}}}],\"scatterpolar\":[{\"type\":\"scatterpolar\",\"marker\":{\"colorbar\":{\"outlinewidth\":0,\"ticks\":\"\"}}}],\"histogram\":[{\"marker\":{\"pattern\":{\"fillmode\":\"overlay\",\"size\":10,\"solidity\":0.2}},\"type\":\"histogram\"}],\"scattergl\":[{\"type\":\"scattergl\",\"marker\":{\"colorbar\":{\"outlinewidth\":0,\"ticks\":\"\"}}}],\"scatter3d\":[{\"type\":\"scatter3d\",\"line\":{\"colorbar\":{\"outlinewidth\":0,\"ticks\":\"\"}},\"marker\":{\"colorbar\":{\"outlinewidth\":0,\"ticks\":\"\"}}}],\"scattermapbox\":[{\"type\":\"scattermapbox\",\"marker\":{\"colorbar\":{\"outlinewidth\":0,\"ticks\":\"\"}}}],\"scatterternary\":[{\"type\":\"scatterternary\",\"marker\":{\"colorbar\":{\"outlinewidth\":0,\"ticks\":\"\"}}}],\"scattercarpet\":[{\"type\":\"scattercarpet\",\"marker\":{\"colorbar\":{\"outlinewidth\":0,\"ticks\":\"\"}}}],\"carpet\":[{\"aaxis\":{\"endlinecolor\":\"#2a3f5f\",\"gridcolor\":\"white\",\"linecolor\":\"white\",\"minorgridcolor\":\"white\",\"startlinecolor\":\"#2a3f5f\"},\"baxis\":{\"endlinecolor\":\"#2a3f5f\",\"gridcolor\":\"white\",\"linecolor\":\"white\",\"minorgridcolor\":\"white\",\"startlinecolor\":\"#2a3f5f\"},\"type\":\"carpet\"}],\"table\":[{\"cells\":{\"fill\":{\"color\":\"#EBF0F8\"},\"line\":{\"color\":\"white\"}},\"header\":{\"fill\":{\"color\":\"#C8D4E3\"},\"line\":{\"color\":\"white\"}},\"type\":\"table\"}],\"barpolar\":[{\"marker\":{\"line\":{\"color\":\"#E5ECF6\",\"width\":0.5},\"pattern\":{\"fillmode\":\"overlay\",\"size\":10,\"solidity\":0.2}},\"type\":\"barpolar\"}],\"pie\":[{\"automargin\":true,\"type\":\"pie\"}]},\"layout\":{\"autotypenumbers\":\"strict\",\"colorway\":[\"#636efa\",\"#EF553B\",\"#00cc96\",\"#ab63fa\",\"#FFA15A\",\"#19d3f3\",\"#FF6692\",\"#B6E880\",\"#FF97FF\",\"#FECB52\"],\"font\":{\"color\":\"#2a3f5f\"},\"hovermode\":\"closest\",\"hoverlabel\":{\"align\":\"left\"},\"paper_bgcolor\":\"white\",\"plot_bgcolor\":\"#E5ECF6\",\"polar\":{\"bgcolor\":\"#E5ECF6\",\"angularaxis\":{\"gridcolor\":\"white\",\"linecolor\":\"white\",\"ticks\":\"\"},\"radialaxis\":{\"gridcolor\":\"white\",\"linecolor\":\"white\",\"ticks\":\"\"}},\"ternary\":{\"bgcolor\":\"#E5ECF6\",\"aaxis\":{\"gridcolor\":\"white\",\"linecolor\":\"white\",\"ticks\":\"\"},\"baxis\":{\"gridcolor\":\"white\",\"linecolor\":\"white\",\"ticks\":\"\"},\"caxis\":{\"gridcolor\":\"white\",\"linecolor\":\"white\",\"ticks\":\"\"}},\"coloraxis\":{\"colorbar\":{\"outlinewidth\":0,\"ticks\":\"\"}},\"colorscale\":{\"sequential\":[[0.0,\"#0d0887\"],[0.1111111111111111,\"#46039f\"],[0.2222222222222222,\"#7201a8\"],[0.3333333333333333,\"#9c179e\"],[0.4444444444444444,\"#bd3786\"],[0.5555555555555556,\"#d8576b\"],[0.6666666666666666,\"#ed7953\"],[0.7777777777777778,\"#fb9f3a\"],[0.8888888888888888,\"#fdca26\"],[1.0,\"#f0f921\"]],\"sequentialminus\":[[0.0,\"#0d0887\"],[0.1111111111111111,\"#46039f\"],[0.2222222222222222,\"#7201a8\"],[0.3333333333333333,\"#9c179e\"],[0.4444444444444444,\"#bd3786\"],[0.5555555555555556,\"#d8576b\"],[0.6666666666666666,\"#ed7953\"],[0.7777777777777778,\"#fb9f3a\"],[0.8888888888888888,\"#fdca26\"],[1.0,\"#f0f921\"]],\"diverging\":[[0,\"#8e0152\"],[0.1,\"#c51b7d\"],[0.2,\"#de77ae\"],[0.3,\"#f1b6da\"],[0.4,\"#fde0ef\"],[0.5,\"#f7f7f7\"],[0.6,\"#e6f5d0\"],[0.7,\"#b8e186\"],[0.8,\"#7fbc41\"],[0.9,\"#4d9221\"],[1,\"#276419\"]]},\"xaxis\":{\"gridcolor\":\"white\",\"linecolor\":\"white\",\"ticks\":\"\",\"title\":{\"standoff\":15},\"zerolinecolor\":\"white\",\"automargin\":true,\"zerolinewidth\":2},\"yaxis\":{\"gridcolor\":\"white\",\"linecolor\":\"white\",\"ticks\":\"\",\"title\":{\"standoff\":15},\"zerolinecolor\":\"white\",\"automargin\":true,\"zerolinewidth\":2},\"scene\":{\"xaxis\":{\"backgroundcolor\":\"#E5ECF6\",\"gridcolor\":\"white\",\"linecolor\":\"white\",\"showbackground\":true,\"ticks\":\"\",\"zerolinecolor\":\"white\",\"gridwidth\":2},\"yaxis\":{\"backgroundcolor\":\"#E5ECF6\",\"gridcolor\":\"white\",\"linecolor\":\"white\",\"showbackground\":true,\"ticks\":\"\",\"zerolinecolor\":\"white\",\"gridwidth\":2},\"zaxis\":{\"backgroundcolor\":\"#E5ECF6\",\"gridcolor\":\"white\",\"linecolor\":\"white\",\"showbackground\":true,\"ticks\":\"\",\"zerolinecolor\":\"white\",\"gridwidth\":2}},\"shapedefaults\":{\"line\":{\"color\":\"#2a3f5f\"}},\"annotationdefaults\":{\"arrowcolor\":\"#2a3f5f\",\"arrowhead\":0,\"arrowwidth\":1},\"geo\":{\"bgcolor\":\"white\",\"landcolor\":\"#E5ECF6\",\"subunitcolor\":\"white\",\"showland\":true,\"showlakes\":true,\"lakecolor\":\"white\"},\"title\":{\"x\":0.05},\"mapbox\":{\"style\":\"light\"}}},\"xaxis\":{\"anchor\":\"y\",\"domain\":[0.0,1.0],\"title\":{\"text\":\"Prod\"}},\"yaxis\":{\"anchor\":\"x\",\"domain\":[0.0,1.0],\"title\":{\"text\":\"value\"}},\"legend\":{\"title\":{\"text\":\"variable\"},\"tracegroupgap\":0},\"margin\":{\"t\":60},\"barmode\":\"relative\"},                        {\"responsive\": true}                    ).then(function(){\n",
       "                            \n",
       "var gd = document.getElementById('098ee6bf-6cf8-4c88-8ba0-9b4758aee023');\n",
       "var x = new MutationObserver(function (mutations, observer) {{\n",
       "        var display = window.getComputedStyle(gd).display;\n",
       "        if (!display || display === 'none') {{\n",
       "            console.log([gd, 'removed!']);\n",
       "            Plotly.purge(gd);\n",
       "            observer.disconnect();\n",
       "        }}\n",
       "}});\n",
       "\n",
       "// Listen for the removal of the full notebook cells\n",
       "var notebookContainer = gd.closest('#notebook-container');\n",
       "if (notebookContainer) {{\n",
       "    x.observe(notebookContainer, {childList: true});\n",
       "}}\n",
       "\n",
       "// Listen for the clearing of the current output cell\n",
       "var outputEl = gd.closest('.output');\n",
       "if (outputEl) {{\n",
       "    x.observe(outputEl, {childList: true});\n",
       "}}\n",
       "\n",
       "                        })                };                });            </script>        </div>"
      ]
     },
     "metadata": {},
     "output_type": "display_data"
    }
   ],
   "source": [
    "pd.options.plotting.backend = \"plotly\"\n",
    "sales.groupby(by=[\"Prod\"]).sum()[[\"Amt\"]].plot(kind=\"bar\")"
   ]
  },
  {
   "cell_type": "markdown",
   "id": "700518e4",
   "metadata": {},
   "source": [
    "## 3. Import Product File"
   ]
  },
  {
   "cell_type": "code",
   "execution_count": 60,
   "id": "e3ab7080",
   "metadata": {},
   "outputs": [
    {
     "name": "stdout",
     "output_type": "stream",
     "text": [
      "Product:\n",
      "\n",
      "             Cat\n",
      "Prod            \n",
      "A     Category 1\n",
      "B     Category 1\n",
      "C     Category 1\n",
      "D     Category 1\n",
      "E     Category 2\n",
      "\n",
      "Data Type\n",
      "Cat    object\n",
      "dtype: object\n"
     ]
    }
   ],
   "source": [
    "prod = pd.read_csv('https://raw.githubusercontent.com/Stephenkkt/Python/main/Prod.csv', header = 0, index_col=0)\n",
    "\n",
    "print(\"Product:\\n\")\n",
    "print(prod.head(5))\n",
    "\n",
    "print(\"\\nData Type\")\n",
    "print(prod.dtypes)"
   ]
  },
  {
   "cell_type": "markdown",
   "id": "e7330a2d",
   "metadata": {},
   "source": [
    "## 4a. Import Branch File"
   ]
  },
  {
   "cell_type": "code",
   "execution_count": 61,
   "id": "c3cd4bd1",
   "metadata": {},
   "outputs": [
    {
     "name": "stdout",
     "output_type": "stream",
     "text": [
      "BRANCH:\n",
      "\n",
      "                        Name                 Address     Zip         Phone  \\\n",
      "index                                                                        \n",
      "1             1200 St Clair   1200 ST CLAIR AVE WEST  M6E1B4  416-652-3444   \n",
      "3      Avenue Rd & Fairlawn         1705 AVENUE ROAD  M5M3Y5  416-782-3508   \n",
      "5      Bathurst & Frontenac         2953 BATHURST ST  M6B3B2  416-789-7915   \n",
      "10            Bay & College           763 BAY STREET  M5G2R3  416-867-5190   \n",
      "13          Bedford & Bloor    242 BLOOR STREET WEST  M5S1T8  416-867-4663   \n",
      "\n",
      "       Br_ID  \n",
      "index         \n",
      "1          1  \n",
      "3          2  \n",
      "5          3  \n",
      "10         4  \n",
      "13         5  \n",
      "\n",
      "Data Type\n",
      "Name       object\n",
      "Address    object\n",
      "Zip        object\n",
      "Phone      object\n",
      "Br_ID       int64\n",
      "dtype: object\n"
     ]
    }
   ],
   "source": [
    "branch = pd.read_csv('https://raw.githubusercontent.com/Stephenkkt/Python/main/BR_F.csv', header = 0, index_col = 0)\n",
    "\n",
    "print(\"BRANCH:\\n\")\n",
    "print(branch.head(5))\n",
    "print(\"\\nData Type\")\n",
    "print(branch.dtypes)\n",
    "\n"
   ]
  },
  {
   "cell_type": "markdown",
   "id": "e56af1c5",
   "metadata": {},
   "source": [
    "## 4b. Clean branch address"
   ]
  },
  {
   "cell_type": "code",
   "execution_count": 62,
   "id": "000c1710",
   "metadata": {},
   "outputs": [
    {
     "name": "stdout",
     "output_type": "stream",
     "text": [
      "\n",
      "Branch\n",
      "                        Name                 Address         Phone  Br_ID  \\\n",
      "index                                                                       \n",
      "1             1200 St Clair   1200 ST CLAIR AVE WEST  416-652-3444      1   \n",
      "3      Avenue Rd & Fairlawn         1705 AVENUE ROAD  416-782-3508      2   \n",
      "5      Bathurst & Frontenac         2953 BATHURST ST  416-789-7915      3   \n",
      "10            Bay & College           763 BAY STREET  416-867-5190      4   \n",
      "13          Bedford & Bloor    242 BLOOR STREET WEST  416-867-4663      5   \n",
      "\n",
      "        postal                             full_address  \n",
      "index                                                    \n",
      "1      M6E 1B4  1200 ST CLAIR AVE WEST, Ontario, Canada  \n",
      "3      M5M 3Y5        1705 AVENUE ROAD, Ontario, Canada  \n",
      "5      M6B 3B2        2953 BATHURST ST, Ontario, Canada  \n",
      "10     M5G 2R3          763 BAY STREET, Ontario, Canada  \n",
      "13     M5S 1T8   242 BLOOR STREET WEST, Ontario, Canada  \n"
     ]
    }
   ],
   "source": [
    "#Clean Postal Code\n",
    "branch['postal'] = branch['Zip'].str[:3] + \" \" + branch['Zip'].str[-3:]\n",
    "branch = branch.drop(columns = ['Zip'])\n",
    "\n",
    "#Create new field 'full address'\n",
    "branch['full_address'] = branch['Address'] + \",\" + \" Ontario\" + \",\" + \" Canada\"\n",
    "\n",
    "print('\\nBranch')\n",
    "print(branch.head())"
   ]
  },
  {
   "cell_type": "markdown",
   "id": "4016dda0",
   "metadata": {},
   "source": [
    "\n",
    "## 4c. Map branch coordination"
   ]
  },
  {
   "cell_type": "code",
   "execution_count": 63,
   "id": "61df3c73",
   "metadata": {},
   "outputs": [
    {
     "name": "stdout",
     "output_type": "stream",
     "text": [
      "\n",
      "Branch with Coordinate\n",
      "                        Name                 Address         Phone  Br_ID  \\\n",
      "index                                                                       \n",
      "1             1200 St Clair   1200 ST CLAIR AVE WEST  416-652-3444      1   \n",
      "3      Avenue Rd & Fairlawn         1705 AVENUE ROAD  416-782-3508      2   \n",
      "5      Bathurst & Frontenac         2953 BATHURST ST  416-789-7915      3   \n",
      "10            Bay & College           763 BAY STREET  416-867-5190      4   \n",
      "13          Bedford & Bloor    242 BLOOR STREET WEST  416-867-4663      5   \n",
      "\n",
      "        postal                             full_address  \\\n",
      "index                                                     \n",
      "1      M6E 1B4  1200 ST CLAIR AVE WEST, Ontario, Canada   \n",
      "3      M5M 3Y5        1705 AVENUE ROAD, Ontario, Canada   \n",
      "5      M6B 3B2        2953 BATHURST ST, Ontario, Canada   \n",
      "10     M5G 2R3          763 BAY STREET, Ontario, Canada   \n",
      "13     M5S 1T8   242 BLOOR STREET WEST, Ontario, Canada   \n",
      "\n",
      "                                                   gcode        lat       long  \n",
      "index                                                                           \n",
      "1      (BMO, 1200, St. Clair Avenue West, Davenport, ...  43.677801 -79.444441  \n",
      "3      (1705, Avenue Road, Eglinton—Lawrence, North Y...  43.728103 -79.417782  \n",
      "5      (BMO, 2953, Bathurst Street, Eglinton—Lawrence...  43.716719 -79.428883  \n",
      "10     (BMO, 763, Bay Street, University—Rosedale, Ol...  43.659990 -79.385216  \n",
      "13     (BMO, 242, Bloor Street West, University—Rosed...  43.668243 -79.397221  \n"
     ]
    }
   ],
   "source": [
    "from geopy.geocoders import Nominatim #pip install geopy\n",
    "\n",
    "#find the coordination\n",
    "geolocator = Nominatim(timeout=10, user_agent = \"MyApp\")\n",
    "branch['gcode'] = branch.full_address.apply(geolocator.geocode)\n",
    "\n",
    "branch['lat'] = [g.latitude for g in branch.gcode]\n",
    "branch['long'] = [g.longitude for g in branch.gcode]\n",
    "print(\"\\nBranch with Coordinate\")\n",
    "print(branch.head())\n"
   ]
  },
  {
   "cell_type": "markdown",
   "id": "3ea655e4",
   "metadata": {},
   "source": [
    "## 5. Import Staff File"
   ]
  },
  {
   "cell_type": "code",
   "execution_count": 64,
   "id": "4a5e38b3",
   "metadata": {
    "scrolled": true
   },
   "outputs": [
    {
     "name": "stdout",
     "output_type": "stream",
     "text": [
      "STAFF:\n",
      "\n",
      "          Br_ID\n",
      "Staff_ID       \n",
      "1            27\n",
      "2            20\n",
      "3            42\n",
      "4            12\n",
      "5            28\n",
      "\n",
      "Data Type\n",
      "Br_ID    int64\n",
      "dtype: object\n",
      "\n",
      "\n",
      "Br_ID    51\n",
      "dtype: int64\n"
     ]
    }
   ],
   "source": [
    "staff = pd.read_csv('https://raw.githubusercontent.com/Stephenkkt/Python/main/staff.csv', header = 0, index_col = 0)\n",
    "\n",
    "#staff = staff.reset_index()\n",
    "print(\"STAFF:\\n\")\n",
    "print(staff.head(5))\n",
    "\n",
    "print(\"\\nData Type\")\n",
    "print(staff.dtypes)\n",
    "\n",
    "print(\"\\n\")\n",
    "print(staff.nunique(axis=0))"
   ]
  },
  {
   "cell_type": "markdown",
   "id": "6902c004",
   "metadata": {},
   "source": [
    "## Import Target File"
   ]
  },
  {
   "cell_type": "code",
   "execution_count": 65,
   "id": "8cb2e6d4",
   "metadata": {},
   "outputs": [
    {
     "name": "stdout",
     "output_type": "stream",
     "text": [
      "   Br_ID  Sales_Tar\n",
      "0      1  3791040.0\n",
      "1      2  4963200.0\n",
      "2      3  7075200.0\n",
      "3      4  3199680.0\n",
      "4      5  3759360.0\n",
      "\n",
      "Total Sales Target\n",
      "268213440.0\n"
     ]
    }
   ],
   "source": [
    "Tar = pd.read_csv('https://raw.githubusercontent.com/Stephenkkt/Python/main/BR_TAR.csv', header = 0, index_col=0, dtype = {'Br_ID':'int64'})\n",
    "Tar['Sales_Tar'] = Tar['Sales_Tar'].replace(',','',regex=True)\n",
    "Tar['Sales_Tar'] = Tar['Sales_Tar'].astype('float')\n",
    "Tar = Tar.reset_index(drop=False)\n",
    "print(Tar.head())\n",
    "\n",
    "\n",
    "print(\"\\nTotal Sales Target\")\n",
    "print(sum(Tar['Sales_Tar']))"
   ]
  },
  {
   "cell_type": "markdown",
   "id": "3f5decb2",
   "metadata": {},
   "source": [
    "## 6. Summary"
   ]
  },
  {
   "cell_type": "markdown",
   "id": "e4cab368",
   "metadata": {},
   "source": [
    "* **a.Summary in Staff Level**"
   ]
  },
  {
   "cell_type": "code",
   "execution_count": 66,
   "id": "fc8ad512",
   "metadata": {},
   "outputs": [
    {
     "name": "stdout",
     "output_type": "stream",
     "text": [
      "\n",
      "Sales by Staff\n",
      "              Total  Count       Avg_Tix\n",
      "Staff_ID                                \n",
      "1          895000.0     36  24861.111111\n",
      "2         1091500.0     41  26621.951220\n",
      "3          705000.0     30  23500.000000\n",
      "4          694500.0     32  21703.125000\n",
      "5          895000.0     31  28870.967742\n",
      "...             ...    ...           ...\n",
      "296        866000.0     32  27062.500000\n",
      "297        873500.0     34  25691.176471\n",
      "298        561500.0     24  23395.833333\n",
      "299       1297500.0     47  27606.382979\n",
      "300        797500.0     30  26583.333333\n",
      "\n",
      "[300 rows x 3 columns]\n",
      "\n",
      "Check total sales\n",
      "252539500.0\n"
     ]
    }
   ],
   "source": [
    "#Summary in Staff Level\n",
    "sum_sales_staff_1 = sales.groupby(['Staff_ID'], dropna = False).agg(Total=('Amt','sum'),\n",
    "                                                    Count=('Amt','count'),\n",
    "                                                    Avg_Tix=('Amt','mean')\n",
    "                                                   )\n",
    "print(\"\\nSales by Staff\")\n",
    "print(sum_sales_staff_1)\n",
    "\n",
    "print(\"\\nCheck total sales\")\n",
    "print(sum(sum_sales_staff_1['Total']))\n"
   ]
  },
  {
   "cell_type": "markdown",
   "id": "99156c0a",
   "metadata": {},
   "source": [
    "* **Merge Staff Table for getting Branch ID**"
   ]
  },
  {
   "cell_type": "code",
   "execution_count": 67,
   "id": "6d821893",
   "metadata": {},
   "outputs": [
    {
     "name": "stdout",
     "output_type": "stream",
     "text": [
      "\n",
      "Sales by Staff with Branch\n",
      "              Total  Count       Avg_Tix  Br_ID\n",
      "Staff_ID                                       \n",
      "1          895000.0     36  24861.111111     27\n",
      "2         1091500.0     41  26621.951220     20\n",
      "3          705000.0     30  23500.000000     42\n",
      "4          694500.0     32  21703.125000     12\n",
      "5          895000.0     31  28870.967742     28\n",
      "...             ...    ...           ...    ...\n",
      "296        866000.0     32  27062.500000     39\n",
      "297        873500.0     34  25691.176471      6\n",
      "298        561500.0     24  23395.833333     13\n",
      "299       1297500.0     47  27606.382979     41\n",
      "300        797500.0     30  26583.333333     38\n",
      "\n",
      "[300 rows x 4 columns]\n",
      "\n",
      "Check total sales\n",
      "252539500.0\n"
     ]
    }
   ],
   "source": [
    "sum_sales_br_1 = pd.merge(sum_sales_staff_1, staff, how = 'inner', left_on = 'Staff_ID', right_on = 'Staff_ID')\n",
    "\n",
    "print(\"\\nSales by Staff with Branch\")\n",
    "print(sum_sales_br_1)\n",
    "\n",
    "print(\"\\nCheck total sales\")\n",
    "print(sum(sum_sales_br_1['Total']))\n"
   ]
  },
  {
   "cell_type": "markdown",
   "id": "bdeb1ec0",
   "metadata": {},
   "source": [
    "* **Summary in Branch Level**"
   ]
  },
  {
   "cell_type": "code",
   "execution_count": 68,
   "id": "24484006",
   "metadata": {},
   "outputs": [
    {
     "name": "stdout",
     "output_type": "stream",
     "text": [
      "\n",
      "Sales by Branch\n",
      "        BR_Total  BR_Count    BR_Avg_Tix\n",
      "Br_ID                                   \n",
      "1      3453500.0       136  25393.382353\n",
      "2      4690000.0       189  24814.814815\n",
      "3      6390000.0       264  24204.545455\n",
      "4      2446500.0       104  23524.038462\n",
      "5      3600000.0       133  27067.669173\n",
      "\n",
      "Sales by Branch - Number of Record\n",
      "51\n",
      "\n",
      "Check total sales\n",
      "252539500.0\n"
     ]
    }
   ],
   "source": [
    "sum_sales_br_2 = sum_sales_br_1.groupby(['Br_ID'], dropna = False).agg(BR_Total = ('Total', 'sum'),\n",
    "                                                    BR_Count = ('Count','sum')\n",
    "                                                    )\n",
    "sum_sales_br_2['BR_Avg_Tix']=sum_sales_br_2['BR_Total']/sum_sales_br_2['BR_Count']\n",
    "print(\"\\nSales by Branch\")\n",
    "print(sum_sales_br_2.head())\n",
    "print(\"\\nSales by Branch - Number of Record\")\n",
    "print(len(sum_sales_br_2))\n",
    "print(\"\\nCheck total sales\")\n",
    "print(sum(sum_sales_br_2['BR_Total']))\n"
   ]
  },
  {
   "cell_type": "markdown",
   "id": "2d165e09",
   "metadata": {},
   "source": [
    "* **Merge Branch Table for Brnach details and create rank**"
   ]
  },
  {
   "cell_type": "code",
   "execution_count": 69,
   "id": "75259309",
   "metadata": {},
   "outputs": [
    {
     "name": "stdout",
     "output_type": "stream",
     "text": [
      "\n",
      "Sales by Branch\n",
      "   Br_ID   BR_Total  BR_Count    BR_Avg_Tix                   Name  \\\n",
      "0      1  3453500.0       136  25393.382353         1200 St Clair    \n",
      "1      2  4690000.0       189  24814.814815  Avenue Rd & Fairlawn    \n",
      "2      3  6390000.0       264  24204.545455  Bathurst & Frontenac    \n",
      "3      4  2446500.0       104  23524.038462         Bay & College    \n",
      "4      5  3600000.0       133  27067.669173       Bedford & Bloor    \n",
      "\n",
      "                  Address         Phone   postal  \\\n",
      "0  1200 ST CLAIR AVE WEST  416-652-3444  M6E 1B4   \n",
      "1        1705 AVENUE ROAD  416-782-3508  M5M 3Y5   \n",
      "2        2953 BATHURST ST  416-789-7915  M6B 3B2   \n",
      "3          763 BAY STREET  416-867-5190  M5G 2R3   \n",
      "4   242 BLOOR STREET WEST  416-867-4663  M5S 1T8   \n",
      "\n",
      "                              full_address  \\\n",
      "0  1200 ST CLAIR AVE WEST, Ontario, Canada   \n",
      "1        1705 AVENUE ROAD, Ontario, Canada   \n",
      "2        2953 BATHURST ST, Ontario, Canada   \n",
      "3          763 BAY STREET, Ontario, Canada   \n",
      "4   242 BLOOR STREET WEST, Ontario, Canada   \n",
      "\n",
      "                                               gcode        lat       long  \\\n",
      "0  (BMO, 1200, St. Clair Avenue West, Davenport, ...  43.677801 -79.444441   \n",
      "1  (1705, Avenue Road, Eglinton—Lawrence, North Y...  43.728103 -79.417782   \n",
      "2  (BMO, 2953, Bathurst Street, Eglinton—Lawrence...  43.716719 -79.428883   \n",
      "3  (BMO, 763, Bay Street, University—Rosedale, Ol...  43.659990 -79.385216   \n",
      "4  (BMO, 242, Bloor Street West, University—Rosed...  43.668243 -79.397221   \n",
      "\n",
      "   rank  \n",
      "0    42  \n",
      "1    27  \n",
      "2    12  \n",
      "3    48  \n",
      "4    41  \n",
      "\n",
      "Sales by Branch - Number of Record\n",
      "51\n",
      "\n",
      "Check total sales\n",
      "252539500.0\n"
     ]
    }
   ],
   "source": [
    "sum_sales_br_2 = pd.merge(sum_sales_br_2,branch, how = 'inner', left_on = 'Br_ID', right_on = 'Br_ID')\n",
    "\n",
    "#Create Ranking\n",
    "sum_sales_br_2['rank'] = sum_sales_br_2['BR_Total'].rank(ascending = False).astype(int)\n",
    "\n",
    "print(\"\\nSales by Branch\")\n",
    "print(sum_sales_br_2.head())\n",
    "\n",
    "print(\"\\nSales by Branch - Number of Record\")\n",
    "print(len(sum_sales_br_2))\n",
    "\n",
    "print(\"\\nCheck total sales\")\n",
    "print(sum(sum_sales_br_2['BR_Total']))\n"
   ]
  },
  {
   "cell_type": "markdown",
   "id": "f38fabe5",
   "metadata": {},
   "source": [
    "## Summary by date"
   ]
  },
  {
   "cell_type": "code",
   "execution_count": 70,
   "id": "44ae3442",
   "metadata": {},
   "outputs": [
    {
     "name": "stdout",
     "output_type": "stream",
     "text": [
      "Sale by Date\n",
      "          date     Total  Count\n",
      "0   2019-01-02  294000.0     10\n",
      "1   2019-01-03  200500.0      7\n",
      "2   2019-01-04  115000.0      7\n",
      "3   2019-01-05  348000.0     12\n",
      "4   2019-01-06  395500.0     12\n",
      "..         ...       ...    ...\n",
      "995 2021-09-23  162000.0      9\n",
      "996 2021-09-24  156000.0      6\n",
      "997 2021-09-25  267500.0     10\n",
      "998 2021-09-26  318500.0     12\n",
      "999 2021-09-27   80000.0      4\n",
      "\n",
      "[1000 rows x 3 columns]\n",
      "\n",
      "Check total sales\n",
      "252539500.0\n"
     ]
    }
   ],
   "source": [
    "sum_sales_date = sales.groupby('date', dropna = False).agg(Total = ('Amt', 'sum'),\n",
    "                                           Count = ('Amt', 'count')\n",
    "                                          )\n",
    "sum_sales_date = sum_sales_date.reset_index(drop = False)\n",
    "print(\"Sale by Date\")\n",
    "print(sum_sales_date)\n",
    "\n",
    "print(\"\\nCheck total sales\")\n",
    "print(sum(sum_sales_date['Total']))\n"
   ]
  },
  {
   "cell_type": "markdown",
   "id": "d625601f",
   "metadata": {},
   "source": [
    "## Summary by Category, Product and month"
   ]
  },
  {
   "cell_type": "markdown",
   "id": "153703d4",
   "metadata": {},
   "source": [
    "* **Summary by Product and month**"
   ]
  },
  {
   "cell_type": "code",
   "execution_count": 71,
   "id": "ecb031ab",
   "metadata": {},
   "outputs": [
    {
     "name": "stdout",
     "output_type": "stream",
     "text": [
      "\n",
      "Sale by Prod and mth\n",
      "           mth Prod      Total  Count\n",
      "0   2019-01-01    A  1014000.0     40\n",
      "1   2019-01-01    B   460500.0     19\n",
      "2   2019-01-01    C   679500.0     26\n",
      "3   2019-01-01    D   636500.0     24\n",
      "4   2019-01-01    E   688500.0     21\n",
      "..         ...  ...        ...    ...\n",
      "325 2021-09-01    F   490000.0     18\n",
      "326 2021-09-01    G   534500.0     27\n",
      "327 2021-09-01    H   594000.0     24\n",
      "328 2021-09-01    I   838000.0     31\n",
      "329 2021-09-01    J   896500.0     35\n",
      "\n",
      "[330 rows x 4 columns]\n",
      "\n",
      "Check total sales\n",
      "252539500.0\n"
     ]
    }
   ],
   "source": [
    "sum_sales_prod_mth = sales.groupby(['mth','Prod'], dropna = False).agg(Total = (\"Amt\",\"sum\"),\n",
    "                                                       Count = (\"Amt\", \"count\")\n",
    "                                                      )\n",
    "sum_sales_prod_mth = sum_sales_prod_mth.reset_index(drop = False)\n",
    "print(\"\\nSale by Prod and mth\")\n",
    "print(sum_sales_prod_mth)\n",
    "\n",
    "print(\"\\nCheck total sales\")\n",
    "print(sum(sum_sales_prod_mth['Total']))\n"
   ]
  },
  {
   "cell_type": "markdown",
   "id": "4c047104",
   "metadata": {},
   "source": [
    "* **Merge Product Table**"
   ]
  },
  {
   "cell_type": "code",
   "execution_count": 72,
   "id": "4fae2257",
   "metadata": {
    "scrolled": true
   },
   "outputs": [
    {
     "name": "stdout",
     "output_type": "stream",
     "text": [
      "\n",
      "Sale by Prod and mth\n",
      "           mth Prod      Total  Count         Cat\n",
      "0   2019-01-01    A  1014000.0     40  Category 1\n",
      "1   2019-02-01    A   566500.0     23  Category 1\n",
      "2   2019-03-01    A   782500.0     38  Category 1\n",
      "3   2019-04-01    A   665500.0     27  Category 1\n",
      "4   2019-05-01    A   867000.0     38  Category 1\n",
      "..         ...  ...        ...    ...         ...\n",
      "325 2021-05-01    J   536500.0     24  Category 3\n",
      "326 2021-06-01    J  1039500.0     34  Category 3\n",
      "327 2021-07-01    J   727500.0     28  Category 3\n",
      "328 2021-08-01    J   987500.0     40  Category 3\n",
      "329 2021-09-01    J   896500.0     35  Category 3\n",
      "\n",
      "[330 rows x 5 columns]\n"
     ]
    }
   ],
   "source": [
    "sum_sales_prod_mth = pd.merge(sum_sales_prod_mth,prod, how = 'inner', left_on = \"Prod\", right_on = \"Prod\")\n",
    "\n",
    "print(\"\\nSale by Prod and mth\")\n",
    "print(sum_sales_prod_mth)"
   ]
  },
  {
   "cell_type": "markdown",
   "id": "9a1c6a6f",
   "metadata": {},
   "source": [
    "## Branch sales in latest month"
   ]
  },
  {
   "cell_type": "code",
   "execution_count": 73,
   "id": "dbc1840d",
   "metadata": {},
   "outputs": [
    {
     "name": "stdout",
     "output_type": "stream",
     "text": [
      "\n",
      "Check total sales - 1\n",
      "252539500.0\n",
      "\n",
      "Check total sales - 2\n",
      "6481500.0\n",
      "\n",
      "min=2021-09-01 00:00:00\n",
      "\n",
      "max=2021-09-27 00:00:00\n",
      "\n",
      "Check total sales - 3\n",
      "6481500.0\n",
      "\n",
      "Check total sales - 4\n",
      "6481500.0\n",
      "   Br_ID     Total  Count  Sales_Tar                   Name\n",
      "0      1   60500.0      3  3791040.0         1200 St Clair \n",
      "1      2   72000.0      4  4963200.0  Avenue Rd & Fairlawn \n",
      "2      3  124500.0      6  7075200.0  Bathurst & Frontenac \n",
      "3      4   95000.0      5  3199680.0         Bay & College \n",
      "4      5  160000.0      5  3759360.0       Bedford & Bloor \n",
      "\n",
      "Check total sales - 5\n",
      "6481500.0\n"
     ]
    }
   ],
   "source": [
    "curr_mth_sales = sales.copy()\n",
    "\n",
    "print(\"\\nCheck total sales - 1\")\n",
    "print(sum(sales['Amt']))\n",
    "\n",
    "curr_mth_sales2 = curr_mth_sales.loc[(sales['date'].max().to_numpy().astype('datetime64[M]') == sales['date'].to_numpy().astype('datetime64[M]'))]\n",
    "\n",
    "print(\"\\nCheck total sales - 2\")\n",
    "print(sum(curr_mth_sales2['Amt']))\n",
    "\n",
    "print(\"\\nmin=\" + str(curr_mth_sales2['date'].min()))\n",
    "print(\"\\nmax=\"+str(curr_mth_sales2['date'].max()))\n",
    "\n",
    "sum_curr_mth_1 = curr_mth_sales2.groupby(['Staff_ID'], dropna = False).agg(Total = ('Amt', 'sum'),\n",
    "                                                           Count = ('Amt', 'count')\n",
    "                                                            )\n",
    "\n",
    "print(\"\\nCheck total sales - 3\")\n",
    "print(sum(sum_curr_mth_1['Total']))\n",
    "\n",
    "sum_curr_mth_1 = pd.merge(sum_curr_mth_1, staff, how = 'inner', left_on = 'Staff_ID', right_on = 'Staff_ID')\n",
    "\n",
    "\n",
    "sum_curr_mth_2 = sum_curr_mth_1.groupby(['Br_ID'], dropna = False).agg(Total = ('Total', 'sum'),\n",
    "                                                           Count = ('Count', 'sum')\n",
    "                                                            )\n",
    "\n",
    "print(\"\\nCheck total sales - 4\")\n",
    "print(sum(sum_curr_mth_2['Total']))\n",
    "\n",
    "sum_curr_mth_2 = pd.merge(sum_curr_mth_2,Tar, how = 'inner', left_on='Br_ID', right_on='Br_ID')\n",
    "sum_curr_mth_2 = pd.merge(sum_curr_mth_2,branch[['Br_ID','Name']], how = 'inner', left_on='Br_ID', right_on='Br_ID')\n",
    "\n",
    "print(sum_curr_mth_2.head())\n",
    "\n",
    "print(\"\\nCheck total sales - 5\")\n",
    "print(sum(sum_curr_mth_2['Total']))"
   ]
  },
  {
   "cell_type": "markdown",
   "id": "d4d4242c",
   "metadata": {},
   "source": [
    "## Sales by Branch, Category and Product (Current month only)\n",
    "\n",
    "### Use \"curr_mth_sales2\" generated\n",
    "\n",
    "#### Merge Product Table, Staff Table and Branch Name"
   ]
  },
  {
   "cell_type": "code",
   "execution_count": 74,
   "id": "0957d15f",
   "metadata": {
    "scrolled": true
   },
   "outputs": [
    {
     "name": "stdout",
     "output_type": "stream",
     "text": [
      "   Br_ID                   Name         Cat Prod    Total  Count\n",
      "0      1         1200 St Clair   Category 2    G  35000.0      2\n",
      "1      1         1200 St Clair   Category 3    J  25500.0      1\n",
      "2      2  Avenue Rd & Fairlawn   Category 1    A  64000.0      3\n",
      "3      2  Avenue Rd & Fairlawn   Category 1    C   8000.0      1\n",
      "4      3  Bathurst & Frontenac   Category 1    A  32500.0      1\n",
      "\n",
      "Check total sales\n",
      "6481500.0\n"
     ]
    }
   ],
   "source": [
    "curr_mth_sales3 = pd.merge(curr_mth_sales2, prod, how = \"inner\", left_on=\"Prod\", right_on=\"Prod\")\n",
    "curr_mth_sales3 = pd.merge(curr_mth_sales3, staff, how = \"inner\", left_on=\"Staff_ID\", right_on=\"Staff_ID\")\n",
    "curr_mth_sales3 = pd.merge(curr_mth_sales3, branch[[\"Br_ID\",\"Name\"]], how = \"inner\", left_on=\"Br_ID\", right_on=\"Br_ID\")\n",
    "\n",
    "sum_curr_detail = curr_mth_sales3.groupby(['Br_ID','Name','Cat','Prod'], dropna = False).agg(Total= ('Amt','sum'),\n",
    "                                                                   Count= ('Amt', 'count') \n",
    "                                                                  )\n",
    "sum_curr_detail=sum_curr_detail.reset_index()\n",
    "print(sum_curr_detail.head())\n",
    "\n",
    "print(\"\\nCheck total sales\")\n",
    "print(sum(sum_curr_detail['Total']))"
   ]
  },
  {
   "cell_type": "code",
   "execution_count": 75,
   "id": "ec82e94b",
   "metadata": {},
   "outputs": [
    {
     "name": "stdout",
     "output_type": "stream",
     "text": [
      "        date  Staff_ID Prod    Total  Count\n",
      "0 2019-01-02         6    C   1000.0      1\n",
      "1 2019-01-02        65    G  46000.0      1\n",
      "2 2019-01-02        82    F  30500.0      1\n",
      "3 2019-01-02       101    A  45500.0      1\n",
      "4 2019-01-02       123    G  12000.0      1\n",
      "        date  Staff_ID Prod    Total  Count         Cat  Br_ID  \\\n",
      "0 2019-01-02         6    C   1000.0      1  Category 1      7   \n",
      "1 2019-06-07         6    C  20500.0      1  Category 1      7   \n",
      "2 2019-07-11         6    C  41000.0      1  Category 1      7   \n",
      "3 2020-04-04         6    C   1000.0      1  Category 1      7   \n",
      "4 2020-11-13         6    C  34500.0      1  Category 1      7   \n",
      "\n",
      "              Name        lat       long  \n",
      "0  Bloor & Church   43.670599 -79.385153  \n",
      "1  Bloor & Church   43.670599 -79.385153  \n",
      "2  Bloor & Church   43.670599 -79.385153  \n",
      "3  Bloor & Church   43.670599 -79.385153  \n",
      "4  Bloor & Church   43.670599 -79.385153  \n",
      "\n",
      "Check total sales\n",
      "252539500.0\n"
     ]
    }
   ],
   "source": [
    "## Raw Summary File For Tableau\n",
    "\n",
    "raw_sum = sales.groupby(['date','Staff_ID','Prod']).agg(Total=('Amt', 'sum'),\n",
    "                                                      Count= ('Amt', 'count'))\n",
    "raw_sum = raw_sum.reset_index()\n",
    "\n",
    "print(raw_sum.head())\n",
    "\n",
    "raw_sum = pd.merge(raw_sum, prod, how = \"inner\", left_on=\"Prod\", right_on=\"Prod\")\n",
    "raw_sum = pd.merge(raw_sum, staff, how = \"inner\", left_on=\"Staff_ID\", right_on=\"Staff_ID\")\n",
    "\n",
    "raw_sum = pd.merge(raw_sum, branch[[\"Br_ID\",\"Name\",\"lat\",\"long\"]], how = \"inner\", left_on=\"Br_ID\", right_on=\"Br_ID\")\n",
    "print(raw_sum.head())\n",
    "\n",
    "print(\"\\nCheck total sales\")\n",
    "print(sum(raw_sum['Total']))\n"
   ]
  },
  {
   "cell_type": "markdown",
   "id": "d8246d68",
   "metadata": {},
   "source": [
    "## Export Files"
   ]
  },
  {
   "cell_type": "code",
   "execution_count": 76,
   "id": "146cdbf8",
   "metadata": {},
   "outputs": [],
   "source": [
    "sum_sales_prod_mth.to_csv('sum_prod_mth.csv', index = False, header = 1)\n",
    "sum_sales_br_2.to_csv('sum_branch.csv', index = False, header = 1)\n",
    "sum_sales_date.to_csv('sum_date.csv', index = False, header = 1)\n",
    "sum_curr_mth_2.to_csv('sum_achievement.csv', index = False, header = 1)\n",
    "sum_curr_detail.to_csv('sum_curr_mth_detail.csv', index = False, header = 1)\n",
    "raw_sum.to_csv('sum_tableau.csv', index = False, header = 1)"
   ]
  },
  {
   "cell_type": "markdown",
   "id": "0f2d75f0",
   "metadata": {},
   "source": [
    "## Show all generated dataframe"
   ]
  },
  {
   "cell_type": "code",
   "execution_count": 77,
   "id": "c573c349",
   "metadata": {
    "scrolled": true
   },
   "outputs": [
    {
     "name": "stdout",
     "output_type": "stream",
     "text": [
      "Variable             Type         Data/Info\n",
      "-------------------------------------------\n",
      "Tar                  DataFrame        Br_ID   Sales_Tar\\n0 <...>.0\\n50     51   4097280.0\n",
      "branch               DataFrame                             <...>.  43.774283 -79.501947  \n",
      "curr_mth_sales       DataFrame          Cust_ID  Staff_ID  <...>n[10000 rows x 6 columns]\n",
      "curr_mth_sales2      DataFrame          Cust_ID  Staff_ID  <...>n\\n[253 rows x 6 columns]\n",
      "curr_mth_sales3      DataFrame         Cust_ID  Staff_ID   <...>n\\n[253 rows x 9 columns]\n",
      "prod                 DataFrame                 Cat\\nProd   <...>egory 3\\nJ     Category 3\n",
      "raw_sum              DataFrame               date  Staff_ID<...>n[9981 rows x 10 columns]\n",
      "sales                DataFrame          Cust_ID  Staff_ID  <...>n[10000 rows x 6 columns]\n",
      "staff                DataFrame              Br_ID\\nStaff_ID<...>n\\n[300 rows x 1 columns]\n",
      "sum_curr_detail      DataFrame         Br_ID               <...>n\\n[198 rows x 6 columns]\n",
      "sum_curr_mth_1       DataFrame                Total  Count <...>n\\n[171 rows x 3 columns]\n",
      "sum_curr_mth_2       DataFrame        Br_ID     Total  Coun<...> University/York Lanes   \n",
      "sum_sales_br_1       DataFrame                  Total  Coun<...>n\\n[300 rows x 4 columns]\n",
      "sum_sales_br_2       DataFrame        Br_ID   BR_Total  BR_<...> \\n49    44  \\n50    45  \n",
      "sum_sales_date       DataFrame              date     Total <...>\\n[1000 rows x 3 columns]\n",
      "sum_sales_prod_mth   DataFrame               mth Prod      <...>n\\n[330 rows x 5 columns]\n",
      "sum_sales_staff_1    DataFrame                  Total  Coun<...>n\\n[300 rows x 3 columns]\n"
     ]
    }
   ],
   "source": [
    "%whos DataFrame"
   ]
  },
  {
   "cell_type": "markdown",
   "id": "7eb0ba41",
   "metadata": {},
   "source": [
    "## 7. Create Map"
   ]
  },
  {
   "cell_type": "code",
   "execution_count": 78,
   "id": "3745e3a6",
   "metadata": {},
   "outputs": [
    {
     "name": "stdout",
     "output_type": "stream",
     "text": [
      "43.69675561200355\n",
      "-79.36020879238686\n"
     ]
    },
    {
     "data": {
      "text/html": [
       "<div style=\"width:100%;\"><div style=\"position:relative;width:100%;height:0;padding-bottom:60%;\"><span style=\"color:#565656\">Make this Notebook Trusted to load map: File -> Trust Notebook</span><iframe srcdoc=\"&lt;!DOCTYPE html&gt;\n",
       "&lt;head&gt;    \n",
       "    &lt;meta http-equiv=&quot;content-type&quot; content=&quot;text/html; charset=UTF-8&quot; /&gt;\n",
       "    \n",
       "        &lt;script&gt;\n",
       "            L_NO_TOUCH = false;\n",
       "            L_DISABLE_3D = false;\n",
       "        &lt;/script&gt;\n",
       "    \n",
       "    &lt;style&gt;html, body {width: 100%;height: 100%;margin: 0;padding: 0;}&lt;/style&gt;\n",
       "    &lt;style&gt;#map {position:absolute;top:0;bottom:0;right:0;left:0;}&lt;/style&gt;\n",
       "    &lt;script src=&quot;https://cdn.jsdelivr.net/npm/leaflet@1.6.0/dist/leaflet.js&quot;&gt;&lt;/script&gt;\n",
       "    &lt;script src=&quot;https://code.jquery.com/jquery-1.12.4.min.js&quot;&gt;&lt;/script&gt;\n",
       "    &lt;script src=&quot;https://maxcdn.bootstrapcdn.com/bootstrap/3.2.0/js/bootstrap.min.js&quot;&gt;&lt;/script&gt;\n",
       "    &lt;script src=&quot;https://cdnjs.cloudflare.com/ajax/libs/Leaflet.awesome-markers/2.0.2/leaflet.awesome-markers.js&quot;&gt;&lt;/script&gt;\n",
       "    &lt;link rel=&quot;stylesheet&quot; href=&quot;https://cdn.jsdelivr.net/npm/leaflet@1.6.0/dist/leaflet.css&quot;/&gt;\n",
       "    &lt;link rel=&quot;stylesheet&quot; href=&quot;https://maxcdn.bootstrapcdn.com/bootstrap/3.2.0/css/bootstrap.min.css&quot;/&gt;\n",
       "    &lt;link rel=&quot;stylesheet&quot; href=&quot;https://maxcdn.bootstrapcdn.com/bootstrap/3.2.0/css/bootstrap-theme.min.css&quot;/&gt;\n",
       "    &lt;link rel=&quot;stylesheet&quot; href=&quot;https://maxcdn.bootstrapcdn.com/font-awesome/4.6.3/css/font-awesome.min.css&quot;/&gt;\n",
       "    &lt;link rel=&quot;stylesheet&quot; href=&quot;https://cdnjs.cloudflare.com/ajax/libs/Leaflet.awesome-markers/2.0.2/leaflet.awesome-markers.css&quot;/&gt;\n",
       "    &lt;link rel=&quot;stylesheet&quot; href=&quot;https://cdn.jsdelivr.net/gh/python-visualization/folium/folium/templates/leaflet.awesome.rotate.min.css&quot;/&gt;\n",
       "    \n",
       "            &lt;meta name=&quot;viewport&quot; content=&quot;width=device-width,\n",
       "                initial-scale=1.0, maximum-scale=1.0, user-scalable=no&quot; /&gt;\n",
       "            &lt;style&gt;\n",
       "                #map_2fa2fd230e12fd962263dea610bafc54 {\n",
       "                    position: relative;\n",
       "                    width: 700.0px;\n",
       "                    height: 700.0px;\n",
       "                    left: 0.0%;\n",
       "                    top: 0.0%;\n",
       "                }\n",
       "            &lt;/style&gt;\n",
       "        \n",
       "&lt;/head&gt;\n",
       "&lt;body&gt;    \n",
       "    \n",
       "            &lt;div class=&quot;folium-map&quot; id=&quot;map_2fa2fd230e12fd962263dea610bafc54&quot; &gt;&lt;/div&gt;\n",
       "        \n",
       "&lt;/body&gt;\n",
       "&lt;script&gt;    \n",
       "    \n",
       "            var map_2fa2fd230e12fd962263dea610bafc54 = L.map(\n",
       "                &quot;map_2fa2fd230e12fd962263dea610bafc54&quot;,\n",
       "                {\n",
       "                    center: [43.69675561200355, -79.36020879238686],\n",
       "                    crs: L.CRS.EPSG3857,\n",
       "                    zoom: 11,\n",
       "                    zoomControl: true,\n",
       "                    preferCanvas: false,\n",
       "                    titles: &quot;Branch Sales&quot;,\n",
       "                }\n",
       "            );\n",
       "\n",
       "            \n",
       "\n",
       "        \n",
       "    \n",
       "            var tile_layer_1bfc75c1cd882e9c6757d364b8014ed6 = L.tileLayer(\n",
       "                &quot;https://{s}.tile.openstreetmap.org/{z}/{x}/{y}.png&quot;,\n",
       "                {&quot;attribution&quot;: &quot;Data by \\u0026copy; \\u003ca href=\\&quot;http://openstreetmap.org\\&quot;\\u003eOpenStreetMap\\u003c/a\\u003e, under \\u003ca href=\\&quot;http://www.openstreetmap.org/copyright\\&quot;\\u003eODbL\\u003c/a\\u003e.&quot;, &quot;detectRetina&quot;: false, &quot;maxNativeZoom&quot;: 18, &quot;maxZoom&quot;: 18, &quot;minZoom&quot;: 0, &quot;noWrap&quot;: false, &quot;opacity&quot;: 1, &quot;subdomains&quot;: &quot;abc&quot;, &quot;tms&quot;: false}\n",
       "            ).addTo(map_2fa2fd230e12fd962263dea610bafc54);\n",
       "        \n",
       "&lt;/script&gt;\" style=\"position:absolute;width:100%;height:100%;left:0;top:0;border:none !important;\" allowfullscreen webkitallowfullscreen mozallowfullscreen></iframe></div></div>"
      ],
      "text/plain": [
       "<folium.folium.Map at 0x1a73bfc5270>"
      ]
     },
     "execution_count": 78,
     "metadata": {},
     "output_type": "execute_result"
    }
   ],
   "source": [
    "import folium\n",
    "\n",
    "# Find the Latitude & Longtitude for the map\n",
    "avg_lat=branch['lat'].mean()\n",
    "avg_long=branch['long'].mean()\n",
    "\n",
    "print(avg_lat)\n",
    "print(avg_long)\n",
    "\n",
    "map = folium.Map(\n",
    "    height=700, width=700,\n",
    "    titles='Branch Sales',\n",
    "    location=[avg_lat, avg_long],\n",
    "    zoom_start = 11\n",
    ")\n",
    "map\n"
   ]
  },
  {
   "cell_type": "code",
   "execution_count": 79,
   "id": "bfef4d8a",
   "metadata": {},
   "outputs": [
    {
     "name": "stdout",
     "output_type": "stream",
     "text": [
      "['fa-circle' 'exclamation' 'star']\n",
      "['blue' 'red' 'pink']\n"
     ]
    }
   ],
   "source": [
    "# Map Colour \n",
    "def sales_rank(row):\n",
    "    if row['rank'] <=5:\n",
    "        return 'pink'\n",
    "    elif row['rank'] >=46:\n",
    "        return 'red'\n",
    "    else:\n",
    "        return 'blue'\n",
    "\n",
    "def sales_icon(row):\n",
    "    if row['rank'] <=5:\n",
    "        return 'star'\n",
    "    elif row['rank'] >=46:\n",
    "        return 'exclamation'\n",
    "    else:\n",
    "        return 'fa-circle'\n",
    "\n",
    "sum_sales_br_2['colors'] = sum_sales_br_2.apply(sales_rank, axis=1)\n",
    "sum_sales_br_2['icons'] = sum_sales_br_2.apply(sales_icon, axis=1)\n",
    "sum_sales_br_2['BR_Total_M']= \"$\" + (round(sum_sales_br_2['BR_Total']/100000,1)).astype(str) + \"M\"\n",
    "print(sum_sales_br_2['icons'].unique())\n",
    "print(sum_sales_br_2['colors'].unique())"
   ]
  },
  {
   "cell_type": "code",
   "execution_count": 80,
   "id": "6b788242",
   "metadata": {
    "scrolled": false
   },
   "outputs": [
    {
     "data": {
      "text/html": [
       "<div style=\"width:100%;\"><div style=\"position:relative;width:100%;height:0;padding-bottom:60%;\"><span style=\"color:#565656\">Make this Notebook Trusted to load map: File -> Trust Notebook</span><iframe srcdoc=\"&lt;!DOCTYPE html&gt;\n",
       "&lt;head&gt;    \n",
       "    &lt;meta http-equiv=&quot;content-type&quot; content=&quot;text/html; charset=UTF-8&quot; /&gt;\n",
       "    \n",
       "        &lt;script&gt;\n",
       "            L_NO_TOUCH = false;\n",
       "            L_DISABLE_3D = false;\n",
       "        &lt;/script&gt;\n",
       "    \n",
       "    &lt;style&gt;html, body {width: 100%;height: 100%;margin: 0;padding: 0;}&lt;/style&gt;\n",
       "    &lt;style&gt;#map {position:absolute;top:0;bottom:0;right:0;left:0;}&lt;/style&gt;\n",
       "    &lt;script src=&quot;https://cdn.jsdelivr.net/npm/leaflet@1.6.0/dist/leaflet.js&quot;&gt;&lt;/script&gt;\n",
       "    &lt;script src=&quot;https://code.jquery.com/jquery-1.12.4.min.js&quot;&gt;&lt;/script&gt;\n",
       "    &lt;script src=&quot;https://maxcdn.bootstrapcdn.com/bootstrap/3.2.0/js/bootstrap.min.js&quot;&gt;&lt;/script&gt;\n",
       "    &lt;script src=&quot;https://cdnjs.cloudflare.com/ajax/libs/Leaflet.awesome-markers/2.0.2/leaflet.awesome-markers.js&quot;&gt;&lt;/script&gt;\n",
       "    &lt;link rel=&quot;stylesheet&quot; href=&quot;https://cdn.jsdelivr.net/npm/leaflet@1.6.0/dist/leaflet.css&quot;/&gt;\n",
       "    &lt;link rel=&quot;stylesheet&quot; href=&quot;https://maxcdn.bootstrapcdn.com/bootstrap/3.2.0/css/bootstrap.min.css&quot;/&gt;\n",
       "    &lt;link rel=&quot;stylesheet&quot; href=&quot;https://maxcdn.bootstrapcdn.com/bootstrap/3.2.0/css/bootstrap-theme.min.css&quot;/&gt;\n",
       "    &lt;link rel=&quot;stylesheet&quot; href=&quot;https://maxcdn.bootstrapcdn.com/font-awesome/4.6.3/css/font-awesome.min.css&quot;/&gt;\n",
       "    &lt;link rel=&quot;stylesheet&quot; href=&quot;https://cdnjs.cloudflare.com/ajax/libs/Leaflet.awesome-markers/2.0.2/leaflet.awesome-markers.css&quot;/&gt;\n",
       "    &lt;link rel=&quot;stylesheet&quot; href=&quot;https://cdn.jsdelivr.net/gh/python-visualization/folium/folium/templates/leaflet.awesome.rotate.min.css&quot;/&gt;\n",
       "    \n",
       "            &lt;meta name=&quot;viewport&quot; content=&quot;width=device-width,\n",
       "                initial-scale=1.0, maximum-scale=1.0, user-scalable=no&quot; /&gt;\n",
       "            &lt;style&gt;\n",
       "                #map_2fa2fd230e12fd962263dea610bafc54 {\n",
       "                    position: relative;\n",
       "                    width: 700.0px;\n",
       "                    height: 700.0px;\n",
       "                    left: 0.0%;\n",
       "                    top: 0.0%;\n",
       "                }\n",
       "            &lt;/style&gt;\n",
       "        \n",
       "&lt;/head&gt;\n",
       "&lt;body&gt;    \n",
       "    \n",
       "            &lt;div class=&quot;folium-map&quot; id=&quot;map_2fa2fd230e12fd962263dea610bafc54&quot; &gt;&lt;/div&gt;\n",
       "        \n",
       "&lt;/body&gt;\n",
       "&lt;script&gt;    \n",
       "    \n",
       "            var map_2fa2fd230e12fd962263dea610bafc54 = L.map(\n",
       "                &quot;map_2fa2fd230e12fd962263dea610bafc54&quot;,\n",
       "                {\n",
       "                    center: [43.69675561200355, -79.36020879238686],\n",
       "                    crs: L.CRS.EPSG3857,\n",
       "                    zoom: 11,\n",
       "                    zoomControl: true,\n",
       "                    preferCanvas: false,\n",
       "                    titles: &quot;Branch Sales&quot;,\n",
       "                }\n",
       "            );\n",
       "\n",
       "            \n",
       "\n",
       "        \n",
       "    \n",
       "            var tile_layer_1bfc75c1cd882e9c6757d364b8014ed6 = L.tileLayer(\n",
       "                &quot;https://{s}.tile.openstreetmap.org/{z}/{x}/{y}.png&quot;,\n",
       "                {&quot;attribution&quot;: &quot;Data by \\u0026copy; \\u003ca href=\\&quot;http://openstreetmap.org\\&quot;\\u003eOpenStreetMap\\u003c/a\\u003e, under \\u003ca href=\\&quot;http://www.openstreetmap.org/copyright\\&quot;\\u003eODbL\\u003c/a\\u003e.&quot;, &quot;detectRetina&quot;: false, &quot;maxNativeZoom&quot;: 18, &quot;maxZoom&quot;: 18, &quot;minZoom&quot;: 0, &quot;noWrap&quot;: false, &quot;opacity&quot;: 1, &quot;subdomains&quot;: &quot;abc&quot;, &quot;tms&quot;: false}\n",
       "            ).addTo(map_2fa2fd230e12fd962263dea610bafc54);\n",
       "        \n",
       "    \n",
       "            var marker_9d90c53806aed268f04bc4ecf5874faf = L.marker(\n",
       "                [43.6778012, -79.4444415],\n",
       "                {}\n",
       "            ).addTo(map_2fa2fd230e12fd962263dea610bafc54);\n",
       "        \n",
       "    \n",
       "            var marker_3525aac28baf948d79de926d35a97e64 = L.marker(\n",
       "                [43.6778012, -79.4444415],\n",
       "                {}\n",
       "            ).addTo(map_2fa2fd230e12fd962263dea610bafc54);\n",
       "        \n",
       "    \n",
       "            var icon_550f1d06f75fbcb26b6aff88f792bb8a = L.AwesomeMarkers.icon(\n",
       "                {&quot;extraClasses&quot;: &quot;fa-rotate-0&quot;, &quot;icon&quot;: &quot;fa-circle&quot;, &quot;iconColor&quot;: &quot;white&quot;, &quot;markerColor&quot;: &quot;blue&quot;, &quot;prefix&quot;: &quot;fa&quot;}\n",
       "            );\n",
       "            marker_3525aac28baf948d79de926d35a97e64.setIcon(icon_550f1d06f75fbcb26b6aff88f792bb8a);\n",
       "        \n",
       "    \n",
       "        var popup_95ba51f4302fe79aa18b720c7080e3fb = L.popup({&quot;maxWidth&quot;: &quot;100%&quot;});\n",
       "\n",
       "        \n",
       "            var html_422357bedd407a23fb6cf9a85b7c5a6b = $(`&lt;div id=&quot;html_422357bedd407a23fb6cf9a85b7c5a6b&quot; style=&quot;width: 100.0%; height: 100.0%;&quot;&gt;[&#x27;1200 St Clair &#x27;]&lt;/div&gt;`)[0];\n",
       "            popup_95ba51f4302fe79aa18b720c7080e3fb.setContent(html_422357bedd407a23fb6cf9a85b7c5a6b);\n",
       "        \n",
       "\n",
       "        marker_3525aac28baf948d79de926d35a97e64.bindPopup(popup_95ba51f4302fe79aa18b720c7080e3fb)\n",
       "        ;\n",
       "\n",
       "        \n",
       "    \n",
       "    \n",
       "            marker_3525aac28baf948d79de926d35a97e64.bindTooltip(\n",
       "                `&lt;div&gt;\n",
       "                     [&#x27;1200 St Clair &#x27;, &#x27;Sales: &#x27;, &#x27;$34.5M&#x27;, &#x27;Rank: &#x27;, 42]\n",
       "                 &lt;/div&gt;`,\n",
       "                {&quot;sticky&quot;: true}\n",
       "            );\n",
       "        \n",
       "    \n",
       "            var marker_eb00f47afbf52bc95dc89c451648bdde = L.marker(\n",
       "                [43.7281034, -79.4177817],\n",
       "                {}\n",
       "            ).addTo(map_2fa2fd230e12fd962263dea610bafc54);\n",
       "        \n",
       "    \n",
       "            var icon_cb7d005fffd8da9a1dca0a771651b7b7 = L.AwesomeMarkers.icon(\n",
       "                {&quot;extraClasses&quot;: &quot;fa-rotate-0&quot;, &quot;icon&quot;: &quot;fa-circle&quot;, &quot;iconColor&quot;: &quot;white&quot;, &quot;markerColor&quot;: &quot;blue&quot;, &quot;prefix&quot;: &quot;fa&quot;}\n",
       "            );\n",
       "            marker_eb00f47afbf52bc95dc89c451648bdde.setIcon(icon_cb7d005fffd8da9a1dca0a771651b7b7);\n",
       "        \n",
       "    \n",
       "        var popup_bced15c8a0420080c642b8925d4463ae = L.popup({&quot;maxWidth&quot;: &quot;100%&quot;});\n",
       "\n",
       "        \n",
       "            var html_6a2bb27f13aa534a264a18d36d09fa6d = $(`&lt;div id=&quot;html_6a2bb27f13aa534a264a18d36d09fa6d&quot; style=&quot;width: 100.0%; height: 100.0%;&quot;&gt;[&#x27;Avenue Rd &amp; Fairlawn &#x27;]&lt;/div&gt;`)[0];\n",
       "            popup_bced15c8a0420080c642b8925d4463ae.setContent(html_6a2bb27f13aa534a264a18d36d09fa6d);\n",
       "        \n",
       "\n",
       "        marker_eb00f47afbf52bc95dc89c451648bdde.bindPopup(popup_bced15c8a0420080c642b8925d4463ae)\n",
       "        ;\n",
       "\n",
       "        \n",
       "    \n",
       "    \n",
       "            marker_eb00f47afbf52bc95dc89c451648bdde.bindTooltip(\n",
       "                `&lt;div&gt;\n",
       "                     [&#x27;Avenue Rd &amp; Fairlawn &#x27;, &#x27;Sales: &#x27;, &#x27;$46.9M&#x27;, &#x27;Rank: &#x27;, 27]\n",
       "                 &lt;/div&gt;`,\n",
       "                {&quot;sticky&quot;: true}\n",
       "            );\n",
       "        \n",
       "    \n",
       "            var marker_075f60e5d324346d7b9a3d886f5181d3 = L.marker(\n",
       "                [43.7167193, -79.4288825],\n",
       "                {}\n",
       "            ).addTo(map_2fa2fd230e12fd962263dea610bafc54);\n",
       "        \n",
       "    \n",
       "            var icon_95aa35c869210db9f442cb570a41b3ec = L.AwesomeMarkers.icon(\n",
       "                {&quot;extraClasses&quot;: &quot;fa-rotate-0&quot;, &quot;icon&quot;: &quot;fa-circle&quot;, &quot;iconColor&quot;: &quot;white&quot;, &quot;markerColor&quot;: &quot;blue&quot;, &quot;prefix&quot;: &quot;fa&quot;}\n",
       "            );\n",
       "            marker_075f60e5d324346d7b9a3d886f5181d3.setIcon(icon_95aa35c869210db9f442cb570a41b3ec);\n",
       "        \n",
       "    \n",
       "        var popup_93b5b054b452aa6c17f94048a918e241 = L.popup({&quot;maxWidth&quot;: &quot;100%&quot;});\n",
       "\n",
       "        \n",
       "            var html_4e826d11b26a559a677487e6661a4e0a = $(`&lt;div id=&quot;html_4e826d11b26a559a677487e6661a4e0a&quot; style=&quot;width: 100.0%; height: 100.0%;&quot;&gt;[&#x27;Bathurst &amp; Frontenac &#x27;]&lt;/div&gt;`)[0];\n",
       "            popup_93b5b054b452aa6c17f94048a918e241.setContent(html_4e826d11b26a559a677487e6661a4e0a);\n",
       "        \n",
       "\n",
       "        marker_075f60e5d324346d7b9a3d886f5181d3.bindPopup(popup_93b5b054b452aa6c17f94048a918e241)\n",
       "        ;\n",
       "\n",
       "        \n",
       "    \n",
       "    \n",
       "            marker_075f60e5d324346d7b9a3d886f5181d3.bindTooltip(\n",
       "                `&lt;div&gt;\n",
       "                     [&#x27;Bathurst &amp; Frontenac &#x27;, &#x27;Sales: &#x27;, &#x27;$63.9M&#x27;, &#x27;Rank: &#x27;, 12]\n",
       "                 &lt;/div&gt;`,\n",
       "                {&quot;sticky&quot;: true}\n",
       "            );\n",
       "        \n",
       "    \n",
       "            var marker_c80a3e9aa0cc5f5e86cfa2d3202960ac = L.marker(\n",
       "                [43.6599901, -79.3852164],\n",
       "                {}\n",
       "            ).addTo(map_2fa2fd230e12fd962263dea610bafc54);\n",
       "        \n",
       "    \n",
       "            var icon_8919f744e02a67ca2d3fe3822c0e08a5 = L.AwesomeMarkers.icon(\n",
       "                {&quot;extraClasses&quot;: &quot;fa-rotate-0&quot;, &quot;icon&quot;: &quot;exclamation&quot;, &quot;iconColor&quot;: &quot;white&quot;, &quot;markerColor&quot;: &quot;red&quot;, &quot;prefix&quot;: &quot;fa&quot;}\n",
       "            );\n",
       "            marker_c80a3e9aa0cc5f5e86cfa2d3202960ac.setIcon(icon_8919f744e02a67ca2d3fe3822c0e08a5);\n",
       "        \n",
       "    \n",
       "        var popup_eac79196b1091c0a654d23acf94e384f = L.popup({&quot;maxWidth&quot;: &quot;100%&quot;});\n",
       "\n",
       "        \n",
       "            var html_907c54c04fa61e01a728ccb4b3803268 = $(`&lt;div id=&quot;html_907c54c04fa61e01a728ccb4b3803268&quot; style=&quot;width: 100.0%; height: 100.0%;&quot;&gt;[&#x27;Bay &amp; College &#x27;]&lt;/div&gt;`)[0];\n",
       "            popup_eac79196b1091c0a654d23acf94e384f.setContent(html_907c54c04fa61e01a728ccb4b3803268);\n",
       "        \n",
       "\n",
       "        marker_c80a3e9aa0cc5f5e86cfa2d3202960ac.bindPopup(popup_eac79196b1091c0a654d23acf94e384f)\n",
       "        ;\n",
       "\n",
       "        \n",
       "    \n",
       "    \n",
       "            marker_c80a3e9aa0cc5f5e86cfa2d3202960ac.bindTooltip(\n",
       "                `&lt;div&gt;\n",
       "                     [&#x27;Bay &amp; College &#x27;, &#x27;Sales: &#x27;, &#x27;$24.5M&#x27;, &#x27;Rank: &#x27;, 48]\n",
       "                 &lt;/div&gt;`,\n",
       "                {&quot;sticky&quot;: true}\n",
       "            );\n",
       "        \n",
       "    \n",
       "            var marker_c5637804d5d400e2b0e391bd99208ab3 = L.marker(\n",
       "                [43.6682433, -79.3972205],\n",
       "                {}\n",
       "            ).addTo(map_2fa2fd230e12fd962263dea610bafc54);\n",
       "        \n",
       "    \n",
       "            var icon_233c34d6a44ce4b056017c65a75559c6 = L.AwesomeMarkers.icon(\n",
       "                {&quot;extraClasses&quot;: &quot;fa-rotate-0&quot;, &quot;icon&quot;: &quot;fa-circle&quot;, &quot;iconColor&quot;: &quot;white&quot;, &quot;markerColor&quot;: &quot;blue&quot;, &quot;prefix&quot;: &quot;fa&quot;}\n",
       "            );\n",
       "            marker_c5637804d5d400e2b0e391bd99208ab3.setIcon(icon_233c34d6a44ce4b056017c65a75559c6);\n",
       "        \n",
       "    \n",
       "        var popup_cdcfdd157f6f8463f320761c79d70d61 = L.popup({&quot;maxWidth&quot;: &quot;100%&quot;});\n",
       "\n",
       "        \n",
       "            var html_e19d678348d29240e140719a28e7fcbe = $(`&lt;div id=&quot;html_e19d678348d29240e140719a28e7fcbe&quot; style=&quot;width: 100.0%; height: 100.0%;&quot;&gt;[&#x27;Bedford &amp; Bloor &#x27;]&lt;/div&gt;`)[0];\n",
       "            popup_cdcfdd157f6f8463f320761c79d70d61.setContent(html_e19d678348d29240e140719a28e7fcbe);\n",
       "        \n",
       "\n",
       "        marker_c5637804d5d400e2b0e391bd99208ab3.bindPopup(popup_cdcfdd157f6f8463f320761c79d70d61)\n",
       "        ;\n",
       "\n",
       "        \n",
       "    \n",
       "    \n",
       "            marker_c5637804d5d400e2b0e391bd99208ab3.bindTooltip(\n",
       "                `&lt;div&gt;\n",
       "                     [&#x27;Bedford &amp; Bloor &#x27;, &#x27;Sales: &#x27;, &#x27;$36.0M&#x27;, &#x27;Rank: &#x27;, 41]\n",
       "                 &lt;/div&gt;`,\n",
       "                {&quot;sticky&quot;: true}\n",
       "            );\n",
       "        \n",
       "    \n",
       "            var marker_58c38fe1239c19ab33e4dae6d018056a = L.marker(\n",
       "                [43.6697574, -79.3884078],\n",
       "                {}\n",
       "            ).addTo(map_2fa2fd230e12fd962263dea610bafc54);\n",
       "        \n",
       "    \n",
       "            var icon_84c4a630beb14e1298de67c39f9455a1 = L.AwesomeMarkers.icon(\n",
       "                {&quot;extraClasses&quot;: &quot;fa-rotate-0&quot;, &quot;icon&quot;: &quot;star&quot;, &quot;iconColor&quot;: &quot;white&quot;, &quot;markerColor&quot;: &quot;pink&quot;, &quot;prefix&quot;: &quot;fa&quot;}\n",
       "            );\n",
       "            marker_58c38fe1239c19ab33e4dae6d018056a.setIcon(icon_84c4a630beb14e1298de67c39f9455a1);\n",
       "        \n",
       "    \n",
       "        var popup_89df3d5f707686a6a8456feb287558b0 = L.popup({&quot;maxWidth&quot;: &quot;100%&quot;});\n",
       "\n",
       "        \n",
       "            var html_3877aaaff1b224a7b3fed4d753c16947 = $(`&lt;div id=&quot;html_3877aaaff1b224a7b3fed4d753c16947&quot; style=&quot;width: 100.0%; height: 100.0%;&quot;&gt;[&#x27;Bloor &amp; Bay (Manulife Centre) &#x27;]&lt;/div&gt;`)[0];\n",
       "            popup_89df3d5f707686a6a8456feb287558b0.setContent(html_3877aaaff1b224a7b3fed4d753c16947);\n",
       "        \n",
       "\n",
       "        marker_58c38fe1239c19ab33e4dae6d018056a.bindPopup(popup_89df3d5f707686a6a8456feb287558b0)\n",
       "        ;\n",
       "\n",
       "        \n",
       "    \n",
       "    \n",
       "            marker_58c38fe1239c19ab33e4dae6d018056a.bindTooltip(\n",
       "                `&lt;div&gt;\n",
       "                     [&#x27;Bloor &amp; Bay (Manulife Centre) &#x27;, &#x27;Sales: &#x27;, &#x27;$75.9M&#x27;, &#x27;Rank: &#x27;, 4]\n",
       "                 &lt;/div&gt;`,\n",
       "                {&quot;sticky&quot;: true}\n",
       "            );\n",
       "        \n",
       "    \n",
       "            var marker_32d0427ea552761d397bf93f73e297ef = L.marker(\n",
       "                [43.6705993, -79.3851527],\n",
       "                {}\n",
       "            ).addTo(map_2fa2fd230e12fd962263dea610bafc54);\n",
       "        \n",
       "    \n",
       "            var icon_f308ada6034383dcddd300da39edd04a = L.AwesomeMarkers.icon(\n",
       "                {&quot;extraClasses&quot;: &quot;fa-rotate-0&quot;, &quot;icon&quot;: &quot;fa-circle&quot;, &quot;iconColor&quot;: &quot;white&quot;, &quot;markerColor&quot;: &quot;blue&quot;, &quot;prefix&quot;: &quot;fa&quot;}\n",
       "            );\n",
       "            marker_32d0427ea552761d397bf93f73e297ef.setIcon(icon_f308ada6034383dcddd300da39edd04a);\n",
       "        \n",
       "    \n",
       "        var popup_78d8ded1f0697d718daa56d2f5a43a60 = L.popup({&quot;maxWidth&quot;: &quot;100%&quot;});\n",
       "\n",
       "        \n",
       "            var html_4acbbb58afedff36dec74059d5f8dd9a = $(`&lt;div id=&quot;html_4acbbb58afedff36dec74059d5f8dd9a&quot; style=&quot;width: 100.0%; height: 100.0%;&quot;&gt;[&#x27;Bloor &amp; Church &#x27;]&lt;/div&gt;`)[0];\n",
       "            popup_78d8ded1f0697d718daa56d2f5a43a60.setContent(html_4acbbb58afedff36dec74059d5f8dd9a);\n",
       "        \n",
       "\n",
       "        marker_32d0427ea552761d397bf93f73e297ef.bindPopup(popup_78d8ded1f0697d718daa56d2f5a43a60)\n",
       "        ;\n",
       "\n",
       "        \n",
       "    \n",
       "    \n",
       "            marker_32d0427ea552761d397bf93f73e297ef.bindTooltip(\n",
       "                `&lt;div&gt;\n",
       "                     [&#x27;Bloor &amp; Church &#x27;, &#x27;Sales: &#x27;, &#x27;$46.6M&#x27;, &#x27;Rank: &#x27;, 28]\n",
       "                 &lt;/div&gt;`,\n",
       "                {&quot;sticky&quot;: true}\n",
       "            );\n",
       "        \n",
       "    \n",
       "            var marker_8275df0a8578e0c18349df8063cb61a1 = L.marker(\n",
       "                [43.6644298, -79.4150057],\n",
       "                {}\n",
       "            ).addTo(map_2fa2fd230e12fd962263dea610bafc54);\n",
       "        \n",
       "    \n",
       "            var icon_2c4057fcb762bbe8a702cbc5e57dc2b2 = L.AwesomeMarkers.icon(\n",
       "                {&quot;extraClasses&quot;: &quot;fa-rotate-0&quot;, &quot;icon&quot;: &quot;fa-circle&quot;, &quot;iconColor&quot;: &quot;white&quot;, &quot;markerColor&quot;: &quot;blue&quot;, &quot;prefix&quot;: &quot;fa&quot;}\n",
       "            );\n",
       "            marker_8275df0a8578e0c18349df8063cb61a1.setIcon(icon_2c4057fcb762bbe8a702cbc5e57dc2b2);\n",
       "        \n",
       "    \n",
       "        var popup_e9a65e14be6bc3cb32c9633718790e79 = L.popup({&quot;maxWidth&quot;: &quot;100%&quot;});\n",
       "\n",
       "        \n",
       "            var html_3ea7b0983f01efd9a3d21b17718a6e06 = $(`&lt;div id=&quot;html_3ea7b0983f01efd9a3d21b17718a6e06&quot; style=&quot;width: 100.0%; height: 100.0%;&quot;&gt;[&#x27;Bloor &amp; Euclid &#x27;]&lt;/div&gt;`)[0];\n",
       "            popup_e9a65e14be6bc3cb32c9633718790e79.setContent(html_3ea7b0983f01efd9a3d21b17718a6e06);\n",
       "        \n",
       "\n",
       "        marker_8275df0a8578e0c18349df8063cb61a1.bindPopup(popup_e9a65e14be6bc3cb32c9633718790e79)\n",
       "        ;\n",
       "\n",
       "        \n",
       "    \n",
       "    \n",
       "            marker_8275df0a8578e0c18349df8063cb61a1.bindTooltip(\n",
       "                `&lt;div&gt;\n",
       "                     [&#x27;Bloor &amp; Euclid &#x27;, &#x27;Sales: &#x27;, &#x27;$47.6M&#x27;, &#x27;Rank: &#x27;, 25]\n",
       "                 &lt;/div&gt;`,\n",
       "                {&quot;sticky&quot;: true}\n",
       "            );\n",
       "        \n",
       "    \n",
       "            var marker_59e9268fbc9337725dd1e9bcb8cb8359 = L.marker(\n",
       "                [43.6581787, -79.4430078],\n",
       "                {}\n",
       "            ).addTo(map_2fa2fd230e12fd962263dea610bafc54);\n",
       "        \n",
       "    \n",
       "            var icon_fa53919d22b90d1e926ee36525e8bd3c = L.AwesomeMarkers.icon(\n",
       "                {&quot;extraClasses&quot;: &quot;fa-rotate-0&quot;, &quot;icon&quot;: &quot;fa-circle&quot;, &quot;iconColor&quot;: &quot;white&quot;, &quot;markerColor&quot;: &quot;blue&quot;, &quot;prefix&quot;: &quot;fa&quot;}\n",
       "            );\n",
       "            marker_59e9268fbc9337725dd1e9bcb8cb8359.setIcon(icon_fa53919d22b90d1e926ee36525e8bd3c);\n",
       "        \n",
       "    \n",
       "        var popup_8e1543962a75fd68bcd39149f57fd215 = L.popup({&quot;maxWidth&quot;: &quot;100%&quot;});\n",
       "\n",
       "        \n",
       "            var html_8679963c5635acc9bf50ac5bffcd59af = $(`&lt;div id=&quot;html_8679963c5635acc9bf50ac5bffcd59af&quot; style=&quot;width: 100.0%; height: 100.0%;&quot;&gt;[&#x27;Bloor &amp; Lansdowne &#x27;]&lt;/div&gt;`)[0];\n",
       "            popup_8e1543962a75fd68bcd39149f57fd215.setContent(html_8679963c5635acc9bf50ac5bffcd59af);\n",
       "        \n",
       "\n",
       "        marker_59e9268fbc9337725dd1e9bcb8cb8359.bindPopup(popup_8e1543962a75fd68bcd39149f57fd215)\n",
       "        ;\n",
       "\n",
       "        \n",
       "    \n",
       "    \n",
       "            marker_59e9268fbc9337725dd1e9bcb8cb8359.bindTooltip(\n",
       "                `&lt;div&gt;\n",
       "                     [&#x27;Bloor &amp; Lansdowne &#x27;, &#x27;Sales: &#x27;, &#x27;$60.9M&#x27;, &#x27;Rank: &#x27;, 13]\n",
       "                 &lt;/div&gt;`,\n",
       "                {&quot;sticky&quot;: true}\n",
       "            );\n",
       "        \n",
       "    \n",
       "            var marker_d70201f159afb5c96b486c9d30c768a3 = L.marker(\n",
       "                [43.6503786, -79.4806298],\n",
       "                {}\n",
       "            ).addTo(map_2fa2fd230e12fd962263dea610bafc54);\n",
       "        \n",
       "    \n",
       "            var icon_19efc3c1e029d8a74078b12372138cf6 = L.AwesomeMarkers.icon(\n",
       "                {&quot;extraClasses&quot;: &quot;fa-rotate-0&quot;, &quot;icon&quot;: &quot;fa-circle&quot;, &quot;iconColor&quot;: &quot;white&quot;, &quot;markerColor&quot;: &quot;blue&quot;, &quot;prefix&quot;: &quot;fa&quot;}\n",
       "            );\n",
       "            marker_d70201f159afb5c96b486c9d30c768a3.setIcon(icon_19efc3c1e029d8a74078b12372138cf6);\n",
       "        \n",
       "    \n",
       "        var popup_4316b7b0b83fb28aa021eb90be37a97a = L.popup({&quot;maxWidth&quot;: &quot;100%&quot;});\n",
       "\n",
       "        \n",
       "            var html_a2045bc967b9811a9377d53bd6576271 = $(`&lt;div id=&quot;html_a2045bc967b9811a9377d53bd6576271&quot; style=&quot;width: 100.0%; height: 100.0%;&quot;&gt;[&#x27;Bloor &amp; Windermere &#x27;]&lt;/div&gt;`)[0];\n",
       "            popup_4316b7b0b83fb28aa021eb90be37a97a.setContent(html_a2045bc967b9811a9377d53bd6576271);\n",
       "        \n",
       "\n",
       "        marker_d70201f159afb5c96b486c9d30c768a3.bindPopup(popup_4316b7b0b83fb28aa021eb90be37a97a)\n",
       "        ;\n",
       "\n",
       "        \n",
       "    \n",
       "    \n",
       "            marker_d70201f159afb5c96b486c9d30c768a3.bindTooltip(\n",
       "                `&lt;div&gt;\n",
       "                     [&#x27;Bloor &amp; Windermere &#x27;, &#x27;Sales: &#x27;, &#x27;$59.3M&#x27;, &#x27;Rank: &#x27;, 17]\n",
       "                 &lt;/div&gt;`,\n",
       "                {&quot;sticky&quot;: true}\n",
       "            );\n",
       "        \n",
       "    \n",
       "            var marker_a06071f51b48e61bd0cbb816e0078d1e = L.marker(\n",
       "                [43.7993039, -79.3172414],\n",
       "                {}\n",
       "            ).addTo(map_2fa2fd230e12fd962263dea610bafc54);\n",
       "        \n",
       "    \n",
       "            var icon_06c5ca3a8c12e7d42afaafb7a96729bc = L.AwesomeMarkers.icon(\n",
       "                {&quot;extraClasses&quot;: &quot;fa-rotate-0&quot;, &quot;icon&quot;: &quot;fa-circle&quot;, &quot;iconColor&quot;: &quot;white&quot;, &quot;markerColor&quot;: &quot;blue&quot;, &quot;prefix&quot;: &quot;fa&quot;}\n",
       "            );\n",
       "            marker_a06071f51b48e61bd0cbb816e0078d1e.setIcon(icon_06c5ca3a8c12e7d42afaafb7a96729bc);\n",
       "        \n",
       "    \n",
       "        var popup_bc9d03ab78ab2577c2cb66d2748a8df5 = L.popup({&quot;maxWidth&quot;: &quot;100%&quot;});\n",
       "\n",
       "        \n",
       "            var html_c4a9e2801552e15689bb2f907e29ad85 = $(`&lt;div id=&quot;html_c4a9e2801552e15689bb2f907e29ad85&quot; style=&quot;width: 100.0%; height: 100.0%;&quot;&gt;[&#x27;Bridlewood Mall Branch &#x27;]&lt;/div&gt;`)[0];\n",
       "            popup_bc9d03ab78ab2577c2cb66d2748a8df5.setContent(html_c4a9e2801552e15689bb2f907e29ad85);\n",
       "        \n",
       "\n",
       "        marker_a06071f51b48e61bd0cbb816e0078d1e.bindPopup(popup_bc9d03ab78ab2577c2cb66d2748a8df5)\n",
       "        ;\n",
       "\n",
       "        \n",
       "    \n",
       "    \n",
       "            marker_a06071f51b48e61bd0cbb816e0078d1e.bindTooltip(\n",
       "                `&lt;div&gt;\n",
       "                     [&#x27;Bridlewood Mall Branch &#x27;, &#x27;Sales: &#x27;, &#x27;$64.8M&#x27;, &#x27;Rank: &#x27;, 11]\n",
       "                 &lt;/div&gt;`,\n",
       "                {&quot;sticky&quot;: true}\n",
       "            );\n",
       "        \n",
       "    \n",
       "            var marker_8d45e079018380397c680d60f684e2aa = L.marker(\n",
       "                [43.795991854639176, -79.41972642474227],\n",
       "                {}\n",
       "            ).addTo(map_2fa2fd230e12fd962263dea610bafc54);\n",
       "        \n",
       "    \n",
       "            var icon_29c2924a7ed1cedaf328d1b505306c2b = L.AwesomeMarkers.icon(\n",
       "                {&quot;extraClasses&quot;: &quot;fa-rotate-0&quot;, &quot;icon&quot;: &quot;fa-circle&quot;, &quot;iconColor&quot;: &quot;white&quot;, &quot;markerColor&quot;: &quot;blue&quot;, &quot;prefix&quot;: &quot;fa&quot;}\n",
       "            );\n",
       "            marker_8d45e079018380397c680d60f684e2aa.setIcon(icon_29c2924a7ed1cedaf328d1b505306c2b);\n",
       "        \n",
       "    \n",
       "        var popup_8bdbe8aa4662a73b0d7bca548f671d47 = L.popup({&quot;maxWidth&quot;: &quot;100%&quot;});\n",
       "\n",
       "        \n",
       "            var html_da489e6c65c1a7767fc87ae2ff6bc606 = $(`&lt;div id=&quot;html_da489e6c65c1a7767fc87ae2ff6bc606&quot; style=&quot;width: 100.0%; height: 100.0%;&quot;&gt;[&#x27;Centerpoint Mall &#x27;]&lt;/div&gt;`)[0];\n",
       "            popup_8bdbe8aa4662a73b0d7bca548f671d47.setContent(html_da489e6c65c1a7767fc87ae2ff6bc606);\n",
       "        \n",
       "\n",
       "        marker_8d45e079018380397c680d60f684e2aa.bindPopup(popup_8bdbe8aa4662a73b0d7bca548f671d47)\n",
       "        ;\n",
       "\n",
       "        \n",
       "    \n",
       "    \n",
       "            marker_8d45e079018380397c680d60f684e2aa.bindTooltip(\n",
       "                `&lt;div&gt;\n",
       "                     [&#x27;Centerpoint Mall &#x27;, &#x27;Sales: &#x27;, &#x27;$46.6M&#x27;, &#x27;Rank: &#x27;, 29]\n",
       "                 &lt;/div&gt;`,\n",
       "                {&quot;sticky&quot;: true}\n",
       "            );\n",
       "        \n",
       "    \n",
       "            var marker_bf01baf95173ac8bea04824add947198 = L.marker(\n",
       "                [43.66384671428571, -79.38029878571429],\n",
       "                {}\n",
       "            ).addTo(map_2fa2fd230e12fd962263dea610bafc54);\n",
       "        \n",
       "    \n",
       "            var icon_f61b0a5680d9a224ed997f37b33cad7f = L.AwesomeMarkers.icon(\n",
       "                {&quot;extraClasses&quot;: &quot;fa-rotate-0&quot;, &quot;icon&quot;: &quot;fa-circle&quot;, &quot;iconColor&quot;: &quot;white&quot;, &quot;markerColor&quot;: &quot;blue&quot;, &quot;prefix&quot;: &quot;fa&quot;}\n",
       "            );\n",
       "            marker_bf01baf95173ac8bea04824add947198.setIcon(icon_f61b0a5680d9a224ed997f37b33cad7f);\n",
       "        \n",
       "    \n",
       "        var popup_b3365cc8930b334129225163429180ba = L.popup({&quot;maxWidth&quot;: &quot;100%&quot;});\n",
       "\n",
       "        \n",
       "            var html_126e745e7f3247b05cb4697e4475f8aa = $(`&lt;div id=&quot;html_126e745e7f3247b05cb4697e4475f8aa&quot; style=&quot;width: 100.0%; height: 100.0%;&quot;&gt;[&#x27;Church &amp; Alexander &#x27;]&lt;/div&gt;`)[0];\n",
       "            popup_b3365cc8930b334129225163429180ba.setContent(html_126e745e7f3247b05cb4697e4475f8aa);\n",
       "        \n",
       "\n",
       "        marker_bf01baf95173ac8bea04824add947198.bindPopup(popup_b3365cc8930b334129225163429180ba)\n",
       "        ;\n",
       "\n",
       "        \n",
       "    \n",
       "    \n",
       "            marker_bf01baf95173ac8bea04824add947198.bindTooltip(\n",
       "                `&lt;div&gt;\n",
       "                     [&#x27;Church &amp; Alexander &#x27;, &#x27;Sales: &#x27;, &#x27;$59.9M&#x27;, &#x27;Rank: &#x27;, 14]\n",
       "                 &lt;/div&gt;`,\n",
       "                {&quot;sticky&quot;: true}\n",
       "            );\n",
       "        \n",
       "    \n",
       "            var marker_e3c1af351e4dcaae9f3d578d45385c76 = L.marker(\n",
       "                [43.6403402, -79.3947822],\n",
       "                {}\n",
       "            ).addTo(map_2fa2fd230e12fd962263dea610bafc54);\n",
       "        \n",
       "    \n",
       "            var icon_62f67cd6371285368905bca258fc4458 = L.AwesomeMarkers.icon(\n",
       "                {&quot;extraClasses&quot;: &quot;fa-rotate-0&quot;, &quot;icon&quot;: &quot;fa-circle&quot;, &quot;iconColor&quot;: &quot;white&quot;, &quot;markerColor&quot;: &quot;blue&quot;, &quot;prefix&quot;: &quot;fa&quot;}\n",
       "            );\n",
       "            marker_e3c1af351e4dcaae9f3d578d45385c76.setIcon(icon_62f67cd6371285368905bca258fc4458);\n",
       "        \n",
       "    \n",
       "        var popup_26e13fa8fb56d0e6a2aedf0d19b0fa9c = L.popup({&quot;maxWidth&quot;: &quot;100%&quot;});\n",
       "\n",
       "        \n",
       "            var html_889460ecfeb241ea1d4251c0d2baff51 = $(`&lt;div id=&quot;html_889460ecfeb241ea1d4251c0d2baff51&quot; style=&quot;width: 100.0%; height: 100.0%;&quot;&gt;[&#x27;Cityplace &#x27;]&lt;/div&gt;`)[0];\n",
       "            popup_26e13fa8fb56d0e6a2aedf0d19b0fa9c.setContent(html_889460ecfeb241ea1d4251c0d2baff51);\n",
       "        \n",
       "\n",
       "        marker_e3c1af351e4dcaae9f3d578d45385c76.bindPopup(popup_26e13fa8fb56d0e6a2aedf0d19b0fa9c)\n",
       "        ;\n",
       "\n",
       "        \n",
       "    \n",
       "    \n",
       "            marker_e3c1af351e4dcaae9f3d578d45385c76.bindTooltip(\n",
       "                `&lt;div&gt;\n",
       "                     [&#x27;Cityplace &#x27;, &#x27;Sales: &#x27;, &#x27;$47.4M&#x27;, &#x27;Rank: &#x27;, 26]\n",
       "                 &lt;/div&gt;`,\n",
       "                {&quot;sticky&quot;: true}\n",
       "            );\n",
       "        \n",
       "    \n",
       "            var marker_415bc46fffa5de584fc7005d73adbbf3 = L.marker(\n",
       "                [43.6555594, -79.4128022],\n",
       "                {}\n",
       "            ).addTo(map_2fa2fd230e12fd962263dea610bafc54);\n",
       "        \n",
       "    \n",
       "            var icon_48cac209d8f1ba8d3afcd530b4562dfc = L.AwesomeMarkers.icon(\n",
       "                {&quot;extraClasses&quot;: &quot;fa-rotate-0&quot;, &quot;icon&quot;: &quot;star&quot;, &quot;iconColor&quot;: &quot;white&quot;, &quot;markerColor&quot;: &quot;pink&quot;, &quot;prefix&quot;: &quot;fa&quot;}\n",
       "            );\n",
       "            marker_415bc46fffa5de584fc7005d73adbbf3.setIcon(icon_48cac209d8f1ba8d3afcd530b4562dfc);\n",
       "        \n",
       "    \n",
       "        var popup_295506e430aea3f30afd27ad5f6c8d72 = L.popup({&quot;maxWidth&quot;: &quot;100%&quot;});\n",
       "\n",
       "        \n",
       "            var html_09514d2c249f2d4a45d0328cf2d13c6a = $(`&lt;div id=&quot;html_09514d2c249f2d4a45d0328cf2d13c6a&quot; style=&quot;width: 100.0%; height: 100.0%;&quot;&gt;[&#x27;College &amp; Manning &#x27;]&lt;/div&gt;`)[0];\n",
       "            popup_295506e430aea3f30afd27ad5f6c8d72.setContent(html_09514d2c249f2d4a45d0328cf2d13c6a);\n",
       "        \n",
       "\n",
       "        marker_415bc46fffa5de584fc7005d73adbbf3.bindPopup(popup_295506e430aea3f30afd27ad5f6c8d72)\n",
       "        ;\n",
       "\n",
       "        \n",
       "    \n",
       "    \n",
       "            marker_415bc46fffa5de584fc7005d73adbbf3.bindTooltip(\n",
       "                `&lt;div&gt;\n",
       "                     [&#x27;College &amp; Manning &#x27;, &#x27;Sales: &#x27;, &#x27;$78.8M&#x27;, &#x27;Rank: &#x27;, 2]\n",
       "                 &lt;/div&gt;`,\n",
       "                {&quot;sticky&quot;: true}\n",
       "            );\n",
       "        \n",
       "    \n",
       "            var marker_4d50a42e6486bd7648af20dcb64cc0af = L.marker(\n",
       "                [43.6783385, -79.3486094],\n",
       "                {}\n",
       "            ).addTo(map_2fa2fd230e12fd962263dea610bafc54);\n",
       "        \n",
       "    \n",
       "            var icon_4494350d815989e071cc4c594c891471 = L.AwesomeMarkers.icon(\n",
       "                {&quot;extraClasses&quot;: &quot;fa-rotate-0&quot;, &quot;icon&quot;: &quot;fa-circle&quot;, &quot;iconColor&quot;: &quot;white&quot;, &quot;markerColor&quot;: &quot;blue&quot;, &quot;prefix&quot;: &quot;fa&quot;}\n",
       "            );\n",
       "            marker_4d50a42e6486bd7648af20dcb64cc0af.setIcon(icon_4494350d815989e071cc4c594c891471);\n",
       "        \n",
       "    \n",
       "        var popup_981464014d2a17f4969f3f72b52a5b37 = L.popup({&quot;maxWidth&quot;: &quot;100%&quot;});\n",
       "\n",
       "        \n",
       "            var html_010c50862ec7e1bb0ac94754dfe7b73b = $(`&lt;div id=&quot;html_010c50862ec7e1bb0ac94754dfe7b73b&quot; style=&quot;width: 100.0%; height: 100.0%;&quot;&gt;[&#x27;Danforth &amp; Ferrier &#x27;]&lt;/div&gt;`)[0];\n",
       "            popup_981464014d2a17f4969f3f72b52a5b37.setContent(html_010c50862ec7e1bb0ac94754dfe7b73b);\n",
       "        \n",
       "\n",
       "        marker_4d50a42e6486bd7648af20dcb64cc0af.bindPopup(popup_981464014d2a17f4969f3f72b52a5b37)\n",
       "        ;\n",
       "\n",
       "        \n",
       "    \n",
       "    \n",
       "            marker_4d50a42e6486bd7648af20dcb64cc0af.bindTooltip(\n",
       "                `&lt;div&gt;\n",
       "                     [&#x27;Danforth &amp; Ferrier &#x27;, &#x27;Sales: &#x27;, &#x27;$49.7M&#x27;, &#x27;Rank: &#x27;, 22]\n",
       "                 &lt;/div&gt;`,\n",
       "                {&quot;sticky&quot;: true}\n",
       "            );\n",
       "        \n",
       "    \n",
       "            var marker_51b1b46329ed94940621286d2be156c2 = L.marker(\n",
       "                [43.6856076, -79.3124907],\n",
       "                {}\n",
       "            ).addTo(map_2fa2fd230e12fd962263dea610bafc54);\n",
       "        \n",
       "    \n",
       "            var icon_eba8859c9f32af26c9035d03abfaa2b2 = L.AwesomeMarkers.icon(\n",
       "                {&quot;extraClasses&quot;: &quot;fa-rotate-0&quot;, &quot;icon&quot;: &quot;fa-circle&quot;, &quot;iconColor&quot;: &quot;white&quot;, &quot;markerColor&quot;: &quot;blue&quot;, &quot;prefix&quot;: &quot;fa&quot;}\n",
       "            );\n",
       "            marker_51b1b46329ed94940621286d2be156c2.setIcon(icon_eba8859c9f32af26c9035d03abfaa2b2);\n",
       "        \n",
       "    \n",
       "        var popup_e3bc401a00bb090e760da61233b36cd0 = L.popup({&quot;maxWidth&quot;: &quot;100%&quot;});\n",
       "\n",
       "        \n",
       "            var html_44a18aa2f4544baed3ece4c85632deb2 = $(`&lt;div id=&quot;html_44a18aa2f4544baed3ece4c85632deb2&quot; style=&quot;width: 100.0%; height: 100.0%;&quot;&gt;[&#x27;Danforth &amp; Woodbine &#x27;]&lt;/div&gt;`)[0];\n",
       "            popup_e3bc401a00bb090e760da61233b36cd0.setContent(html_44a18aa2f4544baed3ece4c85632deb2);\n",
       "        \n",
       "\n",
       "        marker_51b1b46329ed94940621286d2be156c2.bindPopup(popup_e3bc401a00bb090e760da61233b36cd0)\n",
       "        ;\n",
       "\n",
       "        \n",
       "    \n",
       "    \n",
       "            marker_51b1b46329ed94940621286d2be156c2.bindTooltip(\n",
       "                `&lt;div&gt;\n",
       "                     [&#x27;Danforth &amp; Woodbine &#x27;, &#x27;Sales: &#x27;, &#x27;$39.9M&#x27;, &#x27;Rank: &#x27;, 35]\n",
       "                 &lt;/div&gt;`,\n",
       "                {&quot;sticky&quot;: true}\n",
       "            );\n",
       "        \n",
       "    \n",
       "            var marker_9cf89ed71655c9deb1afc1029563970f = L.marker(\n",
       "                [43.65598005, -79.43572789418421],\n",
       "                {}\n",
       "            ).addTo(map_2fa2fd230e12fd962263dea610bafc54);\n",
       "        \n",
       "    \n",
       "            var icon_d7bf3ef8aba8308ac1dfd180edaa6cb0 = L.AwesomeMarkers.icon(\n",
       "                {&quot;extraClasses&quot;: &quot;fa-rotate-0&quot;, &quot;icon&quot;: &quot;fa-circle&quot;, &quot;iconColor&quot;: &quot;white&quot;, &quot;markerColor&quot;: &quot;blue&quot;, &quot;prefix&quot;: &quot;fa&quot;}\n",
       "            );\n",
       "            marker_9cf89ed71655c9deb1afc1029563970f.setIcon(icon_d7bf3ef8aba8308ac1dfd180edaa6cb0);\n",
       "        \n",
       "    \n",
       "        var popup_71bbb59a75929a1a7fecb400fec03945 = L.popup({&quot;maxWidth&quot;: &quot;100%&quot;});\n",
       "\n",
       "        \n",
       "            var html_c1da6540065b7112169fa687e8ed1fad = $(`&lt;div id=&quot;html_c1da6540065b7112169fa687e8ed1fad&quot; style=&quot;width: 100.0%; height: 100.0%;&quot;&gt;[&#x27;Dufferin Mall &#x27;]&lt;/div&gt;`)[0];\n",
       "            popup_71bbb59a75929a1a7fecb400fec03945.setContent(html_c1da6540065b7112169fa687e8ed1fad);\n",
       "        \n",
       "\n",
       "        marker_9cf89ed71655c9deb1afc1029563970f.bindPopup(popup_71bbb59a75929a1a7fecb400fec03945)\n",
       "        ;\n",
       "\n",
       "        \n",
       "    \n",
       "    \n",
       "            marker_9cf89ed71655c9deb1afc1029563970f.bindTooltip(\n",
       "                `&lt;div&gt;\n",
       "                     [&#x27;Dufferin Mall &#x27;, &#x27;Sales: &#x27;, &#x27;$67.6M&#x27;, &#x27;Rank: &#x27;, 9]\n",
       "                 &lt;/div&gt;`,\n",
       "                {&quot;sticky&quot;: true}\n",
       "            );\n",
       "        \n",
       "    \n",
       "            var marker_60e81fc7f507107da33320ae99bbf405 = L.marker(\n",
       "                [43.665271000000004, -79.46480337333334],\n",
       "                {}\n",
       "            ).addTo(map_2fa2fd230e12fd962263dea610bafc54);\n",
       "        \n",
       "    \n",
       "            var icon_9e381749044119534f4d9fbd58a31aa4 = L.AwesomeMarkers.icon(\n",
       "                {&quot;extraClasses&quot;: &quot;fa-rotate-0&quot;, &quot;icon&quot;: &quot;fa-circle&quot;, &quot;iconColor&quot;: &quot;white&quot;, &quot;markerColor&quot;: &quot;blue&quot;, &quot;prefix&quot;: &quot;fa&quot;}\n",
       "            );\n",
       "            marker_60e81fc7f507107da33320ae99bbf405.setIcon(icon_9e381749044119534f4d9fbd58a31aa4);\n",
       "        \n",
       "    \n",
       "        var popup_470e6ff7f80f82271e5ce50e07850ff9 = L.popup({&quot;maxWidth&quot;: &quot;100%&quot;});\n",
       "\n",
       "        \n",
       "            var html_bd57631e8fca972b7fce7a16c6801053 = $(`&lt;div id=&quot;html_bd57631e8fca972b7fce7a16c6801053&quot; style=&quot;width: 100.0%; height: 100.0%;&quot;&gt;[&#x27;Dundas &amp; Keele &#x27;]&lt;/div&gt;`)[0];\n",
       "            popup_470e6ff7f80f82271e5ce50e07850ff9.setContent(html_bd57631e8fca972b7fce7a16c6801053);\n",
       "        \n",
       "\n",
       "        marker_60e81fc7f507107da33320ae99bbf405.bindPopup(popup_470e6ff7f80f82271e5ce50e07850ff9)\n",
       "        ;\n",
       "\n",
       "        \n",
       "    \n",
       "    \n",
       "            marker_60e81fc7f507107da33320ae99bbf405.bindTooltip(\n",
       "                `&lt;div&gt;\n",
       "                     [&#x27;Dundas &amp; Keele &#x27;, &#x27;Sales: &#x27;, &#x27;$68.0M&#x27;, &#x27;Rank: &#x27;, 8]\n",
       "                 &lt;/div&gt;`,\n",
       "                {&quot;sticky&quot;: true}\n",
       "            );\n",
       "        \n",
       "    \n",
       "            var marker_b8bd34c8caa4ea225b9f1569a18e1437 = L.marker(\n",
       "                [43.649652, -79.4197417],\n",
       "                {}\n",
       "            ).addTo(map_2fa2fd230e12fd962263dea610bafc54);\n",
       "        \n",
       "    \n",
       "            var icon_22176d986e32cd64c2a71469712034a9 = L.AwesomeMarkers.icon(\n",
       "                {&quot;extraClasses&quot;: &quot;fa-rotate-0&quot;, &quot;icon&quot;: &quot;star&quot;, &quot;iconColor&quot;: &quot;white&quot;, &quot;markerColor&quot;: &quot;pink&quot;, &quot;prefix&quot;: &quot;fa&quot;}\n",
       "            );\n",
       "            marker_b8bd34c8caa4ea225b9f1569a18e1437.setIcon(icon_22176d986e32cd64c2a71469712034a9);\n",
       "        \n",
       "    \n",
       "        var popup_26d6f31523be46390cbe0a7e1cd66f7c = L.popup({&quot;maxWidth&quot;: &quot;100%&quot;});\n",
       "\n",
       "        \n",
       "            var html_f8fa81c86e402a58f992d240487a8cb1 = $(`&lt;div id=&quot;html_f8fa81c86e402a58f992d240487a8cb1&quot; style=&quot;width: 100.0%; height: 100.0%;&quot;&gt;[&#x27;Dundas &amp; Ossington &#x27;]&lt;/div&gt;`)[0];\n",
       "            popup_26d6f31523be46390cbe0a7e1cd66f7c.setContent(html_f8fa81c86e402a58f992d240487a8cb1);\n",
       "        \n",
       "\n",
       "        marker_b8bd34c8caa4ea225b9f1569a18e1437.bindPopup(popup_26d6f31523be46390cbe0a7e1cd66f7c)\n",
       "        ;\n",
       "\n",
       "        \n",
       "    \n",
       "    \n",
       "            marker_b8bd34c8caa4ea225b9f1569a18e1437.bindTooltip(\n",
       "                `&lt;div&gt;\n",
       "                     [&#x27;Dundas &amp; Ossington &#x27;, &#x27;Sales: &#x27;, &#x27;$78.7M&#x27;, &#x27;Rank: &#x27;, 3]\n",
       "                 &lt;/div&gt;`,\n",
       "                {&quot;sticky&quot;: true}\n",
       "            );\n",
       "        \n",
       "    \n",
       "            var marker_d4fdcad595592777a50e57290837cf28 = L.marker(\n",
       "                [43.6534544, -79.3979581],\n",
       "                {}\n",
       "            ).addTo(map_2fa2fd230e12fd962263dea610bafc54);\n",
       "        \n",
       "    \n",
       "            var icon_4e967c40f50a86155ea5c33bbe25e39f = L.AwesomeMarkers.icon(\n",
       "                {&quot;extraClasses&quot;: &quot;fa-rotate-0&quot;, &quot;icon&quot;: &quot;fa-circle&quot;, &quot;iconColor&quot;: &quot;white&quot;, &quot;markerColor&quot;: &quot;blue&quot;, &quot;prefix&quot;: &quot;fa&quot;}\n",
       "            );\n",
       "            marker_d4fdcad595592777a50e57290837cf28.setIcon(icon_4e967c40f50a86155ea5c33bbe25e39f);\n",
       "        \n",
       "    \n",
       "        var popup_13c9cb10b0836e82d04ee15c6aec98a8 = L.popup({&quot;maxWidth&quot;: &quot;100%&quot;});\n",
       "\n",
       "        \n",
       "            var html_6608b261051a3d9c2b9d3cb36e9d0e81 = $(`&lt;div id=&quot;html_6608b261051a3d9c2b9d3cb36e9d0e81&quot; style=&quot;width: 100.0%; height: 100.0%;&quot;&gt;[&#x27;Dundas &amp; Spadina (New Chinatown) &#x27;]&lt;/div&gt;`)[0];\n",
       "            popup_13c9cb10b0836e82d04ee15c6aec98a8.setContent(html_6608b261051a3d9c2b9d3cb36e9d0e81);\n",
       "        \n",
       "\n",
       "        marker_d4fdcad595592777a50e57290837cf28.bindPopup(popup_13c9cb10b0836e82d04ee15c6aec98a8)\n",
       "        ;\n",
       "\n",
       "        \n",
       "    \n",
       "    \n",
       "            marker_d4fdcad595592777a50e57290837cf28.bindTooltip(\n",
       "                `&lt;div&gt;\n",
       "                     [&#x27;Dundas &amp; Spadina (New Chinatown) &#x27;, &#x27;Sales: &#x27;, &#x27;$39.9M&#x27;, &#x27;Rank: &#x27;, 35]\n",
       "                 &lt;/div&gt;`,\n",
       "                {&quot;sticky&quot;: true}\n",
       "            );\n",
       "        \n",
       "    \n",
       "            var marker_7f55494340b67e9d934a0713a0b00cb1 = L.marker(\n",
       "                [43.6687639, -79.4372772],\n",
       "                {}\n",
       "            ).addTo(map_2fa2fd230e12fd962263dea610bafc54);\n",
       "        \n",
       "    \n",
       "            var icon_33462822234675d67626f85fcdb181f8 = L.AwesomeMarkers.icon(\n",
       "                {&quot;extraClasses&quot;: &quot;fa-rotate-0&quot;, &quot;icon&quot;: &quot;fa-circle&quot;, &quot;iconColor&quot;: &quot;white&quot;, &quot;markerColor&quot;: &quot;blue&quot;, &quot;prefix&quot;: &quot;fa&quot;}\n",
       "            );\n",
       "            marker_7f55494340b67e9d934a0713a0b00cb1.setIcon(icon_33462822234675d67626f85fcdb181f8);\n",
       "        \n",
       "    \n",
       "        var popup_345a2e63e9712d7795cba680cc720fa1 = L.popup({&quot;maxWidth&quot;: &quot;100%&quot;});\n",
       "\n",
       "        \n",
       "            var html_5d5872f2818154133ccec5a3ed661a6f = $(`&lt;div id=&quot;html_5d5872f2818154133ccec5a3ed661a6f&quot; style=&quot;width: 100.0%; height: 100.0%;&quot;&gt;[&#x27;Dupont &amp; Symington &#x27;]&lt;/div&gt;`)[0];\n",
       "            popup_345a2e63e9712d7795cba680cc720fa1.setContent(html_5d5872f2818154133ccec5a3ed661a6f);\n",
       "        \n",
       "\n",
       "        marker_7f55494340b67e9d934a0713a0b00cb1.bindPopup(popup_345a2e63e9712d7795cba680cc720fa1)\n",
       "        ;\n",
       "\n",
       "        \n",
       "    \n",
       "    \n",
       "            marker_7f55494340b67e9d934a0713a0b00cb1.bindTooltip(\n",
       "                `&lt;div&gt;\n",
       "                     [&#x27;Dupont &amp; Symington &#x27;, &#x27;Sales: &#x27;, &#x27;$54.4M&#x27;, &#x27;Rank: &#x27;, 21]\n",
       "                 &lt;/div&gt;`,\n",
       "                {&quot;sticky&quot;: true}\n",
       "            );\n",
       "        \n",
       "    \n",
       "            var marker_050550dc3da7ae158fd7291a1e19e7ff = L.marker(\n",
       "                [43.6380551, -79.4190063],\n",
       "                {}\n",
       "            ).addTo(map_2fa2fd230e12fd962263dea610bafc54);\n",
       "        \n",
       "    \n",
       "            var icon_5799e381b56ea895a8b915391ff7d8f8 = L.AwesomeMarkers.icon(\n",
       "                {&quot;extraClasses&quot;: &quot;fa-rotate-0&quot;, &quot;icon&quot;: &quot;fa-circle&quot;, &quot;iconColor&quot;: &quot;white&quot;, &quot;markerColor&quot;: &quot;blue&quot;, &quot;prefix&quot;: &quot;fa&quot;}\n",
       "            );\n",
       "            marker_050550dc3da7ae158fd7291a1e19e7ff.setIcon(icon_5799e381b56ea895a8b915391ff7d8f8);\n",
       "        \n",
       "    \n",
       "        var popup_15890aa436044f62d0dadb244a97804c = L.popup({&quot;maxWidth&quot;: &quot;100%&quot;});\n",
       "\n",
       "        \n",
       "            var html_3c70fea60c9d4881dca67640fe8ba93a = $(`&lt;div id=&quot;html_3c70fea60c9d4881dca67640fe8ba93a&quot; style=&quot;width: 100.0%; height: 100.0%;&quot;&gt;[&#x27;East Liberty&amp; Hanna &#x27;]&lt;/div&gt;`)[0];\n",
       "            popup_15890aa436044f62d0dadb244a97804c.setContent(html_3c70fea60c9d4881dca67640fe8ba93a);\n",
       "        \n",
       "\n",
       "        marker_050550dc3da7ae158fd7291a1e19e7ff.bindPopup(popup_15890aa436044f62d0dadb244a97804c)\n",
       "        ;\n",
       "\n",
       "        \n",
       "    \n",
       "    \n",
       "            marker_050550dc3da7ae158fd7291a1e19e7ff.bindTooltip(\n",
       "                `&lt;div&gt;\n",
       "                     [&#x27;East Liberty&amp; Hanna &#x27;, &#x27;Sales: &#x27;, &#x27;$37.2M&#x27;, &#x27;Rank: &#x27;, 38]\n",
       "                 &lt;/div&gt;`,\n",
       "                {&quot;sticky&quot;: true}\n",
       "            );\n",
       "        \n",
       "    \n",
       "            var marker_18f20a7167d132209441cd489183fcba = L.marker(\n",
       "                [43.70565595, -79.34613324230222],\n",
       "                {}\n",
       "            ).addTo(map_2fa2fd230e12fd962263dea610bafc54);\n",
       "        \n",
       "    \n",
       "            var icon_c051d82959bd6004eb14545b9234754b = L.AwesomeMarkers.icon(\n",
       "                {&quot;extraClasses&quot;: &quot;fa-rotate-0&quot;, &quot;icon&quot;: &quot;fa-circle&quot;, &quot;iconColor&quot;: &quot;white&quot;, &quot;markerColor&quot;: &quot;blue&quot;, &quot;prefix&quot;: &quot;fa&quot;}\n",
       "            );\n",
       "            marker_18f20a7167d132209441cd489183fcba.setIcon(icon_c051d82959bd6004eb14545b9234754b);\n",
       "        \n",
       "    \n",
       "        var popup_431787da2195e8e244a7bc7267dd33b5 = L.popup({&quot;maxWidth&quot;: &quot;100%&quot;});\n",
       "\n",
       "        \n",
       "            var html_43a5897d6a5619e4016825c0afc8daf8 = $(`&lt;div id=&quot;html_43a5897d6a5619e4016825c0afc8daf8&quot; style=&quot;width: 100.0%; height: 100.0%;&quot;&gt;[&#x27;East York Town Centre &#x27;]&lt;/div&gt;`)[0];\n",
       "            popup_431787da2195e8e244a7bc7267dd33b5.setContent(html_43a5897d6a5619e4016825c0afc8daf8);\n",
       "        \n",
       "\n",
       "        marker_18f20a7167d132209441cd489183fcba.bindPopup(popup_431787da2195e8e244a7bc7267dd33b5)\n",
       "        ;\n",
       "\n",
       "        \n",
       "    \n",
       "    \n",
       "            marker_18f20a7167d132209441cd489183fcba.bindTooltip(\n",
       "                `&lt;div&gt;\n",
       "                     [&#x27;East York Town Centre &#x27;, &#x27;Sales: &#x27;, &#x27;$67.6M&#x27;, &#x27;Rank: &#x27;, 10]\n",
       "                 &lt;/div&gt;`,\n",
       "                {&quot;sticky&quot;: true}\n",
       "            );\n",
       "        \n",
       "    \n",
       "            var marker_cbfcf7f62da8cdbdcb48d077dd75eaf5 = L.marker(\n",
       "                [43.70384235, -79.411413075],\n",
       "                {}\n",
       "            ).addTo(map_2fa2fd230e12fd962263dea610bafc54);\n",
       "        \n",
       "    \n",
       "            var icon_f58bed086a570ba4a82a9919fc6f6f91 = L.AwesomeMarkers.icon(\n",
       "                {&quot;extraClasses&quot;: &quot;fa-rotate-0&quot;, &quot;icon&quot;: &quot;exclamation&quot;, &quot;iconColor&quot;: &quot;white&quot;, &quot;markerColor&quot;: &quot;red&quot;, &quot;prefix&quot;: &quot;fa&quot;}\n",
       "            );\n",
       "            marker_cbfcf7f62da8cdbdcb48d077dd75eaf5.setIcon(icon_f58bed086a570ba4a82a9919fc6f6f91);\n",
       "        \n",
       "    \n",
       "        var popup_e0fe2fc77297989004024c086cb390e8 = L.popup({&quot;maxWidth&quot;: &quot;100%&quot;});\n",
       "\n",
       "        \n",
       "            var html_9497bdeba653d886a830b85f031df9a1 = $(`&lt;div id=&quot;html_9497bdeba653d886a830b85f031df9a1&quot; style=&quot;width: 100.0%; height: 100.0%;&quot;&gt;[&#x27;Eglinton &amp; Elmsthorpe &#x27;]&lt;/div&gt;`)[0];\n",
       "            popup_e0fe2fc77297989004024c086cb390e8.setContent(html_9497bdeba653d886a830b85f031df9a1);\n",
       "        \n",
       "\n",
       "        marker_cbfcf7f62da8cdbdcb48d077dd75eaf5.bindPopup(popup_e0fe2fc77297989004024c086cb390e8)\n",
       "        ;\n",
       "\n",
       "        \n",
       "    \n",
       "    \n",
       "            marker_cbfcf7f62da8cdbdcb48d077dd75eaf5.bindTooltip(\n",
       "                `&lt;div&gt;\n",
       "                     [&#x27;Eglinton &amp; Elmsthorpe &#x27;, &#x27;Sales: &#x27;, &#x27;$15.2M&#x27;, &#x27;Rank: &#x27;, 50]\n",
       "                 &lt;/div&gt;`,\n",
       "                {&quot;sticky&quot;: true}\n",
       "            );\n",
       "        \n",
       "    \n",
       "            var marker_85f729ffb92508277fd9d7fe9b7150a5 = L.marker(\n",
       "                [43.6951502, -79.452092],\n",
       "                {}\n",
       "            ).addTo(map_2fa2fd230e12fd962263dea610bafc54);\n",
       "        \n",
       "    \n",
       "            var icon_aa0586de1143b3995caa07538fa94043 = L.AwesomeMarkers.icon(\n",
       "                {&quot;extraClasses&quot;: &quot;fa-rotate-0&quot;, &quot;icon&quot;: &quot;star&quot;, &quot;iconColor&quot;: &quot;white&quot;, &quot;markerColor&quot;: &quot;pink&quot;, &quot;prefix&quot;: &quot;fa&quot;}\n",
       "            );\n",
       "            marker_85f729ffb92508277fd9d7fe9b7150a5.setIcon(icon_aa0586de1143b3995caa07538fa94043);\n",
       "        \n",
       "    \n",
       "        var popup_8465dac213f2ef1c9fe5a82cd2c78442 = L.popup({&quot;maxWidth&quot;: &quot;100%&quot;});\n",
       "\n",
       "        \n",
       "            var html_ad61f7e7266bdf761c3eb61e92f4732c = $(`&lt;div id=&quot;html_ad61f7e7266bdf761c3eb61e92f4732c&quot; style=&quot;width: 100.0%; height: 100.0%;&quot;&gt;[&#x27;Fairbank &#x27;]&lt;/div&gt;`)[0];\n",
       "            popup_8465dac213f2ef1c9fe5a82cd2c78442.setContent(html_ad61f7e7266bdf761c3eb61e92f4732c);\n",
       "        \n",
       "\n",
       "        marker_85f729ffb92508277fd9d7fe9b7150a5.bindPopup(popup_8465dac213f2ef1c9fe5a82cd2c78442)\n",
       "        ;\n",
       "\n",
       "        \n",
       "    \n",
       "    \n",
       "            marker_85f729ffb92508277fd9d7fe9b7150a5.bindTooltip(\n",
       "                `&lt;div&gt;\n",
       "                     [&#x27;Fairbank &#x27;, &#x27;Sales: &#x27;, &#x27;$85.5M&#x27;, &#x27;Rank: &#x27;, 1]\n",
       "                 &lt;/div&gt;`,\n",
       "                {&quot;sticky&quot;: true}\n",
       "            );\n",
       "        \n",
       "    \n",
       "            var marker_7cf1beeb154ec1595b0b880da9936169 = L.marker(\n",
       "                [43.2573701, -79.87018714417678],\n",
       "                {}\n",
       "            ).addTo(map_2fa2fd230e12fd962263dea610bafc54);\n",
       "        \n",
       "    \n",
       "            var icon_727d9aa7355d9459de36fd3787758b10 = L.AwesomeMarkers.icon(\n",
       "                {&quot;extraClasses&quot;: &quot;fa-rotate-0&quot;, &quot;icon&quot;: &quot;fa-circle&quot;, &quot;iconColor&quot;: &quot;white&quot;, &quot;markerColor&quot;: &quot;blue&quot;, &quot;prefix&quot;: &quot;fa&quot;}\n",
       "            );\n",
       "            marker_7cf1beeb154ec1595b0b880da9936169.setIcon(icon_727d9aa7355d9459de36fd3787758b10);\n",
       "        \n",
       "    \n",
       "        var popup_e2bdaee80f09dd298a35079db3ec6f0d = L.popup({&quot;maxWidth&quot;: &quot;100%&quot;});\n",
       "\n",
       "        \n",
       "            var html_0d3875fdc40b4e42b2b11afdb7bb780a = $(`&lt;div id=&quot;html_0d3875fdc40b4e42b2b11afdb7bb780a&quot; style=&quot;width: 100.0%; height: 100.0%;&quot;&gt;[&#x27;First Canadian Place Branch - Main Floor &#x27;]&lt;/div&gt;`)[0];\n",
       "            popup_e2bdaee80f09dd298a35079db3ec6f0d.setContent(html_0d3875fdc40b4e42b2b11afdb7bb780a);\n",
       "        \n",
       "\n",
       "        marker_7cf1beeb154ec1595b0b880da9936169.bindPopup(popup_e2bdaee80f09dd298a35079db3ec6f0d)\n",
       "        ;\n",
       "\n",
       "        \n",
       "    \n",
       "    \n",
       "            marker_7cf1beeb154ec1595b0b880da9936169.bindTooltip(\n",
       "                `&lt;div&gt;\n",
       "                     [&#x27;First Canadian Place Branch - Main Floor &#x27;, &#x27;Sales: &#x27;, &#x27;$71.3M&#x27;, &#x27;Rank: &#x27;, 6]\n",
       "                 &lt;/div&gt;`,\n",
       "                {&quot;sticky&quot;: true}\n",
       "            );\n",
       "        \n",
       "    \n",
       "            var marker_639fa911c9ad17a523dda79553f17033 = L.marker(\n",
       "                [43.689237985714286, -79.41272419285714],\n",
       "                {}\n",
       "            ).addTo(map_2fa2fd230e12fd962263dea610bafc54);\n",
       "        \n",
       "    \n",
       "            var icon_e028d4fda3dea76e7ea544d7e60c5282 = L.AwesomeMarkers.icon(\n",
       "                {&quot;extraClasses&quot;: &quot;fa-rotate-0&quot;, &quot;icon&quot;: &quot;fa-circle&quot;, &quot;iconColor&quot;: &quot;white&quot;, &quot;markerColor&quot;: &quot;blue&quot;, &quot;prefix&quot;: &quot;fa&quot;}\n",
       "            );\n",
       "            marker_639fa911c9ad17a523dda79553f17033.setIcon(icon_e028d4fda3dea76e7ea544d7e60c5282);\n",
       "        \n",
       "    \n",
       "        var popup_3dc5fa441459d5384ca1b73b2981d6eb = L.popup({&quot;maxWidth&quot;: &quot;100%&quot;});\n",
       "\n",
       "        \n",
       "            var html_ce3befef2f657637598c523f3f40cd5f = $(`&lt;div id=&quot;html_ce3befef2f657637598c523f3f40cd5f&quot; style=&quot;width: 100.0%; height: 100.0%;&quot;&gt;[&#x27;Forest Hill Village &#x27;]&lt;/div&gt;`)[0];\n",
       "            popup_3dc5fa441459d5384ca1b73b2981d6eb.setContent(html_ce3befef2f657637598c523f3f40cd5f);\n",
       "        \n",
       "\n",
       "        marker_639fa911c9ad17a523dda79553f17033.bindPopup(popup_3dc5fa441459d5384ca1b73b2981d6eb)\n",
       "        ;\n",
       "\n",
       "        \n",
       "    \n",
       "    \n",
       "            marker_639fa911c9ad17a523dda79553f17033.bindTooltip(\n",
       "                `&lt;div&gt;\n",
       "                     [&#x27;Forest Hill Village &#x27;, &#x27;Sales: &#x27;, &#x27;$41.6M&#x27;, &#x27;Rank: &#x27;, 33]\n",
       "                 &lt;/div&gt;`,\n",
       "                {&quot;sticky&quot;: true}\n",
       "            );\n",
       "        \n",
       "    \n",
       "            var marker_19d08666ccfe6ad6858b62d187322034 = L.marker(\n",
       "                [42.9619189, -81.61479560000001],\n",
       "                {}\n",
       "            ).addTo(map_2fa2fd230e12fd962263dea610bafc54);\n",
       "        \n",
       "    \n",
       "            var icon_a6e85a66411ceacc0c51534c7e2c4a27 = L.AwesomeMarkers.icon(\n",
       "                {&quot;extraClasses&quot;: &quot;fa-rotate-0&quot;, &quot;icon&quot;: &quot;fa-circle&quot;, &quot;iconColor&quot;: &quot;white&quot;, &quot;markerColor&quot;: &quot;blue&quot;, &quot;prefix&quot;: &quot;fa&quot;}\n",
       "            );\n",
       "            marker_19d08666ccfe6ad6858b62d187322034.setIcon(icon_a6e85a66411ceacc0c51534c7e2c4a27);\n",
       "        \n",
       "    \n",
       "        var popup_8204859f4ac92ae957c2ac3436ff1c05 = L.popup({&quot;maxWidth&quot;: &quot;100%&quot;});\n",
       "\n",
       "        \n",
       "            var html_ee9d8e585eeadb41c769ff069083204e = $(`&lt;div id=&quot;html_ee9d8e585eeadb41c769ff069083204e&quot; style=&quot;width: 100.0%; height: 100.0%;&quot;&gt;[&#x27;Front &amp; Berkeley &#x27;]&lt;/div&gt;`)[0];\n",
       "            popup_8204859f4ac92ae957c2ac3436ff1c05.setContent(html_ee9d8e585eeadb41c769ff069083204e);\n",
       "        \n",
       "\n",
       "        marker_19d08666ccfe6ad6858b62d187322034.bindPopup(popup_8204859f4ac92ae957c2ac3436ff1c05)\n",
       "        ;\n",
       "\n",
       "        \n",
       "    \n",
       "    \n",
       "            marker_19d08666ccfe6ad6858b62d187322034.bindTooltip(\n",
       "                `&lt;div&gt;\n",
       "                     [&#x27;Front &amp; Berkeley &#x27;, &#x27;Sales: &#x27;, &#x27;$44.6M&#x27;, &#x27;Rank: &#x27;, 32]\n",
       "                 &lt;/div&gt;`,\n",
       "                {&quot;sticky&quot;: true}\n",
       "            );\n",
       "        \n",
       "    \n",
       "            var marker_5309fdb8e068e8de631745f868be2dee = L.marker(\n",
       "                [44.0070067, -77.8808356],\n",
       "                {}\n",
       "            ).addTo(map_2fa2fd230e12fd962263dea610bafc54);\n",
       "        \n",
       "    \n",
       "            var icon_fade2f790c62aea55eeaef25dbe13216 = L.AwesomeMarkers.icon(\n",
       "                {&quot;extraClasses&quot;: &quot;fa-rotate-0&quot;, &quot;icon&quot;: &quot;fa-circle&quot;, &quot;iconColor&quot;: &quot;white&quot;, &quot;markerColor&quot;: &quot;blue&quot;, &quot;prefix&quot;: &quot;fa&quot;}\n",
       "            );\n",
       "            marker_5309fdb8e068e8de631745f868be2dee.setIcon(icon_fade2f790c62aea55eeaef25dbe13216);\n",
       "        \n",
       "    \n",
       "        var popup_777a24d17493db340eb13ae664cec282 = L.popup({&quot;maxWidth&quot;: &quot;100%&quot;});\n",
       "\n",
       "        \n",
       "            var html_00d77cc35eaa44478afa6ef6aafe74ec = $(`&lt;div id=&quot;html_00d77cc35eaa44478afa6ef6aafe74ec&quot; style=&quot;width: 100.0%; height: 100.0%;&quot;&gt;[&#x27;King &amp; Church &#x27;]&lt;/div&gt;`)[0];\n",
       "            popup_777a24d17493db340eb13ae664cec282.setContent(html_00d77cc35eaa44478afa6ef6aafe74ec);\n",
       "        \n",
       "\n",
       "        marker_5309fdb8e068e8de631745f868be2dee.bindPopup(popup_777a24d17493db340eb13ae664cec282)\n",
       "        ;\n",
       "\n",
       "        \n",
       "    \n",
       "    \n",
       "            marker_5309fdb8e068e8de631745f868be2dee.bindTooltip(\n",
       "                `&lt;div&gt;\n",
       "                     [&#x27;King &amp; Church &#x27;, &#x27;Sales: &#x27;, &#x27;$40.0M&#x27;, &#x27;Rank: &#x27;, 34]\n",
       "                 &lt;/div&gt;`,\n",
       "                {&quot;sticky&quot;: true}\n",
       "            );\n",
       "        \n",
       "    \n",
       "            var marker_ee0a8f2509ea65fb0e29ce80e1527dcb = L.marker(\n",
       "                [43.451622349999994, -80.49218824113066],\n",
       "                {}\n",
       "            ).addTo(map_2fa2fd230e12fd962263dea610bafc54);\n",
       "        \n",
       "    \n",
       "            var icon_21695ce3df5907a269f92ddf3f58e303 = L.AwesomeMarkers.icon(\n",
       "                {&quot;extraClasses&quot;: &quot;fa-rotate-0&quot;, &quot;icon&quot;: &quot;exclamation&quot;, &quot;iconColor&quot;: &quot;white&quot;, &quot;markerColor&quot;: &quot;red&quot;, &quot;prefix&quot;: &quot;fa&quot;}\n",
       "            );\n",
       "            marker_ee0a8f2509ea65fb0e29ce80e1527dcb.setIcon(icon_21695ce3df5907a269f92ddf3f58e303);\n",
       "        \n",
       "    \n",
       "        var popup_f0662b518c452012c8f700d3372725d7 = L.popup({&quot;maxWidth&quot;: &quot;100%&quot;});\n",
       "\n",
       "        \n",
       "            var html_dd297d2fdb5ccdbd339149e4d2bba32e = $(`&lt;div id=&quot;html_dd297d2fdb5ccdbd339149e4d2bba32e&quot; style=&quot;width: 100.0%; height: 100.0%;&quot;&gt;[&#x27;King &amp; University &#x27;]&lt;/div&gt;`)[0];\n",
       "            popup_f0662b518c452012c8f700d3372725d7.setContent(html_dd297d2fdb5ccdbd339149e4d2bba32e);\n",
       "        \n",
       "\n",
       "        marker_ee0a8f2509ea65fb0e29ce80e1527dcb.bindPopup(popup_f0662b518c452012c8f700d3372725d7)\n",
       "        ;\n",
       "\n",
       "        \n",
       "    \n",
       "    \n",
       "            marker_ee0a8f2509ea65fb0e29ce80e1527dcb.bindTooltip(\n",
       "                `&lt;div&gt;\n",
       "                     [&#x27;King &amp; University &#x27;, &#x27;Sales: &#x27;, &#x27;$24.2M&#x27;, &#x27;Rank: &#x27;, 49]\n",
       "                 &lt;/div&gt;`,\n",
       "                {&quot;sticky&quot;: true}\n",
       "            );\n",
       "        \n",
       "    \n",
       "            var marker_a9da24c5b01dfd866a38cf8f5be97e75 = L.marker(\n",
       "                [43.7096892, -79.35955621581823],\n",
       "                {}\n",
       "            ).addTo(map_2fa2fd230e12fd962263dea610bafc54);\n",
       "        \n",
       "    \n",
       "            var icon_13409da366368db39aed0bdb55774cc3 = L.AwesomeMarkers.icon(\n",
       "                {&quot;extraClasses&quot;: &quot;fa-rotate-0&quot;, &quot;icon&quot;: &quot;fa-circle&quot;, &quot;iconColor&quot;: &quot;white&quot;, &quot;markerColor&quot;: &quot;blue&quot;, &quot;prefix&quot;: &quot;fa&quot;}\n",
       "            );\n",
       "            marker_a9da24c5b01dfd866a38cf8f5be97e75.setIcon(icon_13409da366368db39aed0bdb55774cc3);\n",
       "        \n",
       "    \n",
       "        var popup_9403d80759e627e29428ee7def52d086 = L.popup({&quot;maxWidth&quot;: &quot;100%&quot;});\n",
       "\n",
       "        \n",
       "            var html_3d292a5e2b7b97c024d16a6f03d72b3f = $(`&lt;div id=&quot;html_3d292a5e2b7b97c024d16a6f03d72b3f&quot; style=&quot;width: 100.0%; height: 100.0%;&quot;&gt;[&#x27;Laird &amp; Commercial &#x27;]&lt;/div&gt;`)[0];\n",
       "            popup_9403d80759e627e29428ee7def52d086.setContent(html_3d292a5e2b7b97c024d16a6f03d72b3f);\n",
       "        \n",
       "\n",
       "        marker_a9da24c5b01dfd866a38cf8f5be97e75.bindPopup(popup_9403d80759e627e29428ee7def52d086)\n",
       "        ;\n",
       "\n",
       "        \n",
       "    \n",
       "    \n",
       "            marker_a9da24c5b01dfd866a38cf8f5be97e75.bindTooltip(\n",
       "                `&lt;div&gt;\n",
       "                     [&#x27;Laird &amp; Commercial &#x27;, &#x27;Sales: &#x27;, &#x27;$45.1M&#x27;, &#x27;Rank: &#x27;, 31]\n",
       "                 &lt;/div&gt;`,\n",
       "                {&quot;sticky&quot;: true}\n",
       "            );\n",
       "        \n",
       "    \n",
       "            var marker_c29edefba30194c6ca95780ef125f2c4 = L.marker(\n",
       "                [43.7167617, -79.44718952063198],\n",
       "                {}\n",
       "            ).addTo(map_2fa2fd230e12fd962263dea610bafc54);\n",
       "        \n",
       "    \n",
       "            var icon_467184696ae7ca186142204043a54016 = L.AwesomeMarkers.icon(\n",
       "                {&quot;extraClasses&quot;: &quot;fa-rotate-0&quot;, &quot;icon&quot;: &quot;fa-circle&quot;, &quot;iconColor&quot;: &quot;white&quot;, &quot;markerColor&quot;: &quot;blue&quot;, &quot;prefix&quot;: &quot;fa&quot;}\n",
       "            );\n",
       "            marker_c29edefba30194c6ca95780ef125f2c4.setIcon(icon_467184696ae7ca186142204043a54016);\n",
       "        \n",
       "    \n",
       "        var popup_bd026f820d0197661b2a8d9ce622b9bf = L.popup({&quot;maxWidth&quot;: &quot;100%&quot;});\n",
       "\n",
       "        \n",
       "            var html_84e1efaef5461dd8e80dda39cd95b282 = $(`&lt;div id=&quot;html_84e1efaef5461dd8e80dda39cd95b282&quot; style=&quot;width: 100.0%; height: 100.0%;&quot;&gt;[&#x27;Lawrence Allen Centre &#x27;]&lt;/div&gt;`)[0];\n",
       "            popup_bd026f820d0197661b2a8d9ce622b9bf.setContent(html_84e1efaef5461dd8e80dda39cd95b282);\n",
       "        \n",
       "\n",
       "        marker_c29edefba30194c6ca95780ef125f2c4.bindPopup(popup_bd026f820d0197661b2a8d9ce622b9bf)\n",
       "        ;\n",
       "\n",
       "        \n",
       "    \n",
       "    \n",
       "            marker_c29edefba30194c6ca95780ef125f2c4.bindTooltip(\n",
       "                `&lt;div&gt;\n",
       "                     [&#x27;Lawrence Allen Centre &#x27;, &#x27;Sales: &#x27;, &#x27;$59.6M&#x27;, &#x27;Rank: &#x27;, 15]\n",
       "                 &lt;/div&gt;`,\n",
       "                {&quot;sticky&quot;: true}\n",
       "            );\n",
       "        \n",
       "    \n",
       "            var marker_4d66fc6293a7efae80e8137693fd174c = L.marker(\n",
       "                [43.7076261, -79.3761432],\n",
       "                {}\n",
       "            ).addTo(map_2fa2fd230e12fd962263dea610bafc54);\n",
       "        \n",
       "    \n",
       "            var icon_6ada0ad6bb09ccf0eda98e771459ffe1 = L.AwesomeMarkers.icon(\n",
       "                {&quot;extraClasses&quot;: &quot;fa-rotate-0&quot;, &quot;icon&quot;: &quot;fa-circle&quot;, &quot;iconColor&quot;: &quot;white&quot;, &quot;markerColor&quot;: &quot;blue&quot;, &quot;prefix&quot;: &quot;fa&quot;}\n",
       "            );\n",
       "            marker_4d66fc6293a7efae80e8137693fd174c.setIcon(icon_6ada0ad6bb09ccf0eda98e771459ffe1);\n",
       "        \n",
       "    \n",
       "        var popup_d8903ca851fb3027331867dcf7687e10 = L.popup({&quot;maxWidth&quot;: &quot;100%&quot;});\n",
       "\n",
       "        \n",
       "            var html_ed42de4b6aabe02bbaf8922c46988647 = $(`&lt;div id=&quot;html_ed42de4b6aabe02bbaf8922c46988647&quot; style=&quot;width: 100.0%; height: 100.0%;&quot;&gt;[&#x27;Leaside &#x27;]&lt;/div&gt;`)[0];\n",
       "            popup_d8903ca851fb3027331867dcf7687e10.setContent(html_ed42de4b6aabe02bbaf8922c46988647);\n",
       "        \n",
       "\n",
       "        marker_4d66fc6293a7efae80e8137693fd174c.bindPopup(popup_d8903ca851fb3027331867dcf7687e10)\n",
       "        ;\n",
       "\n",
       "        \n",
       "    \n",
       "    \n",
       "            marker_4d66fc6293a7efae80e8137693fd174c.bindTooltip(\n",
       "                `&lt;div&gt;\n",
       "                     [&#x27;Leaside &#x27;, &#x27;Sales: &#x27;, &#x27;$48.0M&#x27;, &#x27;Rank: &#x27;, 24]\n",
       "                 &lt;/div&gt;`,\n",
       "                {&quot;sticky&quot;: true}\n",
       "            );\n",
       "        \n",
       "    \n",
       "            var marker_741a6688c70f8bec011dcffc15e57828 = L.marker(\n",
       "                [43.75452105, -79.35915909257255],\n",
       "                {}\n",
       "            ).addTo(map_2fa2fd230e12fd962263dea610bafc54);\n",
       "        \n",
       "    \n",
       "            var icon_b7a7b843e95dba87a265713f13062729 = L.AwesomeMarkers.icon(\n",
       "                {&quot;extraClasses&quot;: &quot;fa-rotate-0&quot;, &quot;icon&quot;: &quot;fa-circle&quot;, &quot;iconColor&quot;: &quot;white&quot;, &quot;markerColor&quot;: &quot;blue&quot;, &quot;prefix&quot;: &quot;fa&quot;}\n",
       "            );\n",
       "            marker_741a6688c70f8bec011dcffc15e57828.setIcon(icon_b7a7b843e95dba87a265713f13062729);\n",
       "        \n",
       "    \n",
       "        var popup_42af967da696d8dbcaec6d5f4b14101f = L.popup({&quot;maxWidth&quot;: &quot;100%&quot;});\n",
       "\n",
       "        \n",
       "            var html_2b8047bbb4740afa082132f80d2d7544 = $(`&lt;div id=&quot;html_2b8047bbb4740afa082132f80d2d7544&quot; style=&quot;width: 100.0%; height: 100.0%;&quot;&gt;[&#x27;Leslie &amp; York Mills &#x27;]&lt;/div&gt;`)[0];\n",
       "            popup_42af967da696d8dbcaec6d5f4b14101f.setContent(html_2b8047bbb4740afa082132f80d2d7544);\n",
       "        \n",
       "\n",
       "        marker_741a6688c70f8bec011dcffc15e57828.bindPopup(popup_42af967da696d8dbcaec6d5f4b14101f)\n",
       "        ;\n",
       "\n",
       "        \n",
       "    \n",
       "    \n",
       "            marker_741a6688c70f8bec011dcffc15e57828.bindTooltip(\n",
       "                `&lt;div&gt;\n",
       "                     [&#x27;Leslie &amp; York Mills &#x27;, &#x27;Sales: &#x27;, &#x27;$48.8M&#x27;, &#x27;Rank: &#x27;, 23]\n",
       "                 &lt;/div&gt;`,\n",
       "                {&quot;sticky&quot;: true}\n",
       "            );\n",
       "        \n",
       "    \n",
       "            var marker_2c3b076fb084c814af05f453b052be1f = L.marker(\n",
       "                [43.7729107690802, -79.25142420202336],\n",
       "                {}\n",
       "            ).addTo(map_2fa2fd230e12fd962263dea610bafc54);\n",
       "        \n",
       "    \n",
       "            var icon_449cd9282875a56ccec7d68528176885 = L.AwesomeMarkers.icon(\n",
       "                {&quot;extraClasses&quot;: &quot;fa-rotate-0&quot;, &quot;icon&quot;: &quot;exclamation&quot;, &quot;iconColor&quot;: &quot;white&quot;, &quot;markerColor&quot;: &quot;red&quot;, &quot;prefix&quot;: &quot;fa&quot;}\n",
       "            );\n",
       "            marker_2c3b076fb084c814af05f453b052be1f.setIcon(icon_449cd9282875a56ccec7d68528176885);\n",
       "        \n",
       "    \n",
       "        var popup_b227ab30f3a6883bff7d55d79cea7ced = L.popup({&quot;maxWidth&quot;: &quot;100%&quot;});\n",
       "\n",
       "        \n",
       "            var html_a923c1a201831f674d22b4b1982114d0 = $(`&lt;div id=&quot;html_a923c1a201831f674d22b4b1982114d0&quot; style=&quot;width: 100.0%; height: 100.0%;&quot;&gt;[&#x27;McCowan Square &#x27;]&lt;/div&gt;`)[0];\n",
       "            popup_b227ab30f3a6883bff7d55d79cea7ced.setContent(html_a923c1a201831f674d22b4b1982114d0);\n",
       "        \n",
       "\n",
       "        marker_2c3b076fb084c814af05f453b052be1f.bindPopup(popup_b227ab30f3a6883bff7d55d79cea7ced)\n",
       "        ;\n",
       "\n",
       "        \n",
       "    \n",
       "    \n",
       "            marker_2c3b076fb084c814af05f453b052be1f.bindTooltip(\n",
       "                `&lt;div&gt;\n",
       "                     [&#x27;McCowan Square &#x27;, &#x27;Sales: &#x27;, &#x27;$14.9M&#x27;, &#x27;Rank: &#x27;, 51]\n",
       "                 &lt;/div&gt;`,\n",
       "                {&quot;sticky&quot;: true}\n",
       "            );\n",
       "        \n",
       "    \n",
       "            var marker_d35e58aaff31d10f246b9206bbf25743 = L.marker(\n",
       "                [43.6474762, -79.4018157],\n",
       "                {}\n",
       "            ).addTo(map_2fa2fd230e12fd962263dea610bafc54);\n",
       "        \n",
       "    \n",
       "            var icon_88012d7fafd5ea96857aa607d2f5f002 = L.AwesomeMarkers.icon(\n",
       "                {&quot;extraClasses&quot;: &quot;fa-rotate-0&quot;, &quot;icon&quot;: &quot;exclamation&quot;, &quot;iconColor&quot;: &quot;white&quot;, &quot;markerColor&quot;: &quot;red&quot;, &quot;prefix&quot;: &quot;fa&quot;}\n",
       "            );\n",
       "            marker_d35e58aaff31d10f246b9206bbf25743.setIcon(icon_88012d7fafd5ea96857aa607d2f5f002);\n",
       "        \n",
       "    \n",
       "        var popup_884aec3f9f9fa89f508a9c64328d5d11 = L.popup({&quot;maxWidth&quot;: &quot;100%&quot;});\n",
       "\n",
       "        \n",
       "            var html_da7fddc7da7259d72d37fa509bb7f423 = $(`&lt;div id=&quot;html_da7fddc7da7259d72d37fa509bb7f423&quot; style=&quot;width: 100.0%; height: 100.0%;&quot;&gt;[&#x27;Queen &amp; Portland &#x27;]&lt;/div&gt;`)[0];\n",
       "            popup_884aec3f9f9fa89f508a9c64328d5d11.setContent(html_da7fddc7da7259d72d37fa509bb7f423);\n",
       "        \n",
       "\n",
       "        marker_d35e58aaff31d10f246b9206bbf25743.bindPopup(popup_884aec3f9f9fa89f508a9c64328d5d11)\n",
       "        ;\n",
       "\n",
       "        \n",
       "    \n",
       "    \n",
       "            marker_d35e58aaff31d10f246b9206bbf25743.bindTooltip(\n",
       "                `&lt;div&gt;\n",
       "                     [&#x27;Queen &amp; Portland &#x27;, &#x27;Sales: &#x27;, &#x27;$30.4M&#x27;, &#x27;Rank: &#x27;, 46]\n",
       "                 &lt;/div&gt;`,\n",
       "                {&quot;sticky&quot;: true}\n",
       "            );\n",
       "        \n",
       "    \n",
       "            var marker_705fa61222abee4262e8b754f570d596 = L.marker(\n",
       "                [43.65956453846154, -79.34739823076923],\n",
       "                {}\n",
       "            ).addTo(map_2fa2fd230e12fd962263dea610bafc54);\n",
       "        \n",
       "    \n",
       "            var icon_7c18bb62c0b65cbd2bd346e4f4a1afe3 = L.AwesomeMarkers.icon(\n",
       "                {&quot;extraClasses&quot;: &quot;fa-rotate-0&quot;, &quot;icon&quot;: &quot;fa-circle&quot;, &quot;iconColor&quot;: &quot;white&quot;, &quot;markerColor&quot;: &quot;blue&quot;, &quot;prefix&quot;: &quot;fa&quot;}\n",
       "            );\n",
       "            marker_705fa61222abee4262e8b754f570d596.setIcon(icon_7c18bb62c0b65cbd2bd346e4f4a1afe3);\n",
       "        \n",
       "    \n",
       "        var popup_933e88e47eb8d2948bf8bb47fadd776f = L.popup({&quot;maxWidth&quot;: &quot;100%&quot;});\n",
       "\n",
       "        \n",
       "            var html_3ff6e211a694123405d92c84a336cf9c = $(`&lt;div id=&quot;html_3ff6e211a694123405d92c84a336cf9c&quot; style=&quot;width: 100.0%; height: 100.0%;&quot;&gt;[&#x27;Queen &amp; Saulter &#x27;]&lt;/div&gt;`)[0];\n",
       "            popup_933e88e47eb8d2948bf8bb47fadd776f.setContent(html_3ff6e211a694123405d92c84a336cf9c);\n",
       "        \n",
       "\n",
       "        marker_705fa61222abee4262e8b754f570d596.bindPopup(popup_933e88e47eb8d2948bf8bb47fadd776f)\n",
       "        ;\n",
       "\n",
       "        \n",
       "    \n",
       "    \n",
       "            marker_705fa61222abee4262e8b754f570d596.bindTooltip(\n",
       "                `&lt;div&gt;\n",
       "                     [&#x27;Queen &amp; Saulter &#x27;, &#x27;Sales: &#x27;, &#x27;$59.6M&#x27;, &#x27;Rank: &#x27;, 16]\n",
       "                 &lt;/div&gt;`,\n",
       "                {&quot;sticky&quot;: true}\n",
       "            );\n",
       "        \n",
       "    \n",
       "            var marker_40852596071f9b68a207f801b74ac05f = L.marker(\n",
       "                [45.1033453, -75.2300046],\n",
       "                {}\n",
       "            ).addTo(map_2fa2fd230e12fd962263dea610bafc54);\n",
       "        \n",
       "    \n",
       "            var icon_31b597e4261a439fa6ab1bb080c2587d = L.AwesomeMarkers.icon(\n",
       "                {&quot;extraClasses&quot;: &quot;fa-rotate-0&quot;, &quot;icon&quot;: &quot;fa-circle&quot;, &quot;iconColor&quot;: &quot;white&quot;, &quot;markerColor&quot;: &quot;blue&quot;, &quot;prefix&quot;: &quot;fa&quot;}\n",
       "            );\n",
       "            marker_40852596071f9b68a207f801b74ac05f.setIcon(icon_31b597e4261a439fa6ab1bb080c2587d);\n",
       "        \n",
       "    \n",
       "        var popup_ffa4349567dde80d859bfea5857c8b6e = L.popup({&quot;maxWidth&quot;: &quot;100%&quot;});\n",
       "\n",
       "        \n",
       "            var html_643cde39acd1d531b28a0e11c8ae1cc9 = $(`&lt;div id=&quot;html_643cde39acd1d531b28a0e11c8ae1cc9&quot; style=&quot;width: 100.0%; height: 100.0%;&quot;&gt;[&#x27;Queen &amp; Yonge &#x27;]&lt;/div&gt;`)[0];\n",
       "            popup_ffa4349567dde80d859bfea5857c8b6e.setContent(html_643cde39acd1d531b28a0e11c8ae1cc9);\n",
       "        \n",
       "\n",
       "        marker_40852596071f9b68a207f801b74ac05f.bindPopup(popup_ffa4349567dde80d859bfea5857c8b6e)\n",
       "        ;\n",
       "\n",
       "        \n",
       "    \n",
       "    \n",
       "            marker_40852596071f9b68a207f801b74ac05f.bindTooltip(\n",
       "                `&lt;div&gt;\n",
       "                     [&#x27;Queen &amp; Yonge &#x27;, &#x27;Sales: &#x27;, &#x27;$54.7M&#x27;, &#x27;Rank: &#x27;, 20]\n",
       "                 &lt;/div&gt;`,\n",
       "                {&quot;sticky&quot;: true}\n",
       "            );\n",
       "        \n",
       "    \n",
       "            var marker_9232375a82784e8452b4f08127caabf6 = L.marker(\n",
       "                [43.6818874, -79.4722402],\n",
       "                {}\n",
       "            ).addTo(map_2fa2fd230e12fd962263dea610bafc54);\n",
       "        \n",
       "    \n",
       "            var icon_44a6455b7b24241845797ee4b0f61a15 = L.AwesomeMarkers.icon(\n",
       "                {&quot;extraClasses&quot;: &quot;fa-rotate-0&quot;, &quot;icon&quot;: &quot;fa-circle&quot;, &quot;iconColor&quot;: &quot;white&quot;, &quot;markerColor&quot;: &quot;blue&quot;, &quot;prefix&quot;: &quot;fa&quot;}\n",
       "            );\n",
       "            marker_9232375a82784e8452b4f08127caabf6.setIcon(icon_44a6455b7b24241845797ee4b0f61a15);\n",
       "        \n",
       "    \n",
       "        var popup_4378e545fce4dc61b37003d87c0bf67c = L.popup({&quot;maxWidth&quot;: &quot;100%&quot;});\n",
       "\n",
       "        \n",
       "            var html_5ffe62537be68c820641c822382c69a3 = $(`&lt;div id=&quot;html_5ffe62537be68c820641c822382c69a3&quot; style=&quot;width: 100.0%; height: 100.0%;&quot;&gt;[&#x27;Rogers Road &#x27;]&lt;/div&gt;`)[0];\n",
       "            popup_4378e545fce4dc61b37003d87c0bf67c.setContent(html_5ffe62537be68c820641c822382c69a3);\n",
       "        \n",
       "\n",
       "        marker_9232375a82784e8452b4f08127caabf6.bindPopup(popup_4378e545fce4dc61b37003d87c0bf67c)\n",
       "        ;\n",
       "\n",
       "        \n",
       "    \n",
       "    \n",
       "            marker_9232375a82784e8452b4f08127caabf6.bindTooltip(\n",
       "                `&lt;div&gt;\n",
       "                     [&#x27;Rogers Road &#x27;, &#x27;Sales: &#x27;, &#x27;$57.2M&#x27;, &#x27;Rank: &#x27;, 18]\n",
       "                 &lt;/div&gt;`,\n",
       "                {&quot;sticky&quot;: true}\n",
       "            );\n",
       "        \n",
       "    \n",
       "            var marker_77172709d36833418ed57f4cf22c362a = L.marker(\n",
       "                [43.6408802, -79.4019344],\n",
       "                {}\n",
       "            ).addTo(map_2fa2fd230e12fd962263dea610bafc54);\n",
       "        \n",
       "    \n",
       "            var icon_9be5ece5f776ba71645408900a6583a8 = L.AwesomeMarkers.icon(\n",
       "                {&quot;extraClasses&quot;: &quot;fa-rotate-0&quot;, &quot;icon&quot;: &quot;fa-circle&quot;, &quot;iconColor&quot;: &quot;white&quot;, &quot;markerColor&quot;: &quot;blue&quot;, &quot;prefix&quot;: &quot;fa&quot;}\n",
       "            );\n",
       "            marker_77172709d36833418ed57f4cf22c362a.setIcon(icon_9be5ece5f776ba71645408900a6583a8);\n",
       "        \n",
       "    \n",
       "        var popup_dae664202ee3fd8adba90602577b19de = L.popup({&quot;maxWidth&quot;: &quot;100%&quot;});\n",
       "\n",
       "        \n",
       "            var html_60bf29b24163171e25bdda4e8c5c3a60 = $(`&lt;div id=&quot;html_60bf29b24163171e25bdda4e8c5c3a60&quot; style=&quot;width: 100.0%; height: 100.0%;&quot;&gt;[&#x27;Stackt Market Bathurst And Front &#x27;]&lt;/div&gt;`)[0];\n",
       "            popup_dae664202ee3fd8adba90602577b19de.setContent(html_60bf29b24163171e25bdda4e8c5c3a60);\n",
       "        \n",
       "\n",
       "        marker_77172709d36833418ed57f4cf22c362a.bindPopup(popup_dae664202ee3fd8adba90602577b19de)\n",
       "        ;\n",
       "\n",
       "        \n",
       "    \n",
       "    \n",
       "            marker_77172709d36833418ed57f4cf22c362a.bindTooltip(\n",
       "                `&lt;div&gt;\n",
       "                     [&#x27;Stackt Market Bathurst And Front &#x27;, &#x27;Sales: &#x27;, &#x27;$46.6M&#x27;, &#x27;Rank: &#x27;, 30]\n",
       "                 &lt;/div&gt;`,\n",
       "                {&quot;sticky&quot;: true}\n",
       "            );\n",
       "        \n",
       "    \n",
       "            var marker_35b3d1b24ee85c76909fa5d9067b485c = L.marker(\n",
       "                [43.6686779, -79.4840473],\n",
       "                {}\n",
       "            ).addTo(map_2fa2fd230e12fd962263dea610bafc54);\n",
       "        \n",
       "    \n",
       "            var icon_d65044857af07beeaba446d0232ccddf = L.AwesomeMarkers.icon(\n",
       "                {&quot;extraClasses&quot;: &quot;fa-rotate-0&quot;, &quot;icon&quot;: &quot;fa-circle&quot;, &quot;iconColor&quot;: &quot;white&quot;, &quot;markerColor&quot;: &quot;blue&quot;, &quot;prefix&quot;: &quot;fa&quot;}\n",
       "            );\n",
       "            marker_35b3d1b24ee85c76909fa5d9067b485c.setIcon(icon_d65044857af07beeaba446d0232ccddf);\n",
       "        \n",
       "    \n",
       "        var popup_973d758db6050a53efd7e1517bcf6f9c = L.popup({&quot;maxWidth&quot;: &quot;100%&quot;});\n",
       "\n",
       "        \n",
       "            var html_c1f8bdd66a62c3382f63886d257ccf6a = $(`&lt;div id=&quot;html_c1f8bdd66a62c3382f63886d257ccf6a&quot; style=&quot;width: 100.0%; height: 100.0%;&quot;&gt;[&#x27;St.Clair &amp; Runnymede &#x27;]&lt;/div&gt;`)[0];\n",
       "            popup_973d758db6050a53efd7e1517bcf6f9c.setContent(html_c1f8bdd66a62c3382f63886d257ccf6a);\n",
       "        \n",
       "\n",
       "        marker_35b3d1b24ee85c76909fa5d9067b485c.bindPopup(popup_973d758db6050a53efd7e1517bcf6f9c)\n",
       "        ;\n",
       "\n",
       "        \n",
       "    \n",
       "    \n",
       "            marker_35b3d1b24ee85c76909fa5d9067b485c.bindTooltip(\n",
       "                `&lt;div&gt;\n",
       "                     [&#x27;St.Clair &amp; Runnymede &#x27;, &#x27;Sales: &#x27;, &#x27;$36.6M&#x27;, &#x27;Rank: &#x27;, 40]\n",
       "                 &lt;/div&gt;`,\n",
       "                {&quot;sticky&quot;: true}\n",
       "            );\n",
       "        \n",
       "    \n",
       "            var marker_7785f24ecc38c191e95a2fb4a6f6365c = L.marker(\n",
       "                [43.836078, -79.25219063571427],\n",
       "                {}\n",
       "            ).addTo(map_2fa2fd230e12fd962263dea610bafc54);\n",
       "        \n",
       "    \n",
       "            var icon_2256177072e0340639fdc6e16c850d7a = L.AwesomeMarkers.icon(\n",
       "                {&quot;extraClasses&quot;: &quot;fa-rotate-0&quot;, &quot;icon&quot;: &quot;star&quot;, &quot;iconColor&quot;: &quot;white&quot;, &quot;markerColor&quot;: &quot;pink&quot;, &quot;prefix&quot;: &quot;fa&quot;}\n",
       "            );\n",
       "            marker_7785f24ecc38c191e95a2fb4a6f6365c.setIcon(icon_2256177072e0340639fdc6e16c850d7a);\n",
       "        \n",
       "    \n",
       "        var popup_efd7c1b0e33d7eff281c3598d6b815b7 = L.popup({&quot;maxWidth&quot;: &quot;100%&quot;});\n",
       "\n",
       "        \n",
       "            var html_db1c052f4381cf6b53f1ff04d713e630 = $(`&lt;div id=&quot;html_db1c052f4381cf6b53f1ff04d713e630&quot; style=&quot;width: 100.0%; height: 100.0%;&quot;&gt;[&#x27;Steeles &amp; Markham &#x27;]&lt;/div&gt;`)[0];\n",
       "            popup_efd7c1b0e33d7eff281c3598d6b815b7.setContent(html_db1c052f4381cf6b53f1ff04d713e630);\n",
       "        \n",
       "\n",
       "        marker_7785f24ecc38c191e95a2fb4a6f6365c.bindPopup(popup_efd7c1b0e33d7eff281c3598d6b815b7)\n",
       "        ;\n",
       "\n",
       "        \n",
       "    \n",
       "    \n",
       "            marker_7785f24ecc38c191e95a2fb4a6f6365c.bindTooltip(\n",
       "                `&lt;div&gt;\n",
       "                     [&#x27;Steeles &amp; Markham &#x27;, &#x27;Sales: &#x27;, &#x27;$74.9M&#x27;, &#x27;Rank: &#x27;, 5]\n",
       "                 &lt;/div&gt;`,\n",
       "                {&quot;sticky&quot;: true}\n",
       "            );\n",
       "        \n",
       "    \n",
       "            var marker_25044660ca8e3125c1833c91a332fe0a = L.marker(\n",
       "                [43.6704938, -79.2973616],\n",
       "                {}\n",
       "            ).addTo(map_2fa2fd230e12fd962263dea610bafc54);\n",
       "        \n",
       "    \n",
       "            var icon_2084739b504d03a1e78756dbd09db94b = L.AwesomeMarkers.icon(\n",
       "                {&quot;extraClasses&quot;: &quot;fa-rotate-0&quot;, &quot;icon&quot;: &quot;fa-circle&quot;, &quot;iconColor&quot;: &quot;white&quot;, &quot;markerColor&quot;: &quot;blue&quot;, &quot;prefix&quot;: &quot;fa&quot;}\n",
       "            );\n",
       "            marker_25044660ca8e3125c1833c91a332fe0a.setIcon(icon_2084739b504d03a1e78756dbd09db94b);\n",
       "        \n",
       "    \n",
       "        var popup_327501138fc9f24813c5eb7892f41c44 = L.popup({&quot;maxWidth&quot;: &quot;100%&quot;});\n",
       "\n",
       "        \n",
       "            var html_70e8ba0628a0819bc9ed226e6e2520c7 = $(`&lt;div id=&quot;html_70e8ba0628a0819bc9ed226e6e2520c7&quot; style=&quot;width: 100.0%; height: 100.0%;&quot;&gt;[&#x27;The Beach &#x27;]&lt;/div&gt;`)[0];\n",
       "            popup_327501138fc9f24813c5eb7892f41c44.setContent(html_70e8ba0628a0819bc9ed226e6e2520c7);\n",
       "        \n",
       "\n",
       "        marker_25044660ca8e3125c1833c91a332fe0a.bindPopup(popup_327501138fc9f24813c5eb7892f41c44)\n",
       "        ;\n",
       "\n",
       "        \n",
       "    \n",
       "    \n",
       "            marker_25044660ca8e3125c1833c91a332fe0a.bindTooltip(\n",
       "                `&lt;div&gt;\n",
       "                     [&#x27;The Beach &#x27;, &#x27;Sales: &#x27;, &#x27;$34.2M&#x27;, &#x27;Rank: &#x27;, 43]\n",
       "                 &lt;/div&gt;`,\n",
       "                {&quot;sticky&quot;: true}\n",
       "            );\n",
       "        \n",
       "    \n",
       "            var marker_3a941aa3869bd9c5bb5cfc905de51523 = L.marker(\n",
       "                [43.6591104, -79.39120659491317],\n",
       "                {}\n",
       "            ).addTo(map_2fa2fd230e12fd962263dea610bafc54);\n",
       "        \n",
       "    \n",
       "            var icon_3390c0bd309c76a58a53e488bac3d228 = L.AwesomeMarkers.icon(\n",
       "                {&quot;extraClasses&quot;: &quot;fa-rotate-0&quot;, &quot;icon&quot;: &quot;exclamation&quot;, &quot;iconColor&quot;: &quot;white&quot;, &quot;markerColor&quot;: &quot;red&quot;, &quot;prefix&quot;: &quot;fa&quot;}\n",
       "            );\n",
       "            marker_3a941aa3869bd9c5bb5cfc905de51523.setIcon(icon_3390c0bd309c76a58a53e488bac3d228);\n",
       "        \n",
       "    \n",
       "        var popup_2370b091437cc78b57632f98fc443f8c = L.popup({&quot;maxWidth&quot;: &quot;100%&quot;});\n",
       "\n",
       "        \n",
       "            var html_984a01cd724afd25783a28c011489b29 = $(`&lt;div id=&quot;html_984a01cd724afd25783a28c011489b29&quot; style=&quot;width: 100.0%; height: 100.0%;&quot;&gt;[&#x27;University &amp; College &#x27;]&lt;/div&gt;`)[0];\n",
       "            popup_2370b091437cc78b57632f98fc443f8c.setContent(html_984a01cd724afd25783a28c011489b29);\n",
       "        \n",
       "\n",
       "        marker_3a941aa3869bd9c5bb5cfc905de51523.bindPopup(popup_2370b091437cc78b57632f98fc443f8c)\n",
       "        ;\n",
       "\n",
       "        \n",
       "    \n",
       "    \n",
       "            marker_3a941aa3869bd9c5bb5cfc905de51523.bindTooltip(\n",
       "                `&lt;div&gt;\n",
       "                     [&#x27;University &amp; College &#x27;, &#x27;Sales: &#x27;, &#x27;$29.4M&#x27;, &#x27;Rank: &#x27;, 47]\n",
       "                 &lt;/div&gt;`,\n",
       "                {&quot;sticky&quot;: true}\n",
       "            );\n",
       "        \n",
       "    \n",
       "            var marker_9f3c92705f7b4843416a78f42d1e28c5 = L.marker(\n",
       "                [43.6546209, -79.3886431],\n",
       "                {}\n",
       "            ).addTo(map_2fa2fd230e12fd962263dea610bafc54);\n",
       "        \n",
       "    \n",
       "            var icon_7f39f58be00c63ad7f6235b1ddc086c7 = L.AwesomeMarkers.icon(\n",
       "                {&quot;extraClasses&quot;: &quot;fa-rotate-0&quot;, &quot;icon&quot;: &quot;fa-circle&quot;, &quot;iconColor&quot;: &quot;white&quot;, &quot;markerColor&quot;: &quot;blue&quot;, &quot;prefix&quot;: &quot;fa&quot;}\n",
       "            );\n",
       "            marker_9f3c92705f7b4843416a78f42d1e28c5.setIcon(icon_7f39f58be00c63ad7f6235b1ddc086c7);\n",
       "        \n",
       "    \n",
       "        var popup_803c290f9d31da4928ffb4c642bc2c1b = L.popup({&quot;maxWidth&quot;: &quot;100%&quot;});\n",
       "\n",
       "        \n",
       "            var html_70e4fcf84a7913feca1969a0755b9c98 = $(`&lt;div id=&quot;html_70e4fcf84a7913feca1969a0755b9c98&quot; style=&quot;width: 100.0%; height: 100.0%;&quot;&gt;[&#x27;University &amp; Dundas &#x27;]&lt;/div&gt;`)[0];\n",
       "            popup_803c290f9d31da4928ffb4c642bc2c1b.setContent(html_70e4fcf84a7913feca1969a0755b9c98);\n",
       "        \n",
       "\n",
       "        marker_9f3c92705f7b4843416a78f42d1e28c5.bindPopup(popup_803c290f9d31da4928ffb4c642bc2c1b)\n",
       "        ;\n",
       "\n",
       "        \n",
       "    \n",
       "    \n",
       "            marker_9f3c92705f7b4843416a78f42d1e28c5.bindTooltip(\n",
       "                `&lt;div&gt;\n",
       "                     [&#x27;University &amp; Dundas &#x27;, &#x27;Sales: &#x27;, &#x27;$68.2M&#x27;, &#x27;Rank: &#x27;, 7]\n",
       "                 &lt;/div&gt;`,\n",
       "                {&quot;sticky&quot;: true}\n",
       "            );\n",
       "        \n",
       "    \n",
       "            var marker_43a019eba9baed22c9df3fc9a670b1ec = L.marker(\n",
       "                [43.73119, -79.4040412],\n",
       "                {}\n",
       "            ).addTo(map_2fa2fd230e12fd962263dea610bafc54);\n",
       "        \n",
       "    \n",
       "            var icon_3543b24ed24f999b1629d9f460089f00 = L.AwesomeMarkers.icon(\n",
       "                {&quot;extraClasses&quot;: &quot;fa-rotate-0&quot;, &quot;icon&quot;: &quot;fa-circle&quot;, &quot;iconColor&quot;: &quot;white&quot;, &quot;markerColor&quot;: &quot;blue&quot;, &quot;prefix&quot;: &quot;fa&quot;}\n",
       "            );\n",
       "            marker_43a019eba9baed22c9df3fc9a670b1ec.setIcon(icon_3543b24ed24f999b1629d9f460089f00);\n",
       "        \n",
       "    \n",
       "        var popup_406dfa2bc5951e3eea964689583fc947 = L.popup({&quot;maxWidth&quot;: &quot;100%&quot;});\n",
       "\n",
       "        \n",
       "            var html_e6eeda96b18ac41a4db515fd2f0be1a8 = $(`&lt;div id=&quot;html_e6eeda96b18ac41a4db515fd2f0be1a8&quot; style=&quot;width: 100.0%; height: 100.0%;&quot;&gt;[&#x27;Yonge &amp; Fairlawn &#x27;]&lt;/div&gt;`)[0];\n",
       "            popup_406dfa2bc5951e3eea964689583fc947.setContent(html_e6eeda96b18ac41a4db515fd2f0be1a8);\n",
       "        \n",
       "\n",
       "        marker_43a019eba9baed22c9df3fc9a670b1ec.bindPopup(popup_406dfa2bc5951e3eea964689583fc947)\n",
       "        ;\n",
       "\n",
       "        \n",
       "    \n",
       "    \n",
       "            marker_43a019eba9baed22c9df3fc9a670b1ec.bindTooltip(\n",
       "                `&lt;div&gt;\n",
       "                     [&#x27;Yonge &amp; Fairlawn &#x27;, &#x27;Sales: &#x27;, &#x27;$57.1M&#x27;, &#x27;Rank: &#x27;, 19]\n",
       "                 &lt;/div&gt;`,\n",
       "                {&quot;sticky&quot;: true}\n",
       "            );\n",
       "        \n",
       "    \n",
       "            var marker_55bd32a01bbbf0962389a098f375ab63 = L.marker(\n",
       "                [43.6590065, -79.3833435],\n",
       "                {}\n",
       "            ).addTo(map_2fa2fd230e12fd962263dea610bafc54);\n",
       "        \n",
       "    \n",
       "            var icon_e87caf1c458e35da2ed9736db830ba59 = L.AwesomeMarkers.icon(\n",
       "                {&quot;extraClasses&quot;: &quot;fa-rotate-0&quot;, &quot;icon&quot;: &quot;fa-circle&quot;, &quot;iconColor&quot;: &quot;white&quot;, &quot;markerColor&quot;: &quot;blue&quot;, &quot;prefix&quot;: &quot;fa&quot;}\n",
       "            );\n",
       "            marker_55bd32a01bbbf0962389a098f375ab63.setIcon(icon_e87caf1c458e35da2ed9736db830ba59);\n",
       "        \n",
       "    \n",
       "        var popup_7a0aa7238fce97b323c69a2af67998a5 = L.popup({&quot;maxWidth&quot;: &quot;100%&quot;});\n",
       "\n",
       "        \n",
       "            var html_84a1fc7d4022131dbce71f9eb977c8af = $(`&lt;div id=&quot;html_84a1fc7d4022131dbce71f9eb977c8af&quot; style=&quot;width: 100.0%; height: 100.0%;&quot;&gt;[&#x27;Yonge &amp; Gerrard &#x27;]&lt;/div&gt;`)[0];\n",
       "            popup_7a0aa7238fce97b323c69a2af67998a5.setContent(html_84a1fc7d4022131dbce71f9eb977c8af);\n",
       "        \n",
       "\n",
       "        marker_55bd32a01bbbf0962389a098f375ab63.bindPopup(popup_7a0aa7238fce97b323c69a2af67998a5)\n",
       "        ;\n",
       "\n",
       "        \n",
       "    \n",
       "    \n",
       "            marker_55bd32a01bbbf0962389a098f375ab63.bindTooltip(\n",
       "                `&lt;div&gt;\n",
       "                     [&#x27;Yonge &amp; Gerrard &#x27;, &#x27;Sales: &#x27;, &#x27;$36.8M&#x27;, &#x27;Rank: &#x27;, 39]\n",
       "                 &lt;/div&gt;`,\n",
       "                {&quot;sticky&quot;: true}\n",
       "            );\n",
       "        \n",
       "    \n",
       "            var marker_48e704a6ed1cb8bc6e31dc0923b11de6 = L.marker(\n",
       "                [43.7110013, -79.3996631458458],\n",
       "                {}\n",
       "            ).addTo(map_2fa2fd230e12fd962263dea610bafc54);\n",
       "        \n",
       "    \n",
       "            var icon_66a70eea3b83f1873b6f836931ce51ab = L.AwesomeMarkers.icon(\n",
       "                {&quot;extraClasses&quot;: &quot;fa-rotate-0&quot;, &quot;icon&quot;: &quot;fa-circle&quot;, &quot;iconColor&quot;: &quot;white&quot;, &quot;markerColor&quot;: &quot;blue&quot;, &quot;prefix&quot;: &quot;fa&quot;}\n",
       "            );\n",
       "            marker_48e704a6ed1cb8bc6e31dc0923b11de6.setIcon(icon_66a70eea3b83f1873b6f836931ce51ab);\n",
       "        \n",
       "    \n",
       "        var popup_cbb41ba42e2aa666e035e22060831c17 = L.popup({&quot;maxWidth&quot;: &quot;100%&quot;});\n",
       "\n",
       "        \n",
       "            var html_87914c84f3271c4e22d0cd3c1a7b612a = $(`&lt;div id=&quot;html_87914c84f3271c4e22d0cd3c1a7b612a&quot; style=&quot;width: 100.0%; height: 100.0%;&quot;&gt;[&#x27;Yonge &amp; Roselawn &#x27;]&lt;/div&gt;`)[0];\n",
       "            popup_cbb41ba42e2aa666e035e22060831c17.setContent(html_87914c84f3271c4e22d0cd3c1a7b612a);\n",
       "        \n",
       "\n",
       "        marker_48e704a6ed1cb8bc6e31dc0923b11de6.bindPopup(popup_cbb41ba42e2aa666e035e22060831c17)\n",
       "        ;\n",
       "\n",
       "        \n",
       "    \n",
       "    \n",
       "            marker_48e704a6ed1cb8bc6e31dc0923b11de6.bindTooltip(\n",
       "                `&lt;div&gt;\n",
       "                     [&#x27;Yonge &amp; Roselawn &#x27;, &#x27;Sales: &#x27;, &#x27;$38.9M&#x27;, &#x27;Rank: &#x27;, 37]\n",
       "                 &lt;/div&gt;`,\n",
       "                {&quot;sticky&quot;: true}\n",
       "            );\n",
       "        \n",
       "    \n",
       "            var marker_9bc83c48aa9f44fdf834bd5991cff847 = L.marker(\n",
       "                [43.6892417, -79.3947573],\n",
       "                {}\n",
       "            ).addTo(map_2fa2fd230e12fd962263dea610bafc54);\n",
       "        \n",
       "    \n",
       "            var icon_59a07614dcfeb07fa08e72a8fa6ee437 = L.AwesomeMarkers.icon(\n",
       "                {&quot;extraClasses&quot;: &quot;fa-rotate-0&quot;, &quot;icon&quot;: &quot;fa-circle&quot;, &quot;iconColor&quot;: &quot;white&quot;, &quot;markerColor&quot;: &quot;blue&quot;, &quot;prefix&quot;: &quot;fa&quot;}\n",
       "            );\n",
       "            marker_9bc83c48aa9f44fdf834bd5991cff847.setIcon(icon_59a07614dcfeb07fa08e72a8fa6ee437);\n",
       "        \n",
       "    \n",
       "        var popup_b575345e7e1720939ff27a8977b4ab00 = L.popup({&quot;maxWidth&quot;: &quot;100%&quot;});\n",
       "\n",
       "        \n",
       "            var html_185e0d45399118d58896e415565f114a = $(`&lt;div id=&quot;html_185e0d45399118d58896e415565f114a&quot; style=&quot;width: 100.0%; height: 100.0%;&quot;&gt;[&#x27;Yonge &amp; St Clair &#x27;]&lt;/div&gt;`)[0];\n",
       "            popup_b575345e7e1720939ff27a8977b4ab00.setContent(html_185e0d45399118d58896e415565f114a);\n",
       "        \n",
       "\n",
       "        marker_9bc83c48aa9f44fdf834bd5991cff847.bindPopup(popup_b575345e7e1720939ff27a8977b4ab00)\n",
       "        ;\n",
       "\n",
       "        \n",
       "    \n",
       "    \n",
       "            marker_9bc83c48aa9f44fdf834bd5991cff847.bindTooltip(\n",
       "                `&lt;div&gt;\n",
       "                     [&#x27;Yonge &amp; St Clair &#x27;, &#x27;Sales: &#x27;, &#x27;$33.2M&#x27;, &#x27;Rank: &#x27;, 44]\n",
       "                 &lt;/div&gt;`,\n",
       "                {&quot;sticky&quot;: true}\n",
       "            );\n",
       "        \n",
       "    \n",
       "            var marker_2423de20988726d2c0dc1aa653f78a60 = L.marker(\n",
       "                [43.774283, -79.5019475],\n",
       "                {}\n",
       "            ).addTo(map_2fa2fd230e12fd962263dea610bafc54);\n",
       "        \n",
       "    \n",
       "            var icon_6bd6407a66f282de3634970b1564fee1 = L.AwesomeMarkers.icon(\n",
       "                {&quot;extraClasses&quot;: &quot;fa-rotate-0&quot;, &quot;icon&quot;: &quot;fa-circle&quot;, &quot;iconColor&quot;: &quot;white&quot;, &quot;markerColor&quot;: &quot;blue&quot;, &quot;prefix&quot;: &quot;fa&quot;}\n",
       "            );\n",
       "            marker_2423de20988726d2c0dc1aa653f78a60.setIcon(icon_6bd6407a66f282de3634970b1564fee1);\n",
       "        \n",
       "    \n",
       "        var popup_68fb22e59e3b848e6d85b88d5021f812 = L.popup({&quot;maxWidth&quot;: &quot;100%&quot;});\n",
       "\n",
       "        \n",
       "            var html_9519a3735502dfb92be6933b79ea924a = $(`&lt;div id=&quot;html_9519a3735502dfb92be6933b79ea924a&quot; style=&quot;width: 100.0%; height: 100.0%;&quot;&gt;[&#x27;York University/York Lanes &#x27;]&lt;/div&gt;`)[0];\n",
       "            popup_68fb22e59e3b848e6d85b88d5021f812.setContent(html_9519a3735502dfb92be6933b79ea924a);\n",
       "        \n",
       "\n",
       "        marker_2423de20988726d2c0dc1aa653f78a60.bindPopup(popup_68fb22e59e3b848e6d85b88d5021f812)\n",
       "        ;\n",
       "\n",
       "        \n",
       "    \n",
       "    \n",
       "            marker_2423de20988726d2c0dc1aa653f78a60.bindTooltip(\n",
       "                `&lt;div&gt;\n",
       "                     [&#x27;York University/York Lanes &#x27;, &#x27;Sales: &#x27;, &#x27;$32.2M&#x27;, &#x27;Rank: &#x27;, 45]\n",
       "                 &lt;/div&gt;`,\n",
       "                {&quot;sticky&quot;: true}\n",
       "            );\n",
       "        \n",
       "&lt;/script&gt;\" style=\"position:absolute;width:100%;height:100%;left:0;top:0;border:none !important;\" allowfullscreen webkitallowfullscreen mozallowfullscreen></iframe></div></div>"
      ],
      "text/plain": [
       "<folium.folium.Map at 0x1a73bfc5270>"
      ]
     },
     "execution_count": 80,
     "metadata": {},
     "output_type": "execute_result"
    }
   ],
   "source": [
    "city = sum_sales_br_2.iloc[0]\n",
    "\n",
    "folium.Marker(\n",
    "    location=[city['lat'], city['long']],\n",
    ").add_to(map)\n",
    "\n",
    "\n",
    "for _, city in sum_sales_br_2.iterrows():\n",
    "    folium.Marker(\n",
    "        location = [city['lat'], city['long']],\n",
    "        popup = [city['Name']],\n",
    "        tooltip = [city['Name'],\n",
    "                                      \n",
    "                   \"Sales: \",city['BR_Total_M'],\n",
    "                   \n",
    "                   'Rank: ',city['rank']],\n",
    "        icon=folium.Icon(color=city['colors'], icon=city['icons'], prefix='fa')\n",
    "    ).add_to(map)\n",
    "map"
   ]
  },
  {
   "cell_type": "markdown",
   "id": "dd0ef924",
   "metadata": {},
   "source": [
    "\n",
    "### Export Map as html"
   ]
  },
  {
   "cell_type": "code",
   "execution_count": 81,
   "id": "96d2a963",
   "metadata": {},
   "outputs": [],
   "source": [
    "#map.save('c:/users/user/python_trial/Branch_Sales.html')"
   ]
  }
 ],
 "metadata": {
  "kernelspec": {
   "display_name": "Python 3 (ipykernel)",
   "language": "python",
   "name": "python3"
  },
  "language_info": {
   "codemirror_mode": {
    "name": "ipython",
    "version": 3
   },
   "file_extension": ".py",
   "mimetype": "text/x-python",
   "name": "python",
   "nbconvert_exporter": "python",
   "pygments_lexer": "ipython3",
   "version": "3.10.6"
  }
 },
 "nbformat": 4,
 "nbformat_minor": 5
}
